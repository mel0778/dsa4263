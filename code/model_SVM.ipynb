{
 "cells": [
  {
   "cell_type": "markdown",
   "metadata": {},
   "source": [
    "## Import libs and data"
   ]
  },
  {
   "cell_type": "code",
   "execution_count": 1,
   "metadata": {},
   "outputs": [],
   "source": [
    "import dask.dataframe as dd\n",
    "import os\n",
    "from sklearn.svm import OneClassSVM\n",
    "from sklearn.metrics import accuracy_score, precision_score, recall_score, f1_score, confusion_matrix, classification_report\n",
    "from sklearn.model_selection import train_test_split\n",
    "import numpy as np\n",
    "from sklearn.model_selection import train_test_split\n",
    "import matplotlib.pyplot as plt\n",
    "import pandas as pd\n",
    "from imblearn.over_sampling import SMOTE\n",
    "from collections import Counter\n",
    "from sklearn.model_selection import GridSearchCV \n",
    "from sklearn.metrics import make_scorer\n",
    "from sklearn.preprocessing import StandardScaler\n",
    "from sklearn.metrics import ConfusionMatrixDisplay"
   ]
  },
  {
   "cell_type": "code",
   "execution_count": 2,
   "metadata": {},
   "outputs": [
    {
     "data": {
      "text/html": [
       "<div>\n",
       "<style scoped>\n",
       "    .dataframe tbody tr th:only-of-type {\n",
       "        vertical-align: middle;\n",
       "    }\n",
       "\n",
       "    .dataframe tbody tr th {\n",
       "        vertical-align: top;\n",
       "    }\n",
       "\n",
       "    .dataframe thead th {\n",
       "        text-align: right;\n",
       "    }\n",
       "</style>\n",
       "<table border=\"1\" class=\"dataframe\">\n",
       "  <thead>\n",
       "    <tr style=\"text-align: right;\">\n",
       "      <th></th>\n",
       "      <th>user</th>\n",
       "      <th>O</th>\n",
       "      <th>C</th>\n",
       "      <th>E</th>\n",
       "      <th>A</th>\n",
       "      <th>N</th>\n",
       "      <th>FCwke</th>\n",
       "      <th>FCowh</th>\n",
       "      <th>FCwh</th>\n",
       "      <th>SDwke</th>\n",
       "      <th>SDowh</th>\n",
       "      <th>SDwh</th>\n",
       "      <th>CDwke</th>\n",
       "      <th>CDowh</th>\n",
       "      <th>CDwh</th>\n",
       "      <th>JDwke</th>\n",
       "      <th>JDowh</th>\n",
       "      <th>JDwh</th>\n",
       "    </tr>\n",
       "  </thead>\n",
       "  <tbody>\n",
       "    <tr>\n",
       "      <th>0</th>\n",
       "      <td>AAB1302</td>\n",
       "      <td>38</td>\n",
       "      <td>41</td>\n",
       "      <td>10</td>\n",
       "      <td>38</td>\n",
       "      <td>28</td>\n",
       "      <td>23</td>\n",
       "      <td>37</td>\n",
       "      <td>142</td>\n",
       "      <td>0</td>\n",
       "      <td>1</td>\n",
       "      <td>10</td>\n",
       "      <td>0</td>\n",
       "      <td>0</td>\n",
       "      <td>0</td>\n",
       "      <td>40</td>\n",
       "      <td>81</td>\n",
       "      <td>246</td>\n",
       "    </tr>\n",
       "    <tr>\n",
       "      <th>1</th>\n",
       "      <td>AAB1762</td>\n",
       "      <td>32</td>\n",
       "      <td>39</td>\n",
       "      <td>18</td>\n",
       "      <td>18</td>\n",
       "      <td>33</td>\n",
       "      <td>0</td>\n",
       "      <td>194</td>\n",
       "      <td>654</td>\n",
       "      <td>0</td>\n",
       "      <td>9</td>\n",
       "      <td>14</td>\n",
       "      <td>0</td>\n",
       "      <td>0</td>\n",
       "      <td>4</td>\n",
       "      <td>0</td>\n",
       "      <td>243</td>\n",
       "      <td>679</td>\n",
       "    </tr>\n",
       "    <tr>\n",
       "      <th>2</th>\n",
       "      <td>AAC0904</td>\n",
       "      <td>31</td>\n",
       "      <td>30</td>\n",
       "      <td>36</td>\n",
       "      <td>18</td>\n",
       "      <td>28</td>\n",
       "      <td>0</td>\n",
       "      <td>0</td>\n",
       "      <td>0</td>\n",
       "      <td>0</td>\n",
       "      <td>22</td>\n",
       "      <td>144</td>\n",
       "      <td>0</td>\n",
       "      <td>5</td>\n",
       "      <td>34</td>\n",
       "      <td>0</td>\n",
       "      <td>499</td>\n",
       "      <td>4025</td>\n",
       "    </tr>\n",
       "    <tr>\n",
       "      <th>3</th>\n",
       "      <td>AAC1033</td>\n",
       "      <td>42</td>\n",
       "      <td>40</td>\n",
       "      <td>40</td>\n",
       "      <td>22</td>\n",
       "      <td>29</td>\n",
       "      <td>0</td>\n",
       "      <td>0</td>\n",
       "      <td>0</td>\n",
       "      <td>0</td>\n",
       "      <td>14</td>\n",
       "      <td>72</td>\n",
       "      <td>0</td>\n",
       "      <td>0</td>\n",
       "      <td>1</td>\n",
       "      <td>0</td>\n",
       "      <td>1</td>\n",
       "      <td>2</td>\n",
       "    </tr>\n",
       "    <tr>\n",
       "      <th>4</th>\n",
       "      <td>AAC1489</td>\n",
       "      <td>24</td>\n",
       "      <td>13</td>\n",
       "      <td>42</td>\n",
       "      <td>24</td>\n",
       "      <td>38</td>\n",
       "      <td>0</td>\n",
       "      <td>0</td>\n",
       "      <td>0</td>\n",
       "      <td>0</td>\n",
       "      <td>1</td>\n",
       "      <td>175</td>\n",
       "      <td>0</td>\n",
       "      <td>0</td>\n",
       "      <td>2</td>\n",
       "      <td>0</td>\n",
       "      <td>101</td>\n",
       "      <td>5058</td>\n",
       "    </tr>\n",
       "    <tr>\n",
       "      <th>...</th>\n",
       "      <td>...</td>\n",
       "      <td>...</td>\n",
       "      <td>...</td>\n",
       "      <td>...</td>\n",
       "      <td>...</td>\n",
       "      <td>...</td>\n",
       "      <td>...</td>\n",
       "      <td>...</td>\n",
       "      <td>...</td>\n",
       "      <td>...</td>\n",
       "      <td>...</td>\n",
       "      <td>...</td>\n",
       "      <td>...</td>\n",
       "      <td>...</td>\n",
       "      <td>...</td>\n",
       "      <td>...</td>\n",
       "      <td>...</td>\n",
       "      <td>...</td>\n",
       "    </tr>\n",
       "    <tr>\n",
       "      <th>1995</th>\n",
       "      <td>ZRF1980</td>\n",
       "      <td>43</td>\n",
       "      <td>41</td>\n",
       "      <td>26</td>\n",
       "      <td>16</td>\n",
       "      <td>30</td>\n",
       "      <td>0</td>\n",
       "      <td>9</td>\n",
       "      <td>1272</td>\n",
       "      <td>0</td>\n",
       "      <td>16</td>\n",
       "      <td>298</td>\n",
       "      <td>0</td>\n",
       "      <td>0</td>\n",
       "      <td>11</td>\n",
       "      <td>0</td>\n",
       "      <td>28</td>\n",
       "      <td>494</td>\n",
       "    </tr>\n",
       "    <tr>\n",
       "      <th>1996</th>\n",
       "      <td>ZUR1449</td>\n",
       "      <td>31</td>\n",
       "      <td>42</td>\n",
       "      <td>12</td>\n",
       "      <td>36</td>\n",
       "      <td>17</td>\n",
       "      <td>0</td>\n",
       "      <td>0</td>\n",
       "      <td>0</td>\n",
       "      <td>0</td>\n",
       "      <td>1</td>\n",
       "      <td>7</td>\n",
       "      <td>0</td>\n",
       "      <td>65</td>\n",
       "      <td>296</td>\n",
       "      <td>0</td>\n",
       "      <td>293</td>\n",
       "      <td>1322</td>\n",
       "    </tr>\n",
       "    <tr>\n",
       "      <th>1997</th>\n",
       "      <td>ZVW1475</td>\n",
       "      <td>38</td>\n",
       "      <td>35</td>\n",
       "      <td>18</td>\n",
       "      <td>24</td>\n",
       "      <td>37</td>\n",
       "      <td>0</td>\n",
       "      <td>0</td>\n",
       "      <td>0</td>\n",
       "      <td>0</td>\n",
       "      <td>0</td>\n",
       "      <td>1</td>\n",
       "      <td>0</td>\n",
       "      <td>0</td>\n",
       "      <td>0</td>\n",
       "      <td>0</td>\n",
       "      <td>2</td>\n",
       "      <td>7</td>\n",
       "    </tr>\n",
       "    <tr>\n",
       "      <th>1998</th>\n",
       "      <td>ZWS0755</td>\n",
       "      <td>45</td>\n",
       "      <td>47</td>\n",
       "      <td>42</td>\n",
       "      <td>39</td>\n",
       "      <td>28</td>\n",
       "      <td>0</td>\n",
       "      <td>0</td>\n",
       "      <td>0</td>\n",
       "      <td>0</td>\n",
       "      <td>58</td>\n",
       "      <td>266</td>\n",
       "      <td>0</td>\n",
       "      <td>0</td>\n",
       "      <td>0</td>\n",
       "      <td>0</td>\n",
       "      <td>148</td>\n",
       "      <td>810</td>\n",
       "    </tr>\n",
       "    <tr>\n",
       "      <th>1999</th>\n",
       "      <td>ZXR1452</td>\n",
       "      <td>45</td>\n",
       "      <td>21</td>\n",
       "      <td>13</td>\n",
       "      <td>23</td>\n",
       "      <td>31</td>\n",
       "      <td>0</td>\n",
       "      <td>0</td>\n",
       "      <td>0</td>\n",
       "      <td>0</td>\n",
       "      <td>44</td>\n",
       "      <td>359</td>\n",
       "      <td>0</td>\n",
       "      <td>36</td>\n",
       "      <td>198</td>\n",
       "      <td>0</td>\n",
       "      <td>9</td>\n",
       "      <td>69</td>\n",
       "    </tr>\n",
       "  </tbody>\n",
       "</table>\n",
       "<p>2000 rows × 18 columns</p>\n",
       "</div>"
      ],
      "text/plain": [
       "         user   O   C   E   A   N  FCwke  FCowh  FCwh  SDwke  SDowh  SDwh  \\\n",
       "0     AAB1302  38  41  10  38  28     23     37   142      0      1    10   \n",
       "1     AAB1762  32  39  18  18  33      0    194   654      0      9    14   \n",
       "2     AAC0904  31  30  36  18  28      0      0     0      0     22   144   \n",
       "3     AAC1033  42  40  40  22  29      0      0     0      0     14    72   \n",
       "4     AAC1489  24  13  42  24  38      0      0     0      0      1   175   \n",
       "...       ...  ..  ..  ..  ..  ..    ...    ...   ...    ...    ...   ...   \n",
       "1995  ZRF1980  43  41  26  16  30      0      9  1272      0     16   298   \n",
       "1996  ZUR1449  31  42  12  36  17      0      0     0      0      1     7   \n",
       "1997  ZVW1475  38  35  18  24  37      0      0     0      0      0     1   \n",
       "1998  ZWS0755  45  47  42  39  28      0      0     0      0     58   266   \n",
       "1999  ZXR1452  45  21  13  23  31      0      0     0      0     44   359   \n",
       "\n",
       "      CDwke  CDowh  CDwh  JDwke  JDowh  JDwh  \n",
       "0         0      0     0     40     81   246  \n",
       "1         0      0     4      0    243   679  \n",
       "2         0      5    34      0    499  4025  \n",
       "3         0      0     1      0      1     2  \n",
       "4         0      0     2      0    101  5058  \n",
       "...     ...    ...   ...    ...    ...   ...  \n",
       "1995      0      0    11      0     28   494  \n",
       "1996      0     65   296      0    293  1322  \n",
       "1997      0      0     0      0      2     7  \n",
       "1998      0      0     0      0    148   810  \n",
       "1999      0     36   198      0      9    69  \n",
       "\n",
       "[2000 rows x 18 columns]"
      ]
     },
     "execution_count": 2,
     "metadata": {},
     "output_type": "execute_result"
    }
   ],
   "source": [
    "final_dataset_path = '..\\data\\FEData_For_Modelling.parquet'\n",
    "\n",
    "# Read the multi-part Parquet dataset\n",
    "fds = dd.read_parquet(final_dataset_path)\n",
    "fds.head(4000)"
   ]
  },
  {
   "cell_type": "markdown",
   "metadata": {},
   "source": [
    "OWH: Outside Work Hours  \n",
    "WH: Work Hours  \n",
    "WKE: Weekend  \n",
    "  \n",
    "FC: files copied  \n",
    "SD: Sus Domain  \n",
    "CD: Cloud Domain  \n",
    "JD: Job Domain  \n"
   ]
  },
  {
   "cell_type": "markdown",
   "metadata": {},
   "source": [
    "## Add target labels"
   ]
  },
  {
   "cell_type": "code",
   "execution_count": 3,
   "metadata": {},
   "outputs": [],
   "source": [
    "def list_files_in_folder(folder_path):\n",
    "    files = []\n",
    "    # Check if the folder path exists\n",
    "    if os.path.exists(folder_path):\n",
    "        # Iterate through all files in the folder\n",
    "        for file_name in os.listdir(folder_path):\n",
    "            # Check if the path is a file (not a directory)\n",
    "            if os.path.isfile(os.path.join(folder_path, file_name)):\n",
    "                files.append(file_name[7:-4])\n",
    "    else:\n",
    "        print(f\"Folder '{folder_path}' does not exist.\")\n",
    "    return files\n",
    "\n",
    "sus_users_list = list_files_in_folder(\"..\\data\\\\r5.2-2\")\n",
    "fds[\"targetLabel\"] = fds['user'].apply(lambda x: 1 if x in sus_users_list else 0, meta=('int'))"
   ]
  },
  {
   "cell_type": "code",
   "execution_count": 4,
   "metadata": {},
   "outputs": [
    {
     "name": "stdout",
     "output_type": "stream",
     "text": [
      "How many sus users:  30\n",
      "['BYO1846', 'CHP1711', 'CIF1430', 'CKP0630', 'DCC1119', 'GWG0497', 'HIS1394', 'HMS1658', 'HSN0675', 'HXP0976', 'ICB1354', 'ITA0159', 'JAL0811', 'KSS1005', 'LVF1626', 'MCP0611', 'MDS0680', 'MGB1235', 'NAH1366', 'OKM1092', 'OSS1463', 'RRS0056', 'SIS0042', 'SNK1280', 'TMT0851', 'TNB1616', 'TRC1838', 'VCF1602', 'WDT1634', 'ZIE0741']\n"
     ]
    }
   ],
   "source": [
    "print(\"How many sus users: \",len(sus_users_list))\n",
    "print(sus_users_list)"
   ]
  },
  {
   "cell_type": "code",
   "execution_count": 5,
   "metadata": {},
   "outputs": [
    {
     "data": {
      "text/plain": [
       "30"
      ]
     },
     "execution_count": 5,
     "metadata": {},
     "output_type": "execute_result"
    }
   ],
   "source": [
    "(fds[\"targetLabel\"] == 1).sum().compute()"
   ]
  },
  {
   "cell_type": "code",
   "execution_count": 6,
   "metadata": {},
   "outputs": [],
   "source": [
    "y = fds[\"targetLabel\"].compute()\n",
    "X = fds.drop(columns=[\"targetLabel\",]).compute()\n",
    "# X = fds.drop(columns=[\"targetLabel\",\"user\"]).compute()"
   ]
  },
  {
   "cell_type": "markdown",
   "metadata": {},
   "source": [
    "## Preprocessing and Split"
   ]
  },
  {
   "cell_type": "code",
   "execution_count": 7,
   "metadata": {},
   "outputs": [
    {
     "name": "stdout",
     "output_type": "stream",
     "text": [
      "Train Labels before Resampling\n",
      "Counter({0: 1574, 1: 26})\n"
     ]
    }
   ],
   "source": [
    "X_train_w_name, X_test_w_name, y_train, y_test = train_test_split(X, y, test_size=0.2, random_state=42)\n",
    "X_train, X_test = X_train_w_name.drop(columns=[\"user\",]), X_test_w_name.drop(columns=[\"user\",])\n",
    "print(\"Train Labels before Resampling\")\n",
    "print(Counter(y_train))"
   ]
  },
  {
   "cell_type": "code",
   "execution_count": 8,
   "metadata": {},
   "outputs": [],
   "source": [
    "from sklearn.preprocessing import StandardScaler\n",
    "# Scale the features using StandardScaler\n",
    "scaler = StandardScaler()\n",
    "X_train_scaled = scaler.fit_transform(X_train)\n",
    "X_test_scaled = scaler.transform(X_test)"
   ]
  },
  {
   "cell_type": "markdown",
   "metadata": {},
   "source": [
    "## Model training (basic)"
   ]
  },
  {
   "cell_type": "code",
   "execution_count": 9,
   "metadata": {},
   "outputs": [
    {
     "data": {
      "text/html": [
       "<style>#sk-container-id-1 {\n",
       "  /* Definition of color scheme common for light and dark mode */\n",
       "  --sklearn-color-text: black;\n",
       "  --sklearn-color-line: gray;\n",
       "  /* Definition of color scheme for unfitted estimators */\n",
       "  --sklearn-color-unfitted-level-0: #fff5e6;\n",
       "  --sklearn-color-unfitted-level-1: #f6e4d2;\n",
       "  --sklearn-color-unfitted-level-2: #ffe0b3;\n",
       "  --sklearn-color-unfitted-level-3: chocolate;\n",
       "  /* Definition of color scheme for fitted estimators */\n",
       "  --sklearn-color-fitted-level-0: #f0f8ff;\n",
       "  --sklearn-color-fitted-level-1: #d4ebff;\n",
       "  --sklearn-color-fitted-level-2: #b3dbfd;\n",
       "  --sklearn-color-fitted-level-3: cornflowerblue;\n",
       "\n",
       "  /* Specific color for light theme */\n",
       "  --sklearn-color-text-on-default-background: var(--sg-text-color, var(--theme-code-foreground, var(--jp-content-font-color1, black)));\n",
       "  --sklearn-color-background: var(--sg-background-color, var(--theme-background, var(--jp-layout-color0, white)));\n",
       "  --sklearn-color-border-box: var(--sg-text-color, var(--theme-code-foreground, var(--jp-content-font-color1, black)));\n",
       "  --sklearn-color-icon: #696969;\n",
       "\n",
       "  @media (prefers-color-scheme: dark) {\n",
       "    /* Redefinition of color scheme for dark theme */\n",
       "    --sklearn-color-text-on-default-background: var(--sg-text-color, var(--theme-code-foreground, var(--jp-content-font-color1, white)));\n",
       "    --sklearn-color-background: var(--sg-background-color, var(--theme-background, var(--jp-layout-color0, #111)));\n",
       "    --sklearn-color-border-box: var(--sg-text-color, var(--theme-code-foreground, var(--jp-content-font-color1, white)));\n",
       "    --sklearn-color-icon: #878787;\n",
       "  }\n",
       "}\n",
       "\n",
       "#sk-container-id-1 {\n",
       "  color: var(--sklearn-color-text);\n",
       "}\n",
       "\n",
       "#sk-container-id-1 pre {\n",
       "  padding: 0;\n",
       "}\n",
       "\n",
       "#sk-container-id-1 input.sk-hidden--visually {\n",
       "  border: 0;\n",
       "  clip: rect(1px 1px 1px 1px);\n",
       "  clip: rect(1px, 1px, 1px, 1px);\n",
       "  height: 1px;\n",
       "  margin: -1px;\n",
       "  overflow: hidden;\n",
       "  padding: 0;\n",
       "  position: absolute;\n",
       "  width: 1px;\n",
       "}\n",
       "\n",
       "#sk-container-id-1 div.sk-dashed-wrapped {\n",
       "  border: 1px dashed var(--sklearn-color-line);\n",
       "  margin: 0 0.4em 0.5em 0.4em;\n",
       "  box-sizing: border-box;\n",
       "  padding-bottom: 0.4em;\n",
       "  background-color: var(--sklearn-color-background);\n",
       "}\n",
       "\n",
       "#sk-container-id-1 div.sk-container {\n",
       "  /* jupyter's `normalize.less` sets `[hidden] { display: none; }`\n",
       "     but bootstrap.min.css set `[hidden] { display: none !important; }`\n",
       "     so we also need the `!important` here to be able to override the\n",
       "     default hidden behavior on the sphinx rendered scikit-learn.org.\n",
       "     See: https://github.com/scikit-learn/scikit-learn/issues/21755 */\n",
       "  display: inline-block !important;\n",
       "  position: relative;\n",
       "}\n",
       "\n",
       "#sk-container-id-1 div.sk-text-repr-fallback {\n",
       "  display: none;\n",
       "}\n",
       "\n",
       "div.sk-parallel-item,\n",
       "div.sk-serial,\n",
       "div.sk-item {\n",
       "  /* draw centered vertical line to link estimators */\n",
       "  background-image: linear-gradient(var(--sklearn-color-text-on-default-background), var(--sklearn-color-text-on-default-background));\n",
       "  background-size: 2px 100%;\n",
       "  background-repeat: no-repeat;\n",
       "  background-position: center center;\n",
       "}\n",
       "\n",
       "/* Parallel-specific style estimator block */\n",
       "\n",
       "#sk-container-id-1 div.sk-parallel-item::after {\n",
       "  content: \"\";\n",
       "  width: 100%;\n",
       "  border-bottom: 2px solid var(--sklearn-color-text-on-default-background);\n",
       "  flex-grow: 1;\n",
       "}\n",
       "\n",
       "#sk-container-id-1 div.sk-parallel {\n",
       "  display: flex;\n",
       "  align-items: stretch;\n",
       "  justify-content: center;\n",
       "  background-color: var(--sklearn-color-background);\n",
       "  position: relative;\n",
       "}\n",
       "\n",
       "#sk-container-id-1 div.sk-parallel-item {\n",
       "  display: flex;\n",
       "  flex-direction: column;\n",
       "}\n",
       "\n",
       "#sk-container-id-1 div.sk-parallel-item:first-child::after {\n",
       "  align-self: flex-end;\n",
       "  width: 50%;\n",
       "}\n",
       "\n",
       "#sk-container-id-1 div.sk-parallel-item:last-child::after {\n",
       "  align-self: flex-start;\n",
       "  width: 50%;\n",
       "}\n",
       "\n",
       "#sk-container-id-1 div.sk-parallel-item:only-child::after {\n",
       "  width: 0;\n",
       "}\n",
       "\n",
       "/* Serial-specific style estimator block */\n",
       "\n",
       "#sk-container-id-1 div.sk-serial {\n",
       "  display: flex;\n",
       "  flex-direction: column;\n",
       "  align-items: center;\n",
       "  background-color: var(--sklearn-color-background);\n",
       "  padding-right: 1em;\n",
       "  padding-left: 1em;\n",
       "}\n",
       "\n",
       "\n",
       "/* Toggleable style: style used for estimator/Pipeline/ColumnTransformer box that is\n",
       "clickable and can be expanded/collapsed.\n",
       "- Pipeline and ColumnTransformer use this feature and define the default style\n",
       "- Estimators will overwrite some part of the style using the `sk-estimator` class\n",
       "*/\n",
       "\n",
       "/* Pipeline and ColumnTransformer style (default) */\n",
       "\n",
       "#sk-container-id-1 div.sk-toggleable {\n",
       "  /* Default theme specific background. It is overwritten whether we have a\n",
       "  specific estimator or a Pipeline/ColumnTransformer */\n",
       "  background-color: var(--sklearn-color-background);\n",
       "}\n",
       "\n",
       "/* Toggleable label */\n",
       "#sk-container-id-1 label.sk-toggleable__label {\n",
       "  cursor: pointer;\n",
       "  display: block;\n",
       "  width: 100%;\n",
       "  margin-bottom: 0;\n",
       "  padding: 0.5em;\n",
       "  box-sizing: border-box;\n",
       "  text-align: center;\n",
       "}\n",
       "\n",
       "#sk-container-id-1 label.sk-toggleable__label-arrow:before {\n",
       "  /* Arrow on the left of the label */\n",
       "  content: \"▸\";\n",
       "  float: left;\n",
       "  margin-right: 0.25em;\n",
       "  color: var(--sklearn-color-icon);\n",
       "}\n",
       "\n",
       "#sk-container-id-1 label.sk-toggleable__label-arrow:hover:before {\n",
       "  color: var(--sklearn-color-text);\n",
       "}\n",
       "\n",
       "/* Toggleable content - dropdown */\n",
       "\n",
       "#sk-container-id-1 div.sk-toggleable__content {\n",
       "  max-height: 0;\n",
       "  max-width: 0;\n",
       "  overflow: hidden;\n",
       "  text-align: left;\n",
       "  /* unfitted */\n",
       "  background-color: var(--sklearn-color-unfitted-level-0);\n",
       "}\n",
       "\n",
       "#sk-container-id-1 div.sk-toggleable__content.fitted {\n",
       "  /* fitted */\n",
       "  background-color: var(--sklearn-color-fitted-level-0);\n",
       "}\n",
       "\n",
       "#sk-container-id-1 div.sk-toggleable__content pre {\n",
       "  margin: 0.2em;\n",
       "  border-radius: 0.25em;\n",
       "  color: var(--sklearn-color-text);\n",
       "  /* unfitted */\n",
       "  background-color: var(--sklearn-color-unfitted-level-0);\n",
       "}\n",
       "\n",
       "#sk-container-id-1 div.sk-toggleable__content.fitted pre {\n",
       "  /* unfitted */\n",
       "  background-color: var(--sklearn-color-fitted-level-0);\n",
       "}\n",
       "\n",
       "#sk-container-id-1 input.sk-toggleable__control:checked~div.sk-toggleable__content {\n",
       "  /* Expand drop-down */\n",
       "  max-height: 200px;\n",
       "  max-width: 100%;\n",
       "  overflow: auto;\n",
       "}\n",
       "\n",
       "#sk-container-id-1 input.sk-toggleable__control:checked~label.sk-toggleable__label-arrow:before {\n",
       "  content: \"▾\";\n",
       "}\n",
       "\n",
       "/* Pipeline/ColumnTransformer-specific style */\n",
       "\n",
       "#sk-container-id-1 div.sk-label input.sk-toggleable__control:checked~label.sk-toggleable__label {\n",
       "  color: var(--sklearn-color-text);\n",
       "  background-color: var(--sklearn-color-unfitted-level-2);\n",
       "}\n",
       "\n",
       "#sk-container-id-1 div.sk-label.fitted input.sk-toggleable__control:checked~label.sk-toggleable__label {\n",
       "  background-color: var(--sklearn-color-fitted-level-2);\n",
       "}\n",
       "\n",
       "/* Estimator-specific style */\n",
       "\n",
       "/* Colorize estimator box */\n",
       "#sk-container-id-1 div.sk-estimator input.sk-toggleable__control:checked~label.sk-toggleable__label {\n",
       "  /* unfitted */\n",
       "  background-color: var(--sklearn-color-unfitted-level-2);\n",
       "}\n",
       "\n",
       "#sk-container-id-1 div.sk-estimator.fitted input.sk-toggleable__control:checked~label.sk-toggleable__label {\n",
       "  /* fitted */\n",
       "  background-color: var(--sklearn-color-fitted-level-2);\n",
       "}\n",
       "\n",
       "#sk-container-id-1 div.sk-label label.sk-toggleable__label,\n",
       "#sk-container-id-1 div.sk-label label {\n",
       "  /* The background is the default theme color */\n",
       "  color: var(--sklearn-color-text-on-default-background);\n",
       "}\n",
       "\n",
       "/* On hover, darken the color of the background */\n",
       "#sk-container-id-1 div.sk-label:hover label.sk-toggleable__label {\n",
       "  color: var(--sklearn-color-text);\n",
       "  background-color: var(--sklearn-color-unfitted-level-2);\n",
       "}\n",
       "\n",
       "/* Label box, darken color on hover, fitted */\n",
       "#sk-container-id-1 div.sk-label.fitted:hover label.sk-toggleable__label.fitted {\n",
       "  color: var(--sklearn-color-text);\n",
       "  background-color: var(--sklearn-color-fitted-level-2);\n",
       "}\n",
       "\n",
       "/* Estimator label */\n",
       "\n",
       "#sk-container-id-1 div.sk-label label {\n",
       "  font-family: monospace;\n",
       "  font-weight: bold;\n",
       "  display: inline-block;\n",
       "  line-height: 1.2em;\n",
       "}\n",
       "\n",
       "#sk-container-id-1 div.sk-label-container {\n",
       "  text-align: center;\n",
       "}\n",
       "\n",
       "/* Estimator-specific */\n",
       "#sk-container-id-1 div.sk-estimator {\n",
       "  font-family: monospace;\n",
       "  border: 1px dotted var(--sklearn-color-border-box);\n",
       "  border-radius: 0.25em;\n",
       "  box-sizing: border-box;\n",
       "  margin-bottom: 0.5em;\n",
       "  /* unfitted */\n",
       "  background-color: var(--sklearn-color-unfitted-level-0);\n",
       "}\n",
       "\n",
       "#sk-container-id-1 div.sk-estimator.fitted {\n",
       "  /* fitted */\n",
       "  background-color: var(--sklearn-color-fitted-level-0);\n",
       "}\n",
       "\n",
       "/* on hover */\n",
       "#sk-container-id-1 div.sk-estimator:hover {\n",
       "  /* unfitted */\n",
       "  background-color: var(--sklearn-color-unfitted-level-2);\n",
       "}\n",
       "\n",
       "#sk-container-id-1 div.sk-estimator.fitted:hover {\n",
       "  /* fitted */\n",
       "  background-color: var(--sklearn-color-fitted-level-2);\n",
       "}\n",
       "\n",
       "/* Specification for estimator info (e.g. \"i\" and \"?\") */\n",
       "\n",
       "/* Common style for \"i\" and \"?\" */\n",
       "\n",
       ".sk-estimator-doc-link,\n",
       "a:link.sk-estimator-doc-link,\n",
       "a:visited.sk-estimator-doc-link {\n",
       "  float: right;\n",
       "  font-size: smaller;\n",
       "  line-height: 1em;\n",
       "  font-family: monospace;\n",
       "  background-color: var(--sklearn-color-background);\n",
       "  border-radius: 1em;\n",
       "  height: 1em;\n",
       "  width: 1em;\n",
       "  text-decoration: none !important;\n",
       "  margin-left: 1ex;\n",
       "  /* unfitted */\n",
       "  border: var(--sklearn-color-unfitted-level-1) 1pt solid;\n",
       "  color: var(--sklearn-color-unfitted-level-1);\n",
       "}\n",
       "\n",
       ".sk-estimator-doc-link.fitted,\n",
       "a:link.sk-estimator-doc-link.fitted,\n",
       "a:visited.sk-estimator-doc-link.fitted {\n",
       "  /* fitted */\n",
       "  border: var(--sklearn-color-fitted-level-1) 1pt solid;\n",
       "  color: var(--sklearn-color-fitted-level-1);\n",
       "}\n",
       "\n",
       "/* On hover */\n",
       "div.sk-estimator:hover .sk-estimator-doc-link:hover,\n",
       ".sk-estimator-doc-link:hover,\n",
       "div.sk-label-container:hover .sk-estimator-doc-link:hover,\n",
       ".sk-estimator-doc-link:hover {\n",
       "  /* unfitted */\n",
       "  background-color: var(--sklearn-color-unfitted-level-3);\n",
       "  color: var(--sklearn-color-background);\n",
       "  text-decoration: none;\n",
       "}\n",
       "\n",
       "div.sk-estimator.fitted:hover .sk-estimator-doc-link.fitted:hover,\n",
       ".sk-estimator-doc-link.fitted:hover,\n",
       "div.sk-label-container:hover .sk-estimator-doc-link.fitted:hover,\n",
       ".sk-estimator-doc-link.fitted:hover {\n",
       "  /* fitted */\n",
       "  background-color: var(--sklearn-color-fitted-level-3);\n",
       "  color: var(--sklearn-color-background);\n",
       "  text-decoration: none;\n",
       "}\n",
       "\n",
       "/* Span, style for the box shown on hovering the info icon */\n",
       ".sk-estimator-doc-link span {\n",
       "  display: none;\n",
       "  z-index: 9999;\n",
       "  position: relative;\n",
       "  font-weight: normal;\n",
       "  right: .2ex;\n",
       "  padding: .5ex;\n",
       "  margin: .5ex;\n",
       "  width: min-content;\n",
       "  min-width: 20ex;\n",
       "  max-width: 50ex;\n",
       "  color: var(--sklearn-color-text);\n",
       "  box-shadow: 2pt 2pt 4pt #999;\n",
       "  /* unfitted */\n",
       "  background: var(--sklearn-color-unfitted-level-0);\n",
       "  border: .5pt solid var(--sklearn-color-unfitted-level-3);\n",
       "}\n",
       "\n",
       ".sk-estimator-doc-link.fitted span {\n",
       "  /* fitted */\n",
       "  background: var(--sklearn-color-fitted-level-0);\n",
       "  border: var(--sklearn-color-fitted-level-3);\n",
       "}\n",
       "\n",
       ".sk-estimator-doc-link:hover span {\n",
       "  display: block;\n",
       "}\n",
       "\n",
       "/* \"?\"-specific style due to the `<a>` HTML tag */\n",
       "\n",
       "#sk-container-id-1 a.estimator_doc_link {\n",
       "  float: right;\n",
       "  font-size: 1rem;\n",
       "  line-height: 1em;\n",
       "  font-family: monospace;\n",
       "  background-color: var(--sklearn-color-background);\n",
       "  border-radius: 1rem;\n",
       "  height: 1rem;\n",
       "  width: 1rem;\n",
       "  text-decoration: none;\n",
       "  /* unfitted */\n",
       "  color: var(--sklearn-color-unfitted-level-1);\n",
       "  border: var(--sklearn-color-unfitted-level-1) 1pt solid;\n",
       "}\n",
       "\n",
       "#sk-container-id-1 a.estimator_doc_link.fitted {\n",
       "  /* fitted */\n",
       "  border: var(--sklearn-color-fitted-level-1) 1pt solid;\n",
       "  color: var(--sklearn-color-fitted-level-1);\n",
       "}\n",
       "\n",
       "/* On hover */\n",
       "#sk-container-id-1 a.estimator_doc_link:hover {\n",
       "  /* unfitted */\n",
       "  background-color: var(--sklearn-color-unfitted-level-3);\n",
       "  color: var(--sklearn-color-background);\n",
       "  text-decoration: none;\n",
       "}\n",
       "\n",
       "#sk-container-id-1 a.estimator_doc_link.fitted:hover {\n",
       "  /* fitted */\n",
       "  background-color: var(--sklearn-color-fitted-level-3);\n",
       "}\n",
       "</style><div id=\"sk-container-id-1\" class=\"sk-top-container\"><div class=\"sk-text-repr-fallback\"><pre>OneClassSVM(nu=0.1)</pre><b>In a Jupyter environment, please rerun this cell to show the HTML representation or trust the notebook. <br />On GitHub, the HTML representation is unable to render, please try loading this page with nbviewer.org.</b></div><div class=\"sk-container\" hidden><div class=\"sk-item\"><div class=\"sk-estimator fitted sk-toggleable\"><input class=\"sk-toggleable__control sk-hidden--visually\" id=\"sk-estimator-id-1\" type=\"checkbox\" checked><label for=\"sk-estimator-id-1\" class=\"sk-toggleable__label fitted sk-toggleable__label-arrow fitted\">&nbsp;&nbsp;OneClassSVM<a class=\"sk-estimator-doc-link fitted\" rel=\"noreferrer\" target=\"_blank\" href=\"https://scikit-learn.org/1.4/modules/generated/sklearn.svm.OneClassSVM.html\">?<span>Documentation for OneClassSVM</span></a><span class=\"sk-estimator-doc-link fitted\">i<span>Fitted</span></span></label><div class=\"sk-toggleable__content fitted\"><pre>OneClassSVM(nu=0.1)</pre></div> </div></div></div></div>"
      ],
      "text/plain": [
       "OneClassSVM(nu=0.1)"
      ]
     },
     "execution_count": 9,
     "metadata": {},
     "output_type": "execute_result"
    }
   ],
   "source": [
    "# Create a One-Class SVM model\n",
    "clf = OneClassSVM(nu=0.1) \n",
    "# Fit the model on the training data\n",
    "clf.fit(X_train_scaled, y_train) "
   ]
  },
  {
   "cell_type": "code",
   "execution_count": 10,
   "metadata": {},
   "outputs": [
    {
     "name": "stdout",
     "output_type": "stream",
     "text": [
      "##############################\n",
      "Train Evaluation\n",
      "##############################\n",
      "              precision    recall  f1-score   support\n",
      "\n",
      "           0       0.98      0.90      0.94      1574\n",
      "           1       0.01      0.04      0.01        26\n",
      "\n",
      "    accuracy                           0.88      1600\n",
      "   macro avg       0.49      0.47      0.47      1600\n",
      "weighted avg       0.97      0.88      0.92      1600\n",
      "\n"
     ]
    },
    {
     "data": {
      "image/png": "[encoded data removed]",
      "text/plain": [
       "<Figure size 640x480 with 2 Axes>"
      ]
     },
     "metadata": {},
     "output_type": "display_data"
    },
    {
     "name": "stdout",
     "output_type": "stream",
     "text": [
      "\n",
      "##############################\n",
      "Test Evaluation\n",
      "##############################\n",
      "              precision    recall  f1-score   support\n",
      "\n",
      "           0       0.99      0.87      0.93       396\n",
      "           1       0.02      0.25      0.04         4\n",
      "\n",
      "    accuracy                           0.87       400\n",
      "   macro avg       0.51      0.56      0.48       400\n",
      "weighted avg       0.98      0.87      0.92       400\n",
      "\n"
     ]
    },
    {
     "data": {
      "image/png": "[encoded data removed]",
      "text/plain": [
       "<Figure size 640x480 with 2 Axes>"
      ]
     },
     "metadata": {},
     "output_type": "display_data"
    }
   ],
   "source": [
    "\n",
    "def eval_svm(preds, labels):\n",
    "\n",
    "    # Convert predictions (-1 for outliers, 1 for inliers) to binary labels (0 for normal, 1 for anomaly)\n",
    "    pred_labels = np.where(preds == -1, 1, 0)\n",
    "    print(classification_report(labels, pred_labels))\n",
    "\n",
    "    conf_matrix = confusion_matrix(labels, pred_labels)\n",
    "\n",
    "    # Plot confusion matrix\n",
    "    disp = ConfusionMatrixDisplay(confusion_matrix=conf_matrix,\n",
    "                                   display_labels=[\"Normal\", \"Anomaly\"])\n",
    "    disp.plot(cmap=plt.cm.Blues)\n",
    "    plt.title('Confusion Matrix')\n",
    "    plt.show()\n",
    "\n",
    "train_pred = clf.predict(X_train_scaled)\n",
    "print(\"##############################\")\n",
    "print(\"Train Evaluation\")\n",
    "print(\"##############################\")\n",
    "eval_svm(train_pred, y_train)\n",
    "\n",
    "print()\n",
    "\n",
    "test_pred = clf.predict(X_test_scaled)\n",
    "print(\"##############################\")\n",
    "print(\"Test Evaluation\")\n",
    "print(\"##############################\")\n",
    "eval_svm(test_pred, y_test)"
   ]
  },
  {
   "cell_type": "markdown",
   "metadata": {},
   "source": [
    "## GridSearch BEST DONT CHANGE"
   ]
  },
  {
   "cell_type": "code",
   "execution_count": 11,
   "metadata": {},
   "outputs": [],
   "source": [
    "def make_binary_labels(labels):\n",
    "    return np.where(labels == 1, -1, 1)\n",
    "\n",
    "y_train_gs = make_binary_labels(y_train)\n",
    "y_test_gs = make_binary_labels(y_test)\n"
   ]
  },
  {
   "cell_type": "code",
   "execution_count": 12,
   "metadata": {},
   "outputs": [
    {
     "name": "stdout",
     "output_type": "stream",
     "text": [
      "Fitting 5 folds for each of 320 candidates, totalling 1600 fits\n",
      "[CV 1/5] END gamma=scale, kernel=linear, nu=0.001;, score=-169.000 total time=   0.0s\n",
      "[CV 2/5] END gamma=scale, kernel=linear, nu=0.001;, score=-94.013 total time=   0.0s\n",
      "[CV 3/5] END gamma=scale, kernel=linear, nu=0.001;, score=-126.031 total time=   0.0s\n",
      "[CV 4/5] END gamma=scale, kernel=linear, nu=0.001;, score=-83.009 total time=   0.0s\n",
      "[CV 5/5] END gamma=scale, kernel=linear, nu=0.001;, score=-77.025 total time=   0.0s\n",
      "[CV 1/5] END gamma=scale, kernel=linear, nu=0.005;, score=-254.000 total time=   0.0s\n",
      "[CV 2/5] END gamma=scale, kernel=linear, nu=0.005;, score=-45.007 total time=   0.0s\n",
      "[CV 3/5] END gamma=scale, kernel=linear, nu=0.005;, score=-120.020 total time=   0.0s\n",
      "[CV 4/5] END gamma=scale, kernel=linear, nu=0.005;, score=-123.015 total time=   0.0s\n",
      "[CV 5/5] END gamma=scale, kernel=linear, nu=0.005;, score=-95.031 total time=   0.0s\n",
      "[CV 1/5] END gamma=scale, kernel=linear, nu=0.01;, score=-150.000 total time=   0.0s\n",
      "[CV 2/5] END gamma=scale, kernel=linear, nu=0.01;, score=-228.011 total time=   0.0s\n",
      "[CV 3/5] END gamma=scale, kernel=linear, nu=0.01;, score=-225.033 total time=   0.0s\n",
      "[CV 4/5] END gamma=scale, kernel=linear, nu=0.01;, score=-218.010 total time=   0.0s\n",
      "[CV 5/5] END gamma=scale, kernel=linear, nu=0.01;, score=-178.007 total time=   0.0s\n",
      "[CV 1/5] END gamma=scale, kernel=linear, nu=0.05;, score=-262.000 total time=   0.0s\n",
      "[CV 2/5] END gamma=scale, kernel=linear, nu=0.05;, score=-205.000 total time=   0.0s\n",
      "[CV 3/5] END gamma=scale, kernel=linear, nu=0.05;, score=-246.029 total time=   0.0s\n",
      "[CV 4/5] END gamma=scale, kernel=linear, nu=0.05;, score=-279.000 total time=   0.0s\n",
      "[CV 5/5] END gamma=scale, kernel=linear, nu=0.05;, score=-120.020 total time=   0.0s\n",
      "[CV 1/5] END gamma=scale, kernel=linear, nu=0.1;, score=-264.000 total time=   0.0s\n",
      "[CV 2/5] END gamma=scale, kernel=linear, nu=0.1;, score=-112.014 total time=   0.0s\n",
      "[CV 3/5] END gamma=scale, kernel=linear, nu=0.1;, score=-214.020 total time=   0.0s\n",
      "[CV 4/5] END gamma=scale, kernel=linear, nu=0.1;, score=-262.019 total time=   0.0s\n",
      "[CV 5/5] END gamma=scale, kernel=linear, nu=0.1;, score=-32.018 total time=   0.0s\n",
      "[CV 1/5] END gamma=scale, kernel=linear, nu=0.2;, score=-270.000 total time=   0.0s\n",
      "[CV 2/5] END gamma=scale, kernel=linear, nu=0.2;, score=-289.000 total time=   0.0s\n",
      "[CV 3/5] END gamma=scale, kernel=linear, nu=0.2;, score=-287.038 total time=   0.0s\n",
      "[CV 4/5] END gamma=scale, kernel=linear, nu=0.2;, score=-259.018 total time=   0.0s\n",
      "[CV 5/5] END gamma=scale, kernel=linear, nu=0.2;, score=-64.024 total time=   0.0s\n",
      "[CV 1/5] END gamma=scale, kernel=linear, nu=0.3;, score=-275.000 total time=   0.0s\n",
      "[CV 2/5] END gamma=scale, kernel=linear, nu=0.3;, score=-287.000 total time=   0.0s\n",
      "[CV 3/5] END gamma=scale, kernel=linear, nu=0.3;, score=-228.023 total time=   0.0s\n",
      "[CV 4/5] END gamma=scale, kernel=linear, nu=0.3;, score=-282.000 total time=   0.0s\n",
      "[CV 5/5] END gamma=scale, kernel=linear, nu=0.3;, score=-123.021 total time=   0.0s\n",
      "[CV 1/5] END gamma=scale, kernel=linear, nu=0.5;, score=-292.000 total time=   0.0s\n",
      "[CV 2/5] END gamma=scale, kernel=linear, nu=0.5;, score=-253.000 total time=   0.0s\n",
      "[CV 3/5] END gamma=scale, kernel=linear, nu=0.5;, score=-248.015 total time=   0.0s\n",
      "[CV 4/5] END gamma=scale, kernel=linear, nu=0.5;, score=-224.011 total time=   0.0s\n",
      "[CV 5/5] END gamma=scale, kernel=linear, nu=0.5;, score=-251.032 total time=   0.0s\n",
      "[CV 1/5] END gamma=scale, kernel=linear, nu=0.7;, score=-299.000 total time=   0.0s\n",
      "[CV 2/5] END gamma=scale, kernel=linear, nu=0.7;, score=-109.005 total time=   0.0s\n",
      "[CV 3/5] END gamma=scale, kernel=linear, nu=0.7;, score=-265.021 total time=   0.0s\n",
      "[CV 4/5] END gamma=scale, kernel=linear, nu=0.7;, score=-226.011 total time=   0.0s\n",
      "[CV 5/5] END gamma=scale, kernel=linear, nu=0.7;, score=-289.000 total time=   0.0s\n",
      "[CV 1/5] END gamma=scale, kernel=linear, nu=0.9;, score=-293.000 total time=   0.0s\n",
      "[CV 2/5] END gamma=scale, kernel=linear, nu=0.9;, score=-246.014 total time=   0.0s\n",
      "[CV 3/5] END gamma=scale, kernel=linear, nu=0.9;, score=-200.018 total time=   0.0s\n",
      "[CV 4/5] END gamma=scale, kernel=linear, nu=0.9;, score=-164.013 total time=   0.0s\n",
      "[CV 5/5] END gamma=scale, kernel=linear, nu=0.9;, score=-274.026 total time=   0.0s\n",
      "[CV 1/5] END gamma=scale, kernel=rbf, nu=0.001;, score=-32.017 total time=   0.0s\n",
      "[CV 2/5] END gamma=scale, kernel=rbf, nu=0.001;, score=-24.010 total time=   0.0s\n",
      "[CV 3/5] END gamma=scale, kernel=rbf, nu=0.001;, score=-35.021 total time=   0.0s\n",
      "[CV 4/5] END gamma=scale, kernel=rbf, nu=0.001;, score=-36.014 total time=   0.0s\n",
      "[CV 5/5] END gamma=scale, kernel=rbf, nu=0.001;, score=-26.024 total time=   0.0s\n",
      "[CV 1/5] END gamma=scale, kernel=rbf, nu=0.005;, score=-32.017 total time=   0.0s\n",
      "[CV 2/5] END gamma=scale, kernel=rbf, nu=0.005;, score=-23.010 total time=   0.0s\n",
      "[CV 3/5] END gamma=scale, kernel=rbf, nu=0.005;, score=-35.021 total time=   0.0s\n",
      "[CV 4/5] END gamma=scale, kernel=rbf, nu=0.005;, score=-36.014 total time=   0.0s\n",
      "[CV 5/5] END gamma=scale, kernel=rbf, nu=0.005;, score=-25.024 total time=   0.0s\n",
      "[CV 1/5] END gamma=scale, kernel=rbf, nu=0.01;, score=-32.017 total time=   0.0s\n",
      "[CV 2/5] END gamma=scale, kernel=rbf, nu=0.01;, score=-23.010 total time=   0.0s\n",
      "[CV 3/5] END gamma=scale, kernel=rbf, nu=0.01;, score=-35.021 total time=   0.0s\n",
      "[CV 4/5] END gamma=scale, kernel=rbf, nu=0.01;, score=-36.014 total time=   0.0s\n",
      "[CV 5/5] END gamma=scale, kernel=rbf, nu=0.01;, score=-25.024 total time=   0.0s\n",
      "[CV 1/5] END gamma=scale, kernel=rbf, nu=0.05;, score=-32.017 total time=   0.0s\n",
      "[CV 2/5] END gamma=scale, kernel=rbf, nu=0.05;, score=-23.010 total time=   0.0s\n",
      "[CV 3/5] END gamma=scale, kernel=rbf, nu=0.05;, score=-35.021 total time=   0.0s\n",
      "[CV 4/5] END gamma=scale, kernel=rbf, nu=0.05;, score=-37.014 total time=   0.0s\n",
      "[CV 5/5] END gamma=scale, kernel=rbf, nu=0.05;, score=-25.024 total time=   0.0s\n",
      "[CV 1/5] END .gamma=scale, kernel=rbf, nu=0.1;, score=-35.018 total time=   0.0s\n",
      "[CV 2/5] END .gamma=scale, kernel=rbf, nu=0.1;, score=-32.010 total time=   0.0s\n",
      "[CV 3/5] END .gamma=scale, kernel=rbf, nu=0.1;, score=-43.022 total time=   0.0s\n",
      "[CV 4/5] END .gamma=scale, kernel=rbf, nu=0.1;, score=-43.014 total time=   0.0s\n",
      "[CV 5/5] END .gamma=scale, kernel=rbf, nu=0.1;, score=-29.021 total time=   0.0s\n",
      "[CV 1/5] END .gamma=scale, kernel=rbf, nu=0.2;, score=-65.020 total time=   0.0s\n",
      "[CV 2/5] END .gamma=scale, kernel=rbf, nu=0.2;, score=-54.011 total time=   0.0s\n",
      "[CV 3/5] END .gamma=scale, kernel=rbf, nu=0.2;, score=-78.025 total time=   0.0s\n",
      "[CV 4/5] END .gamma=scale, kernel=rbf, nu=0.2;, score=-65.016 total time=   0.0s\n",
      "[CV 5/5] END .gamma=scale, kernel=rbf, nu=0.2;, score=-56.019 total time=   0.0s\n",
      "[CV 1/5] END .gamma=scale, kernel=rbf, nu=0.3;, score=-91.018 total time=   0.0s\n",
      "[CV 2/5] END .gamma=scale, kernel=rbf, nu=0.3;, score=-91.013 total time=   0.0s\n",
      "[CV 3/5] END gamma=scale, kernel=rbf, nu=0.3;, score=-106.028 total time=   0.0s\n",
      "[CV 4/5] END .gamma=scale, kernel=rbf, nu=0.3;, score=-98.014 total time=   0.0s\n",
      "[CV 5/5] END .gamma=scale, kernel=rbf, nu=0.3;, score=-90.018 total time=   0.0s\n",
      "[CV 1/5] END gamma=scale, kernel=rbf, nu=0.5;, score=-153.012 total time=   0.0s\n",
      "[CV 2/5] END gamma=scale, kernel=rbf, nu=0.5;, score=-139.006 total time=   0.0s\n",
      "[CV 3/5] END gamma=scale, kernel=rbf, nu=0.5;, score=-166.027 total time=   0.0s\n",
      "[CV 4/5] END gamma=scale, kernel=rbf, nu=0.5;, score=-164.013 total time=   0.0s\n",
      "[CV 5/5] END gamma=scale, kernel=rbf, nu=0.5;, score=-170.021 total time=   0.0s\n",
      "[CV 1/5] END gamma=scale, kernel=rbf, nu=0.7;, score=-212.019 total time=   0.0s\n",
      "[CV 2/5] END gamma=scale, kernel=rbf, nu=0.7;, score=-220.010 total time=   0.0s\n",
      "[CV 3/5] END gamma=scale, kernel=rbf, nu=0.7;, score=-219.011 total time=   0.0s\n",
      "[CV 4/5] END gamma=scale, kernel=rbf, nu=0.7;, score=-222.011 total time=   0.0s\n",
      "[CV 5/5] END gamma=scale, kernel=rbf, nu=0.7;, score=-222.022 total time=   0.0s\n",
      "[CV 1/5] END gamma=scale, kernel=rbf, nu=0.9;, score=-276.026 total time=   0.0s\n",
      "[CV 2/5] END gamma=scale, kernel=rbf, nu=0.9;, score=-288.000 total time=   0.0s\n",
      "[CV 3/5] END gamma=scale, kernel=rbf, nu=0.9;, score=-286.000 total time=   0.0s\n",
      "[CV 4/5] END gamma=scale, kernel=rbf, nu=0.9;, score=-286.033 total time=   0.0s\n",
      "[CV 5/5] END gamma=scale, kernel=rbf, nu=0.9;, score=-278.000 total time=   0.0s\n",
      "[CV 1/5] END gamma=scale, kernel=poly, nu=0.001;, score=-128.021 total time=   0.0s\n",
      "[CV 2/5] END gamma=scale, kernel=poly, nu=0.001;, score=-150.000 total time=   0.0s\n",
      "[CV 3/5] END gamma=scale, kernel=poly, nu=0.001;, score=-122.016 total time=   0.0s\n",
      "[CV 4/5] END gamma=scale, kernel=poly, nu=0.001;, score=-101.000 total time=   0.0s\n",
      "[CV 5/5] END gamma=scale, kernel=poly, nu=0.001;, score=-108.014 total time=   0.0s\n",
      "[CV 1/5] END gamma=scale, kernel=poly, nu=0.005;, score=-51.015 total time=   0.0s\n",
      "[CV 2/5] END gamma=scale, kernel=poly, nu=0.005;, score=-73.004 total time=   0.0s\n",
      "[CV 3/5] END gamma=scale, kernel=poly, nu=0.005;, score=-73.024 total time=   0.0s\n",
      "[CV 4/5] END gamma=scale, kernel=poly, nu=0.005;, score=-49.007 total time=   0.0s\n",
      "[CV 5/5] END gamma=scale, kernel=poly, nu=0.005;, score=-46.011 total time=   0.0s\n",
      "[CV 1/5] END gamma=scale, kernel=poly, nu=0.01;, score=-41.014 total time=   0.0s\n",
      "[CV 2/5] END gamma=scale, kernel=poly, nu=0.01;, score=-61.004 total time=   0.0s\n",
      "[CV 3/5] END gamma=scale, kernel=poly, nu=0.01;, score=-61.023 total time=   0.0s\n",
      "[CV 4/5] END gamma=scale, kernel=poly, nu=0.01;, score=-41.007 total time=   0.0s\n",
      "[CV 5/5] END gamma=scale, kernel=poly, nu=0.01;, score=-46.011 total time=   0.0s\n",
      "[CV 1/5] END gamma=scale, kernel=poly, nu=0.05;, score=-41.014 total time=   0.0s\n",
      "[CV 2/5] END gamma=scale, kernel=poly, nu=0.05;, score=-55.004 total time=   0.0s\n",
      "[CV 3/5] END gamma=scale, kernel=poly, nu=0.05;, score=-62.023 total time=   0.0s\n",
      "[CV 4/5] END gamma=scale, kernel=poly, nu=0.05;, score=-42.007 total time=   0.0s\n",
      "[CV 5/5] END gamma=scale, kernel=poly, nu=0.05;, score=-45.011 total time=   0.0s\n",
      "[CV 1/5] END gamma=scale, kernel=poly, nu=0.1;, score=-61.016 total time=   0.0s\n",
      "[CV 2/5] END gamma=scale, kernel=poly, nu=0.1;, score=-61.004 total time=   0.0s\n",
      "[CV 3/5] END gamma=scale, kernel=poly, nu=0.1;, score=-78.025 total time=   0.0s\n",
      "[CV 4/5] END gamma=scale, kernel=poly, nu=0.1;, score=-51.008 total time=   0.0s\n",
      "[CV 5/5] END gamma=scale, kernel=poly, nu=0.1;, score=-54.015 total time=   0.0s\n",
      "[CV 1/5] END gamma=scale, kernel=poly, nu=0.2;, score=-77.017 total time=   0.0s\n",
      "[CV 2/5] END gamma=scale, kernel=poly, nu=0.2;, score=-93.000 total time=   0.0s\n",
      "[CV 3/5] END gamma=scale, kernel=poly, nu=0.2;, score=-107.024 total time=   0.0s\n",
      "[CV 4/5] END gamma=scale, kernel=poly, nu=0.2;, score=-78.008 total time=   0.0s\n",
      "[CV 5/5] END gamma=scale, kernel=poly, nu=0.2;, score=-77.008 total time=   0.0s\n",
      "[CV 1/5] END gamma=scale, kernel=poly, nu=0.3;, score=-109.014 total time=   0.0s\n",
      "[CV 2/5] END gamma=scale, kernel=poly, nu=0.3;, score=-126.000 total time=   0.0s\n",
      "[CV 3/5] END gamma=scale, kernel=poly, nu=0.3;, score=-134.022 total time=   0.0s\n",
      "[CV 4/5] END gamma=scale, kernel=poly, nu=0.3;, score=-99.005 total time=   0.0s\n",
      "[CV 5/5] END gamma=scale, kernel=poly, nu=0.3;, score=-109.010 total time=   0.0s\n",
      "[CV 1/5] END gamma=scale, kernel=poly, nu=0.5;, score=-159.025 total time=   0.0s\n",
      "[CV 2/5] END gamma=scale, kernel=poly, nu=0.5;, score=-182.000 total time=   0.0s\n",
      "[CV 3/5] END gamma=scale, kernel=poly, nu=0.5;, score=-178.015 total time=   0.0s\n",
      "[CV 4/5] END gamma=scale, kernel=poly, nu=0.5;, score=-153.006 total time=   0.0s\n",
      "[CV 5/5] END gamma=scale, kernel=poly, nu=0.5;, score=-163.013 total time=   0.0s\n",
      "[CV 1/5] END gamma=scale, kernel=poly, nu=0.7;, score=-222.011 total time=   0.0s\n",
      "[CV 2/5] END gamma=scale, kernel=poly, nu=0.7;, score=-254.000 total time=   0.0s\n",
      "[CV 3/5] END gamma=scale, kernel=poly, nu=0.7;, score=-213.020 total time=   0.0s\n",
      "[CV 4/5] END gamma=scale, kernel=poly, nu=0.7;, score=-216.000 total time=   0.0s\n",
      "[CV 5/5] END gamma=scale, kernel=poly, nu=0.7;, score=-227.012 total time=   0.0s\n",
      "[CV 1/5] END gamma=scale, kernel=poly, nu=0.9;, score=-287.000 total time=   0.0s\n",
      "[CV 2/5] END gamma=scale, kernel=poly, nu=0.9;, score=-292.000 total time=   0.0s\n",
      "[CV 3/5] END gamma=scale, kernel=poly, nu=0.9;, score=-271.000 total time=   0.0s\n",
      "[CV 4/5] END gamma=scale, kernel=poly, nu=0.9;, score=-280.000 total time=   0.0s\n",
      "[CV 5/5] END gamma=scale, kernel=poly, nu=0.9;, score=-288.000 total time=   0.0s\n",
      "[CV 1/5] END gamma=scale, kernel=sigmoid, nu=0.001;, score=-0.013 total time=   0.0s\n",
      "[CV 2/5] END gamma=scale, kernel=sigmoid, nu=0.001;, score=0.991 total time=   0.0s\n",
      "[CV 3/5] END gamma=scale, kernel=sigmoid, nu=0.001;, score=-0.022 total time=   0.0s\n",
      "[CV 4/5] END gamma=scale, kernel=sigmoid, nu=0.001;, score=0.988 total time=   0.0s\n",
      "[CV 5/5] END gamma=scale, kernel=sigmoid, nu=0.001;, score=-0.022 total time=   0.0s\n",
      "[CV 1/5] END gamma=scale, kernel=sigmoid, nu=0.005;, score=-0.016 total time=   0.0s\n",
      "[CV 2/5] END gamma=scale, kernel=sigmoid, nu=0.005;, score=0.991 total time=   0.0s\n",
      "[CV 3/5] END gamma=scale, kernel=sigmoid, nu=0.005;, score=0.978 total time=   0.0s\n",
      "[CV 4/5] END gamma=scale, kernel=sigmoid, nu=0.005;, score=0.988 total time=   0.0s\n",
      "[CV 5/5] END gamma=scale, kernel=sigmoid, nu=0.005;, score=-1.022 total time=   0.0s\n",
      "[CV 1/5] END gamma=scale, kernel=sigmoid, nu=0.01;, score=0.984 total time=   0.0s\n",
      "[CV 2/5] END gamma=scale, kernel=sigmoid, nu=0.01;, score=-2.009 total time=   0.0s\n",
      "[CV 3/5] END gamma=scale, kernel=sigmoid, nu=0.01;, score=0.978 total time=   0.0s\n",
      "[CV 4/5] END gamma=scale, kernel=sigmoid, nu=0.01;, score=-4.013 total time=   0.0s\n",
      "[CV 5/5] END gamma=scale, kernel=sigmoid, nu=0.01;, score=-3.022 total time=   0.0s\n",
      "[CV 1/5] END gamma=scale, kernel=sigmoid, nu=0.05;, score=-12.016 total time=   0.0s\n",
      "[CV 2/5] END gamma=scale, kernel=sigmoid, nu=0.05;, score=-8.010 total time=   0.0s\n",
      "[CV 3/5] END gamma=scale, kernel=sigmoid, nu=0.05;, score=-7.022 total time=   0.0s\n",
      "[CV 4/5] END gamma=scale, kernel=sigmoid, nu=0.05;, score=-21.013 total time=   0.0s\n",
      "[CV 5/5] END gamma=scale, kernel=sigmoid, nu=0.05;, score=-17.023 total time=   0.0s\n",
      "[CV 1/5] END gamma=scale, kernel=sigmoid, nu=0.1;, score=-35.018 total time=   0.0s\n",
      "[CV 2/5] END gamma=scale, kernel=sigmoid, nu=0.1;, score=-24.010 total time=   0.0s\n",
      "[CV 3/5] END gamma=scale, kernel=sigmoid, nu=0.1;, score=-29.024 total time=   0.0s\n",
      "[CV 4/5] END gamma=scale, kernel=sigmoid, nu=0.1;, score=-33.014 total time=   0.0s\n",
      "[CV 5/5] END gamma=scale, kernel=sigmoid, nu=0.1;, score=-37.025 total time=   0.0s\n",
      "[CV 1/5] END gamma=scale, kernel=sigmoid, nu=0.2;, score=-62.019 total time=   0.0s\n",
      "[CV 2/5] END gamma=scale, kernel=sigmoid, nu=0.2;, score=-56.011 total time=   0.0s\n",
      "[CV 3/5] END gamma=scale, kernel=sigmoid, nu=0.2;, score=-64.027 total time=   0.0s\n",
      "[CV 4/5] END gamma=scale, kernel=sigmoid, nu=0.2;, score=-64.016 total time=   0.0s\n",
      "[CV 5/5] END gamma=scale, kernel=sigmoid, nu=0.2;, score=-64.027 total time=   0.0s\n",
      "[CV 1/5] END gamma=scale, kernel=sigmoid, nu=0.3;, score=-94.022 total time=   0.0s\n",
      "[CV 2/5] END gamma=scale, kernel=sigmoid, nu=0.3;, score=-84.013 total time=   0.0s\n",
      "[CV 3/5] END gamma=scale, kernel=sigmoid, nu=0.3;, score=-95.031 total time=   0.0s\n",
      "[CV 4/5] END gamma=scale, kernel=sigmoid, nu=0.3;, score=-95.018 total time=   0.0s\n",
      "[CV 5/5] END gamma=scale, kernel=sigmoid, nu=0.3;, score=-109.033 total time=   0.0s\n",
      "[CV 1/5] END gamma=scale, kernel=sigmoid, nu=0.5;, score=-165.032 total time=   0.0s\n",
      "[CV 2/5] END gamma=scale, kernel=sigmoid, nu=0.5;, score=-146.017 total time=   0.0s\n",
      "[CV 3/5] END gamma=scale, kernel=sigmoid, nu=0.5;, score=-159.038 total time=   0.0s\n",
      "[CV 4/5] END gamma=scale, kernel=sigmoid, nu=0.5;, score=-165.026 total time=   0.0s\n",
      "[CV 5/5] END gamma=scale, kernel=sigmoid, nu=0.5;, score=-165.045 total time=   0.0s\n",
      "[CV 1/5] END gamma=scale, kernel=sigmoid, nu=0.7;, score=-230.023 total time=   0.0s\n",
      "[CV 2/5] END gamma=scale, kernel=sigmoid, nu=0.7;, score=-215.029 total time=   0.0s\n",
      "[CV 3/5] END gamma=scale, kernel=sigmoid, nu=0.7;, score=-210.038 total time=   0.0s\n",
      "[CV 4/5] END gamma=scale, kernel=sigmoid, nu=0.7;, score=-233.035 total time=   0.0s\n",
      "[CV 5/5] END gamma=scale, kernel=sigmoid, nu=0.7;, score=-226.055 total time=   0.0s\n",
      "[CV 1/5] END gamma=scale, kernel=sigmoid, nu=0.9;, score=-291.042 total time=   0.0s\n",
      "[CV 2/5] END gamma=scale, kernel=sigmoid, nu=0.9;, score=-284.059 total time=   0.0s\n",
      "[CV 3/5] END gamma=scale, kernel=sigmoid, nu=0.9;, score=-271.024 total time=   0.0s\n",
      "[CV 4/5] END gamma=scale, kernel=sigmoid, nu=0.9;, score=-289.071 total time=   0.0s\n",
      "[CV 5/5] END gamma=scale, kernel=sigmoid, nu=0.9;, score=-282.118 total time=   0.0s\n",
      "[CV 1/5] END gamma=auto, kernel=linear, nu=0.001;, score=-169.000 total time=   0.0s\n",
      "[CV 2/5] END gamma=auto, kernel=linear, nu=0.001;, score=-94.013 total time=   0.0s\n",
      "[CV 3/5] END gamma=auto, kernel=linear, nu=0.001;, score=-126.031 total time=   0.0s\n",
      "[CV 4/5] END gamma=auto, kernel=linear, nu=0.001;, score=-83.009 total time=   0.0s\n",
      "[CV 5/5] END gamma=auto, kernel=linear, nu=0.001;, score=-77.025 total time=   0.0s\n",
      "[CV 1/5] END gamma=auto, kernel=linear, nu=0.005;, score=-254.000 total time=   0.0s\n",
      "[CV 2/5] END gamma=auto, kernel=linear, nu=0.005;, score=-45.007 total time=   0.0s\n",
      "[CV 3/5] END gamma=auto, kernel=linear, nu=0.005;, score=-120.020 total time=   0.0s\n",
      "[CV 4/5] END gamma=auto, kernel=linear, nu=0.005;, score=-123.015 total time=   0.0s\n",
      "[CV 5/5] END gamma=auto, kernel=linear, nu=0.005;, score=-95.031 total time=   0.0s\n",
      "[CV 1/5] END gamma=auto, kernel=linear, nu=0.01;, score=-150.000 total time=   0.0s\n",
      "[CV 2/5] END gamma=auto, kernel=linear, nu=0.01;, score=-228.011 total time=   0.0s\n",
      "[CV 3/5] END gamma=auto, kernel=linear, nu=0.01;, score=-225.033 total time=   0.0s\n",
      "[CV 4/5] END gamma=auto, kernel=linear, nu=0.01;, score=-218.010 total time=   0.0s\n",
      "[CV 5/5] END gamma=auto, kernel=linear, nu=0.01;, score=-178.007 total time=   0.0s\n",
      "[CV 1/5] END gamma=auto, kernel=linear, nu=0.05;, score=-262.000 total time=   0.0s\n",
      "[CV 2/5] END gamma=auto, kernel=linear, nu=0.05;, score=-205.000 total time=   0.0s\n",
      "[CV 3/5] END gamma=auto, kernel=linear, nu=0.05;, score=-246.029 total time=   0.0s\n",
      "[CV 4/5] END gamma=auto, kernel=linear, nu=0.05;, score=-279.000 total time=   0.0s\n",
      "[CV 5/5] END gamma=auto, kernel=linear, nu=0.05;, score=-120.020 total time=   0.0s\n",
      "[CV 1/5] END gamma=auto, kernel=linear, nu=0.1;, score=-264.000 total time=   0.0s\n",
      "[CV 2/5] END gamma=auto, kernel=linear, nu=0.1;, score=-112.014 total time=   0.0s\n",
      "[CV 3/5] END gamma=auto, kernel=linear, nu=0.1;, score=-214.020 total time=   0.0s\n",
      "[CV 4/5] END gamma=auto, kernel=linear, nu=0.1;, score=-262.019 total time=   0.0s\n",
      "[CV 5/5] END gamma=auto, kernel=linear, nu=0.1;, score=-32.018 total time=   0.0s\n",
      "[CV 1/5] END gamma=auto, kernel=linear, nu=0.2;, score=-270.000 total time=   0.0s\n",
      "[CV 2/5] END gamma=auto, kernel=linear, nu=0.2;, score=-289.000 total time=   0.0s\n",
      "[CV 3/5] END gamma=auto, kernel=linear, nu=0.2;, score=-287.038 total time=   0.0s\n",
      "[CV 4/5] END gamma=auto, kernel=linear, nu=0.2;, score=-259.018 total time=   0.0s\n",
      "[CV 5/5] END gamma=auto, kernel=linear, nu=0.2;, score=-64.024 total time=   0.0s\n",
      "[CV 1/5] END gamma=auto, kernel=linear, nu=0.3;, score=-275.000 total time=   0.0s\n",
      "[CV 2/5] END gamma=auto, kernel=linear, nu=0.3;, score=-287.000 total time=   0.0s\n",
      "[CV 3/5] END gamma=auto, kernel=linear, nu=0.3;, score=-228.023 total time=   0.0s\n",
      "[CV 4/5] END gamma=auto, kernel=linear, nu=0.3;, score=-282.000 total time=   0.0s\n",
      "[CV 5/5] END gamma=auto, kernel=linear, nu=0.3;, score=-123.021 total time=   0.0s\n",
      "[CV 1/5] END gamma=auto, kernel=linear, nu=0.5;, score=-292.000 total time=   0.0s\n",
      "[CV 2/5] END gamma=auto, kernel=linear, nu=0.5;, score=-253.000 total time=   0.0s\n",
      "[CV 3/5] END gamma=auto, kernel=linear, nu=0.5;, score=-248.015 total time=   0.0s\n",
      "[CV 4/5] END gamma=auto, kernel=linear, nu=0.5;, score=-224.011 total time=   0.0s\n",
      "[CV 5/5] END gamma=auto, kernel=linear, nu=0.5;, score=-251.032 total time=   0.0s\n",
      "[CV 1/5] END gamma=auto, kernel=linear, nu=0.7;, score=-299.000 total time=   0.0s\n",
      "[CV 2/5] END gamma=auto, kernel=linear, nu=0.7;, score=-109.005 total time=   0.0s\n",
      "[CV 3/5] END gamma=auto, kernel=linear, nu=0.7;, score=-265.021 total time=   0.0s\n",
      "[CV 4/5] END gamma=auto, kernel=linear, nu=0.7;, score=-226.011 total time=   0.0s\n",
      "[CV 5/5] END gamma=auto, kernel=linear, nu=0.7;, score=-289.000 total time=   0.0s\n",
      "[CV 1/5] END gamma=auto, kernel=linear, nu=0.9;, score=-293.000 total time=   0.0s\n",
      "[CV 2/5] END gamma=auto, kernel=linear, nu=0.9;, score=-246.014 total time=   0.0s\n",
      "[CV 3/5] END gamma=auto, kernel=linear, nu=0.9;, score=-200.018 total time=   0.0s\n",
      "[CV 4/5] END gamma=auto, kernel=linear, nu=0.9;, score=-164.013 total time=   0.0s\n",
      "[CV 5/5] END gamma=auto, kernel=linear, nu=0.9;, score=-274.026 total time=   0.0s\n",
      "[CV 1/5] END gamma=auto, kernel=rbf, nu=0.001;, score=-34.018 total time=   0.0s\n",
      "[CV 2/5] END gamma=auto, kernel=rbf, nu=0.001;, score=-24.010 total time=   0.0s\n",
      "[CV 3/5] END gamma=auto, kernel=rbf, nu=0.001;, score=-34.021 total time=   0.0s\n",
      "[CV 4/5] END gamma=auto, kernel=rbf, nu=0.001;, score=-34.014 total time=   0.0s\n",
      "[CV 5/5] END gamma=auto, kernel=rbf, nu=0.001;, score=-27.024 total time=   0.0s\n",
      "[CV 1/5] END gamma=auto, kernel=rbf, nu=0.005;, score=-33.017 total time=   0.0s\n",
      "[CV 2/5] END gamma=auto, kernel=rbf, nu=0.005;, score=-25.010 total time=   0.0s\n",
      "[CV 3/5] END gamma=auto, kernel=rbf, nu=0.005;, score=-34.021 total time=   0.0s\n",
      "[CV 4/5] END gamma=auto, kernel=rbf, nu=0.005;, score=-35.014 total time=   0.0s\n",
      "[CV 5/5] END gamma=auto, kernel=rbf, nu=0.005;, score=-27.024 total time=   0.0s\n",
      "[CV 1/5] END .gamma=auto, kernel=rbf, nu=0.01;, score=-33.017 total time=   0.0s\n",
      "[CV 2/5] END .gamma=auto, kernel=rbf, nu=0.01;, score=-25.010 total time=   0.0s\n",
      "[CV 3/5] END .gamma=auto, kernel=rbf, nu=0.01;, score=-34.021 total time=   0.0s\n",
      "[CV 4/5] END .gamma=auto, kernel=rbf, nu=0.01;, score=-35.014 total time=   0.0s\n",
      "[CV 5/5] END .gamma=auto, kernel=rbf, nu=0.01;, score=-27.024 total time=   0.0s\n",
      "[CV 1/5] END .gamma=auto, kernel=rbf, nu=0.05;, score=-33.017 total time=   0.0s\n",
      "[CV 2/5] END .gamma=auto, kernel=rbf, nu=0.05;, score=-25.010 total time=   0.0s\n",
      "[CV 3/5] END .gamma=auto, kernel=rbf, nu=0.05;, score=-34.021 total time=   0.0s\n",
      "[CV 4/5] END .gamma=auto, kernel=rbf, nu=0.05;, score=-35.014 total time=   0.0s\n",
      "[CV 5/5] END .gamma=auto, kernel=rbf, nu=0.05;, score=-27.024 total time=   0.0s\n",
      "[CV 1/5] END ..gamma=auto, kernel=rbf, nu=0.1;, score=-36.018 total time=   0.0s\n",
      "[CV 2/5] END ..gamma=auto, kernel=rbf, nu=0.1;, score=-32.010 total time=   0.0s\n",
      "[CV 3/5] END ..gamma=auto, kernel=rbf, nu=0.1;, score=-42.022 total time=   0.0s\n",
      "[CV 4/5] END ..gamma=auto, kernel=rbf, nu=0.1;, score=-40.014 total time=   0.0s\n",
      "[CV 5/5] END ..gamma=auto, kernel=rbf, nu=0.1;, score=-29.021 total time=   0.0s\n",
      "[CV 1/5] END ..gamma=auto, kernel=rbf, nu=0.2;, score=-65.020 total time=   0.0s\n",
      "[CV 2/5] END ..gamma=auto, kernel=rbf, nu=0.2;, score=-54.011 total time=   0.0s\n",
      "[CV 3/5] END ..gamma=auto, kernel=rbf, nu=0.2;, score=-78.025 total time=   0.0s\n",
      "[CV 4/5] END ..gamma=auto, kernel=rbf, nu=0.2;, score=-64.016 total time=   0.0s\n",
      "[CV 5/5] END ..gamma=auto, kernel=rbf, nu=0.2;, score=-57.019 total time=   0.0s\n",
      "[CV 1/5] END ..gamma=auto, kernel=rbf, nu=0.3;, score=-91.018 total time=   0.0s\n",
      "[CV 2/5] END ..gamma=auto, kernel=rbf, nu=0.3;, score=-91.013 total time=   0.0s\n",
      "[CV 3/5] END .gamma=auto, kernel=rbf, nu=0.3;, score=-106.028 total time=   0.0s\n",
      "[CV 4/5] END ..gamma=auto, kernel=rbf, nu=0.3;, score=-98.014 total time=   0.0s\n",
      "[CV 5/5] END ..gamma=auto, kernel=rbf, nu=0.3;, score=-91.018 total time=   0.0s\n",
      "[CV 1/5] END .gamma=auto, kernel=rbf, nu=0.5;, score=-151.012 total time=   0.0s\n",
      "[CV 2/5] END .gamma=auto, kernel=rbf, nu=0.5;, score=-139.006 total time=   0.0s\n",
      "[CV 3/5] END .gamma=auto, kernel=rbf, nu=0.5;, score=-166.027 total time=   0.0s\n",
      "[CV 4/5] END .gamma=auto, kernel=rbf, nu=0.5;, score=-164.013 total time=   0.0s\n",
      "[CV 5/5] END .gamma=auto, kernel=rbf, nu=0.5;, score=-168.020 total time=   0.0s\n",
      "[CV 1/5] END .gamma=auto, kernel=rbf, nu=0.7;, score=-212.019 total time=   0.0s\n",
      "[CV 2/5] END .gamma=auto, kernel=rbf, nu=0.7;, score=-221.010 total time=   0.0s\n",
      "[CV 3/5] END .gamma=auto, kernel=rbf, nu=0.7;, score=-219.011 total time=   0.0s\n",
      "[CV 4/5] END .gamma=auto, kernel=rbf, nu=0.7;, score=-222.011 total time=   0.0s\n",
      "[CV 5/5] END .gamma=auto, kernel=rbf, nu=0.7;, score=-222.022 total time=   0.0s\n",
      "[CV 1/5] END .gamma=auto, kernel=rbf, nu=0.9;, score=-276.026 total time=   0.0s\n",
      "[CV 2/5] END .gamma=auto, kernel=rbf, nu=0.9;, score=-288.000 total time=   0.0s\n",
      "[CV 3/5] END .gamma=auto, kernel=rbf, nu=0.9;, score=-287.000 total time=   0.0s\n",
      "[CV 4/5] END .gamma=auto, kernel=rbf, nu=0.9;, score=-286.033 total time=   0.0s\n",
      "[CV 5/5] END .gamma=auto, kernel=rbf, nu=0.9;, score=-278.000 total time=   0.0s\n",
      "[CV 1/5] END gamma=auto, kernel=poly, nu=0.001;, score=-119.020 total time=   0.0s\n",
      "[CV 2/5] END gamma=auto, kernel=poly, nu=0.001;, score=-154.000 total time=   0.0s\n",
      "[CV 3/5] END gamma=auto, kernel=poly, nu=0.001;, score=-147.018 total time=   0.0s\n",
      "[CV 4/5] END gamma=auto, kernel=poly, nu=0.001;, score=-103.005 total time=   0.0s\n",
      "[CV 5/5] END gamma=auto, kernel=poly, nu=0.001;, score=-123.016 total time=   0.0s\n",
      "[CV 1/5] END gamma=auto, kernel=poly, nu=0.005;, score=-47.015 total time=   0.0s\n",
      "[CV 2/5] END gamma=auto, kernel=poly, nu=0.005;, score=-70.000 total time=   0.0s\n",
      "[CV 3/5] END gamma=auto, kernel=poly, nu=0.005;, score=-74.025 total time=   0.0s\n",
      "[CV 4/5] END gamma=auto, kernel=poly, nu=0.005;, score=-50.007 total time=   0.0s\n",
      "[CV 5/5] END gamma=auto, kernel=poly, nu=0.005;, score=-55.012 total time=   0.0s\n",
      "[CV 1/5] END gamma=auto, kernel=poly, nu=0.01;, score=-39.014 total time=   0.0s\n",
      "[CV 2/5] END gamma=auto, kernel=poly, nu=0.01;, score=-62.004 total time=   0.0s\n",
      "[CV 3/5] END gamma=auto, kernel=poly, nu=0.01;, score=-62.023 total time=   0.0s\n",
      "[CV 4/5] END gamma=auto, kernel=poly, nu=0.01;, score=-43.007 total time=   0.0s\n",
      "[CV 5/5] END gamma=auto, kernel=poly, nu=0.01;, score=-44.011 total time=   0.0s\n",
      "[CV 1/5] END gamma=auto, kernel=poly, nu=0.05;, score=-40.014 total time=   0.0s\n",
      "[CV 2/5] END gamma=auto, kernel=poly, nu=0.05;, score=-55.004 total time=   0.0s\n",
      "[CV 3/5] END gamma=auto, kernel=poly, nu=0.05;, score=-63.024 total time=   0.0s\n",
      "[CV 4/5] END gamma=auto, kernel=poly, nu=0.05;, score=-42.007 total time=   0.0s\n",
      "[CV 5/5] END gamma=auto, kernel=poly, nu=0.05;, score=-46.011 total time=   0.0s\n",
      "[CV 1/5] END .gamma=auto, kernel=poly, nu=0.1;, score=-61.016 total time=   0.0s\n",
      "[CV 2/5] END .gamma=auto, kernel=poly, nu=0.1;, score=-62.004 total time=   0.0s\n",
      "[CV 3/5] END .gamma=auto, kernel=poly, nu=0.1;, score=-78.025 total time=   0.0s\n",
      "[CV 4/5] END .gamma=auto, kernel=poly, nu=0.1;, score=-51.008 total time=   0.0s\n",
      "[CV 5/5] END .gamma=auto, kernel=poly, nu=0.1;, score=-54.015 total time=   0.0s\n",
      "[CV 1/5] END .gamma=auto, kernel=poly, nu=0.2;, score=-77.017 total time=   0.0s\n",
      "[CV 2/5] END .gamma=auto, kernel=poly, nu=0.2;, score=-93.000 total time=   0.0s\n",
      "[CV 3/5] END gamma=auto, kernel=poly, nu=0.2;, score=-107.024 total time=   0.0s\n",
      "[CV 4/5] END .gamma=auto, kernel=poly, nu=0.2;, score=-79.008 total time=   0.0s\n",
      "[CV 5/5] END .gamma=auto, kernel=poly, nu=0.2;, score=-77.008 total time=   0.0s\n",
      "[CV 1/5] END gamma=auto, kernel=poly, nu=0.3;, score=-109.014 total time=   0.0s\n",
      "[CV 2/5] END gamma=auto, kernel=poly, nu=0.3;, score=-126.000 total time=   0.0s\n",
      "[CV 3/5] END gamma=auto, kernel=poly, nu=0.3;, score=-134.022 total time=   0.0s\n",
      "[CV 4/5] END .gamma=auto, kernel=poly, nu=0.3;, score=-99.005 total time=   0.0s\n",
      "[CV 5/5] END gamma=auto, kernel=poly, nu=0.3;, score=-109.010 total time=   0.0s\n",
      "[CV 1/5] END gamma=auto, kernel=poly, nu=0.5;, score=-159.025 total time=   0.0s\n",
      "[CV 2/5] END gamma=auto, kernel=poly, nu=0.5;, score=-182.000 total time=   0.0s\n",
      "[CV 3/5] END gamma=auto, kernel=poly, nu=0.5;, score=-178.015 total time=   0.0s\n",
      "[CV 4/5] END gamma=auto, kernel=poly, nu=0.5;, score=-153.006 total time=   0.0s\n",
      "[CV 5/5] END gamma=auto, kernel=poly, nu=0.5;, score=-163.013 total time=   0.0s\n",
      "[CV 1/5] END gamma=auto, kernel=poly, nu=0.7;, score=-222.011 total time=   0.0s\n",
      "[CV 2/5] END gamma=auto, kernel=poly, nu=0.7;, score=-254.000 total time=   0.0s\n",
      "[CV 3/5] END gamma=auto, kernel=poly, nu=0.7;, score=-213.020 total time=   0.0s\n",
      "[CV 4/5] END gamma=auto, kernel=poly, nu=0.7;, score=-216.000 total time=   0.0s\n",
      "[CV 5/5] END gamma=auto, kernel=poly, nu=0.7;, score=-227.012 total time=   0.0s\n",
      "[CV 1/5] END gamma=auto, kernel=poly, nu=0.9;, score=-287.000 total time=   0.0s\n",
      "[CV 2/5] END gamma=auto, kernel=poly, nu=0.9;, score=-292.000 total time=   0.0s\n",
      "[CV 3/5] END gamma=auto, kernel=poly, nu=0.9;, score=-271.000 total time=   0.0s\n",
      "[CV 4/5] END gamma=auto, kernel=poly, nu=0.9;, score=-280.000 total time=   0.0s\n",
      "[CV 5/5] END gamma=auto, kernel=poly, nu=0.9;, score=-288.000 total time=   0.0s\n",
      "[CV 1/5] END gamma=auto, kernel=sigmoid, nu=0.001;, score=0.984 total time=   0.0s\n",
      "[CV 2/5] END gamma=auto, kernel=sigmoid, nu=0.001;, score=0.991 total time=   0.0s\n",
      "[CV 3/5] END gamma=auto, kernel=sigmoid, nu=0.001;, score=-0.022 total time=   0.0s\n",
      "[CV 4/5] END gamma=auto, kernel=sigmoid, nu=0.001;, score=-2.013 total time=   0.0s\n",
      "[CV 5/5] END gamma=auto, kernel=sigmoid, nu=0.001;, score=0.978 total time=   0.0s\n",
      "[CV 1/5] END gamma=auto, kernel=sigmoid, nu=0.005;, score=0.984 total time=   0.0s\n",
      "[CV 2/5] END gamma=auto, kernel=sigmoid, nu=0.005;, score=0.991 total time=   0.0s\n",
      "[CV 3/5] END gamma=auto, kernel=sigmoid, nu=0.005;, score=0.978 total time=   0.0s\n",
      "[CV 4/5] END gamma=auto, kernel=sigmoid, nu=0.005;, score=-1.013 total time=   0.0s\n",
      "[CV 5/5] END gamma=auto, kernel=sigmoid, nu=0.005;, score=-2.022 total time=   0.0s\n",
      "[CV 1/5] END gamma=auto, kernel=sigmoid, nu=0.01;, score=0.984 total time=   0.0s\n",
      "[CV 2/5] END gamma=auto, kernel=sigmoid, nu=0.01;, score=-2.009 total time=   0.0s\n",
      "[CV 3/5] END gamma=auto, kernel=sigmoid, nu=0.01;, score=-0.022 total time=   0.0s\n",
      "[CV 4/5] END gamma=auto, kernel=sigmoid, nu=0.01;, score=-5.013 total time=   0.0s\n",
      "[CV 5/5] END gamma=auto, kernel=sigmoid, nu=0.01;, score=-2.022 total time=   0.0s\n",
      "[CV 1/5] END gamma=auto, kernel=sigmoid, nu=0.05;, score=-11.016 total time=   0.0s\n",
      "[CV 2/5] END gamma=auto, kernel=sigmoid, nu=0.05;, score=-7.010 total time=   0.0s\n",
      "[CV 3/5] END gamma=auto, kernel=sigmoid, nu=0.05;, score=-10.023 total time=   0.0s\n",
      "[CV 4/5] END gamma=auto, kernel=sigmoid, nu=0.05;, score=-24.014 total time=   0.0s\n",
      "[CV 5/5] END gamma=auto, kernel=sigmoid, nu=0.05;, score=-17.023 total time=   0.0s\n",
      "[CV 1/5] END gamma=auto, kernel=sigmoid, nu=0.1;, score=-37.018 total time=   0.0s\n",
      "[CV 2/5] END gamma=auto, kernel=sigmoid, nu=0.1;, score=-23.010 total time=   0.0s\n",
      "[CV 3/5] END gamma=auto, kernel=sigmoid, nu=0.1;, score=-27.024 total time=   0.0s\n",
      "[CV 4/5] END gamma=auto, kernel=sigmoid, nu=0.1;, score=-36.014 total time=   0.0s\n",
      "[CV 5/5] END gamma=auto, kernel=sigmoid, nu=0.1;, score=-38.025 total time=   0.0s\n",
      "[CV 1/5] END gamma=auto, kernel=sigmoid, nu=0.2;, score=-64.020 total time=   0.0s\n",
      "[CV 2/5] END gamma=auto, kernel=sigmoid, nu=0.2;, score=-57.011 total time=   0.0s\n",
      "[CV 3/5] END gamma=auto, kernel=sigmoid, nu=0.2;, score=-65.028 total time=   0.0s\n",
      "[CV 4/5] END gamma=auto, kernel=sigmoid, nu=0.2;, score=-63.016 total time=   0.0s\n",
      "[CV 5/5] END gamma=auto, kernel=sigmoid, nu=0.2;, score=-64.027 total time=   0.0s\n",
      "[CV 1/5] END gamma=auto, kernel=sigmoid, nu=0.3;, score=-95.022 total time=   0.0s\n",
      "[CV 2/5] END gamma=auto, kernel=sigmoid, nu=0.3;, score=-82.013 total time=   0.0s\n",
      "[CV 3/5] END gamma=auto, kernel=sigmoid, nu=0.3;, score=-95.031 total time=   0.0s\n",
      "[CV 4/5] END gamma=auto, kernel=sigmoid, nu=0.3;, score=-95.018 total time=   0.0s\n",
      "[CV 5/5] END gamma=auto, kernel=sigmoid, nu=0.3;, score=-108.033 total time=   0.0s\n",
      "[CV 1/5] END gamma=auto, kernel=sigmoid, nu=0.5;, score=-166.033 total time=   0.0s\n",
      "[CV 2/5] END gamma=auto, kernel=sigmoid, nu=0.5;, score=-146.017 total time=   0.0s\n",
      "[CV 3/5] END gamma=auto, kernel=sigmoid, nu=0.5;, score=-158.037 total time=   0.0s\n",
      "[CV 4/5] END gamma=auto, kernel=sigmoid, nu=0.5;, score=-164.026 total time=   0.0s\n",
      "[CV 5/5] END gamma=auto, kernel=sigmoid, nu=0.5;, score=-164.045 total time=   0.0s\n",
      "[CV 1/5] END gamma=auto, kernel=sigmoid, nu=0.7;, score=-231.024 total time=   0.0s\n",
      "[CV 2/5] END gamma=auto, kernel=sigmoid, nu=0.7;, score=-216.029 total time=   0.0s\n",
      "[CV 3/5] END gamma=auto, kernel=sigmoid, nu=0.7;, score=-209.037 total time=   0.0s\n",
      "[CV 4/5] END gamma=auto, kernel=sigmoid, nu=0.7;, score=-230.034 total time=   0.0s\n",
      "[CV 5/5] END gamma=auto, kernel=sigmoid, nu=0.7;, score=-224.054 total time=   0.0s\n",
      "[CV 1/5] END gamma=auto, kernel=sigmoid, nu=0.9;, score=-293.045 total time=   0.0s\n",
      "[CV 2/5] END gamma=auto, kernel=sigmoid, nu=0.9;, score=-283.057 total time=   0.0s\n",
      "[CV 3/5] END gamma=auto, kernel=sigmoid, nu=0.9;, score=-269.023 total time=   0.0s\n",
      "[CV 4/5] END gamma=auto, kernel=sigmoid, nu=0.9;, score=-289.071 total time=   0.0s\n",
      "[CV 5/5] END gamma=auto, kernel=sigmoid, nu=0.9;, score=-284.125 total time=   0.0s\n",
      "[CV 1/5] END gamma=0.1, kernel=linear, nu=0.001;, score=-169.000 total time=   0.0s\n",
      "[CV 2/5] END gamma=0.1, kernel=linear, nu=0.001;, score=-94.013 total time=   0.0s\n",
      "[CV 3/5] END gamma=0.1, kernel=linear, nu=0.001;, score=-126.031 total time=   0.0s\n",
      "[CV 4/5] END gamma=0.1, kernel=linear, nu=0.001;, score=-83.009 total time=   0.0s\n",
      "[CV 5/5] END gamma=0.1, kernel=linear, nu=0.001;, score=-77.025 total time=   0.0s\n",
      "[CV 1/5] END gamma=0.1, kernel=linear, nu=0.005;, score=-254.000 total time=   0.0s\n",
      "[CV 2/5] END gamma=0.1, kernel=linear, nu=0.005;, score=-45.007 total time=   0.0s\n",
      "[CV 3/5] END gamma=0.1, kernel=linear, nu=0.005;, score=-120.020 total time=   0.0s\n",
      "[CV 4/5] END gamma=0.1, kernel=linear, nu=0.005;, score=-123.015 total time=   0.0s\n",
      "[CV 5/5] END gamma=0.1, kernel=linear, nu=0.005;, score=-95.031 total time=   0.0s\n",
      "[CV 1/5] END gamma=0.1, kernel=linear, nu=0.01;, score=-150.000 total time=   0.0s\n",
      "[CV 2/5] END gamma=0.1, kernel=linear, nu=0.01;, score=-228.011 total time=   0.0s\n",
      "[CV 3/5] END gamma=0.1, kernel=linear, nu=0.01;, score=-225.033 total time=   0.0s\n",
      "[CV 4/5] END gamma=0.1, kernel=linear, nu=0.01;, score=-218.010 total time=   0.0s\n",
      "[CV 5/5] END gamma=0.1, kernel=linear, nu=0.01;, score=-178.007 total time=   0.0s\n",
      "[CV 1/5] END gamma=0.1, kernel=linear, nu=0.05;, score=-262.000 total time=   0.0s\n",
      "[CV 2/5] END gamma=0.1, kernel=linear, nu=0.05;, score=-205.000 total time=   0.0s\n",
      "[CV 3/5] END gamma=0.1, kernel=linear, nu=0.05;, score=-246.029 total time=   0.0s\n",
      "[CV 4/5] END gamma=0.1, kernel=linear, nu=0.05;, score=-279.000 total time=   0.0s\n",
      "[CV 5/5] END gamma=0.1, kernel=linear, nu=0.05;, score=-120.020 total time=   0.0s\n",
      "[CV 1/5] END gamma=0.1, kernel=linear, nu=0.1;, score=-264.000 total time=   0.0s\n",
      "[CV 2/5] END gamma=0.1, kernel=linear, nu=0.1;, score=-112.014 total time=   0.0s\n",
      "[CV 3/5] END gamma=0.1, kernel=linear, nu=0.1;, score=-214.020 total time=   0.0s\n",
      "[CV 4/5] END gamma=0.1, kernel=linear, nu=0.1;, score=-262.019 total time=   0.0s\n",
      "[CV 5/5] END gamma=0.1, kernel=linear, nu=0.1;, score=-32.018 total time=   0.0s\n",
      "[CV 1/5] END gamma=0.1, kernel=linear, nu=0.2;, score=-270.000 total time=   0.0s\n",
      "[CV 2/5] END gamma=0.1, kernel=linear, nu=0.2;, score=-289.000 total time=   0.0s\n",
      "[CV 3/5] END gamma=0.1, kernel=linear, nu=0.2;, score=-287.038 total time=   0.0s\n",
      "[CV 4/5] END gamma=0.1, kernel=linear, nu=0.2;, score=-259.018 total time=   0.0s\n",
      "[CV 5/5] END gamma=0.1, kernel=linear, nu=0.2;, score=-64.024 total time=   0.0s\n",
      "[CV 1/5] END gamma=0.1, kernel=linear, nu=0.3;, score=-275.000 total time=   0.0s\n",
      "[CV 2/5] END gamma=0.1, kernel=linear, nu=0.3;, score=-287.000 total time=   0.0s\n",
      "[CV 3/5] END gamma=0.1, kernel=linear, nu=0.3;, score=-228.023 total time=   0.0s\n",
      "[CV 4/5] END gamma=0.1, kernel=linear, nu=0.3;, score=-282.000 total time=   0.0s\n",
      "[CV 5/5] END gamma=0.1, kernel=linear, nu=0.3;, score=-123.021 total time=   0.0s\n",
      "[CV 1/5] END gamma=0.1, kernel=linear, nu=0.5;, score=-292.000 total time=   0.0s\n",
      "[CV 2/5] END gamma=0.1, kernel=linear, nu=0.5;, score=-253.000 total time=   0.0s\n",
      "[CV 3/5] END gamma=0.1, kernel=linear, nu=0.5;, score=-248.015 total time=   0.0s\n",
      "[CV 4/5] END gamma=0.1, kernel=linear, nu=0.5;, score=-224.011 total time=   0.0s\n",
      "[CV 5/5] END gamma=0.1, kernel=linear, nu=0.5;, score=-251.032 total time=   0.0s\n",
      "[CV 1/5] END gamma=0.1, kernel=linear, nu=0.7;, score=-299.000 total time=   0.0s\n",
      "[CV 2/5] END gamma=0.1, kernel=linear, nu=0.7;, score=-109.005 total time=   0.0s\n",
      "[CV 3/5] END gamma=0.1, kernel=linear, nu=0.7;, score=-265.021 total time=   0.0s\n",
      "[CV 4/5] END gamma=0.1, kernel=linear, nu=0.7;, score=-226.011 total time=   0.0s\n",
      "[CV 5/5] END gamma=0.1, kernel=linear, nu=0.7;, score=-289.000 total time=   0.0s\n",
      "[CV 1/5] END gamma=0.1, kernel=linear, nu=0.9;, score=-293.000 total time=   0.0s\n",
      "[CV 2/5] END gamma=0.1, kernel=linear, nu=0.9;, score=-246.014 total time=   0.0s\n",
      "[CV 3/5] END gamma=0.1, kernel=linear, nu=0.9;, score=-200.018 total time=   0.0s\n",
      "[CV 4/5] END gamma=0.1, kernel=linear, nu=0.9;, score=-164.013 total time=   0.0s\n",
      "[CV 5/5] END gamma=0.1, kernel=linear, nu=0.9;, score=-274.026 total time=   0.0s\n",
      "[CV 1/5] END .gamma=0.1, kernel=rbf, nu=0.001;, score=-44.015 total time=   0.0s\n",
      "[CV 2/5] END .gamma=0.1, kernel=rbf, nu=0.001;, score=-42.011 total time=   0.0s\n",
      "[CV 3/5] END .gamma=0.1, kernel=rbf, nu=0.001;, score=-61.023 total time=   0.0s\n",
      "[CV 4/5] END .gamma=0.1, kernel=rbf, nu=0.001;, score=-52.015 total time=   0.0s\n",
      "[CV 5/5] END .gamma=0.1, kernel=rbf, nu=0.001;, score=-42.015 total time=   0.0s\n",
      "[CV 1/5] END .gamma=0.1, kernel=rbf, nu=0.005;, score=-44.015 total time=   0.0s\n",
      "[CV 2/5] END .gamma=0.1, kernel=rbf, nu=0.005;, score=-40.011 total time=   0.0s\n",
      "[CV 3/5] END .gamma=0.1, kernel=rbf, nu=0.005;, score=-61.023 total time=   0.0s\n",
      "[CV 4/5] END .gamma=0.1, kernel=rbf, nu=0.005;, score=-53.015 total time=   0.0s\n",
      "[CV 5/5] END .gamma=0.1, kernel=rbf, nu=0.005;, score=-42.018 total time=   0.0s\n",
      "[CV 1/5] END ..gamma=0.1, kernel=rbf, nu=0.01;, score=-43.015 total time=   0.0s\n",
      "[CV 2/5] END ..gamma=0.1, kernel=rbf, nu=0.01;, score=-41.011 total time=   0.0s\n",
      "[CV 3/5] END ..gamma=0.1, kernel=rbf, nu=0.01;, score=-60.023 total time=   0.0s\n",
      "[CV 4/5] END ..gamma=0.1, kernel=rbf, nu=0.01;, score=-52.015 total time=   0.0s\n",
      "[CV 5/5] END ..gamma=0.1, kernel=rbf, nu=0.01;, score=-42.018 total time=   0.0s\n",
      "[CV 1/5] END ..gamma=0.1, kernel=rbf, nu=0.05;, score=-43.015 total time=   0.0s\n",
      "[CV 2/5] END ..gamma=0.1, kernel=rbf, nu=0.05;, score=-41.011 total time=   0.0s\n",
      "[CV 3/5] END ..gamma=0.1, kernel=rbf, nu=0.05;, score=-60.023 total time=   0.0s\n",
      "[CV 4/5] END ..gamma=0.1, kernel=rbf, nu=0.05;, score=-52.015 total time=   0.0s\n",
      "[CV 5/5] END ..gamma=0.1, kernel=rbf, nu=0.05;, score=-42.015 total time=   0.0s\n",
      "[CV 1/5] END ...gamma=0.1, kernel=rbf, nu=0.1;, score=-43.015 total time=   0.0s\n",
      "[CV 2/5] END ...gamma=0.1, kernel=rbf, nu=0.1;, score=-41.011 total time=   0.0s\n",
      "[CV 3/5] END ...gamma=0.1, kernel=rbf, nu=0.1;, score=-62.023 total time=   0.0s\n",
      "[CV 4/5] END ...gamma=0.1, kernel=rbf, nu=0.1;, score=-54.015 total time=   0.0s\n",
      "[CV 5/5] END ...gamma=0.1, kernel=rbf, nu=0.1;, score=-42.015 total time=   0.0s\n",
      "[CV 1/5] END ...gamma=0.1, kernel=rbf, nu=0.2;, score=-64.020 total time=   0.0s\n",
      "[CV 2/5] END ...gamma=0.1, kernel=rbf, nu=0.2;, score=-60.012 total time=   0.0s\n",
      "[CV 3/5] END ...gamma=0.1, kernel=rbf, nu=0.2;, score=-78.025 total time=   0.0s\n",
      "[CV 4/5] END ...gamma=0.1, kernel=rbf, nu=0.2;, score=-67.012 total time=   0.0s\n",
      "[CV 5/5] END ...gamma=0.1, kernel=rbf, nu=0.2;, score=-59.019 total time=   0.0s\n",
      "[CV 1/5] END ...gamma=0.1, kernel=rbf, nu=0.3;, score=-94.018 total time=   0.0s\n",
      "[CV 2/5] END ...gamma=0.1, kernel=rbf, nu=0.3;, score=-89.013 total time=   0.0s\n",
      "[CV 3/5] END ..gamma=0.1, kernel=rbf, nu=0.3;, score=-105.028 total time=   0.0s\n",
      "[CV 4/5] END ...gamma=0.1, kernel=rbf, nu=0.3;, score=-97.014 total time=   0.0s\n",
      "[CV 5/5] END ...gamma=0.1, kernel=rbf, nu=0.3;, score=-93.014 total time=   0.0s\n",
      "[CV 1/5] END ..gamma=0.1, kernel=rbf, nu=0.5;, score=-151.012 total time=   0.0s\n",
      "[CV 2/5] END ..gamma=0.1, kernel=rbf, nu=0.5;, score=-139.006 total time=   0.0s\n",
      "[CV 3/5] END ..gamma=0.1, kernel=rbf, nu=0.5;, score=-169.027 total time=   0.0s\n",
      "[CV 4/5] END ..gamma=0.1, kernel=rbf, nu=0.5;, score=-159.019 total time=   0.0s\n",
      "[CV 5/5] END ..gamma=0.1, kernel=rbf, nu=0.5;, score=-170.021 total time=   0.0s\n",
      "[CV 1/5] END ..gamma=0.1, kernel=rbf, nu=0.7;, score=-210.019 total time=   0.0s\n",
      "[CV 2/5] END ..gamma=0.1, kernel=rbf, nu=0.7;, score=-219.010 total time=   0.0s\n",
      "[CV 3/5] END ..gamma=0.1, kernel=rbf, nu=0.7;, score=-222.011 total time=   0.0s\n",
      "[CV 4/5] END ..gamma=0.1, kernel=rbf, nu=0.7;, score=-225.011 total time=   0.0s\n",
      "[CV 5/5] END ..gamma=0.1, kernel=rbf, nu=0.7;, score=-224.022 total time=   0.0s\n",
      "[CV 1/5] END ..gamma=0.1, kernel=rbf, nu=0.9;, score=-275.025 total time=   0.0s\n",
      "[CV 2/5] END ..gamma=0.1, kernel=rbf, nu=0.9;, score=-288.000 total time=   0.0s\n",
      "[CV 3/5] END ..gamma=0.1, kernel=rbf, nu=0.9;, score=-287.000 total time=   0.0s\n",
      "[CV 4/5] END ..gamma=0.1, kernel=rbf, nu=0.9;, score=-283.030 total time=   0.0s\n",
      "[CV 5/5] END ..gamma=0.1, kernel=rbf, nu=0.9;, score=-276.000 total time=   0.0s\n",
      "[CV 1/5] END gamma=0.1, kernel=poly, nu=0.001;, score=-52.015 total time=   0.0s\n",
      "[CV 2/5] END gamma=0.1, kernel=poly, nu=0.001;, score=-67.004 total time=   0.0s\n",
      "[CV 3/5] END gamma=0.1, kernel=poly, nu=0.001;, score=-77.025 total time=   0.0s\n",
      "[CV 4/5] END gamma=0.1, kernel=poly, nu=0.001;, score=-53.008 total time=   0.0s\n",
      "[CV 5/5] END gamma=0.1, kernel=poly, nu=0.001;, score=-47.011 total time=   0.0s\n",
      "[CV 1/5] END gamma=0.1, kernel=poly, nu=0.005;, score=-37.014 total time=   0.0s\n",
      "[CV 2/5] END gamma=0.1, kernel=poly, nu=0.005;, score=-54.004 total time=   0.0s\n",
      "[CV 3/5] END gamma=0.1, kernel=poly, nu=0.005;, score=-59.023 total time=   0.0s\n",
      "[CV 4/5] END gamma=0.1, kernel=poly, nu=0.005;, score=-35.007 total time=   0.0s\n",
      "[CV 5/5] END gamma=0.1, kernel=poly, nu=0.005;, score=-40.011 total time=   0.0s\n",
      "[CV 1/5] END .gamma=0.1, kernel=poly, nu=0.01;, score=-35.014 total time=   0.0s\n",
      "[CV 2/5] END .gamma=0.1, kernel=poly, nu=0.01;, score=-54.004 total time=   0.0s\n",
      "[CV 3/5] END .gamma=0.1, kernel=poly, nu=0.01;, score=-59.023 total time=   0.0s\n",
      "[CV 4/5] END .gamma=0.1, kernel=poly, nu=0.01;, score=-40.007 total time=   0.0s\n",
      "[CV 5/5] END .gamma=0.1, kernel=poly, nu=0.01;, score=-40.011 total time=   0.0s\n",
      "[CV 1/5] END .gamma=0.1, kernel=poly, nu=0.05;, score=-41.014 total time=   0.0s\n",
      "[CV 2/5] END .gamma=0.1, kernel=poly, nu=0.05;, score=-55.004 total time=   0.0s\n",
      "[CV 3/5] END .gamma=0.1, kernel=poly, nu=0.05;, score=-60.023 total time=   0.0s\n",
      "[CV 4/5] END .gamma=0.1, kernel=poly, nu=0.05;, score=-41.007 total time=   0.0s\n",
      "[CV 5/5] END .gamma=0.1, kernel=poly, nu=0.05;, score=-44.011 total time=   0.0s\n",
      "[CV 1/5] END ..gamma=0.1, kernel=poly, nu=0.1;, score=-61.016 total time=   0.0s\n",
      "[CV 2/5] END ..gamma=0.1, kernel=poly, nu=0.1;, score=-59.004 total time=   0.0s\n",
      "[CV 3/5] END ..gamma=0.1, kernel=poly, nu=0.1;, score=-78.025 total time=   0.0s\n",
      "[CV 4/5] END ..gamma=0.1, kernel=poly, nu=0.1;, score=-51.008 total time=   0.0s\n",
      "[CV 5/5] END ..gamma=0.1, kernel=poly, nu=0.1;, score=-53.015 total time=   0.0s\n",
      "[CV 1/5] END ..gamma=0.1, kernel=poly, nu=0.2;, score=-77.017 total time=   0.0s\n",
      "[CV 2/5] END ..gamma=0.1, kernel=poly, nu=0.2;, score=-92.000 total time=   0.0s\n",
      "[CV 3/5] END .gamma=0.1, kernel=poly, nu=0.2;, score=-107.024 total time=   0.0s\n",
      "[CV 4/5] END ..gamma=0.1, kernel=poly, nu=0.2;, score=-78.008 total time=   0.0s\n",
      "[CV 5/5] END ..gamma=0.1, kernel=poly, nu=0.2;, score=-77.008 total time=   0.0s\n",
      "[CV 1/5] END .gamma=0.1, kernel=poly, nu=0.3;, score=-109.014 total time=   0.0s\n",
      "[CV 2/5] END .gamma=0.1, kernel=poly, nu=0.3;, score=-126.000 total time=   0.0s\n",
      "[CV 3/5] END .gamma=0.1, kernel=poly, nu=0.3;, score=-134.022 total time=   0.0s\n",
      "[CV 4/5] END ..gamma=0.1, kernel=poly, nu=0.3;, score=-99.005 total time=   0.0s\n",
      "[CV 5/5] END .gamma=0.1, kernel=poly, nu=0.3;, score=-109.010 total time=   0.0s\n",
      "[CV 1/5] END .gamma=0.1, kernel=poly, nu=0.5;, score=-159.025 total time=   0.0s\n",
      "[CV 2/5] END .gamma=0.1, kernel=poly, nu=0.5;, score=-182.000 total time=   0.0s\n",
      "[CV 3/5] END .gamma=0.1, kernel=poly, nu=0.5;, score=-178.015 total time=   0.0s\n",
      "[CV 4/5] END .gamma=0.1, kernel=poly, nu=0.5;, score=-153.006 total time=   0.0s\n",
      "[CV 5/5] END .gamma=0.1, kernel=poly, nu=0.5;, score=-163.013 total time=   0.0s\n",
      "[CV 1/5] END .gamma=0.1, kernel=poly, nu=0.7;, score=-222.011 total time=   0.0s\n",
      "[CV 2/5] END .gamma=0.1, kernel=poly, nu=0.7;, score=-254.000 total time=   0.0s\n",
      "[CV 3/5] END .gamma=0.1, kernel=poly, nu=0.7;, score=-213.020 total time=   0.0s\n",
      "[CV 4/5] END .gamma=0.1, kernel=poly, nu=0.7;, score=-216.000 total time=   0.0s\n",
      "[CV 5/5] END .gamma=0.1, kernel=poly, nu=0.7;, score=-227.012 total time=   0.0s\n",
      "[CV 1/5] END .gamma=0.1, kernel=poly, nu=0.9;, score=-287.000 total time=   0.0s\n",
      "[CV 2/5] END .gamma=0.1, kernel=poly, nu=0.9;, score=-292.000 total time=   0.0s\n",
      "[CV 3/5] END .gamma=0.1, kernel=poly, nu=0.9;, score=-271.000 total time=   0.0s\n",
      "[CV 4/5] END .gamma=0.1, kernel=poly, nu=0.9;, score=-280.000 total time=   0.0s\n",
      "[CV 5/5] END .gamma=0.1, kernel=poly, nu=0.9;, score=-288.000 total time=   0.0s\n",
      "[CV 1/5] END gamma=0.1, kernel=sigmoid, nu=0.001;, score=0.984 total time=   0.0s\n",
      "[CV 2/5] END gamma=0.1, kernel=sigmoid, nu=0.001;, score=-0.009 total time=   0.0s\n",
      "[CV 3/5] END gamma=0.1, kernel=sigmoid, nu=0.001;, score=0.978 total time=   0.0s\n",
      "[CV 4/5] END gamma=0.1, kernel=sigmoid, nu=0.001;, score=-2.013 total time=   0.0s\n",
      "[CV 5/5] END gamma=0.1, kernel=sigmoid, nu=0.001;, score=-0.022 total time=   0.0s\n",
      "[CV 1/5] END gamma=0.1, kernel=sigmoid, nu=0.005;, score=0.984 total time=   0.0s\n",
      "[CV 2/5] END gamma=0.1, kernel=sigmoid, nu=0.005;, score=-0.009 total time=   0.0s\n",
      "[CV 3/5] END gamma=0.1, kernel=sigmoid, nu=0.005;, score=0.978 total time=   0.0s\n",
      "[CV 4/5] END gamma=0.1, kernel=sigmoid, nu=0.005;, score=-4.013 total time=   0.0s\n",
      "[CV 5/5] END gamma=0.1, kernel=sigmoid, nu=0.005;, score=-0.022 total time=   0.0s\n",
      "[CV 1/5] END gamma=0.1, kernel=sigmoid, nu=0.01;, score=-6.016 total time=   0.0s\n",
      "[CV 2/5] END gamma=0.1, kernel=sigmoid, nu=0.01;, score=-4.010 total time=   0.0s\n",
      "[CV 3/5] END gamma=0.1, kernel=sigmoid, nu=0.01;, score=-0.022 total time=   0.0s\n",
      "[CV 4/5] END gamma=0.1, kernel=sigmoid, nu=0.01;, score=-4.013 total time=   0.0s\n",
      "[CV 5/5] END gamma=0.1, kernel=sigmoid, nu=0.01;, score=-0.022 total time=   0.0s\n",
      "[CV 1/5] END gamma=0.1, kernel=sigmoid, nu=0.05;, score=-13.016 total time=   0.0s\n",
      "[CV 2/5] END gamma=0.1, kernel=sigmoid, nu=0.05;, score=-13.010 total time=   0.0s\n",
      "[CV 3/5] END gamma=0.1, kernel=sigmoid, nu=0.05;, score=-10.023 total time=   0.0s\n",
      "[CV 4/5] END gamma=0.1, kernel=sigmoid, nu=0.05;, score=-23.014 total time=   0.0s\n",
      "[CV 5/5] END gamma=0.1, kernel=sigmoid, nu=0.05;, score=-18.023 total time=   0.0s\n",
      "[CV 1/5] END gamma=0.1, kernel=sigmoid, nu=0.1;, score=-24.017 total time=   0.0s\n",
      "[CV 2/5] END gamma=0.1, kernel=sigmoid, nu=0.1;, score=-28.010 total time=   0.0s\n",
      "[CV 3/5] END gamma=0.1, kernel=sigmoid, nu=0.1;, score=-32.024 total time=   0.0s\n",
      "[CV 4/5] END gamma=0.1, kernel=sigmoid, nu=0.1;, score=-24.014 total time=   0.0s\n",
      "[CV 5/5] END gamma=0.1, kernel=sigmoid, nu=0.1;, score=-34.025 total time=   0.0s\n",
      "[CV 1/5] END gamma=0.1, kernel=sigmoid, nu=0.2;, score=-63.020 total time=   0.0s\n",
      "[CV 2/5] END gamma=0.1, kernel=sigmoid, nu=0.2;, score=-59.012 total time=   0.0s\n",
      "[CV 3/5] END gamma=0.1, kernel=sigmoid, nu=0.2;, score=-59.027 total time=   0.0s\n",
      "[CV 4/5] END gamma=0.1, kernel=sigmoid, nu=0.2;, score=-64.016 total time=   0.0s\n",
      "[CV 5/5] END gamma=0.1, kernel=sigmoid, nu=0.2;, score=-65.028 total time=   0.0s\n",
      "[CV 1/5] END gamma=0.1, kernel=sigmoid, nu=0.3;, score=-91.022 total time=   0.0s\n",
      "[CV 2/5] END gamma=0.1, kernel=sigmoid, nu=0.3;, score=-85.013 total time=   0.0s\n",
      "[CV 3/5] END gamma=0.1, kernel=sigmoid, nu=0.3;, score=-97.032 total time=   0.0s\n",
      "[CV 4/5] END gamma=0.1, kernel=sigmoid, nu=0.3;, score=-93.018 total time=   0.0s\n",
      "[CV 5/5] END gamma=0.1, kernel=sigmoid, nu=0.3;, score=-103.032 total time=   0.0s\n",
      "[CV 1/5] END gamma=0.1, kernel=sigmoid, nu=0.5;, score=-164.032 total time=   0.0s\n",
      "[CV 2/5] END gamma=0.1, kernel=sigmoid, nu=0.5;, score=-144.017 total time=   0.0s\n",
      "[CV 3/5] END gamma=0.1, kernel=sigmoid, nu=0.5;, score=-151.036 total time=   0.0s\n",
      "[CV 4/5] END gamma=0.1, kernel=sigmoid, nu=0.5;, score=-167.026 total time=   0.0s\n",
      "[CV 5/5] END gamma=0.1, kernel=sigmoid, nu=0.5;, score=-165.045 total time=   0.0s\n",
      "[CV 1/5] END gamma=0.1, kernel=sigmoid, nu=0.7;, score=-221.041 total time=   0.0s\n",
      "[CV 2/5] END gamma=0.1, kernel=sigmoid, nu=0.7;, score=-216.029 total time=   0.0s\n",
      "[CV 3/5] END gamma=0.1, kernel=sigmoid, nu=0.7;, score=-214.030 total time=   0.0s\n",
      "[CV 4/5] END gamma=0.1, kernel=sigmoid, nu=0.7;, score=-236.048 total time=   0.0s\n",
      "[CV 5/5] END gamma=0.1, kernel=sigmoid, nu=0.7;, score=-224.064 total time=   0.0s\n",
      "[CV 1/5] END gamma=0.1, kernel=sigmoid, nu=0.9;, score=-289.000 total time=   0.0s\n",
      "[CV 2/5] END gamma=0.1, kernel=sigmoid, nu=0.9;, score=-281.028 total time=   0.0s\n",
      "[CV 3/5] END gamma=0.1, kernel=sigmoid, nu=0.9;, score=-276.027 total time=   0.0s\n",
      "[CV 4/5] END gamma=0.1, kernel=sigmoid, nu=0.9;, score=-288.069 total time=   0.0s\n",
      "[CV 5/5] END gamma=0.1, kernel=sigmoid, nu=0.9;, score=-282.091 total time=   0.0s\n",
      "[CV 1/5] END gamma=0.01, kernel=linear, nu=0.001;, score=-169.000 total time=   0.0s\n",
      "[CV 2/5] END gamma=0.01, kernel=linear, nu=0.001;, score=-94.013 total time=   0.0s\n",
      "[CV 3/5] END gamma=0.01, kernel=linear, nu=0.001;, score=-126.031 total time=   0.0s\n",
      "[CV 4/5] END gamma=0.01, kernel=linear, nu=0.001;, score=-83.009 total time=   0.0s\n",
      "[CV 5/5] END gamma=0.01, kernel=linear, nu=0.001;, score=-77.025 total time=   0.0s\n",
      "[CV 1/5] END gamma=0.01, kernel=linear, nu=0.005;, score=-254.000 total time=   0.0s\n",
      "[CV 2/5] END gamma=0.01, kernel=linear, nu=0.005;, score=-45.007 total time=   0.0s\n",
      "[CV 3/5] END gamma=0.01, kernel=linear, nu=0.005;, score=-120.020 total time=   0.0s\n",
      "[CV 4/5] END gamma=0.01, kernel=linear, nu=0.005;, score=-123.015 total time=   0.0s\n",
      "[CV 5/5] END gamma=0.01, kernel=linear, nu=0.005;, score=-95.031 total time=   0.0s\n",
      "[CV 1/5] END gamma=0.01, kernel=linear, nu=0.01;, score=-150.000 total time=   0.0s\n",
      "[CV 2/5] END gamma=0.01, kernel=linear, nu=0.01;, score=-228.011 total time=   0.0s\n",
      "[CV 3/5] END gamma=0.01, kernel=linear, nu=0.01;, score=-225.033 total time=   0.0s\n",
      "[CV 4/5] END gamma=0.01, kernel=linear, nu=0.01;, score=-218.010 total time=   0.0s\n",
      "[CV 5/5] END gamma=0.01, kernel=linear, nu=0.01;, score=-178.007 total time=   0.0s\n",
      "[CV 1/5] END gamma=0.01, kernel=linear, nu=0.05;, score=-262.000 total time=   0.0s\n",
      "[CV 2/5] END gamma=0.01, kernel=linear, nu=0.05;, score=-205.000 total time=   0.0s\n",
      "[CV 3/5] END gamma=0.01, kernel=linear, nu=0.05;, score=-246.029 total time=   0.0s\n",
      "[CV 4/5] END gamma=0.01, kernel=linear, nu=0.05;, score=-279.000 total time=   0.0s\n",
      "[CV 5/5] END gamma=0.01, kernel=linear, nu=0.05;, score=-120.020 total time=   0.0s\n",
      "[CV 1/5] END gamma=0.01, kernel=linear, nu=0.1;, score=-264.000 total time=   0.0s\n",
      "[CV 2/5] END gamma=0.01, kernel=linear, nu=0.1;, score=-112.014 total time=   0.0s\n",
      "[CV 3/5] END gamma=0.01, kernel=linear, nu=0.1;, score=-214.020 total time=   0.0s\n",
      "[CV 4/5] END gamma=0.01, kernel=linear, nu=0.1;, score=-262.019 total time=   0.0s\n",
      "[CV 5/5] END gamma=0.01, kernel=linear, nu=0.1;, score=-32.018 total time=   0.0s\n",
      "[CV 1/5] END gamma=0.01, kernel=linear, nu=0.2;, score=-270.000 total time=   0.0s\n",
      "[CV 2/5] END gamma=0.01, kernel=linear, nu=0.2;, score=-289.000 total time=   0.0s\n",
      "[CV 3/5] END gamma=0.01, kernel=linear, nu=0.2;, score=-287.038 total time=   0.0s\n",
      "[CV 4/5] END gamma=0.01, kernel=linear, nu=0.2;, score=-259.018 total time=   0.0s\n",
      "[CV 5/5] END gamma=0.01, kernel=linear, nu=0.2;, score=-64.024 total time=   0.0s\n",
      "[CV 1/5] END gamma=0.01, kernel=linear, nu=0.3;, score=-275.000 total time=   0.0s\n",
      "[CV 2/5] END gamma=0.01, kernel=linear, nu=0.3;, score=-287.000 total time=   0.0s\n",
      "[CV 3/5] END gamma=0.01, kernel=linear, nu=0.3;, score=-228.023 total time=   0.0s\n",
      "[CV 4/5] END gamma=0.01, kernel=linear, nu=0.3;, score=-282.000 total time=   0.0s\n",
      "[CV 5/5] END gamma=0.01, kernel=linear, nu=0.3;, score=-123.021 total time=   0.0s\n",
      "[CV 1/5] END gamma=0.01, kernel=linear, nu=0.5;, score=-292.000 total time=   0.0s\n",
      "[CV 2/5] END gamma=0.01, kernel=linear, nu=0.5;, score=-253.000 total time=   0.0s\n",
      "[CV 3/5] END gamma=0.01, kernel=linear, nu=0.5;, score=-248.015 total time=   0.0s\n",
      "[CV 4/5] END gamma=0.01, kernel=linear, nu=0.5;, score=-224.011 total time=   0.0s\n",
      "[CV 5/5] END gamma=0.01, kernel=linear, nu=0.5;, score=-251.032 total time=   0.0s\n",
      "[CV 1/5] END gamma=0.01, kernel=linear, nu=0.7;, score=-299.000 total time=   0.0s\n",
      "[CV 2/5] END gamma=0.01, kernel=linear, nu=0.7;, score=-109.005 total time=   0.0s\n",
      "[CV 3/5] END gamma=0.01, kernel=linear, nu=0.7;, score=-265.021 total time=   0.0s\n",
      "[CV 4/5] END gamma=0.01, kernel=linear, nu=0.7;, score=-226.011 total time=   0.0s\n",
      "[CV 5/5] END gamma=0.01, kernel=linear, nu=0.7;, score=-289.000 total time=   0.0s\n",
      "[CV 1/5] END gamma=0.01, kernel=linear, nu=0.9;, score=-293.000 total time=   0.0s\n",
      "[CV 2/5] END gamma=0.01, kernel=linear, nu=0.9;, score=-246.014 total time=   0.0s\n",
      "[CV 3/5] END gamma=0.01, kernel=linear, nu=0.9;, score=-200.018 total time=   0.0s\n",
      "[CV 4/5] END gamma=0.01, kernel=linear, nu=0.9;, score=-164.013 total time=   0.0s\n",
      "[CV 5/5] END gamma=0.01, kernel=linear, nu=0.9;, score=-274.026 total time=   0.0s\n",
      "[CV 1/5] END .gamma=0.01, kernel=rbf, nu=0.001;, score=-3.016 total time=   0.0s\n",
      "[CV 2/5] END .gamma=0.01, kernel=rbf, nu=0.001;, score=-4.010 total time=   0.0s\n",
      "[CV 3/5] END .gamma=0.01, kernel=rbf, nu=0.001;, score=-7.022 total time=   0.0s\n",
      "[CV 4/5] END .gamma=0.01, kernel=rbf, nu=0.001;, score=-8.013 total time=   0.0s\n",
      "[CV 5/5] END .gamma=0.01, kernel=rbf, nu=0.001;, score=-3.022 total time=   0.0s\n",
      "[CV 1/5] END .gamma=0.01, kernel=rbf, nu=0.005;, score=-3.016 total time=   0.0s\n",
      "[CV 2/5] END .gamma=0.01, kernel=rbf, nu=0.005;, score=-4.010 total time=   0.0s\n",
      "[CV 3/5] END .gamma=0.01, kernel=rbf, nu=0.005;, score=-7.022 total time=   0.0s\n",
      "[CV 4/5] END .gamma=0.01, kernel=rbf, nu=0.005;, score=-8.013 total time=   0.0s\n",
      "[CV 5/5] END .gamma=0.01, kernel=rbf, nu=0.005;, score=-3.022 total time=   0.0s\n",
      "[CV 1/5] END ..gamma=0.01, kernel=rbf, nu=0.01;, score=-3.016 total time=   0.0s\n",
      "[CV 2/5] END ..gamma=0.01, kernel=rbf, nu=0.01;, score=-4.010 total time=   0.0s\n",
      "[CV 3/5] END ..gamma=0.01, kernel=rbf, nu=0.01;, score=-7.022 total time=   0.0s\n",
      "[CV 4/5] END ..gamma=0.01, kernel=rbf, nu=0.01;, score=-8.013 total time=   0.0s\n",
      "[CV 5/5] END ..gamma=0.01, kernel=rbf, nu=0.01;, score=-3.022 total time=   0.0s\n",
      "[CV 1/5] END .gamma=0.01, kernel=rbf, nu=0.05;, score=-13.016 total time=   0.0s\n",
      "[CV 2/5] END .gamma=0.01, kernel=rbf, nu=0.05;, score=-11.010 total time=   0.0s\n",
      "[CV 3/5] END .gamma=0.01, kernel=rbf, nu=0.05;, score=-22.024 total time=   0.0s\n",
      "[CV 4/5] END .gamma=0.01, kernel=rbf, nu=0.05;, score=-24.014 total time=   0.0s\n",
      "[CV 5/5] END .gamma=0.01, kernel=rbf, nu=0.05;, score=-13.023 total time=   0.0s\n",
      "[CV 1/5] END ..gamma=0.01, kernel=rbf, nu=0.1;, score=-31.017 total time=   0.0s\n",
      "[CV 2/5] END ..gamma=0.01, kernel=rbf, nu=0.1;, score=-26.010 total time=   0.0s\n",
      "[CV 3/5] END ..gamma=0.01, kernel=rbf, nu=0.1;, score=-44.022 total time=   0.0s\n",
      "[CV 4/5] END ..gamma=0.01, kernel=rbf, nu=0.1;, score=-36.014 total time=   0.0s\n",
      "[CV 5/5] END ..gamma=0.01, kernel=rbf, nu=0.1;, score=-22.024 total time=   0.0s\n",
      "[CV 1/5] END ..gamma=0.01, kernel=rbf, nu=0.2;, score=-67.020 total time=   0.0s\n",
      "[CV 2/5] END ..gamma=0.01, kernel=rbf, nu=0.2;, score=-52.011 total time=   0.0s\n",
      "[CV 3/5] END ..gamma=0.01, kernel=rbf, nu=0.2;, score=-76.025 total time=   0.0s\n",
      "[CV 4/5] END ..gamma=0.01, kernel=rbf, nu=0.2;, score=-61.016 total time=   0.0s\n",
      "[CV 5/5] END ..gamma=0.01, kernel=rbf, nu=0.2;, score=-61.020 total time=   0.0s\n",
      "[CV 1/5] END ..gamma=0.01, kernel=rbf, nu=0.3;, score=-86.017 total time=   0.0s\n",
      "[CV 2/5] END ..gamma=0.01, kernel=rbf, nu=0.3;, score=-87.013 total time=   0.0s\n",
      "[CV 3/5] END .gamma=0.01, kernel=rbf, nu=0.3;, score=-105.024 total time=   0.0s\n",
      "[CV 4/5] END .gamma=0.01, kernel=rbf, nu=0.3;, score=-100.014 total time=   0.0s\n",
      "[CV 5/5] END ..gamma=0.01, kernel=rbf, nu=0.3;, score=-94.018 total time=   0.0s\n",
      "[CV 1/5] END .gamma=0.01, kernel=rbf, nu=0.5;, score=-152.012 total time=   0.0s\n",
      "[CV 2/5] END .gamma=0.01, kernel=rbf, nu=0.5;, score=-136.006 total time=   0.0s\n",
      "[CV 3/5] END .gamma=0.01, kernel=rbf, nu=0.5;, score=-162.026 total time=   0.0s\n",
      "[CV 4/5] END .gamma=0.01, kernel=rbf, nu=0.5;, score=-164.013 total time=   0.0s\n",
      "[CV 5/5] END .gamma=0.01, kernel=rbf, nu=0.5;, score=-167.020 total time=   0.0s\n",
      "[CV 1/5] END .gamma=0.01, kernel=rbf, nu=0.7;, score=-218.010 total time=   0.0s\n",
      "[CV 2/5] END .gamma=0.01, kernel=rbf, nu=0.7;, score=-214.010 total time=   0.0s\n",
      "[CV 3/5] END .gamma=0.01, kernel=rbf, nu=0.7;, score=-215.020 total time=   0.0s\n",
      "[CV 4/5] END .gamma=0.01, kernel=rbf, nu=0.7;, score=-225.011 total time=   0.0s\n",
      "[CV 5/5] END .gamma=0.01, kernel=rbf, nu=0.7;, score=-225.033 total time=   0.0s\n",
      "[CV 1/5] END .gamma=0.01, kernel=rbf, nu=0.9;, score=-279.028 total time=   0.0s\n",
      "[CV 2/5] END .gamma=0.01, kernel=rbf, nu=0.9;, score=-289.000 total time=   0.0s\n",
      "[CV 3/5] END .gamma=0.01, kernel=rbf, nu=0.9;, score=-280.000 total time=   0.0s\n",
      "[CV 4/5] END .gamma=0.01, kernel=rbf, nu=0.9;, score=-287.034 total time=   0.0s\n",
      "[CV 5/5] END .gamma=0.01, kernel=rbf, nu=0.9;, score=-278.000 total time=   0.0s\n",
      "[CV 1/5] END gamma=0.01, kernel=poly, nu=0.001;, score=-267.000 total time=   0.0s\n",
      "[CV 2/5] END gamma=0.01, kernel=poly, nu=0.001;, score=-226.000 total time=   0.0s\n",
      "[CV 3/5] END gamma=0.01, kernel=poly, nu=0.001;, score=-213.010 total time=   0.0s\n",
      "[CV 4/5] END gamma=0.01, kernel=poly, nu=0.001;, score=-285.000 total time=   0.0s\n",
      "[CV 5/5] END gamma=0.01, kernel=poly, nu=0.001;, score=-256.018 total time=   0.0s\n",
      "[CV 1/5] END gamma=0.01, kernel=poly, nu=0.005;, score=-249.000 total time=   0.0s\n",
      "[CV 2/5] END gamma=0.01, kernel=poly, nu=0.005;, score=-280.000 total time=   0.0s\n",
      "[CV 3/5] END gamma=0.01, kernel=poly, nu=0.005;, score=-244.014 total time=   0.0s\n",
      "[CV 4/5] END gamma=0.01, kernel=poly, nu=0.005;, score=-264.000 total time=   0.0s\n",
      "[CV 5/5] END gamma=0.01, kernel=poly, nu=0.005;, score=-261.019 total time=   0.0s\n",
      "[CV 1/5] END gamma=0.01, kernel=poly, nu=0.01;, score=-207.000 total time=   0.0s\n",
      "[CV 2/5] END gamma=0.01, kernel=poly, nu=0.01;, score=-247.000 total time=   0.0s\n",
      "[CV 3/5] END gamma=0.01, kernel=poly, nu=0.01;, score=-244.014 total time=   0.0s\n",
      "[CV 4/5] END gamma=0.01, kernel=poly, nu=0.01;, score=-242.000 total time=   0.0s\n",
      "[CV 5/5] END gamma=0.01, kernel=poly, nu=0.01;, score=-256.000 total time=   0.0s\n",
      "[CV 1/5] END gamma=0.01, kernel=poly, nu=0.05;, score=-192.008 total time=   0.0s\n",
      "[CV 2/5] END gamma=0.01, kernel=poly, nu=0.05;, score=-169.000 total time=   0.0s\n",
      "[CV 3/5] END gamma=0.01, kernel=poly, nu=0.05;, score=-176.014 total time=   0.0s\n",
      "[CV 4/5] END gamma=0.01, kernel=poly, nu=0.05;, score=-189.000 total time=   0.0s\n",
      "[CV 5/5] END gamma=0.01, kernel=poly, nu=0.05;, score=-171.014 total time=   0.0s\n",
      "[CV 1/5] END gamma=0.01, kernel=poly, nu=0.1;, score=-184.015 total time=   0.0s\n",
      "[CV 2/5] END gamma=0.01, kernel=poly, nu=0.1;, score=-162.000 total time=   0.0s\n",
      "[CV 3/5] END gamma=0.01, kernel=poly, nu=0.1;, score=-183.023 total time=   0.0s\n",
      "[CV 4/5] END gamma=0.01, kernel=poly, nu=0.1;, score=-180.015 total time=   0.0s\n",
      "[CV 5/5] END gamma=0.01, kernel=poly, nu=0.1;, score=-147.012 total time=   0.0s\n",
      "[CV 1/5] END gamma=0.01, kernel=poly, nu=0.2;, score=-125.021 total time=   0.0s\n",
      "[CV 2/5] END gamma=0.01, kernel=poly, nu=0.2;, score=-135.000 total time=   0.0s\n",
      "[CV 3/5] END gamma=0.01, kernel=poly, nu=0.2;, score=-125.026 total time=   0.0s\n",
      "[CV 4/5] END gamma=0.01, kernel=poly, nu=0.2;, score=-129.000 total time=   0.0s\n",
      "[CV 5/5] END gamma=0.01, kernel=poly, nu=0.2;, score=-117.010 total time=   0.0s\n",
      "[CV 1/5] END gamma=0.01, kernel=poly, nu=0.3;, score=-136.011 total time=   0.0s\n",
      "[CV 2/5] END gamma=0.01, kernel=poly, nu=0.3;, score=-129.000 total time=   0.0s\n",
      "[CV 3/5] END gamma=0.01, kernel=poly, nu=0.3;, score=-157.019 total time=   0.0s\n",
      "[CV 4/5] END gamma=0.01, kernel=poly, nu=0.3;, score=-130.005 total time=   0.0s\n",
      "[CV 5/5] END gamma=0.01, kernel=poly, nu=0.3;, score=-142.012 total time=   0.0s\n",
      "[CV 1/5] END gamma=0.01, kernel=poly, nu=0.5;, score=-172.014 total time=   0.0s\n",
      "[CV 2/5] END gamma=0.01, kernel=poly, nu=0.5;, score=-205.000 total time=   0.0s\n",
      "[CV 3/5] END gamma=0.01, kernel=poly, nu=0.5;, score=-187.016 total time=   0.0s\n",
      "[CV 4/5] END gamma=0.01, kernel=poly, nu=0.5;, score=-157.006 total time=   0.0s\n",
      "[CV 5/5] END gamma=0.01, kernel=poly, nu=0.5;, score=-171.014 total time=   0.0s\n",
      "[CV 1/5] END gamma=0.01, kernel=poly, nu=0.7;, score=-223.011 total time=   0.0s\n",
      "[CV 2/5] END gamma=0.01, kernel=poly, nu=0.7;, score=-254.000 total time=   0.0s\n",
      "[CV 3/5] END gamma=0.01, kernel=poly, nu=0.7;, score=-215.020 total time=   0.0s\n",
      "[CV 4/5] END gamma=0.01, kernel=poly, nu=0.7;, score=-219.000 total time=   0.0s\n",
      "[CV 5/5] END gamma=0.01, kernel=poly, nu=0.7;, score=-229.012 total time=   0.0s\n",
      "[CV 1/5] END gamma=0.01, kernel=poly, nu=0.9;, score=-287.000 total time=   0.0s\n",
      "[CV 2/5] END gamma=0.01, kernel=poly, nu=0.9;, score=-292.000 total time=   0.0s\n",
      "[CV 3/5] END gamma=0.01, kernel=poly, nu=0.9;, score=-271.000 total time=   0.0s\n",
      "[CV 4/5] END gamma=0.01, kernel=poly, nu=0.9;, score=-280.000 total time=   0.0s\n",
      "[CV 5/5] END gamma=0.01, kernel=poly, nu=0.9;, score=-288.000 total time=   0.0s\n",
      "[CV 1/5] END gamma=0.01, kernel=sigmoid, nu=0.001;, score=-40.018 total time=   0.0s\n",
      "[CV 2/5] END gamma=0.01, kernel=sigmoid, nu=0.001;, score=-5.010 total time=   0.0s\n",
      "[CV 3/5] END gamma=0.01, kernel=sigmoid, nu=0.001;, score=-1.022 total time=   0.0s\n",
      "[CV 4/5] END gamma=0.01, kernel=sigmoid, nu=0.001;, score=-63.012 total time=   0.0s\n",
      "[CV 5/5] END gamma=0.01, kernel=sigmoid, nu=0.001;, score=-10.023 total time=   0.0s\n",
      "[CV 1/5] END gamma=0.01, kernel=sigmoid, nu=0.005;, score=-4.013 total time=   0.0s\n",
      "[CV 2/5] END gamma=0.01, kernel=sigmoid, nu=0.005;, score=-3.009 total time=   0.0s\n",
      "[CV 3/5] END gamma=0.01, kernel=sigmoid, nu=0.005;, score=-0.022 total time=   0.0s\n",
      "[CV 4/5] END gamma=0.01, kernel=sigmoid, nu=0.005;, score=-18.013 total time=   0.0s\n",
      "[CV 5/5] END gamma=0.01, kernel=sigmoid, nu=0.005;, score=-3.022 total time=   0.0s\n",
      "[CV 1/5] END gamma=0.01, kernel=sigmoid, nu=0.01;, score=-8.013 total time=   0.0s\n",
      "[CV 2/5] END gamma=0.01, kernel=sigmoid, nu=0.01;, score=-0.009 total time=   0.0s\n",
      "[CV 3/5] END gamma=0.01, kernel=sigmoid, nu=0.01;, score=-6.022 total time=   0.0s\n",
      "[CV 4/5] END gamma=0.01, kernel=sigmoid, nu=0.01;, score=-10.013 total time=   0.0s\n",
      "[CV 5/5] END gamma=0.01, kernel=sigmoid, nu=0.01;, score=-4.022 total time=   0.0s\n",
      "[CV 1/5] END gamma=0.01, kernel=sigmoid, nu=0.05;, score=-20.017 total time=   0.0s\n",
      "[CV 2/5] END gamma=0.01, kernel=sigmoid, nu=0.05;, score=-10.010 total time=   0.0s\n",
      "[CV 3/5] END gamma=0.01, kernel=sigmoid, nu=0.05;, score=-17.023 total time=   0.0s\n",
      "[CV 4/5] END gamma=0.01, kernel=sigmoid, nu=0.05;, score=-21.013 total time=   0.0s\n",
      "[CV 5/5] END gamma=0.01, kernel=sigmoid, nu=0.05;, score=-13.023 total time=   0.0s\n",
      "[CV 1/5] END gamma=0.01, kernel=sigmoid, nu=0.1;, score=-41.018 total time=   0.0s\n",
      "[CV 2/5] END gamma=0.01, kernel=sigmoid, nu=0.1;, score=-29.010 total time=   0.0s\n",
      "[CV 3/5] END gamma=0.01, kernel=sigmoid, nu=0.1;, score=-26.024 total time=   0.0s\n",
      "[CV 4/5] END gamma=0.01, kernel=sigmoid, nu=0.1;, score=-32.014 total time=   0.0s\n",
      "[CV 5/5] END gamma=0.01, kernel=sigmoid, nu=0.1;, score=-32.024 total time=   0.0s\n",
      "[CV 1/5] END gamma=0.01, kernel=sigmoid, nu=0.2;, score=-63.020 total time=   0.0s\n",
      "[CV 2/5] END gamma=0.01, kernel=sigmoid, nu=0.2;, score=-54.011 total time=   0.0s\n",
      "[CV 3/5] END gamma=0.01, kernel=sigmoid, nu=0.2;, score=-58.027 total time=   0.0s\n",
      "[CV 4/5] END gamma=0.01, kernel=sigmoid, nu=0.2;, score=-69.016 total time=   0.0s\n",
      "[CV 5/5] END gamma=0.01, kernel=sigmoid, nu=0.2;, score=-67.028 total time=   0.0s\n",
      "[CV 1/5] END gamma=0.01, kernel=sigmoid, nu=0.3;, score=-100.023 total time=   0.0s\n",
      "[CV 2/5] END gamma=0.01, kernel=sigmoid, nu=0.3;, score=-83.013 total time=   0.0s\n",
      "[CV 3/5] END gamma=0.01, kernel=sigmoid, nu=0.3;, score=-91.031 total time=   0.0s\n",
      "[CV 4/5] END gamma=0.01, kernel=sigmoid, nu=0.3;, score=-93.018 total time=   0.0s\n",
      "[CV 5/5] END gamma=0.01, kernel=sigmoid, nu=0.3;, score=-105.033 total time=   0.0s\n",
      "[CV 1/5] END gamma=0.01, kernel=sigmoid, nu=0.5;, score=-161.032 total time=   0.0s\n",
      "[CV 2/5] END gamma=0.01, kernel=sigmoid, nu=0.5;, score=-151.018 total time=   0.0s\n",
      "[CV 3/5] END gamma=0.01, kernel=sigmoid, nu=0.5;, score=-158.043 total time=   0.0s\n",
      "[CV 4/5] END gamma=0.01, kernel=sigmoid, nu=0.5;, score=-162.025 total time=   0.0s\n",
      "[CV 5/5] END gamma=0.01, kernel=sigmoid, nu=0.5;, score=-165.045 total time=   0.0s\n",
      "[CV 1/5] END gamma=0.01, kernel=sigmoid, nu=0.7;, score=-238.026 total time=   0.0s\n",
      "[CV 2/5] END gamma=0.01, kernel=sigmoid, nu=0.7;, score=-210.028 total time=   0.0s\n",
      "[CV 3/5] END gamma=0.01, kernel=sigmoid, nu=0.7;, score=-195.025 total time=   0.0s\n",
      "[CV 4/5] END gamma=0.01, kernel=sigmoid, nu=0.7;, score=-229.023 total time=   0.0s\n",
      "[CV 5/5] END gamma=0.01, kernel=sigmoid, nu=0.7;, score=-229.057 total time=   0.0s\n",
      "[CV 1/5] END gamma=0.01, kernel=sigmoid, nu=0.9;, score=-292.000 total time=   0.0s\n",
      "[CV 2/5] END gamma=0.01, kernel=sigmoid, nu=0.9;, score=-281.054 total time=   0.0s\n",
      "[CV 3/5] END gamma=0.01, kernel=sigmoid, nu=0.9;, score=-269.044 total time=   0.0s\n",
      "[CV 4/5] END gamma=0.01, kernel=sigmoid, nu=0.9;, score=-293.043 total time=   0.0s\n",
      "[CV 5/5] END gamma=0.01, kernel=sigmoid, nu=0.9;, score=-288.143 total time=   0.0s\n",
      "[CV 1/5] END gamma=0.001, kernel=linear, nu=0.001;, score=-169.000 total time=   0.0s\n",
      "[CV 2/5] END gamma=0.001, kernel=linear, nu=0.001;, score=-94.013 total time=   0.0s\n",
      "[CV 3/5] END gamma=0.001, kernel=linear, nu=0.001;, score=-126.031 total time=   0.0s\n",
      "[CV 4/5] END gamma=0.001, kernel=linear, nu=0.001;, score=-83.009 total time=   0.0s\n",
      "[CV 5/5] END gamma=0.001, kernel=linear, nu=0.001;, score=-77.025 total time=   0.0s\n",
      "[CV 1/5] END gamma=0.001, kernel=linear, nu=0.005;, score=-254.000 total time=   0.0s\n",
      "[CV 2/5] END gamma=0.001, kernel=linear, nu=0.005;, score=-45.007 total time=   0.0s\n",
      "[CV 3/5] END gamma=0.001, kernel=linear, nu=0.005;, score=-120.020 total time=   0.0s\n",
      "[CV 4/5] END gamma=0.001, kernel=linear, nu=0.005;, score=-123.015 total time=   0.0s\n",
      "[CV 5/5] END gamma=0.001, kernel=linear, nu=0.005;, score=-95.031 total time=   0.0s\n",
      "[CV 1/5] END gamma=0.001, kernel=linear, nu=0.01;, score=-150.000 total time=   0.0s\n",
      "[CV 2/5] END gamma=0.001, kernel=linear, nu=0.01;, score=-228.011 total time=   0.0s\n",
      "[CV 3/5] END gamma=0.001, kernel=linear, nu=0.01;, score=-225.033 total time=   0.0s\n",
      "[CV 4/5] END gamma=0.001, kernel=linear, nu=0.01;, score=-218.010 total time=   0.0s\n",
      "[CV 5/5] END gamma=0.001, kernel=linear, nu=0.01;, score=-178.007 total time=   0.0s\n",
      "[CV 1/5] END gamma=0.001, kernel=linear, nu=0.05;, score=-262.000 total time=   0.0s\n",
      "[CV 2/5] END gamma=0.001, kernel=linear, nu=0.05;, score=-205.000 total time=   0.0s\n",
      "[CV 3/5] END gamma=0.001, kernel=linear, nu=0.05;, score=-246.029 total time=   0.0s\n",
      "[CV 4/5] END gamma=0.001, kernel=linear, nu=0.05;, score=-279.000 total time=   0.0s\n",
      "[CV 5/5] END gamma=0.001, kernel=linear, nu=0.05;, score=-120.020 total time=   0.0s\n",
      "[CV 1/5] END gamma=0.001, kernel=linear, nu=0.1;, score=-264.000 total time=   0.0s\n",
      "[CV 2/5] END gamma=0.001, kernel=linear, nu=0.1;, score=-112.014 total time=   0.0s\n",
      "[CV 3/5] END gamma=0.001, kernel=linear, nu=0.1;, score=-214.020 total time=   0.0s\n",
      "[CV 4/5] END gamma=0.001, kernel=linear, nu=0.1;, score=-262.019 total time=   0.0s\n",
      "[CV 5/5] END gamma=0.001, kernel=linear, nu=0.1;, score=-32.018 total time=   0.0s\n",
      "[CV 1/5] END gamma=0.001, kernel=linear, nu=0.2;, score=-270.000 total time=   0.0s\n",
      "[CV 2/5] END gamma=0.001, kernel=linear, nu=0.2;, score=-289.000 total time=   0.0s\n",
      "[CV 3/5] END gamma=0.001, kernel=linear, nu=0.2;, score=-287.038 total time=   0.0s\n",
      "[CV 4/5] END gamma=0.001, kernel=linear, nu=0.2;, score=-259.018 total time=   0.0s\n",
      "[CV 5/5] END gamma=0.001, kernel=linear, nu=0.2;, score=-64.024 total time=   0.0s\n",
      "[CV 1/5] END gamma=0.001, kernel=linear, nu=0.3;, score=-275.000 total time=   0.0s\n",
      "[CV 2/5] END gamma=0.001, kernel=linear, nu=0.3;, score=-287.000 total time=   0.0s\n",
      "[CV 3/5] END gamma=0.001, kernel=linear, nu=0.3;, score=-228.023 total time=   0.0s\n",
      "[CV 4/5] END gamma=0.001, kernel=linear, nu=0.3;, score=-282.000 total time=   0.0s\n",
      "[CV 5/5] END gamma=0.001, kernel=linear, nu=0.3;, score=-123.021 total time=   0.0s\n",
      "[CV 1/5] END gamma=0.001, kernel=linear, nu=0.5;, score=-292.000 total time=   0.0s\n",
      "[CV 2/5] END gamma=0.001, kernel=linear, nu=0.5;, score=-253.000 total time=   0.0s\n",
      "[CV 3/5] END gamma=0.001, kernel=linear, nu=0.5;, score=-248.015 total time=   0.0s\n",
      "[CV 4/5] END gamma=0.001, kernel=linear, nu=0.5;, score=-224.011 total time=   0.0s\n",
      "[CV 5/5] END gamma=0.001, kernel=linear, nu=0.5;, score=-251.032 total time=   0.0s\n",
      "[CV 1/5] END gamma=0.001, kernel=linear, nu=0.7;, score=-299.000 total time=   0.0s\n",
      "[CV 2/5] END gamma=0.001, kernel=linear, nu=0.7;, score=-109.005 total time=   0.0s\n",
      "[CV 3/5] END gamma=0.001, kernel=linear, nu=0.7;, score=-265.021 total time=   0.0s\n",
      "[CV 4/5] END gamma=0.001, kernel=linear, nu=0.7;, score=-226.011 total time=   0.0s\n",
      "[CV 5/5] END gamma=0.001, kernel=linear, nu=0.7;, score=-289.000 total time=   0.0s\n",
      "[CV 1/5] END gamma=0.001, kernel=linear, nu=0.9;, score=-293.000 total time=   0.0s\n",
      "[CV 2/5] END gamma=0.001, kernel=linear, nu=0.9;, score=-246.014 total time=   0.0s\n",
      "[CV 3/5] END gamma=0.001, kernel=linear, nu=0.9;, score=-200.018 total time=   0.0s\n",
      "[CV 4/5] END gamma=0.001, kernel=linear, nu=0.9;, score=-164.013 total time=   0.0s\n",
      "[CV 5/5] END gamma=0.001, kernel=linear, nu=0.9;, score=-274.026 total time=   0.0s\n",
      "[CV 1/5] END .gamma=0.001, kernel=rbf, nu=0.001;, score=0.984 total time=   0.0s\n",
      "[CV 2/5] END .gamma=0.001, kernel=rbf, nu=0.001;, score=0.991 total time=   0.0s\n",
      "[CV 3/5] END gamma=0.001, kernel=rbf, nu=0.001;, score=-1.022 total time=   0.0s\n",
      "[CV 4/5] END gamma=0.001, kernel=rbf, nu=0.001;, score=-3.013 total time=   0.0s\n",
      "[CV 5/5] END .gamma=0.001, kernel=rbf, nu=0.001;, score=0.978 total time=   0.0s\n",
      "[CV 1/5] END .gamma=0.001, kernel=rbf, nu=0.005;, score=0.984 total time=   0.0s\n",
      "[CV 2/5] END gamma=0.001, kernel=rbf, nu=0.005;, score=-1.009 total time=   0.0s\n",
      "[CV 3/5] END gamma=0.001, kernel=rbf, nu=0.005;, score=-1.022 total time=   0.0s\n",
      "[CV 4/5] END gamma=0.001, kernel=rbf, nu=0.005;, score=-5.013 total time=   0.0s\n",
      "[CV 5/5] END gamma=0.001, kernel=rbf, nu=0.005;, score=-0.022 total time=   0.0s\n",
      "[CV 1/5] END .gamma=0.001, kernel=rbf, nu=0.01;, score=-0.016 total time=   0.0s\n",
      "[CV 2/5] END .gamma=0.001, kernel=rbf, nu=0.01;, score=-3.009 total time=   0.0s\n",
      "[CV 3/5] END .gamma=0.001, kernel=rbf, nu=0.01;, score=-3.022 total time=   0.0s\n",
      "[CV 4/5] END .gamma=0.001, kernel=rbf, nu=0.01;, score=-5.013 total time=   0.0s\n",
      "[CV 5/5] END .gamma=0.001, kernel=rbf, nu=0.01;, score=-0.022 total time=   0.0s\n",
      "[CV 1/5] END gamma=0.001, kernel=rbf, nu=0.05;, score=-13.016 total time=   0.0s\n",
      "[CV 2/5] END gamma=0.001, kernel=rbf, nu=0.05;, score=-12.010 total time=   0.0s\n",
      "[CV 3/5] END gamma=0.001, kernel=rbf, nu=0.05;, score=-22.024 total time=   0.0s\n",
      "[CV 4/5] END gamma=0.001, kernel=rbf, nu=0.05;, score=-21.013 total time=   0.0s\n",
      "[CV 5/5] END gamma=0.001, kernel=rbf, nu=0.05;, score=-12.023 total time=   0.0s\n",
      "[CV 1/5] END .gamma=0.001, kernel=rbf, nu=0.1;, score=-29.017 total time=   0.0s\n",
      "[CV 2/5] END .gamma=0.001, kernel=rbf, nu=0.1;, score=-26.010 total time=   0.0s\n",
      "[CV 3/5] END .gamma=0.001, kernel=rbf, nu=0.1;, score=-42.022 total time=   0.0s\n",
      "[CV 4/5] END .gamma=0.001, kernel=rbf, nu=0.1;, score=-38.014 total time=   0.0s\n",
      "[CV 5/5] END .gamma=0.001, kernel=rbf, nu=0.1;, score=-21.023 total time=   0.0s\n",
      "[CV 1/5] END .gamma=0.001, kernel=rbf, nu=0.2;, score=-67.020 total time=   0.0s\n",
      "[CV 2/5] END .gamma=0.001, kernel=rbf, nu=0.2;, score=-50.011 total time=   0.0s\n",
      "[CV 3/5] END .gamma=0.001, kernel=rbf, nu=0.2;, score=-75.025 total time=   0.0s\n",
      "[CV 4/5] END .gamma=0.001, kernel=rbf, nu=0.2;, score=-60.015 total time=   0.0s\n",
      "[CV 5/5] END .gamma=0.001, kernel=rbf, nu=0.2;, score=-61.020 total time=   0.0s\n",
      "[CV 1/5] END .gamma=0.001, kernel=rbf, nu=0.3;, score=-92.018 total time=   0.0s\n",
      "[CV 2/5] END .gamma=0.001, kernel=rbf, nu=0.3;, score=-83.013 total time=   0.0s\n",
      "[CV 3/5] END gamma=0.001, kernel=rbf, nu=0.3;, score=-103.023 total time=   0.0s\n",
      "[CV 4/5] END .gamma=0.001, kernel=rbf, nu=0.3;, score=-99.018 total time=   0.0s\n",
      "[CV 5/5] END .gamma=0.001, kernel=rbf, nu=0.3;, score=-94.018 total time=   0.0s\n",
      "[CV 1/5] END gamma=0.001, kernel=rbf, nu=0.5;, score=-149.012 total time=   0.0s\n",
      "[CV 2/5] END gamma=0.001, kernel=rbf, nu=0.5;, score=-142.017 total time=   0.0s\n",
      "[CV 3/5] END gamma=0.001, kernel=rbf, nu=0.5;, score=-160.026 total time=   0.0s\n",
      "[CV 4/5] END gamma=0.001, kernel=rbf, nu=0.5;, score=-165.013 total time=   0.0s\n",
      "[CV 5/5] END gamma=0.001, kernel=rbf, nu=0.5;, score=-175.021 total time=   0.0s\n",
      "[CV 1/5] END gamma=0.001, kernel=rbf, nu=0.7;, score=-219.010 total time=   0.0s\n",
      "[CV 2/5] END gamma=0.001, kernel=rbf, nu=0.7;, score=-214.010 total time=   0.0s\n",
      "[CV 3/5] END gamma=0.001, kernel=rbf, nu=0.7;, score=-214.020 total time=   0.0s\n",
      "[CV 4/5] END gamma=0.001, kernel=rbf, nu=0.7;, score=-231.012 total time=   0.0s\n",
      "[CV 5/5] END gamma=0.001, kernel=rbf, nu=0.7;, score=-223.033 total time=   0.0s\n",
      "[CV 1/5] END gamma=0.001, kernel=rbf, nu=0.9;, score=-280.029 total time=   0.0s\n",
      "[CV 2/5] END gamma=0.001, kernel=rbf, nu=0.9;, score=-285.000 total time=   0.0s\n",
      "[CV 3/5] END gamma=0.001, kernel=rbf, nu=0.9;, score=-282.000 total time=   0.0s\n",
      "[CV 4/5] END gamma=0.001, kernel=rbf, nu=0.9;, score=-286.033 total time=   0.0s\n",
      "[CV 5/5] END gamma=0.001, kernel=rbf, nu=0.9;, score=-280.000 total time=   0.0s\n",
      "[CV 1/5] END gamma=0.001, kernel=poly, nu=0.001;, score=-312.000 total time=   0.0s\n",
      "[CV 2/5] END gamma=0.001, kernel=poly, nu=0.001;, score=-314.000 total time=   0.0s\n",
      "[CV 3/5] END gamma=0.001, kernel=poly, nu=0.001;, score=-311.000 total time=   0.0s\n",
      "[CV 4/5] END gamma=0.001, kernel=poly, nu=0.001;, score=-312.000 total time=   0.0s\n",
      "[CV 5/5] END gamma=0.001, kernel=poly, nu=0.001;, score=-307.000 total time=   0.0s\n",
      "[CV 1/5] END gamma=0.001, kernel=poly, nu=0.005;, score=-77.004 total time=   0.0s\n",
      "[CV 2/5] END gamma=0.001, kernel=poly, nu=0.005;, score=-68.012 total time=   0.0s\n",
      "[CV 3/5] END gamma=0.001, kernel=poly, nu=0.005;, score=-71.024 total time=   0.0s\n",
      "[CV 4/5] END gamma=0.001, kernel=poly, nu=0.005;, score=-78.017 total time=   0.0s\n",
      "[CV 5/5] END gamma=0.001, kernel=poly, nu=0.005;, score=-79.029 total time=   0.0s\n",
      "[CV 1/5] END gamma=0.001, kernel=poly, nu=0.01;, score=-203.009 total time=   0.0s\n",
      "[CV 2/5] END gamma=0.001, kernel=poly, nu=0.01;, score=-263.000 total time=   0.0s\n",
      "[CV 3/5] END gamma=0.001, kernel=poly, nu=0.01;, score=-264.000 total time=   0.0s\n",
      "[CV 4/5] END gamma=0.001, kernel=poly, nu=0.01;, score=-266.000 total time=   0.0s\n",
      "[CV 5/5] END gamma=0.001, kernel=poly, nu=0.01;, score=-257.000 total time=   0.0s\n",
      "[CV 1/5] END gamma=0.001, kernel=poly, nu=0.05;, score=-232.012 total time=   0.0s\n",
      "[CV 2/5] END gamma=0.001, kernel=poly, nu=0.05;, score=-135.005 total time=   0.0s\n",
      "[CV 3/5] END gamma=0.001, kernel=poly, nu=0.05;, score=-123.010 total time=   0.0s\n",
      "[CV 4/5] END gamma=0.001, kernel=poly, nu=0.05;, score=-130.000 total time=   0.0s\n",
      "[CV 5/5] END gamma=0.001, kernel=poly, nu=0.05;, score=-132.011 total time=   0.0s\n",
      "[CV 1/5] END gamma=0.001, kernel=poly, nu=0.1;, score=-57.012 total time=   0.0s\n",
      "[CV 2/5] END gamma=0.001, kernel=poly, nu=0.1;, score=-216.000 total time=   0.0s\n",
      "[CV 3/5] END gamma=0.001, kernel=poly, nu=0.1;, score=-216.010 total time=   0.0s\n",
      "[CV 4/5] END gamma=0.001, kernel=poly, nu=0.1;, score=-205.009 total time=   0.0s\n",
      "[CV 5/5] END gamma=0.001, kernel=poly, nu=0.1;, score=-211.019 total time=   0.0s\n",
      "[CV 1/5] END gamma=0.001, kernel=poly, nu=0.2;, score=-278.000 total time=   0.0s\n",
      "[CV 2/5] END gamma=0.001, kernel=poly, nu=0.2;, score=-197.000 total time=   0.0s\n",
      "[CV 3/5] END gamma=0.001, kernel=poly, nu=0.2;, score=-203.018 total time=   0.0s\n",
      "[CV 4/5] END gamma=0.001, kernel=poly, nu=0.2;, score=-193.008 total time=   0.0s\n",
      "[CV 5/5] END gamma=0.001, kernel=poly, nu=0.2;, score=-202.027 total time=   0.0s\n",
      "[CV 1/5] END gamma=0.001, kernel=poly, nu=0.3;, score=-247.000 total time=   0.0s\n",
      "[CV 2/5] END gamma=0.001, kernel=poly, nu=0.3;, score=-249.000 total time=   0.0s\n",
      "[CV 3/5] END gamma=0.001, kernel=poly, nu=0.3;, score=-128.026 total time=   0.0s\n",
      "[CV 4/5] END gamma=0.001, kernel=poly, nu=0.3;, score=-122.005 total time=   0.0s\n",
      "[CV 5/5] END gamma=0.001, kernel=poly, nu=0.3;, score=-130.027 total time=   0.0s\n",
      "[CV 1/5] END gamma=0.001, kernel=poly, nu=0.5;, score=-301.000 total time=   0.0s\n",
      "[CV 2/5] END gamma=0.001, kernel=poly, nu=0.5;, score=-304.000 total time=   0.0s\n",
      "[CV 3/5] END gamma=0.001, kernel=poly, nu=0.5;, score=-293.000 total time=   0.0s\n",
      "[CV 4/5] END gamma=0.001, kernel=poly, nu=0.5;, score=-297.000 total time=   0.0s\n",
      "[CV 5/5] END gamma=0.001, kernel=poly, nu=0.5;, score=-300.000 total time=   0.0s\n",
      "[CV 1/5] END gamma=0.001, kernel=poly, nu=0.7;, score=-300.000 total time=   0.0s\n",
      "[CV 2/5] END gamma=0.001, kernel=poly, nu=0.7;, score=-299.000 total time=   0.0s\n",
      "[CV 3/5] END gamma=0.001, kernel=poly, nu=0.7;, score=-290.043 total time=   0.0s\n",
      "[CV 4/5] END gamma=0.001, kernel=poly, nu=0.7;, score=-97.005 total time=   0.0s\n",
      "[CV 5/5] END gamma=0.001, kernel=poly, nu=0.7;, score=-108.019 total time=   0.0s\n",
      "[CV 1/5] END gamma=0.001, kernel=poly, nu=0.9;, score=-208.000 total time=   0.0s\n",
      "[CV 2/5] END gamma=0.001, kernel=poly, nu=0.9;, score=-220.000 total time=   0.0s\n",
      "[CV 3/5] END gamma=0.001, kernel=poly, nu=0.9;, score=-184.008 total time=   0.0s\n",
      "[CV 4/5] END gamma=0.001, kernel=poly, nu=0.9;, score=-188.000 total time=   0.0s\n",
      "[CV 5/5] END gamma=0.001, kernel=poly, nu=0.9;, score=-275.000 total time=   0.0s\n",
      "[CV 1/5] END gamma=0.001, kernel=sigmoid, nu=0.001;, score=-243.000 total time=   0.0s\n",
      "[CV 2/5] END gamma=0.001, kernel=sigmoid, nu=0.001;, score=-186.008 total time=   0.0s\n",
      "[CV 3/5] END gamma=0.001, kernel=sigmoid, nu=0.001;, score=-199.017 total time=   0.0s\n",
      "[CV 4/5] END gamma=0.001, kernel=sigmoid, nu=0.001;, score=-235.012 total time=   0.0s\n",
      "[CV 5/5] END gamma=0.001, kernel=sigmoid, nu=0.001;, score=-254.017 total time=   0.0s\n",
      "[CV 1/5] END gamma=0.001, kernel=sigmoid, nu=0.005;, score=-236.000 total time=   0.0s\n",
      "[CV 2/5] END gamma=0.001, kernel=sigmoid, nu=0.005;, score=-133.011 total time=   0.0s\n",
      "[CV 3/5] END gamma=0.001, kernel=sigmoid, nu=0.005;, score=-72.024 total time=   0.0s\n",
      "[CV 4/5] END gamma=0.001, kernel=sigmoid, nu=0.005;, score=-236.000 total time=   0.0s\n",
      "[CV 5/5] END gamma=0.001, kernel=sigmoid, nu=0.005;, score=-64.027 total time=   0.0s\n",
      "[CV 1/5] END gamma=0.001, kernel=sigmoid, nu=0.01;, score=-224.011 total time=   0.0s\n",
      "[CV 2/5] END gamma=0.001, kernel=sigmoid, nu=0.01;, score=-112.010 total time=   0.0s\n",
      "[CV 3/5] END gamma=0.001, kernel=sigmoid, nu=0.01;, score=-225.033 total time=   0.0s\n",
      "[CV 4/5] END gamma=0.001, kernel=sigmoid, nu=0.01;, score=-199.009 total time=   0.0s\n",
      "[CV 5/5] END gamma=0.001, kernel=sigmoid, nu=0.01;, score=-230.035 total time=   0.0s\n",
      "[CV 1/5] END gamma=0.001, kernel=sigmoid, nu=0.05;, score=-134.022 total time=   0.0s\n",
      "[CV 2/5] END gamma=0.001, kernel=sigmoid, nu=0.05;, score=-176.014 total time=   0.0s\n",
      "[CV 3/5] END gamma=0.001, kernel=sigmoid, nu=0.05;, score=-171.028 total time=   0.0s\n",
      "[CV 4/5] END gamma=0.001, kernel=sigmoid, nu=0.05;, score=-187.008 total time=   0.0s\n",
      "[CV 5/5] END gamma=0.001, kernel=sigmoid, nu=0.05;, score=-186.023 total time=   0.0s\n",
      "[CV 1/5] END gamma=0.001, kernel=sigmoid, nu=0.1;, score=-141.023 total time=   0.0s\n",
      "[CV 2/5] END gamma=0.001, kernel=sigmoid, nu=0.1;, score=-210.009 total time=   0.0s\n",
      "[CV 3/5] END gamma=0.001, kernel=sigmoid, nu=0.1;, score=-144.018 total time=   0.0s\n",
      "[CV 4/5] END gamma=0.001, kernel=sigmoid, nu=0.1;, score=-219.010 total time=   0.0s\n",
      "[CV 5/5] END gamma=0.001, kernel=sigmoid, nu=0.1;, score=-205.009 total time=   0.0s\n",
      "[CV 1/5] END gamma=0.001, kernel=sigmoid, nu=0.2;, score=-172.007 total time=   0.0s\n",
      "[CV 2/5] END gamma=0.001, kernel=sigmoid, nu=0.2;, score=-171.014 total time=   0.0s\n",
      "[CV 3/5] END gamma=0.001, kernel=sigmoid, nu=0.2;, score=-168.020 total time=   0.0s\n",
      "[CV 4/5] END gamma=0.001, kernel=sigmoid, nu=0.2;, score=-225.011 total time=   0.0s\n",
      "[CV 5/5] END gamma=0.001, kernel=sigmoid, nu=0.2;, score=-206.019 total time=   0.0s\n",
      "[CV 1/5] END gamma=0.001, kernel=sigmoid, nu=0.3;, score=-158.025 total time=   0.0s\n",
      "[CV 2/5] END gamma=0.001, kernel=sigmoid, nu=0.3;, score=-173.014 total time=   0.0s\n",
      "[CV 3/5] END gamma=0.001, kernel=sigmoid, nu=0.3;, score=-171.028 total time=   0.0s\n",
      "[CV 4/5] END gamma=0.001, kernel=sigmoid, nu=0.3;, score=-176.007 total time=   0.0s\n",
      "[CV 5/5] END gamma=0.001, kernel=sigmoid, nu=0.3;, score=-196.017 total time=   0.0s\n",
      "[CV 1/5] END gamma=0.001, kernel=sigmoid, nu=0.5;, score=-202.009 total time=   0.0s\n",
      "[CV 2/5] END gamma=0.001, kernel=sigmoid, nu=0.5;, score=-179.007 total time=   0.0s\n",
      "[CV 3/5] END gamma=0.001, kernel=sigmoid, nu=0.5;, score=-211.029 total time=   0.0s\n",
      "[CV 4/5] END gamma=0.001, kernel=sigmoid, nu=0.5;, score=-237.013 total time=   0.0s\n",
      "[CV 5/5] END gamma=0.001, kernel=sigmoid, nu=0.5;, score=-199.042 total time=   0.0s\n",
      "[CV 1/5] END gamma=0.001, kernel=sigmoid, nu=0.7;, score=-226.000 total time=   0.0s\n",
      "[CV 2/5] END gamma=0.001, kernel=sigmoid, nu=0.7;, score=-229.022 total time=   0.0s\n",
      "[CV 3/5] END gamma=0.001, kernel=sigmoid, nu=0.7;, score=-216.040 total time=   0.0s\n",
      "[CV 4/5] END gamma=0.001, kernel=sigmoid, nu=0.7;, score=-227.022 total time=   0.0s\n",
      "[CV 5/5] END gamma=0.001, kernel=sigmoid, nu=0.7;, score=-191.032 total time=   0.0s\n",
      "[CV 1/5] END gamma=0.001, kernel=sigmoid, nu=0.9;, score=-279.000 total time=   0.0s\n",
      "[CV 2/5] END gamma=0.001, kernel=sigmoid, nu=0.9;, score=-261.018 total time=   0.0s\n",
      "[CV 3/5] END gamma=0.001, kernel=sigmoid, nu=0.9;, score=-234.025 total time=   0.0s\n",
      "[CV 4/5] END gamma=0.001, kernel=sigmoid, nu=0.9;, score=-249.015 total time=   0.0s\n",
      "[CV 5/5] END gamma=0.001, kernel=sigmoid, nu=0.9;, score=-275.051 total time=   0.0s\n",
      "[CV 1/5] END gamma=0.0001, kernel=linear, nu=0.001;, score=-169.000 total time=   0.0s\n",
      "[CV 2/5] END gamma=0.0001, kernel=linear, nu=0.001;, score=-94.013 total time=   0.0s\n",
      "[CV 3/5] END gamma=0.0001, kernel=linear, nu=0.001;, score=-126.031 total time=   0.0s\n",
      "[CV 4/5] END gamma=0.0001, kernel=linear, nu=0.001;, score=-83.009 total time=   0.0s\n",
      "[CV 5/5] END gamma=0.0001, kernel=linear, nu=0.001;, score=-77.025 total time=   0.0s\n",
      "[CV 1/5] END gamma=0.0001, kernel=linear, nu=0.005;, score=-254.000 total time=   0.0s\n",
      "[CV 2/5] END gamma=0.0001, kernel=linear, nu=0.005;, score=-45.007 total time=   0.0s\n",
      "[CV 3/5] END gamma=0.0001, kernel=linear, nu=0.005;, score=-120.020 total time=   0.0s\n",
      "[CV 4/5] END gamma=0.0001, kernel=linear, nu=0.005;, score=-123.015 total time=   0.0s\n",
      "[CV 5/5] END gamma=0.0001, kernel=linear, nu=0.005;, score=-95.031 total time=   0.0s\n",
      "[CV 1/5] END gamma=0.0001, kernel=linear, nu=0.01;, score=-150.000 total time=   0.0s\n",
      "[CV 2/5] END gamma=0.0001, kernel=linear, nu=0.01;, score=-228.011 total time=   0.0s\n",
      "[CV 3/5] END gamma=0.0001, kernel=linear, nu=0.01;, score=-225.033 total time=   0.0s\n",
      "[CV 4/5] END gamma=0.0001, kernel=linear, nu=0.01;, score=-218.010 total time=   0.0s\n",
      "[CV 5/5] END gamma=0.0001, kernel=linear, nu=0.01;, score=-178.007 total time=   0.0s\n",
      "[CV 1/5] END gamma=0.0001, kernel=linear, nu=0.05;, score=-262.000 total time=   0.0s\n",
      "[CV 2/5] END gamma=0.0001, kernel=linear, nu=0.05;, score=-205.000 total time=   0.0s\n",
      "[CV 3/5] END gamma=0.0001, kernel=linear, nu=0.05;, score=-246.029 total time=   0.0s\n",
      "[CV 4/5] END gamma=0.0001, kernel=linear, nu=0.05;, score=-279.000 total time=   0.0s\n",
      "[CV 5/5] END gamma=0.0001, kernel=linear, nu=0.05;, score=-120.020 total time=   0.0s\n",
      "[CV 1/5] END gamma=0.0001, kernel=linear, nu=0.1;, score=-264.000 total time=   0.0s\n",
      "[CV 2/5] END gamma=0.0001, kernel=linear, nu=0.1;, score=-112.014 total time=   0.0s\n",
      "[CV 3/5] END gamma=0.0001, kernel=linear, nu=0.1;, score=-214.020 total time=   0.0s\n",
      "[CV 4/5] END gamma=0.0001, kernel=linear, nu=0.1;, score=-262.019 total time=   0.0s\n",
      "[CV 5/5] END gamma=0.0001, kernel=linear, nu=0.1;, score=-32.018 total time=   0.0s\n",
      "[CV 1/5] END gamma=0.0001, kernel=linear, nu=0.2;, score=-270.000 total time=   0.0s\n",
      "[CV 2/5] END gamma=0.0001, kernel=linear, nu=0.2;, score=-289.000 total time=   0.0s\n",
      "[CV 3/5] END gamma=0.0001, kernel=linear, nu=0.2;, score=-287.038 total time=   0.0s\n",
      "[CV 4/5] END gamma=0.0001, kernel=linear, nu=0.2;, score=-259.018 total time=   0.0s\n",
      "[CV 5/5] END gamma=0.0001, kernel=linear, nu=0.2;, score=-64.024 total time=   0.0s\n",
      "[CV 1/5] END gamma=0.0001, kernel=linear, nu=0.3;, score=-275.000 total time=   0.0s\n",
      "[CV 2/5] END gamma=0.0001, kernel=linear, nu=0.3;, score=-287.000 total time=   0.0s\n",
      "[CV 3/5] END gamma=0.0001, kernel=linear, nu=0.3;, score=-228.023 total time=   0.0s\n",
      "[CV 4/5] END gamma=0.0001, kernel=linear, nu=0.3;, score=-282.000 total time=   0.0s\n",
      "[CV 5/5] END gamma=0.0001, kernel=linear, nu=0.3;, score=-123.021 total time=   0.0s\n",
      "[CV 1/5] END gamma=0.0001, kernel=linear, nu=0.5;, score=-292.000 total time=   0.0s\n",
      "[CV 2/5] END gamma=0.0001, kernel=linear, nu=0.5;, score=-253.000 total time=   0.0s\n",
      "[CV 3/5] END gamma=0.0001, kernel=linear, nu=0.5;, score=-248.015 total time=   0.0s\n",
      "[CV 4/5] END gamma=0.0001, kernel=linear, nu=0.5;, score=-224.011 total time=   0.0s\n",
      "[CV 5/5] END gamma=0.0001, kernel=linear, nu=0.5;, score=-251.032 total time=   0.0s\n",
      "[CV 1/5] END gamma=0.0001, kernel=linear, nu=0.7;, score=-299.000 total time=   0.0s\n",
      "[CV 2/5] END gamma=0.0001, kernel=linear, nu=0.7;, score=-109.005 total time=   0.0s\n",
      "[CV 3/5] END gamma=0.0001, kernel=linear, nu=0.7;, score=-265.021 total time=   0.0s\n",
      "[CV 4/5] END gamma=0.0001, kernel=linear, nu=0.7;, score=-226.011 total time=   0.0s\n",
      "[CV 5/5] END gamma=0.0001, kernel=linear, nu=0.7;, score=-289.000 total time=   0.0s\n",
      "[CV 1/5] END gamma=0.0001, kernel=linear, nu=0.9;, score=-293.000 total time=   0.0s\n",
      "[CV 2/5] END gamma=0.0001, kernel=linear, nu=0.9;, score=-246.014 total time=   0.0s\n",
      "[CV 3/5] END gamma=0.0001, kernel=linear, nu=0.9;, score=-200.018 total time=   0.0s\n",
      "[CV 4/5] END gamma=0.0001, kernel=linear, nu=0.9;, score=-164.013 total time=   0.0s\n",
      "[CV 5/5] END gamma=0.0001, kernel=linear, nu=0.9;, score=-274.026 total time=   0.0s\n",
      "[CV 1/5] END gamma=0.0001, kernel=rbf, nu=0.001;, score=0.984 total time=   0.0s\n",
      "[CV 2/5] END gamma=0.0001, kernel=rbf, nu=0.001;, score=0.991 total time=   0.0s\n",
      "[CV 3/5] END gamma=0.0001, kernel=rbf, nu=0.001;, score=-0.022 total time=   0.0s\n",
      "[CV 4/5] END gamma=0.0001, kernel=rbf, nu=0.001;, score=-1.013 total time=   0.0s\n",
      "[CV 5/5] END gamma=0.0001, kernel=rbf, nu=0.001;, score=0.978 total time=   0.0s\n",
      "[CV 1/5] END gamma=0.0001, kernel=rbf, nu=0.005;, score=0.984 total time=   0.0s\n",
      "[CV 2/5] END gamma=0.0001, kernel=rbf, nu=0.005;, score=-2.009 total time=   0.0s\n",
      "[CV 3/5] END gamma=0.0001, kernel=rbf, nu=0.005;, score=-1.022 total time=   0.0s\n",
      "[CV 4/5] END gamma=0.0001, kernel=rbf, nu=0.005;, score=-5.013 total time=   0.0s\n",
      "[CV 5/5] END gamma=0.0001, kernel=rbf, nu=0.005;, score=0.978 total time=   0.0s\n",
      "[CV 1/5] END gamma=0.0001, kernel=rbf, nu=0.01;, score=-0.016 total time=   0.0s\n",
      "[CV 2/5] END gamma=0.0001, kernel=rbf, nu=0.01;, score=-3.009 total time=   0.0s\n",
      "[CV 3/5] END gamma=0.0001, kernel=rbf, nu=0.01;, score=-5.022 total time=   0.0s\n",
      "[CV 4/5] END gamma=0.0001, kernel=rbf, nu=0.01;, score=-5.013 total time=   0.0s\n",
      "[CV 5/5] END gamma=0.0001, kernel=rbf, nu=0.01;, score=-0.022 total time=   0.0s\n",
      "[CV 1/5] END gamma=0.0001, kernel=rbf, nu=0.05;, score=-14.016 total time=   0.0s\n",
      "[CV 2/5] END gamma=0.0001, kernel=rbf, nu=0.05;, score=-12.010 total time=   0.0s\n",
      "[CV 3/5] END gamma=0.0001, kernel=rbf, nu=0.05;, score=-22.024 total time=   0.0s\n",
      "[CV 4/5] END gamma=0.0001, kernel=rbf, nu=0.05;, score=-20.013 total time=   0.0s\n",
      "[CV 5/5] END gamma=0.0001, kernel=rbf, nu=0.05;, score=-12.023 total time=   0.0s\n",
      "[CV 1/5] END gamma=0.0001, kernel=rbf, nu=0.1;, score=-30.017 total time=   0.0s\n",
      "[CV 2/5] END gamma=0.0001, kernel=rbf, nu=0.1;, score=-25.010 total time=   0.0s\n",
      "[CV 3/5] END gamma=0.0001, kernel=rbf, nu=0.1;, score=-42.022 total time=   0.0s\n",
      "[CV 4/5] END gamma=0.0001, kernel=rbf, nu=0.1;, score=-38.014 total time=   0.0s\n",
      "[CV 5/5] END gamma=0.0001, kernel=rbf, nu=0.1;, score=-20.023 total time=   0.0s\n",
      "[CV 1/5] END gamma=0.0001, kernel=rbf, nu=0.2;, score=-66.020 total time=   0.0s\n",
      "[CV 2/5] END gamma=0.0001, kernel=rbf, nu=0.2;, score=-49.011 total time=   0.0s\n",
      "[CV 3/5] END gamma=0.0001, kernel=rbf, nu=0.2;, score=-76.025 total time=   0.0s\n",
      "[CV 4/5] END gamma=0.0001, kernel=rbf, nu=0.2;, score=-60.015 total time=   0.0s\n",
      "[CV 5/5] END gamma=0.0001, kernel=rbf, nu=0.2;, score=-62.020 total time=   0.0s\n",
      "[CV 1/5] END gamma=0.0001, kernel=rbf, nu=0.3;, score=-91.018 total time=   0.0s\n",
      "[CV 2/5] END gamma=0.0001, kernel=rbf, nu=0.3;, score=-82.013 total time=   0.0s\n",
      "[CV 3/5] END gamma=0.0001, kernel=rbf, nu=0.3;, score=-102.023 total time=   0.0s\n",
      "[CV 4/5] END gamma=0.0001, kernel=rbf, nu=0.3;, score=-99.018 total time=   0.0s\n",
      "[CV 5/5] END gamma=0.0001, kernel=rbf, nu=0.3;, score=-96.018 total time=   0.0s\n",
      "[CV 1/5] END gamma=0.0001, kernel=rbf, nu=0.5;, score=-150.012 total time=   0.0s\n",
      "[CV 2/5] END gamma=0.0001, kernel=rbf, nu=0.5;, score=-143.017 total time=   0.0s\n",
      "[CV 3/5] END gamma=0.0001, kernel=rbf, nu=0.5;, score=-159.025 total time=   0.0s\n",
      "[CV 4/5] END gamma=0.0001, kernel=rbf, nu=0.5;, score=-164.013 total time=   0.0s\n",
      "[CV 5/5] END gamma=0.0001, kernel=rbf, nu=0.5;, score=-176.022 total time=   0.0s\n",
      "[CV 1/5] END gamma=0.0001, kernel=rbf, nu=0.7;, score=-220.011 total time=   0.0s\n",
      "[CV 2/5] END gamma=0.0001, kernel=rbf, nu=0.7;, score=-212.010 total time=   0.0s\n",
      "[CV 3/5] END gamma=0.0001, kernel=rbf, nu=0.7;, score=-214.020 total time=   0.0s\n",
      "[CV 4/5] END gamma=0.0001, kernel=rbf, nu=0.7;, score=-231.012 total time=   0.0s\n",
      "[CV 5/5] END gamma=0.0001, kernel=rbf, nu=0.7;, score=-222.032 total time=   0.0s\n",
      "[CV 1/5] END gamma=0.0001, kernel=rbf, nu=0.9;, score=-280.029 total time=   0.0s\n",
      "[CV 2/5] END gamma=0.0001, kernel=rbf, nu=0.9;, score=-285.000 total time=   0.0s\n",
      "[CV 3/5] END gamma=0.0001, kernel=rbf, nu=0.9;, score=-280.000 total time=   0.0s\n",
      "[CV 4/5] END gamma=0.0001, kernel=rbf, nu=0.9;, score=-287.034 total time=   0.0s\n",
      "[CV 5/5] END gamma=0.0001, kernel=rbf, nu=0.9;, score=-279.000 total time=   0.0s\n",
      "[CV 1/5] END gamma=0.0001, kernel=poly, nu=0.001;, score=-312.000 total time=   0.0s\n",
      "[CV 2/5] END gamma=0.0001, kernel=poly, nu=0.001;, score=-314.000 total time=   0.0s\n",
      "[CV 3/5] END gamma=0.0001, kernel=poly, nu=0.001;, score=-311.000 total time=   0.0s\n",
      "[CV 4/5] END gamma=0.0001, kernel=poly, nu=0.001;, score=-312.000 total time=   0.0s\n",
      "[CV 5/5] END gamma=0.0001, kernel=poly, nu=0.001;, score=-307.000 total time=   0.0s\n",
      "[CV 1/5] END gamma=0.0001, kernel=poly, nu=0.005;, score=-77.004 total time=   0.0s\n",
      "[CV 2/5] END gamma=0.0001, kernel=poly, nu=0.005;, score=-68.012 total time=   0.0s\n",
      "[CV 3/5] END gamma=0.0001, kernel=poly, nu=0.005;, score=-71.024 total time=   0.0s\n",
      "[CV 4/5] END gamma=0.0001, kernel=poly, nu=0.005;, score=-78.017 total time=   0.0s\n",
      "[CV 5/5] END gamma=0.0001, kernel=poly, nu=0.005;, score=-79.029 total time=   0.0s\n",
      "[CV 1/5] END gamma=0.0001, kernel=poly, nu=0.01;, score=-203.009 total time=   0.0s\n",
      "[CV 2/5] END gamma=0.0001, kernel=poly, nu=0.01;, score=-263.000 total time=   0.0s\n",
      "[CV 3/5] END gamma=0.0001, kernel=poly, nu=0.01;, score=-264.000 total time=   0.0s\n",
      "[CV 4/5] END gamma=0.0001, kernel=poly, nu=0.01;, score=-266.000 total time=   0.0s\n",
      "[CV 5/5] END gamma=0.0001, kernel=poly, nu=0.01;, score=-257.000 total time=   0.0s\n",
      "[CV 1/5] END gamma=0.0001, kernel=poly, nu=0.05;, score=-232.012 total time=   0.0s\n",
      "[CV 2/5] END gamma=0.0001, kernel=poly, nu=0.05;, score=-156.000 total time=   0.0s\n",
      "[CV 3/5] END gamma=0.0001, kernel=poly, nu=0.05;, score=-126.011 total time=   0.0s\n",
      "[CV 4/5] END gamma=0.0001, kernel=poly, nu=0.05;, score=-145.000 total time=   0.0s\n",
      "[CV 5/5] END gamma=0.0001, kernel=poly, nu=0.05;, score=-153.025 total time=   0.0s\n",
      "[CV 1/5] END gamma=0.0001, kernel=poly, nu=0.1;, score=-127.000 total time=   0.0s\n",
      "[CV 2/5] END gamma=0.0001, kernel=poly, nu=0.1;, score=-187.000 total time=   0.0s\n",
      "[CV 3/5] END gamma=0.0001, kernel=poly, nu=0.1;, score=-180.015 total time=   0.0s\n",
      "[CV 4/5] END gamma=0.0001, kernel=poly, nu=0.1;, score=-174.007 total time=   0.0s\n",
      "[CV 5/5] END gamma=0.0001, kernel=poly, nu=0.1;, score=-182.015 total time=   0.0s\n",
      "[CV 1/5] END gamma=0.0001, kernel=poly, nu=0.2;, score=-268.000 total time=   0.0s\n",
      "[CV 2/5] END gamma=0.0001, kernel=poly, nu=0.2;, score=-193.000 total time=   0.0s\n",
      "[CV 3/5] END gamma=0.0001, kernel=poly, nu=0.2;, score=-193.008 total time=   0.0s\n",
      "[CV 4/5] END gamma=0.0001, kernel=poly, nu=0.2;, score=-188.008 total time=   0.0s\n",
      "[CV 5/5] END gamma=0.0001, kernel=poly, nu=0.2;, score=-196.025 total time=   0.0s\n",
      "[CV 1/5] END gamma=0.0001, kernel=poly, nu=0.3;, score=-229.000 total time=   0.0s\n",
      "[CV 2/5] END gamma=0.0001, kernel=poly, nu=0.3;, score=-263.000 total time=   0.0s\n",
      "[CV 3/5] END gamma=0.0001, kernel=poly, nu=0.3;, score=-11.023 total time=   0.0s\n",
      "[CV 4/5] END gamma=0.0001, kernel=poly, nu=0.3;, score=-11.010 total time=   0.0s\n",
      "[CV 5/5] END gamma=0.0001, kernel=poly, nu=0.3;, score=-23.024 total time=   0.0s\n",
      "[CV 1/5] END gamma=0.0001, kernel=poly, nu=0.5;, score=-315.000 total time=   0.0s\n",
      "[CV 2/5] END gamma=0.0001, kernel=poly, nu=0.5;, score=-317.000 total time=   0.0s\n",
      "[CV 3/5] END gamma=0.0001, kernel=poly, nu=0.5;, score=-313.000 total time=   0.0s\n",
      "[CV 4/5] END gamma=0.0001, kernel=poly, nu=0.5;, score=-313.000 total time=   0.0s\n",
      "[CV 5/5] END gamma=0.0001, kernel=poly, nu=0.5;, score=-313.000 total time=   0.0s\n",
      "[CV 1/5] END gamma=0.0001, kernel=poly, nu=0.7;, score=-292.000 total time=   0.0s\n",
      "[CV 2/5] END gamma=0.0001, kernel=poly, nu=0.7;, score=-295.000 total time=   0.0s\n",
      "[CV 3/5] END gamma=0.0001, kernel=poly, nu=0.7;, score=-284.034 total time=   0.0s\n"
     ]
    },
    {
     "name": "stderr",
     "output_type": "stream",
     "text": [
      "c:\\Users\\Hannah Nga\\.conda\\envs\\fraudenv\\lib\\site-packages\\sklearn\\metrics\\_classification.py:1509: UndefinedMetricWarning: Precision is ill-defined and being set to 0.0 due to no predicted samples. Use `zero_division` parameter to control this behavior.\n",
      "  _warn_prf(average, modifier, f\"{metric.capitalize()} is\", len(result))\n",
      "c:\\Users\\Hannah Nga\\.conda\\envs\\fraudenv\\lib\\site-packages\\sklearn\\metrics\\_classification.py:1509: UndefinedMetricWarning: Precision is ill-defined and being set to 0.0 due to no predicted samples. Use `zero_division` parameter to control this behavior.\n",
      "  _warn_prf(average, modifier, f\"{metric.capitalize()} is\", len(result))\n",
      "c:\\Users\\Hannah Nga\\.conda\\envs\\fraudenv\\lib\\site-packages\\sklearn\\metrics\\_classification.py:1509: UndefinedMetricWarning: Precision is ill-defined and being set to 0.0 due to no predicted samples. Use `zero_division` parameter to control this behavior.\n",
      "  _warn_prf(average, modifier, f\"{metric.capitalize()} is\", len(result))\n",
      "c:\\Users\\Hannah Nga\\.conda\\envs\\fraudenv\\lib\\site-packages\\sklearn\\metrics\\_classification.py:1509: UndefinedMetricWarning: Precision is ill-defined and being set to 0.0 due to no predicted samples. Use `zero_division` parameter to control this behavior.\n",
      "  _warn_prf(average, modifier, f\"{metric.capitalize()} is\", len(result))\n"
     ]
    },
    {
     "name": "stdout",
     "output_type": "stream",
     "text": [
      "[CV 4/5] END gamma=0.0001, kernel=poly, nu=0.7;, score=-108.010 total time=   0.0s\n",
      "[CV 5/5] END gamma=0.0001, kernel=poly, nu=0.7;, score=-111.024 total time=   0.0s\n",
      "[CV 1/5] END gamma=0.0001, kernel=poly, nu=0.9;, score=-210.000 total time=   0.0s\n",
      "[CV 2/5] END gamma=0.0001, kernel=poly, nu=0.9;, score=-185.008 total time=   0.0s\n",
      "[CV 3/5] END gamma=0.0001, kernel=poly, nu=0.9;, score=-191.016 total time=   0.0s\n",
      "[CV 4/5] END gamma=0.0001, kernel=poly, nu=0.9;, score=-198.008 total time=   0.0s\n",
      "[CV 5/5] END gamma=0.0001, kernel=poly, nu=0.9;, score=-3.022 total time=   0.0s\n",
      "[CV 1/5] END gamma=0.0001, kernel=sigmoid, nu=0.001;, score=-298.000 total time=   0.0s\n",
      "[CV 2/5] END gamma=0.0001, kernel=sigmoid, nu=0.001;, score=-109.010 total time=   0.0s\n",
      "[CV 3/5] END gamma=0.0001, kernel=sigmoid, nu=0.001;, score=-165.033 total time=   0.0s\n",
      "[CV 4/5] END gamma=0.0001, kernel=sigmoid, nu=0.001;, score=-144.012 total time=   0.0s\n",
      "[CV 5/5] END gamma=0.0001, kernel=sigmoid, nu=0.001;, score=-212.010 total time=   0.0s\n",
      "[CV 1/5] END gamma=0.0001, kernel=sigmoid, nu=0.005;, score=-209.000 total time=   0.0s\n",
      "[CV 2/5] END gamma=0.0001, kernel=sigmoid, nu=0.005;, score=-196.000 total time=   0.0s\n",
      "[CV 3/5] END gamma=0.0001, kernel=sigmoid, nu=0.005;, score=-194.025 total time=   0.0s\n",
      "[CV 4/5] END gamma=0.0001, kernel=sigmoid, nu=0.005;, score=-266.020 total time=   0.0s\n",
      "[CV 5/5] END gamma=0.0001, kernel=sigmoid, nu=0.005;, score=-66.020 total time=   0.0s\n",
      "[CV 1/5] END gamma=0.0001, kernel=sigmoid, nu=0.01;, score=-280.000 total time=   0.0s\n",
      "[CV 2/5] END gamma=0.0001, kernel=sigmoid, nu=0.01;, score=-285.000 total time=   0.0s\n",
      "[CV 3/5] END gamma=0.0001, kernel=sigmoid, nu=0.01;, score=-281.031 total time=   0.0s\n",
      "[CV 4/5] END gamma=0.0001, kernel=sigmoid, nu=0.01;, score=-282.000 total time=   0.0s\n",
      "[CV 5/5] END gamma=0.0001, kernel=sigmoid, nu=0.01;, score=-205.036 total time=   0.0s\n",
      "[CV 1/5] END gamma=0.0001, kernel=sigmoid, nu=0.05;, score=-181.007 total time=   0.0s\n",
      "[CV 2/5] END gamma=0.0001, kernel=sigmoid, nu=0.05;, score=-221.021 total time=   0.0s\n",
      "[CV 3/5] END gamma=0.0001, kernel=sigmoid, nu=0.05;, score=-245.043 total time=   0.0s\n",
      "[CV 4/5] END gamma=0.0001, kernel=sigmoid, nu=0.05;, score=-291.000 total time=   0.0s\n",
      "[CV 5/5] END gamma=0.0001, kernel=sigmoid, nu=0.05;, score=-285.000 total time=   0.0s\n",
      "[CV 1/5] END gamma=0.0001, kernel=sigmoid, nu=0.1;, score=-300.000 total time=   0.0s\n",
      "[CV 2/5] END gamma=0.0001, kernel=sigmoid, nu=0.1;, score=-262.000 total time=   0.0s\n",
      "[CV 3/5] END gamma=0.0001, kernel=sigmoid, nu=0.1;, score=-246.015 total time=   0.0s\n",
      "[CV 4/5] END gamma=0.0001, kernel=sigmoid, nu=0.1;, score=-284.000 total time=   0.0s\n",
      "[CV 5/5] END gamma=0.0001, kernel=sigmoid, nu=0.1;, score=-25.024 total time=   0.0s\n",
      "[CV 1/5] END gamma=0.0001, kernel=sigmoid, nu=0.2;, score=-301.000 total time=   0.0s\n",
      "[CV 2/5] END gamma=0.0001, kernel=sigmoid, nu=0.2;, score=-254.016 total time=   0.0s\n",
      "[CV 3/5] END gamma=0.0001, kernel=sigmoid, nu=0.2;, score=-248.030 total time=   0.0s\n",
      "[CV 4/5] END gamma=0.0001, kernel=sigmoid, nu=0.2;, score=-230.000 total time=   0.0s\n",
      "[CV 5/5] END gamma=0.0001, kernel=sigmoid, nu=0.2;, score=-74.025 total time=   0.0s\n",
      "[CV 1/5] END gamma=0.0001, kernel=sigmoid, nu=0.3;, score=-297.000 total time=   0.0s\n",
      "[CV 2/5] END gamma=0.0001, kernel=sigmoid, nu=0.3;, score=-146.012 total time=   0.0s\n",
      "[CV 3/5] END gamma=0.0001, kernel=sigmoid, nu=0.3;, score=-272.000 total time=   0.0s\n",
      "[CV 4/5] END gamma=0.0001, kernel=sigmoid, nu=0.3;, score=-269.000 total time=   0.0s\n",
      "[CV 5/5] END gamma=0.0001, kernel=sigmoid, nu=0.3;, score=-119.025 total time=   0.0s\n",
      "[CV 1/5] END gamma=0.0001, kernel=sigmoid, nu=0.5;, score=-261.000 total time=   0.0s\n",
      "[CV 2/5] END gamma=0.0001, kernel=sigmoid, nu=0.5;, score=-302.000 total time=   0.0s\n",
      "[CV 3/5] END gamma=0.0001, kernel=sigmoid, nu=0.5;, score=-269.044 total time=   0.0s\n",
      "[CV 4/5] END gamma=0.0001, kernel=sigmoid, nu=0.5;, score=-299.000 total time=   0.0s\n",
      "[CV 5/5] END gamma=0.0001, kernel=sigmoid, nu=0.5;, score=-269.065 total time=   0.0s\n",
      "[CV 1/5] END gamma=0.0001, kernel=sigmoid, nu=0.7;, score=-298.000 total time=   0.0s\n",
      "[CV 2/5] END gamma=0.0001, kernel=sigmoid, nu=0.7;, score=-230.011 total time=   0.0s\n",
      "[CV 3/5] END gamma=0.0001, kernel=sigmoid, nu=0.7;, score=-202.009 total time=   0.0s\n",
      "[CV 4/5] END gamma=0.0001, kernel=sigmoid, nu=0.7;, score=-289.000 total time=   0.0s\n",
      "[CV 5/5] END gamma=0.0001, kernel=sigmoid, nu=0.7;, score=-307.000 total time=   0.0s\n",
      "[CV 1/5] END gamma=0.0001, kernel=sigmoid, nu=0.9;, score=-308.000 total time=   0.0s\n",
      "[CV 2/5] END gamma=0.0001, kernel=sigmoid, nu=0.9;, score=-303.000 total time=   0.0s\n",
      "[CV 3/5] END gamma=0.0001, kernel=sigmoid, nu=0.9;, score=-134.022 total time=   0.0s\n",
      "[CV 4/5] END gamma=0.0001, kernel=sigmoid, nu=0.9;, score=-223.021 total time=   0.0s\n",
      "[CV 5/5] END gamma=0.0001, kernel=sigmoid, nu=0.9;, score=-238.013 total time=   0.0s\n",
      "[CV 1/5] END gamma=1.0, kernel=linear, nu=0.001;, score=-169.000 total time=   0.0s\n",
      "[CV 2/5] END gamma=1.0, kernel=linear, nu=0.001;, score=-94.013 total time=   0.0s\n",
      "[CV 3/5] END gamma=1.0, kernel=linear, nu=0.001;, score=-126.031 total time=   0.0s\n",
      "[CV 4/5] END gamma=1.0, kernel=linear, nu=0.001;, score=-83.009 total time=   0.0s\n",
      "[CV 5/5] END gamma=1.0, kernel=linear, nu=0.001;, score=-77.025 total time=   0.0s\n",
      "[CV 1/5] END gamma=1.0, kernel=linear, nu=0.005;, score=-254.000 total time=   0.0s\n",
      "[CV 2/5] END gamma=1.0, kernel=linear, nu=0.005;, score=-45.007 total time=   0.0s\n",
      "[CV 3/5] END gamma=1.0, kernel=linear, nu=0.005;, score=-120.020 total time=   0.0s\n",
      "[CV 4/5] END gamma=1.0, kernel=linear, nu=0.005;, score=-123.015 total time=   0.0s\n",
      "[CV 5/5] END gamma=1.0, kernel=linear, nu=0.005;, score=-95.031 total time=   0.0s\n",
      "[CV 1/5] END gamma=1.0, kernel=linear, nu=0.01;, score=-150.000 total time=   0.0s\n",
      "[CV 2/5] END gamma=1.0, kernel=linear, nu=0.01;, score=-228.011 total time=   0.0s\n",
      "[CV 3/5] END gamma=1.0, kernel=linear, nu=0.01;, score=-225.033 total time=   0.0s\n",
      "[CV 4/5] END gamma=1.0, kernel=linear, nu=0.01;, score=-218.010 total time=   0.0s\n",
      "[CV 5/5] END gamma=1.0, kernel=linear, nu=0.01;, score=-178.007 total time=   0.0s\n",
      "[CV 1/5] END gamma=1.0, kernel=linear, nu=0.05;, score=-262.000 total time=   0.0s\n",
      "[CV 2/5] END gamma=1.0, kernel=linear, nu=0.05;, score=-205.000 total time=   0.0s\n",
      "[CV 3/5] END gamma=1.0, kernel=linear, nu=0.05;, score=-246.029 total time=   0.0s\n",
      "[CV 4/5] END gamma=1.0, kernel=linear, nu=0.05;, score=-279.000 total time=   0.0s\n",
      "[CV 5/5] END gamma=1.0, kernel=linear, nu=0.05;, score=-120.020 total time=   0.0s\n",
      "[CV 1/5] END gamma=1.0, kernel=linear, nu=0.1;, score=-264.000 total time=   0.0s\n",
      "[CV 2/5] END gamma=1.0, kernel=linear, nu=0.1;, score=-112.014 total time=   0.0s\n",
      "[CV 3/5] END gamma=1.0, kernel=linear, nu=0.1;, score=-214.020 total time=   0.0s\n",
      "[CV 4/5] END gamma=1.0, kernel=linear, nu=0.1;, score=-262.019 total time=   0.0s\n",
      "[CV 5/5] END gamma=1.0, kernel=linear, nu=0.1;, score=-32.018 total time=   0.0s\n",
      "[CV 1/5] END gamma=1.0, kernel=linear, nu=0.2;, score=-270.000 total time=   0.0s\n",
      "[CV 2/5] END gamma=1.0, kernel=linear, nu=0.2;, score=-289.000 total time=   0.0s\n",
      "[CV 3/5] END gamma=1.0, kernel=linear, nu=0.2;, score=-287.038 total time=   0.0s\n",
      "[CV 4/5] END gamma=1.0, kernel=linear, nu=0.2;, score=-259.018 total time=   0.0s\n",
      "[CV 5/5] END gamma=1.0, kernel=linear, nu=0.2;, score=-64.024 total time=   0.0s\n",
      "[CV 1/5] END gamma=1.0, kernel=linear, nu=0.3;, score=-275.000 total time=   0.0s\n",
      "[CV 2/5] END gamma=1.0, kernel=linear, nu=0.3;, score=-287.000 total time=   0.0s\n",
      "[CV 3/5] END gamma=1.0, kernel=linear, nu=0.3;, score=-228.023 total time=   0.0s\n",
      "[CV 4/5] END gamma=1.0, kernel=linear, nu=0.3;, score=-282.000 total time=   0.0s\n",
      "[CV 5/5] END gamma=1.0, kernel=linear, nu=0.3;, score=-123.021 total time=   0.0s\n",
      "[CV 1/5] END gamma=1.0, kernel=linear, nu=0.5;, score=-292.000 total time=   0.0s\n",
      "[CV 2/5] END gamma=1.0, kernel=linear, nu=0.5;, score=-253.000 total time=   0.0s\n",
      "[CV 3/5] END gamma=1.0, kernel=linear, nu=0.5;, score=-248.015 total time=   0.0s\n",
      "[CV 4/5] END gamma=1.0, kernel=linear, nu=0.5;, score=-224.011 total time=   0.0s\n",
      "[CV 5/5] END gamma=1.0, kernel=linear, nu=0.5;, score=-251.032 total time=   0.0s\n",
      "[CV 1/5] END gamma=1.0, kernel=linear, nu=0.7;, score=-299.000 total time=   0.0s\n",
      "[CV 2/5] END gamma=1.0, kernel=linear, nu=0.7;, score=-109.005 total time=   0.0s\n",
      "[CV 3/5] END gamma=1.0, kernel=linear, nu=0.7;, score=-265.021 total time=   0.0s\n",
      "[CV 4/5] END gamma=1.0, kernel=linear, nu=0.7;, score=-226.011 total time=   0.0s\n",
      "[CV 5/5] END gamma=1.0, kernel=linear, nu=0.7;, score=-289.000 total time=   0.0s\n",
      "[CV 1/5] END gamma=1.0, kernel=linear, nu=0.9;, score=-293.000 total time=   0.0s\n",
      "[CV 2/5] END gamma=1.0, kernel=linear, nu=0.9;, score=-246.014 total time=   0.0s\n",
      "[CV 3/5] END gamma=1.0, kernel=linear, nu=0.9;, score=-200.018 total time=   0.0s\n",
      "[CV 4/5] END gamma=1.0, kernel=linear, nu=0.9;, score=-164.013 total time=   0.0s\n",
      "[CV 5/5] END gamma=1.0, kernel=linear, nu=0.9;, score=-274.026 total time=   0.0s\n",
      "[CV 1/5] END gamma=1.0, kernel=rbf, nu=0.001;, score=-282.000 total time=   0.0s\n",
      "[CV 2/5] END gamma=1.0, kernel=rbf, nu=0.001;, score=-300.000 total time=   0.0s\n",
      "[CV 3/5] END gamma=1.0, kernel=rbf, nu=0.001;, score=-298.000 total time=   0.0s\n",
      "[CV 4/5] END gamma=1.0, kernel=rbf, nu=0.001;, score=-291.000 total time=   0.0s\n",
      "[CV 5/5] END gamma=1.0, kernel=rbf, nu=0.001;, score=-298.000 total time=   0.0s\n",
      "[CV 1/5] END gamma=1.0, kernel=rbf, nu=0.005;, score=-249.000 total time=   0.0s\n",
      "[CV 2/5] END gamma=1.0, kernel=rbf, nu=0.005;, score=-261.000 total time=   0.0s\n",
      "[CV 3/5] END gamma=1.0, kernel=rbf, nu=0.005;, score=-269.000 total time=   0.0s\n",
      "[CV 4/5] END gamma=1.0, kernel=rbf, nu=0.005;, score=-259.000 total time=   0.0s\n",
      "[CV 5/5] END gamma=1.0, kernel=rbf, nu=0.005;, score=-257.018 total time=   0.0s\n",
      "[CV 1/5] END .gamma=1.0, kernel=rbf, nu=0.01;, score=-250.000 total time=   0.0s\n",
      "[CV 2/5] END .gamma=1.0, kernel=rbf, nu=0.01;, score=-261.000 total time=   0.0s\n",
      "[CV 3/5] END .gamma=1.0, kernel=rbf, nu=0.01;, score=-271.000 total time=   0.0s\n",
      "[CV 4/5] END .gamma=1.0, kernel=rbf, nu=0.01;, score=-257.000 total time=   0.0s\n",
      "[CV 5/5] END .gamma=1.0, kernel=rbf, nu=0.01;, score=-257.018 total time=   0.0s\n",
      "[CV 1/5] END .gamma=1.0, kernel=rbf, nu=0.05;, score=-249.000 total time=   0.0s\n",
      "[CV 2/5] END .gamma=1.0, kernel=rbf, nu=0.05;, score=-260.000 total time=   0.0s\n",
      "[CV 3/5] END .gamma=1.0, kernel=rbf, nu=0.05;, score=-271.000 total time=   0.0s\n",
      "[CV 4/5] END .gamma=1.0, kernel=rbf, nu=0.05;, score=-256.000 total time=   0.0s\n",
      "[CV 5/5] END .gamma=1.0, kernel=rbf, nu=0.05;, score=-258.018 total time=   0.0s\n",
      "[CV 1/5] END ..gamma=1.0, kernel=rbf, nu=0.1;, score=-249.000 total time=   0.0s\n",
      "[CV 2/5] END ..gamma=1.0, kernel=rbf, nu=0.1;, score=-260.000 total time=   0.0s\n",
      "[CV 3/5] END ..gamma=1.0, kernel=rbf, nu=0.1;, score=-271.000 total time=   0.0s\n",
      "[CV 4/5] END ..gamma=1.0, kernel=rbf, nu=0.1;, score=-257.000 total time=   0.0s\n",
      "[CV 5/5] END ..gamma=1.0, kernel=rbf, nu=0.1;, score=-258.018 total time=   0.0s\n",
      "[CV 1/5] END ..gamma=1.0, kernel=rbf, nu=0.2;, score=-249.000 total time=   0.0s\n",
      "[CV 2/5] END ..gamma=1.0, kernel=rbf, nu=0.2;, score=-260.000 total time=   0.0s\n",
      "[CV 3/5] END ..gamma=1.0, kernel=rbf, nu=0.2;, score=-271.000 total time=   0.0s\n",
      "[CV 4/5] END ..gamma=1.0, kernel=rbf, nu=0.2;, score=-257.000 total time=   0.0s\n",
      "[CV 5/5] END ..gamma=1.0, kernel=rbf, nu=0.2;, score=-258.018 total time=   0.0s\n",
      "[CV 1/5] END ..gamma=1.0, kernel=rbf, nu=0.3;, score=-249.000 total time=   0.0s\n",
      "[CV 2/5] END ..gamma=1.0, kernel=rbf, nu=0.3;, score=-260.000 total time=   0.0s\n",
      "[CV 3/5] END ..gamma=1.0, kernel=rbf, nu=0.3;, score=-271.000 total time=   0.0s\n",
      "[CV 4/5] END ..gamma=1.0, kernel=rbf, nu=0.3;, score=-257.000 total time=   0.0s\n",
      "[CV 5/5] END ..gamma=1.0, kernel=rbf, nu=0.3;, score=-258.018 total time=   0.0s\n",
      "[CV 1/5] END ..gamma=1.0, kernel=rbf, nu=0.5;, score=-249.000 total time=   0.0s\n",
      "[CV 2/5] END ..gamma=1.0, kernel=rbf, nu=0.5;, score=-260.000 total time=   0.0s\n",
      "[CV 3/5] END ..gamma=1.0, kernel=rbf, nu=0.5;, score=-271.000 total time=   0.0s\n",
      "[CV 4/5] END ..gamma=1.0, kernel=rbf, nu=0.5;, score=-257.000 total time=   0.0s\n",
      "[CV 5/5] END ..gamma=1.0, kernel=rbf, nu=0.5;, score=-258.018 total time=   0.0s\n",
      "[CV 1/5] END ..gamma=1.0, kernel=rbf, nu=0.7;, score=-250.000 total time=   0.0s\n",
      "[CV 2/5] END ..gamma=1.0, kernel=rbf, nu=0.7;, score=-263.000 total time=   0.0s\n",
      "[CV 3/5] END ..gamma=1.0, kernel=rbf, nu=0.7;, score=-272.000 total time=   0.0s\n",
      "[CV 4/5] END ..gamma=1.0, kernel=rbf, nu=0.7;, score=-257.000 total time=   0.0s\n",
      "[CV 5/5] END ..gamma=1.0, kernel=rbf, nu=0.7;, score=-259.019 total time=   0.0s\n",
      "[CV 1/5] END ..gamma=1.0, kernel=rbf, nu=0.9;, score=-283.000 total time=   0.0s\n",
      "[CV 2/5] END ..gamma=1.0, kernel=rbf, nu=0.9;, score=-296.000 total time=   0.0s\n",
      "[CV 3/5] END ..gamma=1.0, kernel=rbf, nu=0.9;, score=-292.000 total time=   0.0s\n",
      "[CV 4/5] END ..gamma=1.0, kernel=rbf, nu=0.9;, score=-287.000 total time=   0.0s\n",
      "[CV 5/5] END ..gamma=1.0, kernel=rbf, nu=0.9;, score=-289.000 total time=   0.0s\n",
      "[CV 1/5] END gamma=1.0, kernel=poly, nu=0.001;, score=-36.014 total time=   0.0s\n",
      "[CV 2/5] END gamma=1.0, kernel=poly, nu=0.001;, score=-55.004 total time=   0.0s\n",
      "[CV 3/5] END gamma=1.0, kernel=poly, nu=0.001;, score=-56.023 total time=   0.0s\n",
      "[CV 4/5] END gamma=1.0, kernel=poly, nu=0.001;, score=-33.007 total time=   0.0s\n",
      "[CV 5/5] END gamma=1.0, kernel=poly, nu=0.001;, score=-38.011 total time=   0.0s\n",
      "[CV 1/5] END gamma=1.0, kernel=poly, nu=0.005;, score=-36.014 total time=   0.0s\n",
      "[CV 2/5] END gamma=1.0, kernel=poly, nu=0.005;, score=-55.004 total time=   0.0s\n",
      "[CV 3/5] END gamma=1.0, kernel=poly, nu=0.005;, score=-56.023 total time=   0.0s\n",
      "[CV 4/5] END gamma=1.0, kernel=poly, nu=0.005;, score=-33.007 total time=   0.0s\n",
      "[CV 5/5] END gamma=1.0, kernel=poly, nu=0.005;, score=-38.011 total time=   0.0s\n",
      "[CV 1/5] END .gamma=1.0, kernel=poly, nu=0.01;, score=-35.014 total time=   0.0s\n",
      "[CV 2/5] END .gamma=1.0, kernel=poly, nu=0.01;, score=-55.004 total time=   0.0s\n",
      "[CV 3/5] END .gamma=1.0, kernel=poly, nu=0.01;, score=-56.023 total time=   0.0s\n",
      "[CV 4/5] END .gamma=1.0, kernel=poly, nu=0.01;, score=-38.007 total time=   0.0s\n",
      "[CV 5/5] END .gamma=1.0, kernel=poly, nu=0.01;, score=-40.011 total time=   0.0s\n",
      "[CV 1/5] END .gamma=1.0, kernel=poly, nu=0.05;, score=-41.014 total time=   0.0s\n",
      "[CV 2/5] END .gamma=1.0, kernel=poly, nu=0.05;, score=-55.004 total time=   0.0s\n",
      "[CV 3/5] END .gamma=1.0, kernel=poly, nu=0.05;, score=-61.023 total time=   0.0s\n",
      "[CV 4/5] END .gamma=1.0, kernel=poly, nu=0.05;, score=-41.007 total time=   0.0s\n",
      "[CV 5/5] END .gamma=1.0, kernel=poly, nu=0.05;, score=-43.011 total time=   0.0s\n",
      "[CV 1/5] END ..gamma=1.0, kernel=poly, nu=0.1;, score=-60.016 total time=   0.0s\n",
      "[CV 2/5] END ..gamma=1.0, kernel=poly, nu=0.1;, score=-59.004 total time=   0.0s\n",
      "[CV 3/5] END ..gamma=1.0, kernel=poly, nu=0.1;, score=-78.025 total time=   0.0s\n",
      "[CV 4/5] END ..gamma=1.0, kernel=poly, nu=0.1;, score=-51.008 total time=   0.0s\n",
      "[CV 5/5] END ..gamma=1.0, kernel=poly, nu=0.1;, score=-53.015 total time=   0.0s\n",
      "[CV 1/5] END ..gamma=1.0, kernel=poly, nu=0.2;, score=-77.017 total time=   0.0s\n",
      "[CV 2/5] END ..gamma=1.0, kernel=poly, nu=0.2;, score=-92.000 total time=   0.0s\n",
      "[CV 3/5] END .gamma=1.0, kernel=poly, nu=0.2;, score=-107.024 total time=   0.0s\n",
      "[CV 4/5] END ..gamma=1.0, kernel=poly, nu=0.2;, score=-78.008 total time=   0.0s\n",
      "[CV 5/5] END ..gamma=1.0, kernel=poly, nu=0.2;, score=-77.008 total time=   0.0s\n",
      "[CV 1/5] END .gamma=1.0, kernel=poly, nu=0.3;, score=-109.014 total time=   0.0s\n",
      "[CV 2/5] END .gamma=1.0, kernel=poly, nu=0.3;, score=-126.000 total time=   0.0s\n",
      "[CV 3/5] END .gamma=1.0, kernel=poly, nu=0.3;, score=-134.022 total time=   0.0s\n",
      "[CV 4/5] END ..gamma=1.0, kernel=poly, nu=0.3;, score=-99.005 total time=   0.0s\n",
      "[CV 5/5] END .gamma=1.0, kernel=poly, nu=0.3;, score=-109.010 total time=   0.0s\n",
      "[CV 1/5] END .gamma=1.0, kernel=poly, nu=0.5;, score=-159.025 total time=   0.0s\n",
      "[CV 2/5] END .gamma=1.0, kernel=poly, nu=0.5;, score=-182.000 total time=   0.0s\n",
      "[CV 3/5] END .gamma=1.0, kernel=poly, nu=0.5;, score=-178.015 total time=   0.0s\n",
      "[CV 4/5] END .gamma=1.0, kernel=poly, nu=0.5;, score=-153.006 total time=   0.0s\n",
      "[CV 5/5] END .gamma=1.0, kernel=poly, nu=0.5;, score=-163.013 total time=   0.0s\n",
      "[CV 1/5] END .gamma=1.0, kernel=poly, nu=0.7;, score=-222.011 total time=   0.0s\n",
      "[CV 2/5] END .gamma=1.0, kernel=poly, nu=0.7;, score=-254.000 total time=   0.0s\n",
      "[CV 3/5] END .gamma=1.0, kernel=poly, nu=0.7;, score=-213.020 total time=   0.0s\n",
      "[CV 4/5] END .gamma=1.0, kernel=poly, nu=0.7;, score=-216.000 total time=   0.0s\n",
      "[CV 5/5] END .gamma=1.0, kernel=poly, nu=0.7;, score=-227.012 total time=   0.0s\n",
      "[CV 1/5] END .gamma=1.0, kernel=poly, nu=0.9;, score=-287.000 total time=   0.0s\n",
      "[CV 2/5] END .gamma=1.0, kernel=poly, nu=0.9;, score=-292.000 total time=   0.0s\n",
      "[CV 3/5] END .gamma=1.0, kernel=poly, nu=0.9;, score=-271.000 total time=   0.0s\n",
      "[CV 4/5] END .gamma=1.0, kernel=poly, nu=0.9;, score=-280.000 total time=   0.0s\n",
      "[CV 5/5] END .gamma=1.0, kernel=poly, nu=0.9;, score=-288.000 total time=   0.0s\n",
      "[CV 1/5] END gamma=1.0, kernel=sigmoid, nu=0.001;, score=0.984 total time=   0.0s\n",
      "[CV 2/5] END gamma=1.0, kernel=sigmoid, nu=0.001;, score=0.991 total time=   0.0s\n",
      "[CV 3/5] END gamma=1.0, kernel=sigmoid, nu=0.001;, score=-2.022 total time=   0.0s\n",
      "[CV 4/5] END gamma=1.0, kernel=sigmoid, nu=0.001;, score=-0.013 total time=   0.0s\n",
      "[CV 5/5] END gamma=1.0, kernel=sigmoid, nu=0.001;, score=0.978 total time=   0.0s\n",
      "[CV 1/5] END gamma=1.0, kernel=sigmoid, nu=0.005;, score=0.984 total time=   0.0s\n",
      "[CV 2/5] END gamma=1.0, kernel=sigmoid, nu=0.005;, score=0.991 total time=   0.0s\n",
      "[CV 3/5] END gamma=1.0, kernel=sigmoid, nu=0.005;, score=-2.022 total time=   0.0s\n",
      "[CV 4/5] END gamma=1.0, kernel=sigmoid, nu=0.005;, score=-0.013 total time=   0.0s\n",
      "[CV 5/5] END gamma=1.0, kernel=sigmoid, nu=0.005;, score=0.978 total time=   0.0s\n",
      "[CV 1/5] END gamma=1.0, kernel=sigmoid, nu=0.01;, score=0.984 total time=   0.0s\n",
      "[CV 2/5] END gamma=1.0, kernel=sigmoid, nu=0.01;, score=-1.009 total time=   0.0s\n",
      "[CV 3/5] END gamma=1.0, kernel=sigmoid, nu=0.01;, score=-0.022 total time=   0.0s\n",
      "[CV 4/5] END gamma=1.0, kernel=sigmoid, nu=0.01;, score=-2.013 total time=   0.0s\n",
      "[CV 5/5] END gamma=1.0, kernel=sigmoid, nu=0.01;, score=0.978 total time=   0.0s\n",
      "[CV 1/5] END gamma=1.0, kernel=sigmoid, nu=0.05;, score=-8.016 total time=   0.0s\n",
      "[CV 2/5] END gamma=1.0, kernel=sigmoid, nu=0.05;, score=-15.010 total time=   0.0s\n",
      "[CV 3/5] END gamma=1.0, kernel=sigmoid, nu=0.05;, score=-10.023 total time=   0.0s\n",
      "[CV 4/5] END gamma=1.0, kernel=sigmoid, nu=0.05;, score=-12.013 total time=   0.0s\n",
      "[CV 5/5] END gamma=1.0, kernel=sigmoid, nu=0.05;, score=-16.023 total time=   0.0s\n",
      "[CV 1/5] END gamma=1.0, kernel=sigmoid, nu=0.1;, score=-21.017 total time=   0.0s\n",
      "[CV 2/5] END gamma=1.0, kernel=sigmoid, nu=0.1;, score=-31.010 total time=   0.0s\n",
      "[CV 3/5] END gamma=1.0, kernel=sigmoid, nu=0.1;, score=-34.025 total time=   0.0s\n",
      "[CV 4/5] END gamma=1.0, kernel=sigmoid, nu=0.1;, score=-27.014 total time=   0.0s\n",
      "[CV 5/5] END gamma=1.0, kernel=sigmoid, nu=0.1;, score=-24.024 total time=   0.0s\n",
      "[CV 1/5] END gamma=1.0, kernel=sigmoid, nu=0.2;, score=-45.015 total time=   0.0s\n",
      "[CV 2/5] END gamma=1.0, kernel=sigmoid, nu=0.2;, score=-57.011 total time=   0.0s\n",
      "[CV 3/5] END gamma=1.0, kernel=sigmoid, nu=0.2;, score=-57.027 total time=   0.0s\n",
      "[CV 4/5] END gamma=1.0, kernel=sigmoid, nu=0.2;, score=-53.015 total time=   0.0s\n",
      "[CV 5/5] END gamma=1.0, kernel=sigmoid, nu=0.2;, score=-61.027 total time=   0.0s\n",
      "[CV 1/5] END gamma=1.0, kernel=sigmoid, nu=0.3;, score=-92.013 total time=   0.0s\n",
      "[CV 2/5] END gamma=1.0, kernel=sigmoid, nu=0.3;, score=-85.013 total time=   0.0s\n",
      "[CV 3/5] END gamma=1.0, kernel=sigmoid, nu=0.3;, score=-107.019 total time=   0.0s\n",
      "[CV 4/5] END gamma=1.0, kernel=sigmoid, nu=0.3;, score=-92.018 total time=   0.0s\n",
      "[CV 5/5] END gamma=1.0, kernel=sigmoid, nu=0.3;, score=-89.030 total time=   0.0s\n",
      "[CV 1/5] END gamma=1.0, kernel=sigmoid, nu=0.5;, score=-150.024 total time=   0.0s\n",
      "[CV 2/5] END gamma=1.0, kernel=sigmoid, nu=0.5;, score=-138.017 total time=   0.0s\n",
      "[CV 3/5] END gamma=1.0, kernel=sigmoid, nu=0.5;, score=-156.019 total time=   0.0s\n",
      "[CV 4/5] END gamma=1.0, kernel=sigmoid, nu=0.5;, score=-152.024 total time=   0.0s\n",
      "[CV 5/5] END gamma=1.0, kernel=sigmoid, nu=0.5;, score=-159.038 total time=   0.0s\n",
      "[CV 1/5] END gamma=1.0, kernel=sigmoid, nu=0.7;, score=-215.029 total time=   0.0s\n",
      "[CV 2/5] END gamma=1.0, kernel=sigmoid, nu=0.7;, score=-213.019 total time=   0.0s\n",
      "[CV 3/5] END gamma=1.0, kernel=sigmoid, nu=0.7;, score=-219.011 total time=   0.0s\n",
      "[CV 4/5] END gamma=1.0, kernel=sigmoid, nu=0.7;, score=-213.038 total time=   0.0s\n",
      "[CV 5/5] END gamma=1.0, kernel=sigmoid, nu=0.7;, score=-228.056 total time=   0.0s\n",
      "[CV 1/5] END gamma=1.0, kernel=sigmoid, nu=0.9;, score=-285.033 total time=   0.0s\n",
      "[CV 2/5] END gamma=1.0, kernel=sigmoid, nu=0.9;, score=-279.026 total time=   0.0s\n",
      "[CV 3/5] END gamma=1.0, kernel=sigmoid, nu=0.9;, score=-282.000 total time=   0.0s\n",
      "[CV 4/5] END gamma=1.0, kernel=sigmoid, nu=0.9;, score=-288.036 total time=   0.0s\n",
      "[CV 5/5] END gamma=1.0, kernel=sigmoid, nu=0.9;, score=-282.032 total time=   0.0s\n",
      "[CV 1/5] END gamma=10.0, kernel=linear, nu=0.001;, score=-169.000 total time=   0.0s\n",
      "[CV 2/5] END gamma=10.0, kernel=linear, nu=0.001;, score=-94.013 total time=   0.0s\n",
      "[CV 3/5] END gamma=10.0, kernel=linear, nu=0.001;, score=-126.031 total time=   0.0s\n",
      "[CV 4/5] END gamma=10.0, kernel=linear, nu=0.001;, score=-83.009 total time=   0.0s\n",
      "[CV 5/5] END gamma=10.0, kernel=linear, nu=0.001;, score=-77.025 total time=   0.0s\n",
      "[CV 1/5] END gamma=10.0, kernel=linear, nu=0.005;, score=-254.000 total time=   0.0s\n",
      "[CV 2/5] END gamma=10.0, kernel=linear, nu=0.005;, score=-45.007 total time=   0.0s\n",
      "[CV 3/5] END gamma=10.0, kernel=linear, nu=0.005;, score=-120.020 total time=   0.0s\n",
      "[CV 4/5] END gamma=10.0, kernel=linear, nu=0.005;, score=-123.015 total time=   0.0s\n",
      "[CV 5/5] END gamma=10.0, kernel=linear, nu=0.005;, score=-95.031 total time=   0.0s\n",
      "[CV 1/5] END gamma=10.0, kernel=linear, nu=0.01;, score=-150.000 total time=   0.0s\n",
      "[CV 2/5] END gamma=10.0, kernel=linear, nu=0.01;, score=-228.011 total time=   0.0s\n",
      "[CV 3/5] END gamma=10.0, kernel=linear, nu=0.01;, score=-225.033 total time=   0.0s\n",
      "[CV 4/5] END gamma=10.0, kernel=linear, nu=0.01;, score=-218.010 total time=   0.0s\n",
      "[CV 5/5] END gamma=10.0, kernel=linear, nu=0.01;, score=-178.007 total time=   0.0s\n",
      "[CV 1/5] END gamma=10.0, kernel=linear, nu=0.05;, score=-262.000 total time=   0.0s\n",
      "[CV 2/5] END gamma=10.0, kernel=linear, nu=0.05;, score=-205.000 total time=   0.0s\n",
      "[CV 3/5] END gamma=10.0, kernel=linear, nu=0.05;, score=-246.029 total time=   0.0s\n",
      "[CV 4/5] END gamma=10.0, kernel=linear, nu=0.05;, score=-279.000 total time=   0.0s\n",
      "[CV 5/5] END gamma=10.0, kernel=linear, nu=0.05;, score=-120.020 total time=   0.0s\n",
      "[CV 1/5] END gamma=10.0, kernel=linear, nu=0.1;, score=-264.000 total time=   0.0s\n",
      "[CV 2/5] END gamma=10.0, kernel=linear, nu=0.1;, score=-112.014 total time=   0.0s\n",
      "[CV 3/5] END gamma=10.0, kernel=linear, nu=0.1;, score=-214.020 total time=   0.0s\n",
      "[CV 4/5] END gamma=10.0, kernel=linear, nu=0.1;, score=-262.019 total time=   0.0s\n",
      "[CV 5/5] END gamma=10.0, kernel=linear, nu=0.1;, score=-32.018 total time=   0.0s\n",
      "[CV 1/5] END gamma=10.0, kernel=linear, nu=0.2;, score=-270.000 total time=   0.0s\n",
      "[CV 2/5] END gamma=10.0, kernel=linear, nu=0.2;, score=-289.000 total time=   0.0s\n",
      "[CV 3/5] END gamma=10.0, kernel=linear, nu=0.2;, score=-287.038 total time=   0.0s\n",
      "[CV 4/5] END gamma=10.0, kernel=linear, nu=0.2;, score=-259.018 total time=   0.0s\n",
      "[CV 5/5] END gamma=10.0, kernel=linear, nu=0.2;, score=-64.024 total time=   0.0s\n",
      "[CV 1/5] END gamma=10.0, kernel=linear, nu=0.3;, score=-275.000 total time=   0.0s\n",
      "[CV 2/5] END gamma=10.0, kernel=linear, nu=0.3;, score=-287.000 total time=   0.0s\n",
      "[CV 3/5] END gamma=10.0, kernel=linear, nu=0.3;, score=-228.023 total time=   0.0s\n",
      "[CV 4/5] END gamma=10.0, kernel=linear, nu=0.3;, score=-282.000 total time=   0.0s\n",
      "[CV 5/5] END gamma=10.0, kernel=linear, nu=0.3;, score=-123.021 total time=   0.0s\n",
      "[CV 1/5] END gamma=10.0, kernel=linear, nu=0.5;, score=-292.000 total time=   0.0s\n",
      "[CV 2/5] END gamma=10.0, kernel=linear, nu=0.5;, score=-253.000 total time=   0.0s\n",
      "[CV 3/5] END gamma=10.0, kernel=linear, nu=0.5;, score=-248.015 total time=   0.0s\n",
      "[CV 4/5] END gamma=10.0, kernel=linear, nu=0.5;, score=-224.011 total time=   0.0s\n",
      "[CV 5/5] END gamma=10.0, kernel=linear, nu=0.5;, score=-251.032 total time=   0.0s\n",
      "[CV 1/5] END gamma=10.0, kernel=linear, nu=0.7;, score=-299.000 total time=   0.0s\n",
      "[CV 2/5] END gamma=10.0, kernel=linear, nu=0.7;, score=-109.005 total time=   0.0s\n",
      "[CV 3/5] END gamma=10.0, kernel=linear, nu=0.7;, score=-265.021 total time=   0.0s\n",
      "[CV 4/5] END gamma=10.0, kernel=linear, nu=0.7;, score=-226.011 total time=   0.0s\n",
      "[CV 5/5] END gamma=10.0, kernel=linear, nu=0.7;, score=-289.000 total time=   0.0s\n",
      "[CV 1/5] END gamma=10.0, kernel=linear, nu=0.9;, score=-293.000 total time=   0.0s\n",
      "[CV 2/5] END gamma=10.0, kernel=linear, nu=0.9;, score=-246.014 total time=   0.0s\n",
      "[CV 3/5] END gamma=10.0, kernel=linear, nu=0.9;, score=-200.018 total time=   0.0s\n",
      "[CV 4/5] END gamma=10.0, kernel=linear, nu=0.9;, score=-164.013 total time=   0.0s\n",
      "[CV 5/5] END gamma=10.0, kernel=linear, nu=0.9;, score=-274.026 total time=   0.0s\n",
      "[CV 1/5] END gamma=10.0, kernel=rbf, nu=0.001;, score=-315.000 total time=   0.0s\n",
      "[CV 2/5] END gamma=10.0, kernel=rbf, nu=0.001;, score=-317.000 total time=   0.0s\n"
     ]
    },
    {
     "name": "stderr",
     "output_type": "stream",
     "text": [
      "c:\\Users\\Hannah Nga\\.conda\\envs\\fraudenv\\lib\\site-packages\\sklearn\\metrics\\_classification.py:1509: UndefinedMetricWarning: Precision is ill-defined and being set to 0.0 due to no predicted samples. Use `zero_division` parameter to control this behavior.\n",
      "  _warn_prf(average, modifier, f\"{metric.capitalize()} is\", len(result))\n",
      "c:\\Users\\Hannah Nga\\.conda\\envs\\fraudenv\\lib\\site-packages\\sklearn\\metrics\\_classification.py:1509: UndefinedMetricWarning: Precision is ill-defined and being set to 0.0 due to no predicted samples. Use `zero_division` parameter to control this behavior.\n",
      "  _warn_prf(average, modifier, f\"{metric.capitalize()} is\", len(result))\n",
      "c:\\Users\\Hannah Nga\\.conda\\envs\\fraudenv\\lib\\site-packages\\sklearn\\metrics\\_classification.py:1509: UndefinedMetricWarning: Precision is ill-defined and being set to 0.0 due to no predicted samples. Use `zero_division` parameter to control this behavior.\n",
      "  _warn_prf(average, modifier, f\"{metric.capitalize()} is\", len(result))\n"
     ]
    },
    {
     "name": "stdout",
     "output_type": "stream",
     "text": [
      "[CV 3/5] END gamma=10.0, kernel=rbf, nu=0.001;, score=-313.000 total time=   0.0s\n",
      "[CV 4/5] END gamma=10.0, kernel=rbf, nu=0.001;, score=-316.000 total time=   0.0s\n",
      "[CV 5/5] END gamma=10.0, kernel=rbf, nu=0.001;, score=-313.000 total time=   0.0s\n"
     ]
    },
    {
     "name": "stderr",
     "output_type": "stream",
     "text": [
      "c:\\Users\\Hannah Nga\\.conda\\envs\\fraudenv\\lib\\site-packages\\sklearn\\metrics\\_classification.py:1509: UndefinedMetricWarning: Precision is ill-defined and being set to 0.0 due to no predicted samples. Use `zero_division` parameter to control this behavior.\n",
      "  _warn_prf(average, modifier, f\"{metric.capitalize()} is\", len(result))\n",
      "c:\\Users\\Hannah Nga\\.conda\\envs\\fraudenv\\lib\\site-packages\\sklearn\\metrics\\_classification.py:1509: UndefinedMetricWarning: Precision is ill-defined and being set to 0.0 due to no predicted samples. Use `zero_division` parameter to control this behavior.\n",
      "  _warn_prf(average, modifier, f\"{metric.capitalize()} is\", len(result))\n",
      "c:\\Users\\Hannah Nga\\.conda\\envs\\fraudenv\\lib\\site-packages\\sklearn\\metrics\\_classification.py:1509: UndefinedMetricWarning: Precision is ill-defined and being set to 0.0 due to no predicted samples. Use `zero_division` parameter to control this behavior.\n",
      "  _warn_prf(average, modifier, f\"{metric.capitalize()} is\", len(result))\n"
     ]
    },
    {
     "name": "stdout",
     "output_type": "stream",
     "text": [
      "[CV 1/5] END gamma=10.0, kernel=rbf, nu=0.005;, score=-315.000 total time=   0.0s\n",
      "[CV 2/5] END gamma=10.0, kernel=rbf, nu=0.005;, score=-317.000 total time=   0.0s\n",
      "[CV 3/5] END gamma=10.0, kernel=rbf, nu=0.005;, score=-313.000 total time=   0.0s\n"
     ]
    },
    {
     "name": "stderr",
     "output_type": "stream",
     "text": [
      "c:\\Users\\Hannah Nga\\.conda\\envs\\fraudenv\\lib\\site-packages\\sklearn\\metrics\\_classification.py:1509: UndefinedMetricWarning: Precision is ill-defined and being set to 0.0 due to no predicted samples. Use `zero_division` parameter to control this behavior.\n",
      "  _warn_prf(average, modifier, f\"{metric.capitalize()} is\", len(result))\n",
      "c:\\Users\\Hannah Nga\\.conda\\envs\\fraudenv\\lib\\site-packages\\sklearn\\metrics\\_classification.py:1509: UndefinedMetricWarning: Precision is ill-defined and being set to 0.0 due to no predicted samples. Use `zero_division` parameter to control this behavior.\n",
      "  _warn_prf(average, modifier, f\"{metric.capitalize()} is\", len(result))\n",
      "c:\\Users\\Hannah Nga\\.conda\\envs\\fraudenv\\lib\\site-packages\\sklearn\\metrics\\_classification.py:1509: UndefinedMetricWarning: Precision is ill-defined and being set to 0.0 due to no predicted samples. Use `zero_division` parameter to control this behavior.\n",
      "  _warn_prf(average, modifier, f\"{metric.capitalize()} is\", len(result))\n"
     ]
    },
    {
     "name": "stdout",
     "output_type": "stream",
     "text": [
      "[CV 4/5] END gamma=10.0, kernel=rbf, nu=0.005;, score=-316.000 total time=   0.0s\n",
      "[CV 5/5] END gamma=10.0, kernel=rbf, nu=0.005;, score=-313.000 total time=   0.0s\n",
      "[CV 1/5] END gamma=10.0, kernel=rbf, nu=0.01;, score=-315.000 total time=   0.0s\n"
     ]
    },
    {
     "name": "stderr",
     "output_type": "stream",
     "text": [
      "c:\\Users\\Hannah Nga\\.conda\\envs\\fraudenv\\lib\\site-packages\\sklearn\\metrics\\_classification.py:1509: UndefinedMetricWarning: Precision is ill-defined and being set to 0.0 due to no predicted samples. Use `zero_division` parameter to control this behavior.\n",
      "  _warn_prf(average, modifier, f\"{metric.capitalize()} is\", len(result))\n",
      "c:\\Users\\Hannah Nga\\.conda\\envs\\fraudenv\\lib\\site-packages\\sklearn\\metrics\\_classification.py:1509: UndefinedMetricWarning: Precision is ill-defined and being set to 0.0 due to no predicted samples. Use `zero_division` parameter to control this behavior.\n",
      "  _warn_prf(average, modifier, f\"{metric.capitalize()} is\", len(result))\n",
      "c:\\Users\\Hannah Nga\\.conda\\envs\\fraudenv\\lib\\site-packages\\sklearn\\metrics\\_classification.py:1509: UndefinedMetricWarning: Precision is ill-defined and being set to 0.0 due to no predicted samples. Use `zero_division` parameter to control this behavior.\n",
      "  _warn_prf(average, modifier, f\"{metric.capitalize()} is\", len(result))\n"
     ]
    },
    {
     "name": "stdout",
     "output_type": "stream",
     "text": [
      "[CV 2/5] END gamma=10.0, kernel=rbf, nu=0.01;, score=-317.000 total time=   0.0s\n",
      "[CV 3/5] END gamma=10.0, kernel=rbf, nu=0.01;, score=-313.000 total time=   0.0s\n",
      "[CV 4/5] END gamma=10.0, kernel=rbf, nu=0.01;, score=-316.000 total time=   0.0s\n"
     ]
    },
    {
     "name": "stderr",
     "output_type": "stream",
     "text": [
      "c:\\Users\\Hannah Nga\\.conda\\envs\\fraudenv\\lib\\site-packages\\sklearn\\metrics\\_classification.py:1509: UndefinedMetricWarning: Precision is ill-defined and being set to 0.0 due to no predicted samples. Use `zero_division` parameter to control this behavior.\n",
      "  _warn_prf(average, modifier, f\"{metric.capitalize()} is\", len(result))\n",
      "c:\\Users\\Hannah Nga\\.conda\\envs\\fraudenv\\lib\\site-packages\\sklearn\\metrics\\_classification.py:1509: UndefinedMetricWarning: Precision is ill-defined and being set to 0.0 due to no predicted samples. Use `zero_division` parameter to control this behavior.\n",
      "  _warn_prf(average, modifier, f\"{metric.capitalize()} is\", len(result))\n",
      "c:\\Users\\Hannah Nga\\.conda\\envs\\fraudenv\\lib\\site-packages\\sklearn\\metrics\\_classification.py:1509: UndefinedMetricWarning: Precision is ill-defined and being set to 0.0 due to no predicted samples. Use `zero_division` parameter to control this behavior.\n",
      "  _warn_prf(average, modifier, f\"{metric.capitalize()} is\", len(result))\n"
     ]
    },
    {
     "name": "stdout",
     "output_type": "stream",
     "text": [
      "[CV 5/5] END gamma=10.0, kernel=rbf, nu=0.01;, score=-313.000 total time=   0.0s\n",
      "[CV 1/5] END gamma=10.0, kernel=rbf, nu=0.05;, score=-315.000 total time=   0.0s\n",
      "[CV 2/5] END gamma=10.0, kernel=rbf, nu=0.05;, score=-317.000 total time=   0.0s\n"
     ]
    },
    {
     "name": "stderr",
     "output_type": "stream",
     "text": [
      "c:\\Users\\Hannah Nga\\.conda\\envs\\fraudenv\\lib\\site-packages\\sklearn\\metrics\\_classification.py:1509: UndefinedMetricWarning: Precision is ill-defined and being set to 0.0 due to no predicted samples. Use `zero_division` parameter to control this behavior.\n",
      "  _warn_prf(average, modifier, f\"{metric.capitalize()} is\", len(result))\n",
      "c:\\Users\\Hannah Nga\\.conda\\envs\\fraudenv\\lib\\site-packages\\sklearn\\metrics\\_classification.py:1509: UndefinedMetricWarning: Precision is ill-defined and being set to 0.0 due to no predicted samples. Use `zero_division` parameter to control this behavior.\n",
      "  _warn_prf(average, modifier, f\"{metric.capitalize()} is\", len(result))\n",
      "c:\\Users\\Hannah Nga\\.conda\\envs\\fraudenv\\lib\\site-packages\\sklearn\\metrics\\_classification.py:1509: UndefinedMetricWarning: Precision is ill-defined and being set to 0.0 due to no predicted samples. Use `zero_division` parameter to control this behavior.\n",
      "  _warn_prf(average, modifier, f\"{metric.capitalize()} is\", len(result))\n"
     ]
    },
    {
     "name": "stdout",
     "output_type": "stream",
     "text": [
      "[CV 3/5] END gamma=10.0, kernel=rbf, nu=0.05;, score=-313.000 total time=   0.0s\n",
      "[CV 4/5] END gamma=10.0, kernel=rbf, nu=0.05;, score=-316.000 total time=   0.0s\n",
      "[CV 5/5] END gamma=10.0, kernel=rbf, nu=0.05;, score=-313.000 total time=   0.0s\n"
     ]
    },
    {
     "name": "stderr",
     "output_type": "stream",
     "text": [
      "c:\\Users\\Hannah Nga\\.conda\\envs\\fraudenv\\lib\\site-packages\\sklearn\\metrics\\_classification.py:1509: UndefinedMetricWarning: Precision is ill-defined and being set to 0.0 due to no predicted samples. Use `zero_division` parameter to control this behavior.\n",
      "  _warn_prf(average, modifier, f\"{metric.capitalize()} is\", len(result))\n",
      "c:\\Users\\Hannah Nga\\.conda\\envs\\fraudenv\\lib\\site-packages\\sklearn\\metrics\\_classification.py:1509: UndefinedMetricWarning: Precision is ill-defined and being set to 0.0 due to no predicted samples. Use `zero_division` parameter to control this behavior.\n",
      "  _warn_prf(average, modifier, f\"{metric.capitalize()} is\", len(result))\n",
      "c:\\Users\\Hannah Nga\\.conda\\envs\\fraudenv\\lib\\site-packages\\sklearn\\metrics\\_classification.py:1509: UndefinedMetricWarning: Precision is ill-defined and being set to 0.0 due to no predicted samples. Use `zero_division` parameter to control this behavior.\n",
      "  _warn_prf(average, modifier, f\"{metric.capitalize()} is\", len(result))\n"
     ]
    },
    {
     "name": "stdout",
     "output_type": "stream",
     "text": [
      "[CV 1/5] END .gamma=10.0, kernel=rbf, nu=0.1;, score=-315.000 total time=   0.0s\n",
      "[CV 2/5] END .gamma=10.0, kernel=rbf, nu=0.1;, score=-317.000 total time=   0.0s\n",
      "[CV 3/5] END .gamma=10.0, kernel=rbf, nu=0.1;, score=-313.000 total time=   0.0s\n"
     ]
    },
    {
     "name": "stderr",
     "output_type": "stream",
     "text": [
      "c:\\Users\\Hannah Nga\\.conda\\envs\\fraudenv\\lib\\site-packages\\sklearn\\metrics\\_classification.py:1509: UndefinedMetricWarning: Precision is ill-defined and being set to 0.0 due to no predicted samples. Use `zero_division` parameter to control this behavior.\n",
      "  _warn_prf(average, modifier, f\"{metric.capitalize()} is\", len(result))\n",
      "c:\\Users\\Hannah Nga\\.conda\\envs\\fraudenv\\lib\\site-packages\\sklearn\\metrics\\_classification.py:1509: UndefinedMetricWarning: Precision is ill-defined and being set to 0.0 due to no predicted samples. Use `zero_division` parameter to control this behavior.\n",
      "  _warn_prf(average, modifier, f\"{metric.capitalize()} is\", len(result))\n",
      "c:\\Users\\Hannah Nga\\.conda\\envs\\fraudenv\\lib\\site-packages\\sklearn\\metrics\\_classification.py:1509: UndefinedMetricWarning: Precision is ill-defined and being set to 0.0 due to no predicted samples. Use `zero_division` parameter to control this behavior.\n",
      "  _warn_prf(average, modifier, f\"{metric.capitalize()} is\", len(result))\n"
     ]
    },
    {
     "name": "stdout",
     "output_type": "stream",
     "text": [
      "[CV 4/5] END .gamma=10.0, kernel=rbf, nu=0.1;, score=-316.000 total time=   0.0s\n",
      "[CV 5/5] END .gamma=10.0, kernel=rbf, nu=0.1;, score=-313.000 total time=   0.0s\n",
      "[CV 1/5] END .gamma=10.0, kernel=rbf, nu=0.2;, score=-315.000 total time=   0.0s\n"
     ]
    },
    {
     "name": "stderr",
     "output_type": "stream",
     "text": [
      "c:\\Users\\Hannah Nga\\.conda\\envs\\fraudenv\\lib\\site-packages\\sklearn\\metrics\\_classification.py:1509: UndefinedMetricWarning: Precision is ill-defined and being set to 0.0 due to no predicted samples. Use `zero_division` parameter to control this behavior.\n",
      "  _warn_prf(average, modifier, f\"{metric.capitalize()} is\", len(result))\n",
      "c:\\Users\\Hannah Nga\\.conda\\envs\\fraudenv\\lib\\site-packages\\sklearn\\metrics\\_classification.py:1509: UndefinedMetricWarning: Precision is ill-defined and being set to 0.0 due to no predicted samples. Use `zero_division` parameter to control this behavior.\n",
      "  _warn_prf(average, modifier, f\"{metric.capitalize()} is\", len(result))\n",
      "c:\\Users\\Hannah Nga\\.conda\\envs\\fraudenv\\lib\\site-packages\\sklearn\\metrics\\_classification.py:1509: UndefinedMetricWarning: Precision is ill-defined and being set to 0.0 due to no predicted samples. Use `zero_division` parameter to control this behavior.\n",
      "  _warn_prf(average, modifier, f\"{metric.capitalize()} is\", len(result))\n"
     ]
    },
    {
     "name": "stdout",
     "output_type": "stream",
     "text": [
      "[CV 2/5] END .gamma=10.0, kernel=rbf, nu=0.2;, score=-317.000 total time=   0.0s\n",
      "[CV 3/5] END .gamma=10.0, kernel=rbf, nu=0.2;, score=-313.000 total time=   0.0s\n",
      "[CV 4/5] END .gamma=10.0, kernel=rbf, nu=0.2;, score=-316.000 total time=   0.0s\n"
     ]
    },
    {
     "name": "stderr",
     "output_type": "stream",
     "text": [
      "c:\\Users\\Hannah Nga\\.conda\\envs\\fraudenv\\lib\\site-packages\\sklearn\\metrics\\_classification.py:1509: UndefinedMetricWarning: Precision is ill-defined and being set to 0.0 due to no predicted samples. Use `zero_division` parameter to control this behavior.\n",
      "  _warn_prf(average, modifier, f\"{metric.capitalize()} is\", len(result))\n",
      "c:\\Users\\Hannah Nga\\.conda\\envs\\fraudenv\\lib\\site-packages\\sklearn\\metrics\\_classification.py:1509: UndefinedMetricWarning: Precision is ill-defined and being set to 0.0 due to no predicted samples. Use `zero_division` parameter to control this behavior.\n",
      "  _warn_prf(average, modifier, f\"{metric.capitalize()} is\", len(result))\n",
      "c:\\Users\\Hannah Nga\\.conda\\envs\\fraudenv\\lib\\site-packages\\sklearn\\metrics\\_classification.py:1509: UndefinedMetricWarning: Precision is ill-defined and being set to 0.0 due to no predicted samples. Use `zero_division` parameter to control this behavior.\n",
      "  _warn_prf(average, modifier, f\"{metric.capitalize()} is\", len(result))\n"
     ]
    },
    {
     "name": "stdout",
     "output_type": "stream",
     "text": [
      "[CV 5/5] END .gamma=10.0, kernel=rbf, nu=0.2;, score=-313.000 total time=   0.0s\n",
      "[CV 1/5] END .gamma=10.0, kernel=rbf, nu=0.3;, score=-315.000 total time=   0.0s\n",
      "[CV 2/5] END .gamma=10.0, kernel=rbf, nu=0.3;, score=-317.000 total time=   0.0s\n"
     ]
    },
    {
     "name": "stderr",
     "output_type": "stream",
     "text": [
      "c:\\Users\\Hannah Nga\\.conda\\envs\\fraudenv\\lib\\site-packages\\sklearn\\metrics\\_classification.py:1509: UndefinedMetricWarning: Precision is ill-defined and being set to 0.0 due to no predicted samples. Use `zero_division` parameter to control this behavior.\n",
      "  _warn_prf(average, modifier, f\"{metric.capitalize()} is\", len(result))\n",
      "c:\\Users\\Hannah Nga\\.conda\\envs\\fraudenv\\lib\\site-packages\\sklearn\\metrics\\_classification.py:1509: UndefinedMetricWarning: Precision is ill-defined and being set to 0.0 due to no predicted samples. Use `zero_division` parameter to control this behavior.\n",
      "  _warn_prf(average, modifier, f\"{metric.capitalize()} is\", len(result))\n",
      "c:\\Users\\Hannah Nga\\.conda\\envs\\fraudenv\\lib\\site-packages\\sklearn\\metrics\\_classification.py:1509: UndefinedMetricWarning: Precision is ill-defined and being set to 0.0 due to no predicted samples. Use `zero_division` parameter to control this behavior.\n",
      "  _warn_prf(average, modifier, f\"{metric.capitalize()} is\", len(result))\n"
     ]
    },
    {
     "name": "stdout",
     "output_type": "stream",
     "text": [
      "[CV 3/5] END .gamma=10.0, kernel=rbf, nu=0.3;, score=-313.000 total time=   0.0s\n",
      "[CV 4/5] END .gamma=10.0, kernel=rbf, nu=0.3;, score=-316.000 total time=   0.0s\n",
      "[CV 5/5] END .gamma=10.0, kernel=rbf, nu=0.3;, score=-313.000 total time=   0.0s\n"
     ]
    },
    {
     "name": "stderr",
     "output_type": "stream",
     "text": [
      "c:\\Users\\Hannah Nga\\.conda\\envs\\fraudenv\\lib\\site-packages\\sklearn\\metrics\\_classification.py:1509: UndefinedMetricWarning: Precision is ill-defined and being set to 0.0 due to no predicted samples. Use `zero_division` parameter to control this behavior.\n",
      "  _warn_prf(average, modifier, f\"{metric.capitalize()} is\", len(result))\n",
      "c:\\Users\\Hannah Nga\\.conda\\envs\\fraudenv\\lib\\site-packages\\sklearn\\metrics\\_classification.py:1509: UndefinedMetricWarning: Precision is ill-defined and being set to 0.0 due to no predicted samples. Use `zero_division` parameter to control this behavior.\n",
      "  _warn_prf(average, modifier, f\"{metric.capitalize()} is\", len(result))\n",
      "c:\\Users\\Hannah Nga\\.conda\\envs\\fraudenv\\lib\\site-packages\\sklearn\\metrics\\_classification.py:1509: UndefinedMetricWarning: Precision is ill-defined and being set to 0.0 due to no predicted samples. Use `zero_division` parameter to control this behavior.\n",
      "  _warn_prf(average, modifier, f\"{metric.capitalize()} is\", len(result))\n"
     ]
    },
    {
     "name": "stdout",
     "output_type": "stream",
     "text": [
      "[CV 1/5] END .gamma=10.0, kernel=rbf, nu=0.5;, score=-315.000 total time=   0.0s\n",
      "[CV 2/5] END .gamma=10.0, kernel=rbf, nu=0.5;, score=-317.000 total time=   0.0s\n",
      "[CV 3/5] END .gamma=10.0, kernel=rbf, nu=0.5;, score=-313.000 total time=   0.0s\n"
     ]
    },
    {
     "name": "stderr",
     "output_type": "stream",
     "text": [
      "c:\\Users\\Hannah Nga\\.conda\\envs\\fraudenv\\lib\\site-packages\\sklearn\\metrics\\_classification.py:1509: UndefinedMetricWarning: Precision is ill-defined and being set to 0.0 due to no predicted samples. Use `zero_division` parameter to control this behavior.\n",
      "  _warn_prf(average, modifier, f\"{metric.capitalize()} is\", len(result))\n",
      "c:\\Users\\Hannah Nga\\.conda\\envs\\fraudenv\\lib\\site-packages\\sklearn\\metrics\\_classification.py:1509: UndefinedMetricWarning: Precision is ill-defined and being set to 0.0 due to no predicted samples. Use `zero_division` parameter to control this behavior.\n",
      "  _warn_prf(average, modifier, f\"{metric.capitalize()} is\", len(result))\n",
      "c:\\Users\\Hannah Nga\\.conda\\envs\\fraudenv\\lib\\site-packages\\sklearn\\metrics\\_classification.py:1509: UndefinedMetricWarning: Precision is ill-defined and being set to 0.0 due to no predicted samples. Use `zero_division` parameter to control this behavior.\n",
      "  _warn_prf(average, modifier, f\"{metric.capitalize()} is\", len(result))\n"
     ]
    },
    {
     "name": "stdout",
     "output_type": "stream",
     "text": [
      "[CV 4/5] END .gamma=10.0, kernel=rbf, nu=0.5;, score=-316.000 total time=   0.0s\n",
      "[CV 5/5] END .gamma=10.0, kernel=rbf, nu=0.5;, score=-313.000 total time=   0.0s\n",
      "[CV 1/5] END .gamma=10.0, kernel=rbf, nu=0.7;, score=-315.000 total time=   0.0s\n"
     ]
    },
    {
     "name": "stderr",
     "output_type": "stream",
     "text": [
      "c:\\Users\\Hannah Nga\\.conda\\envs\\fraudenv\\lib\\site-packages\\sklearn\\metrics\\_classification.py:1509: UndefinedMetricWarning: Precision is ill-defined and being set to 0.0 due to no predicted samples. Use `zero_division` parameter to control this behavior.\n",
      "  _warn_prf(average, modifier, f\"{metric.capitalize()} is\", len(result))\n",
      "c:\\Users\\Hannah Nga\\.conda\\envs\\fraudenv\\lib\\site-packages\\sklearn\\metrics\\_classification.py:1509: UndefinedMetricWarning: Precision is ill-defined and being set to 0.0 due to no predicted samples. Use `zero_division` parameter to control this behavior.\n",
      "  _warn_prf(average, modifier, f\"{metric.capitalize()} is\", len(result))\n",
      "c:\\Users\\Hannah Nga\\.conda\\envs\\fraudenv\\lib\\site-packages\\sklearn\\metrics\\_classification.py:1509: UndefinedMetricWarning: Precision is ill-defined and being set to 0.0 due to no predicted samples. Use `zero_division` parameter to control this behavior.\n",
      "  _warn_prf(average, modifier, f\"{metric.capitalize()} is\", len(result))\n"
     ]
    },
    {
     "name": "stdout",
     "output_type": "stream",
     "text": [
      "[CV 2/5] END .gamma=10.0, kernel=rbf, nu=0.7;, score=-317.000 total time=   0.0s\n",
      "[CV 3/5] END .gamma=10.0, kernel=rbf, nu=0.7;, score=-313.000 total time=   0.0s\n",
      "[CV 4/5] END .gamma=10.0, kernel=rbf, nu=0.7;, score=-316.000 total time=   0.0s\n"
     ]
    },
    {
     "name": "stderr",
     "output_type": "stream",
     "text": [
      "c:\\Users\\Hannah Nga\\.conda\\envs\\fraudenv\\lib\\site-packages\\sklearn\\metrics\\_classification.py:1509: UndefinedMetricWarning: Precision is ill-defined and being set to 0.0 due to no predicted samples. Use `zero_division` parameter to control this behavior.\n",
      "  _warn_prf(average, modifier, f\"{metric.capitalize()} is\", len(result))\n",
      "c:\\Users\\Hannah Nga\\.conda\\envs\\fraudenv\\lib\\site-packages\\sklearn\\metrics\\_classification.py:1509: UndefinedMetricWarning: Precision is ill-defined and being set to 0.0 due to no predicted samples. Use `zero_division` parameter to control this behavior.\n",
      "  _warn_prf(average, modifier, f\"{metric.capitalize()} is\", len(result))\n",
      "c:\\Users\\Hannah Nga\\.conda\\envs\\fraudenv\\lib\\site-packages\\sklearn\\metrics\\_classification.py:1509: UndefinedMetricWarning: Precision is ill-defined and being set to 0.0 due to no predicted samples. Use `zero_division` parameter to control this behavior.\n",
      "  _warn_prf(average, modifier, f\"{metric.capitalize()} is\", len(result))\n"
     ]
    },
    {
     "name": "stdout",
     "output_type": "stream",
     "text": [
      "[CV 5/5] END .gamma=10.0, kernel=rbf, nu=0.7;, score=-313.000 total time=   0.0s\n",
      "[CV 1/5] END .gamma=10.0, kernel=rbf, nu=0.9;, score=-315.000 total time=   0.0s\n",
      "[CV 2/5] END .gamma=10.0, kernel=rbf, nu=0.9;, score=-317.000 total time=   0.0s\n"
     ]
    },
    {
     "name": "stderr",
     "output_type": "stream",
     "text": [
      "c:\\Users\\Hannah Nga\\.conda\\envs\\fraudenv\\lib\\site-packages\\sklearn\\metrics\\_classification.py:1509: UndefinedMetricWarning: Precision is ill-defined and being set to 0.0 due to no predicted samples. Use `zero_division` parameter to control this behavior.\n",
      "  _warn_prf(average, modifier, f\"{metric.capitalize()} is\", len(result))\n",
      "c:\\Users\\Hannah Nga\\.conda\\envs\\fraudenv\\lib\\site-packages\\sklearn\\metrics\\_classification.py:1509: UndefinedMetricWarning: Precision is ill-defined and being set to 0.0 due to no predicted samples. Use `zero_division` parameter to control this behavior.\n",
      "  _warn_prf(average, modifier, f\"{metric.capitalize()} is\", len(result))\n",
      "c:\\Users\\Hannah Nga\\.conda\\envs\\fraudenv\\lib\\site-packages\\sklearn\\metrics\\_classification.py:1509: UndefinedMetricWarning: Precision is ill-defined and being set to 0.0 due to no predicted samples. Use `zero_division` parameter to control this behavior.\n",
      "  _warn_prf(average, modifier, f\"{metric.capitalize()} is\", len(result))\n"
     ]
    },
    {
     "name": "stdout",
     "output_type": "stream",
     "text": [
      "[CV 3/5] END .gamma=10.0, kernel=rbf, nu=0.9;, score=-313.000 total time=   0.0s\n",
      "[CV 4/5] END .gamma=10.0, kernel=rbf, nu=0.9;, score=-316.000 total time=   0.0s\n",
      "[CV 5/5] END .gamma=10.0, kernel=rbf, nu=0.9;, score=-313.000 total time=   0.0s\n",
      "[CV 1/5] END gamma=10.0, kernel=poly, nu=0.001;, score=-36.014 total time=   0.0s\n"
     ]
    },
    {
     "name": "stderr",
     "output_type": "stream",
     "text": [
      "c:\\Users\\Hannah Nga\\.conda\\envs\\fraudenv\\lib\\site-packages\\sklearn\\metrics\\_classification.py:1509: UndefinedMetricWarning: Precision is ill-defined and being set to 0.0 due to no predicted samples. Use `zero_division` parameter to control this behavior.\n",
      "  _warn_prf(average, modifier, f\"{metric.capitalize()} is\", len(result))\n",
      "c:\\Users\\Hannah Nga\\.conda\\envs\\fraudenv\\lib\\site-packages\\sklearn\\metrics\\_classification.py:1509: UndefinedMetricWarning: Precision is ill-defined and being set to 0.0 due to no predicted samples. Use `zero_division` parameter to control this behavior.\n",
      "  _warn_prf(average, modifier, f\"{metric.capitalize()} is\", len(result))\n"
     ]
    },
    {
     "name": "stdout",
     "output_type": "stream",
     "text": [
      "[CV 2/5] END gamma=10.0, kernel=poly, nu=0.001;, score=-55.004 total time=   0.0s\n",
      "[CV 3/5] END gamma=10.0, kernel=poly, nu=0.001;, score=-56.023 total time=   0.0s\n",
      "[CV 4/5] END gamma=10.0, kernel=poly, nu=0.001;, score=-33.007 total time=   0.0s\n",
      "[CV 5/5] END gamma=10.0, kernel=poly, nu=0.001;, score=-38.011 total time=   0.0s\n",
      "[CV 1/5] END gamma=10.0, kernel=poly, nu=0.005;, score=-36.014 total time=   0.0s\n",
      "[CV 2/5] END gamma=10.0, kernel=poly, nu=0.005;, score=-55.004 total time=   0.0s\n",
      "[CV 3/5] END gamma=10.0, kernel=poly, nu=0.005;, score=-56.023 total time=   0.0s\n",
      "[CV 4/5] END gamma=10.0, kernel=poly, nu=0.005;, score=-33.007 total time=   0.0s\n",
      "[CV 5/5] END gamma=10.0, kernel=poly, nu=0.005;, score=-38.011 total time=   0.0s\n",
      "[CV 1/5] END gamma=10.0, kernel=poly, nu=0.01;, score=-35.014 total time=   0.0s\n",
      "[CV 2/5] END gamma=10.0, kernel=poly, nu=0.01;, score=-55.004 total time=   0.0s\n",
      "[CV 3/5] END gamma=10.0, kernel=poly, nu=0.01;, score=-56.023 total time=   0.0s\n",
      "[CV 4/5] END gamma=10.0, kernel=poly, nu=0.01;, score=-38.007 total time=   0.0s\n",
      "[CV 5/5] END gamma=10.0, kernel=poly, nu=0.01;, score=-40.011 total time=   0.0s\n",
      "[CV 1/5] END gamma=10.0, kernel=poly, nu=0.05;, score=-41.014 total time=   0.0s\n",
      "[CV 2/5] END gamma=10.0, kernel=poly, nu=0.05;, score=-55.004 total time=   0.0s\n",
      "[CV 3/5] END gamma=10.0, kernel=poly, nu=0.05;, score=-61.023 total time=   0.0s\n",
      "[CV 4/5] END gamma=10.0, kernel=poly, nu=0.05;, score=-41.007 total time=   0.0s\n",
      "[CV 5/5] END gamma=10.0, kernel=poly, nu=0.05;, score=-43.011 total time=   0.0s\n",
      "[CV 1/5] END .gamma=10.0, kernel=poly, nu=0.1;, score=-60.016 total time=   0.0s\n",
      "[CV 2/5] END .gamma=10.0, kernel=poly, nu=0.1;, score=-59.004 total time=   0.0s\n",
      "[CV 3/5] END .gamma=10.0, kernel=poly, nu=0.1;, score=-78.025 total time=   0.0s\n",
      "[CV 4/5] END .gamma=10.0, kernel=poly, nu=0.1;, score=-51.008 total time=   0.0s\n",
      "[CV 5/5] END .gamma=10.0, kernel=poly, nu=0.1;, score=-53.015 total time=   0.0s\n",
      "[CV 1/5] END .gamma=10.0, kernel=poly, nu=0.2;, score=-77.017 total time=   0.0s\n",
      "[CV 2/5] END .gamma=10.0, kernel=poly, nu=0.2;, score=-92.000 total time=   0.0s\n",
      "[CV 3/5] END gamma=10.0, kernel=poly, nu=0.2;, score=-107.024 total time=   0.0s\n",
      "[CV 4/5] END .gamma=10.0, kernel=poly, nu=0.2;, score=-78.008 total time=   0.0s\n",
      "[CV 5/5] END .gamma=10.0, kernel=poly, nu=0.2;, score=-77.008 total time=   0.0s\n",
      "[CV 1/5] END gamma=10.0, kernel=poly, nu=0.3;, score=-109.014 total time=   0.0s\n",
      "[CV 2/5] END gamma=10.0, kernel=poly, nu=0.3;, score=-126.000 total time=   0.0s\n",
      "[CV 3/5] END gamma=10.0, kernel=poly, nu=0.3;, score=-134.022 total time=   0.0s\n",
      "[CV 4/5] END .gamma=10.0, kernel=poly, nu=0.3;, score=-99.005 total time=   0.0s\n",
      "[CV 5/5] END gamma=10.0, kernel=poly, nu=0.3;, score=-109.010 total time=   0.0s\n",
      "[CV 1/5] END gamma=10.0, kernel=poly, nu=0.5;, score=-159.025 total time=   0.0s\n",
      "[CV 2/5] END gamma=10.0, kernel=poly, nu=0.5;, score=-182.000 total time=   0.0s\n",
      "[CV 3/5] END gamma=10.0, kernel=poly, nu=0.5;, score=-178.015 total time=   0.0s\n",
      "[CV 4/5] END gamma=10.0, kernel=poly, nu=0.5;, score=-153.006 total time=   0.0s\n",
      "[CV 5/5] END gamma=10.0, kernel=poly, nu=0.5;, score=-163.013 total time=   0.0s\n",
      "[CV 1/5] END gamma=10.0, kernel=poly, nu=0.7;, score=-222.011 total time=   0.0s\n",
      "[CV 2/5] END gamma=10.0, kernel=poly, nu=0.7;, score=-254.000 total time=   0.0s\n",
      "[CV 3/5] END gamma=10.0, kernel=poly, nu=0.7;, score=-213.020 total time=   0.0s\n",
      "[CV 4/5] END gamma=10.0, kernel=poly, nu=0.7;, score=-216.000 total time=   0.0s\n",
      "[CV 5/5] END gamma=10.0, kernel=poly, nu=0.7;, score=-227.012 total time=   0.0s\n",
      "[CV 1/5] END gamma=10.0, kernel=poly, nu=0.9;, score=-287.000 total time=   0.0s\n",
      "[CV 2/5] END gamma=10.0, kernel=poly, nu=0.9;, score=-292.000 total time=   0.0s\n",
      "[CV 3/5] END gamma=10.0, kernel=poly, nu=0.9;, score=-271.000 total time=   0.0s\n",
      "[CV 4/5] END gamma=10.0, kernel=poly, nu=0.9;, score=-280.000 total time=   0.0s\n",
      "[CV 5/5] END gamma=10.0, kernel=poly, nu=0.9;, score=-288.000 total time=   0.0s\n",
      "[CV 1/5] END gamma=10.0, kernel=sigmoid, nu=0.001;, score=0.984 total time=   0.0s\n",
      "[CV 2/5] END gamma=10.0, kernel=sigmoid, nu=0.001;, score=0.991 total time=   0.0s\n",
      "[CV 3/5] END gamma=10.0, kernel=sigmoid, nu=0.001;, score=-0.022 total time=   0.0s\n",
      "[CV 4/5] END gamma=10.0, kernel=sigmoid, nu=0.001;, score=-0.013 total time=   0.0s\n",
      "[CV 5/5] END gamma=10.0, kernel=sigmoid, nu=0.001;, score=0.978 total time=   0.0s\n",
      "[CV 1/5] END gamma=10.0, kernel=sigmoid, nu=0.005;, score=-0.016 total time=   0.0s\n",
      "[CV 2/5] END gamma=10.0, kernel=sigmoid, nu=0.005;, score=0.994 total time=   0.0s\n",
      "[CV 3/5] END gamma=10.0, kernel=sigmoid, nu=0.005;, score=-2.022 total time=   0.0s\n",
      "[CV 4/5] END gamma=10.0, kernel=sigmoid, nu=0.005;, score=0.988 total time=   0.0s\n",
      "[CV 5/5] END gamma=10.0, kernel=sigmoid, nu=0.005;, score=-0.022 total time=   0.0s\n",
      "[CV 1/5] END gamma=10.0, kernel=sigmoid, nu=0.01;, score=-0.016 total time=   0.0s\n",
      "[CV 2/5] END gamma=10.0, kernel=sigmoid, nu=0.01;, score=-1.009 total time=   0.0s\n",
      "[CV 3/5] END gamma=10.0, kernel=sigmoid, nu=0.01;, score=-0.022 total time=   0.0s\n",
      "[CV 4/5] END gamma=10.0, kernel=sigmoid, nu=0.01;, score=-0.013 total time=   0.0s\n",
      "[CV 5/5] END gamma=10.0, kernel=sigmoid, nu=0.01;, score=-0.022 total time=   0.0s\n",
      "[CV 1/5] END gamma=10.0, kernel=sigmoid, nu=0.05;, score=-11.016 total time=   0.0s\n",
      "[CV 2/5] END gamma=10.0, kernel=sigmoid, nu=0.05;, score=-12.010 total time=   0.0s\n",
      "[CV 3/5] END gamma=10.0, kernel=sigmoid, nu=0.05;, score=-17.023 total time=   0.0s\n",
      "[CV 4/5] END gamma=10.0, kernel=sigmoid, nu=0.05;, score=-8.013 total time=   0.0s\n",
      "[CV 5/5] END gamma=10.0, kernel=sigmoid, nu=0.05;, score=-9.023 total time=   0.0s\n",
      "[CV 1/5] END gamma=10.0, kernel=sigmoid, nu=0.1;, score=-27.017 total time=   0.0s\n",
      "[CV 2/5] END gamma=10.0, kernel=sigmoid, nu=0.1;, score=-28.010 total time=   0.0s\n",
      "[CV 3/5] END gamma=10.0, kernel=sigmoid, nu=0.1;, score=-31.024 total time=   0.0s\n",
      "[CV 4/5] END gamma=10.0, kernel=sigmoid, nu=0.1;, score=-23.014 total time=   0.0s\n",
      "[CV 5/5] END gamma=10.0, kernel=sigmoid, nu=0.1;, score=-28.024 total time=   0.0s\n",
      "[CV 1/5] END gamma=10.0, kernel=sigmoid, nu=0.2;, score=-61.012 total time=   0.0s\n",
      "[CV 2/5] END gamma=10.0, kernel=sigmoid, nu=0.2;, score=-58.011 total time=   0.0s\n",
      "[CV 3/5] END gamma=10.0, kernel=sigmoid, nu=0.2;, score=-60.027 total time=   0.0s\n",
      "[CV 4/5] END gamma=10.0, kernel=sigmoid, nu=0.2;, score=-49.015 total time=   0.0s\n",
      "[CV 5/5] END gamma=10.0, kernel=sigmoid, nu=0.2;, score=-61.027 total time=   0.0s\n",
      "[CV 1/5] END gamma=10.0, kernel=sigmoid, nu=0.3;, score=-89.013 total time=   0.0s\n",
      "[CV 2/5] END gamma=10.0, kernel=sigmoid, nu=0.3;, score=-89.013 total time=   0.0s\n",
      "[CV 3/5] END gamma=10.0, kernel=sigmoid, nu=0.3;, score=-101.019 total time=   0.0s\n",
      "[CV 4/5] END gamma=10.0, kernel=sigmoid, nu=0.3;, score=-88.017 total time=   0.0s\n",
      "[CV 5/5] END gamma=10.0, kernel=sigmoid, nu=0.3;, score=-85.030 total time=   0.0s\n",
      "[CV 1/5] END gamma=10.0, kernel=sigmoid, nu=0.5;, score=-153.024 total time=   0.0s\n",
      "[CV 2/5] END gamma=10.0, kernel=sigmoid, nu=0.5;, score=-140.017 total time=   0.0s\n",
      "[CV 3/5] END gamma=10.0, kernel=sigmoid, nu=0.5;, score=-162.026 total time=   0.0s\n",
      "[CV 4/5] END gamma=10.0, kernel=sigmoid, nu=0.5;, score=-149.024 total time=   0.0s\n",
      "[CV 5/5] END gamma=10.0, kernel=sigmoid, nu=0.5;, score=-155.037 total time=   0.0s\n",
      "[CV 1/5] END gamma=10.0, kernel=sigmoid, nu=0.7;, score=-215.029 total time=   0.0s\n",
      "[CV 2/5] END gamma=10.0, kernel=sigmoid, nu=0.7;, score=-208.018 total time=   0.0s\n",
      "[CV 3/5] END gamma=10.0, kernel=sigmoid, nu=0.7;, score=-217.010 total time=   0.0s\n",
      "[CV 4/5] END gamma=10.0, kernel=sigmoid, nu=0.7;, score=-213.038 total time=   0.0s\n",
      "[CV 5/5] END gamma=10.0, kernel=sigmoid, nu=0.7;, score=-220.052 total time=   0.0s\n",
      "[CV 1/5] END gamma=10.0, kernel=sigmoid, nu=0.9;, score=-286.034 total time=   0.0s\n",
      "[CV 2/5] END gamma=10.0, kernel=sigmoid, nu=0.9;, score=-279.026 total time=   0.0s\n",
      "[CV 3/5] END gamma=10.0, kernel=sigmoid, nu=0.9;, score=-283.000 total time=   0.0s\n",
      "[CV 4/5] END gamma=10.0, kernel=sigmoid, nu=0.9;, score=-289.037 total time=   0.0s\n",
      "[CV 5/5] END gamma=10.0, kernel=sigmoid, nu=0.9;, score=-281.031 total time=   0.0s\n",
      "{'gamma': 10.0, 'kernel': 'sigmoid', 'nu': 0.001}\n",
      "OneClassSVM(gamma=10.0, kernel='sigmoid', nu=0.001)\n"
     ]
    }
   ],
   "source": [
    "from sklearn.model_selection import GridSearchCV \n",
    "from sklearn.metrics import make_scorer\n",
    "\n",
    "def custom_scorer(y_true, y_pred):\n",
    "    # Compute confusion matrix\n",
    "    fp = sum((y_true == 1) & (y_pred == -1))  # False Positives\n",
    "    return precision_score(y_true,y_pred) - fp\n",
    "\n",
    "# Create a scorer using make_scorer\n",
    "scorer = make_scorer(custom_scorer, greater_is_better=True)\n",
    "\n",
    "# defining parameter range \n",
    "param_grid = {\n",
    "    'nu': [0.001, 0.005, 0.01, 0.05, 0.1, 0.2, 0.3, 0.5, 0.7, 0.9],  # Regularization parameter\n",
    "    'kernel': ['linear', 'rbf', 'poly', 'sigmoid'],  # Kernel type\n",
    "    'gamma': ['scale', 'auto', 0.1, 0.01, 0.001, 0.0001, 1.0, 10.0]  # Kernel coefficient for 'rbf', 'poly', and 'sigmoid'\n",
    "}\n",
    "\n",
    "grid = GridSearchCV(OneClassSVM(), param_grid, refit = True, verbose = 3, scoring=scorer) \n",
    "\n",
    "# fitting the model for grid search \n",
    "grid.fit(X_train_scaled, y_train_gs) \n",
    "\n",
    "# print best parameter after tuning \n",
    "print(grid.best_params_) \n",
    "\n",
    "# print how our model looks after hyper-parameter tuning \n",
    "print(grid.best_estimator_) \n"
   ]
  },
  {
   "cell_type": "markdown",
   "metadata": {},
   "source": [
    "BEST PARAMS?  \n",
    "OneClassSVM(gamma=10.0, kernel='sigmoid', nu=0.001)  \n",
    "OneClassSVM(gamma=10.0, kernel='sigmoid', nu=0.001)\n",
    "\n",
    "  \n",
    "Notable:  \n",
    "OneClassSVM(gamma=0.001, kernel='poly', nu=0.05) # many FP, TP\n",
    "\n",
    "{'gamma': 'scale', 'kernel': 'poly', 'nu': 0.9}"
   ]
  },
  {
   "cell_type": "code",
   "execution_count": 13,
   "metadata": {},
   "outputs": [],
   "source": [
    "best_clf = grid"
   ]
  },
  {
   "cell_type": "code",
   "execution_count": 14,
   "metadata": {},
   "outputs": [
    {
     "name": "stdout",
     "output_type": "stream",
     "text": [
      "##############################\n",
      "Train Evaluation\n",
      "##############################\n",
      "              precision    recall  f1-score   support\n",
      "\n",
      "          -1       0.00      0.00      0.00        26\n",
      "           1       0.98      0.99      0.99      1574\n",
      "\n",
      "    accuracy                           0.98      1600\n",
      "   macro avg       0.49      0.50      0.49      1600\n",
      "weighted avg       0.97      0.98      0.97      1600\n",
      "\n"
     ]
    },
    {
     "data": {
      "image/png": "[encoded data removed]",
      "text/plain": [
       "<Figure size 640x480 with 2 Axes>"
      ]
     },
     "metadata": {},
     "output_type": "display_data"
    },
    {
     "name": "stdout",
     "output_type": "stream",
     "text": [
      "##############################\n",
      "Test Evaluation\n",
      "##############################\n",
      "              precision    recall  f1-score   support\n",
      "\n",
      "     Inliers       0.99      1.00      1.00       396\n",
      "    Outliers       1.00      0.25      0.40         4\n",
      "\n",
      "    accuracy                           0.99       400\n",
      "   macro avg       1.00      0.62      0.70       400\n",
      "weighted avg       0.99      0.99      0.99       400\n",
      "\n"
     ]
    },
    {
     "data": {
      "image/png": "[encoded data removed]",
      "text/plain": [
       "<Figure size 640x480 with 2 Axes>"
      ]
     },
     "metadata": {},
     "output_type": "display_data"
    }
   ],
   "source": [
    "print(\"##############################\")\n",
    "print(\"Train Evaluation\")\n",
    "print(\"##############################\")\n",
    "# wider param grid, no smote\n",
    "train_pred = best_clf.predict(X_train_scaled) \n",
    "print(classification_report(y_train_gs, train_pred)) \n",
    "\n",
    "\n",
    "conf_matrix = confusion_matrix(y_train_gs, train_pred, labels=[1, -1])\n",
    "\n",
    "disp = ConfusionMatrixDisplay(confusion_matrix=conf_matrix,\n",
    "                                display_labels=[1, -1])\n",
    "disp.plot(cmap=plt.cm.Blues)\n",
    "plt.title('Confusion Matrix')\n",
    "plt.show()\n",
    "\n",
    "# (-1 for outliers, 1 for inliers)\n",
    "print(\"##############################\")\n",
    "print(\"Test Evaluation\")\n",
    "print(\"##############################\")\n",
    "\n",
    "test_pred = best_clf.predict(X_test_scaled) \n",
    "labels = [1, -1]  # -1 for Outliers, 1 for Inliers\n",
    "\n",
    "print(classification_report(y_true=y_test_gs, y_pred=test_pred,labels=labels, target_names=['Inliers', 'Outliers'])) \n",
    "\n",
    "conf_matrix = confusion_matrix(y_test_gs, test_pred, labels=labels)\n",
    "\n",
    "disp = ConfusionMatrixDisplay(confusion_matrix=conf_matrix, display_labels=['Inliers', 'Outliers'])\n",
    "disp.plot(cmap=plt.cm.Blues)\n",
    "plt.title('Confusion Matrix')\n",
    "plt.show()"
   ]
  },
  {
   "cell_type": "markdown",
   "metadata": {},
   "source": [
    "## WITH SMOTE"
   ]
  },
  {
   "cell_type": "code",
   "execution_count": 15,
   "metadata": {},
   "outputs": [
    {
     "name": "stdout",
     "output_type": "stream",
     "text": [
      "Train Labels after Resampling\n",
      "Counter({0: 1574, 1: 472})\n"
     ]
    }
   ],
   "source": [
    "# SMOTE\n",
    "oversample = SMOTE(sampling_strategy = 0.3, random_state = 42) #sampling_strategy=0.8\n",
    "resampled_X_train, resampled_y_train = oversample.fit_resample(X_train, y_train)\n",
    "\n",
    "print(\"Train Labels after Resampling\")\n",
    "print(Counter(resampled_y_train))"
   ]
  },
  {
   "cell_type": "code",
   "execution_count": 16,
   "metadata": {},
   "outputs": [],
   "source": [
    "# Scale the features using StandardScaler\n",
    "scaler = StandardScaler()\n",
    "X_train_scaled_smote = scaler.fit_transform(resampled_X_train)\n",
    "X_test_scaled = scaler.transform(X_test)"
   ]
  },
  {
   "cell_type": "code",
   "execution_count": 17,
   "metadata": {},
   "outputs": [],
   "source": [
    "def make_binary_labels(labels):\n",
    "    return np.where(labels == 1, -1, 1)\n",
    "\n",
    "y_train_smote = make_binary_labels(resampled_y_train)\n",
    "y_test_smote = make_binary_labels(y_test)"
   ]
  },
  {
   "cell_type": "code",
   "execution_count": 18,
   "metadata": {},
   "outputs": [
    {
     "name": "stdout",
     "output_type": "stream",
     "text": [
      "Fitting 5 folds for each of 320 candidates, totalling 1600 fits\n",
      "[CV 1/5] END gamma=scale, kernel=linear, nu=0.001;, score=0.006 total time=   0.0s\n",
      "[CV 2/5] END gamma=scale, kernel=linear, nu=0.001;, score=0.005 total time=   0.0s\n",
      "[CV 3/5] END gamma=scale, kernel=linear, nu=0.001;, score=0.005 total time=   0.0s\n",
      "[CV 4/5] END gamma=scale, kernel=linear, nu=0.001;, score=0.008 total time=   0.0s\n"
     ]
    },
    {
     "name": "stdout",
     "output_type": "stream",
     "text": [
      "[CV 5/5] END gamma=scale, kernel=linear, nu=0.001;, score=nan total time=   0.0s\n",
      "[CV 1/5] END gamma=scale, kernel=linear, nu=0.005;, score=0.007 total time=   0.0s\n",
      "[CV 2/5] END gamma=scale, kernel=linear, nu=0.005;, score=0.003 total time=   0.0s\n",
      "[CV 3/5] END gamma=scale, kernel=linear, nu=0.005;, score=0.010 total time=   0.0s\n",
      "[CV 4/5] END gamma=scale, kernel=linear, nu=0.005;, score=0.002 total time=   0.0s\n",
      "[CV 5/5] END gamma=scale, kernel=linear, nu=0.005;, score=nan total time=   0.0s\n",
      "[CV 1/5] END gamma=scale, kernel=linear, nu=0.01;, score=0.005 total time=   0.0s\n",
      "[CV 2/5] END gamma=scale, kernel=linear, nu=0.01;, score=0.007 total time=   0.0s\n",
      "[CV 3/5] END gamma=scale, kernel=linear, nu=0.01;, score=0.005 total time=   0.0s\n",
      "[CV 4/5] END gamma=scale, kernel=linear, nu=0.01;, score=0.008 total time=   0.0s\n",
      "[CV 5/5] END .gamma=scale, kernel=linear, nu=0.01;, score=nan total time=   0.0s\n",
      "[CV 1/5] END gamma=scale, kernel=linear, nu=0.05;, score=0.005 total time=   0.0s\n",
      "[CV 2/5] END gamma=scale, kernel=linear, nu=0.05;, score=0.011 total time=   0.0s\n",
      "[CV 3/5] END gamma=scale, kernel=linear, nu=0.05;, score=0.003 total time=   0.0s\n",
      "[CV 4/5] END gamma=scale, kernel=linear, nu=0.05;, score=0.011 total time=   0.0s\n",
      "[CV 5/5] END .gamma=scale, kernel=linear, nu=0.05;, score=nan total time=   0.0s\n",
      "[CV 1/5] END gamma=scale, kernel=linear, nu=0.1;, score=0.004 total time=   0.0s\n",
      "[CV 2/5] END gamma=scale, kernel=linear, nu=0.1;, score=0.004 total time=   0.0s\n",
      "[CV 3/5] END gamma=scale, kernel=linear, nu=0.1;, score=0.003 total time=   0.0s\n",
      "[CV 4/5] END gamma=scale, kernel=linear, nu=0.1;, score=0.003 total time=   0.0s\n",
      "[CV 5/5] END ..gamma=scale, kernel=linear, nu=0.1;, score=nan total time=   0.0s\n",
      "[CV 1/5] END gamma=scale, kernel=linear, nu=0.2;, score=0.003 total time=   0.0s\n",
      "[CV 2/5] END gamma=scale, kernel=linear, nu=0.2;, score=0.003 total time=   0.0s\n",
      "[CV 3/5] END gamma=scale, kernel=linear, nu=0.2;, score=0.003 total time=   0.0s\n",
      "[CV 4/5] END gamma=scale, kernel=linear, nu=0.2;, score=0.004 total time=   0.0s\n",
      "[CV 5/5] END ..gamma=scale, kernel=linear, nu=0.2;, score=nan total time=   0.0s\n"
     ]
    },
    {
     "name": "stderr",
     "output_type": "stream",
     "text": [
      "C:\\Users\\Hannah Nga\\AppData\\Local\\Temp\\ipykernel_25108\\1732734207.py:4: RuntimeWarning: invalid value encountered in scalar divide\n",
      "  return precision_score(y_true,y_pred) / fp\n",
      "C:\\Users\\Hannah Nga\\AppData\\Local\\Temp\\ipykernel_25108\\1732734207.py:4: RuntimeWarning: invalid value encountered in scalar divide\n",
      "  return precision_score(y_true,y_pred) / fp\n",
      "C:\\Users\\Hannah Nga\\AppData\\Local\\Temp\\ipykernel_25108\\1732734207.py:4: RuntimeWarning: invalid value encountered in scalar divide\n",
      "  return precision_score(y_true,y_pred) / fp\n",
      "C:\\Users\\Hannah Nga\\AppData\\Local\\Temp\\ipykernel_25108\\1732734207.py:4: RuntimeWarning: invalid value encountered in scalar divide\n",
      "  return precision_score(y_true,y_pred) / fp\n",
      "C:\\Users\\Hannah Nga\\AppData\\Local\\Temp\\ipykernel_25108\\1732734207.py:4: RuntimeWarning: invalid value encountered in scalar divide\n",
      "  return precision_score(y_true,y_pred) / fp\n",
      "c:\\Users\\Hannah Nga\\.conda\\envs\\fraudenv\\lib\\site-packages\\sklearn\\metrics\\_classification.py:1509: UndefinedMetricWarning: Precision is ill-defined and being set to 0.0 due to no predicted samples. Use `zero_division` parameter to control this behavior.\n",
      "  _warn_prf(average, modifier, f\"{metric.capitalize()} is\", len(result))\n",
      "C:\\Users\\Hannah Nga\\AppData\\Local\\Temp\\ipykernel_25108\\1732734207.py:4: RuntimeWarning: invalid value encountered in scalar divide\n",
      "  return precision_score(y_true,y_pred) / fp\n"
     ]
    },
    {
     "name": "stdout",
     "output_type": "stream",
     "text": [
      "[CV 1/5] END gamma=scale, kernel=linear, nu=0.3;, score=0.003 total time=   0.0s\n",
      "[CV 2/5] END gamma=scale, kernel=linear, nu=0.3;, score=0.003 total time=   0.0s\n",
      "[CV 3/5] END gamma=scale, kernel=linear, nu=0.3;, score=0.003 total time=   0.0s\n",
      "[CV 4/5] END gamma=scale, kernel=linear, nu=0.3;, score=0.002 total time=   0.0s\n",
      "[CV 5/5] END ..gamma=scale, kernel=linear, nu=0.3;, score=nan total time=   0.0s\n",
      "[CV 1/5] END gamma=scale, kernel=linear, nu=0.5;, score=0.003 total time=   0.0s\n",
      "[CV 2/5] END gamma=scale, kernel=linear, nu=0.5;, score=0.003 total time=   0.0s\n",
      "[CV 3/5] END gamma=scale, kernel=linear, nu=0.5;, score=0.003 total time=   0.0s\n",
      "[CV 4/5] END gamma=scale, kernel=linear, nu=0.5;, score=0.003 total time=   0.0s\n"
     ]
    },
    {
     "name": "stderr",
     "output_type": "stream",
     "text": [
      "C:\\Users\\Hannah Nga\\AppData\\Local\\Temp\\ipykernel_25108\\1732734207.py:4: RuntimeWarning: invalid value encountered in scalar divide\n",
      "  return precision_score(y_true,y_pred) / fp\n",
      "C:\\Users\\Hannah Nga\\AppData\\Local\\Temp\\ipykernel_25108\\1732734207.py:4: RuntimeWarning: invalid value encountered in scalar divide\n",
      "  return precision_score(y_true,y_pred) / fp\n"
     ]
    },
    {
     "name": "stdout",
     "output_type": "stream",
     "text": [
      "[CV 5/5] END ..gamma=scale, kernel=linear, nu=0.5;, score=nan total time=   0.0s\n",
      "[CV 1/5] END gamma=scale, kernel=linear, nu=0.7;, score=0.003 total time=   0.0s\n",
      "[CV 2/5] END gamma=scale, kernel=linear, nu=0.7;, score=0.003 total time=   0.0s\n",
      "[CV 3/5] END gamma=scale, kernel=linear, nu=0.7;, score=0.003 total time=   0.0s\n",
      "[CV 4/5] END gamma=scale, kernel=linear, nu=0.7;, score=0.005 total time=   0.0s\n",
      "[CV 5/5] END ..gamma=scale, kernel=linear, nu=0.7;, score=nan total time=   0.0s\n",
      "[CV 1/5] END gamma=scale, kernel=linear, nu=0.9;, score=0.004 total time=   0.0s\n",
      "[CV 2/5] END gamma=scale, kernel=linear, nu=0.9;, score=0.003 total time=   0.0s\n"
     ]
    },
    {
     "name": "stderr",
     "output_type": "stream",
     "text": [
      "C:\\Users\\Hannah Nga\\AppData\\Local\\Temp\\ipykernel_25108\\1732734207.py:4: RuntimeWarning: invalid value encountered in scalar divide\n",
      "  return precision_score(y_true,y_pred) / fp\n"
     ]
    },
    {
     "name": "stdout",
     "output_type": "stream",
     "text": [
      "[CV 3/5] END gamma=scale, kernel=linear, nu=0.9;, score=0.003 total time=   0.0s\n",
      "[CV 4/5] END gamma=scale, kernel=linear, nu=0.9;, score=0.003 total time=   0.0s\n",
      "[CV 5/5] END ..gamma=scale, kernel=linear, nu=0.9;, score=nan total time=   0.0s\n",
      "[CV 1/5] END .gamma=scale, kernel=rbf, nu=0.001;, score=0.022 total time=   0.0s\n",
      "[CV 2/5] END .gamma=scale, kernel=rbf, nu=0.001;, score=0.019 total time=   0.0s\n",
      "[CV 3/5] END .gamma=scale, kernel=rbf, nu=0.001;, score=0.018 total time=   0.0s\n",
      "[CV 4/5] END .gamma=scale, kernel=rbf, nu=0.001;, score=0.023 total time=   0.0s\n",
      "[CV 5/5] END ...gamma=scale, kernel=rbf, nu=0.001;, score=nan total time=   0.0s\n",
      "[CV 1/5] END .gamma=scale, kernel=rbf, nu=0.005;, score=0.023 total time=   0.0s\n",
      "[CV 2/5] END .gamma=scale, kernel=rbf, nu=0.005;, score=0.019 total time=   0.0s\n",
      "[CV 3/5] END .gamma=scale, kernel=rbf, nu=0.005;, score=0.018 total time=   0.0s\n",
      "[CV 4/5] END .gamma=scale, kernel=rbf, nu=0.005;, score=0.023 total time=   0.0s\n",
      "[CV 5/5] END ...gamma=scale, kernel=rbf, nu=0.005;, score=nan total time=   0.0s\n",
      "[CV 1/5] END ..gamma=scale, kernel=rbf, nu=0.01;, score=0.023 total time=   0.0s\n"
     ]
    },
    {
     "name": "stderr",
     "output_type": "stream",
     "text": [
      "C:\\Users\\Hannah Nga\\AppData\\Local\\Temp\\ipykernel_25108\\1732734207.py:4: RuntimeWarning: invalid value encountered in scalar divide\n",
      "  return precision_score(y_true,y_pred) / fp\n",
      "C:\\Users\\Hannah Nga\\AppData\\Local\\Temp\\ipykernel_25108\\1732734207.py:4: RuntimeWarning: invalid value encountered in scalar divide\n",
      "  return precision_score(y_true,y_pred) / fp\n",
      "C:\\Users\\Hannah Nga\\AppData\\Local\\Temp\\ipykernel_25108\\1732734207.py:4: RuntimeWarning: invalid value encountered in scalar divide\n",
      "  return precision_score(y_true,y_pred) / fp\n",
      "C:\\Users\\Hannah Nga\\AppData\\Local\\Temp\\ipykernel_25108\\1732734207.py:4: RuntimeWarning: invalid value encountered in scalar divide\n",
      "  return precision_score(y_true,y_pred) / fp\n"
     ]
    },
    {
     "name": "stdout",
     "output_type": "stream",
     "text": [
      "[CV 2/5] END ..gamma=scale, kernel=rbf, nu=0.01;, score=0.019 total time=   0.0s\n",
      "[CV 3/5] END ..gamma=scale, kernel=rbf, nu=0.01;, score=0.018 total time=   0.0s\n",
      "[CV 4/5] END ..gamma=scale, kernel=rbf, nu=0.01;, score=0.023 total time=   0.0s\n",
      "[CV 5/5] END ....gamma=scale, kernel=rbf, nu=0.01;, score=nan total time=   0.0s\n",
      "[CV 1/5] END ..gamma=scale, kernel=rbf, nu=0.05;, score=0.023 total time=   0.0s\n",
      "[CV 2/5] END ..gamma=scale, kernel=rbf, nu=0.05;, score=0.019 total time=   0.0s\n",
      "[CV 3/5] END ..gamma=scale, kernel=rbf, nu=0.05;, score=0.018 total time=   0.0s\n",
      "[CV 4/5] END ..gamma=scale, kernel=rbf, nu=0.05;, score=0.024 total time=   0.0s\n",
      "[CV 5/5] END ....gamma=scale, kernel=rbf, nu=0.05;, score=nan total time=   0.0s\n",
      "[CV 1/5] END ...gamma=scale, kernel=rbf, nu=0.1;, score=0.017 total time=   0.0s\n",
      "[CV 2/5] END ...gamma=scale, kernel=rbf, nu=0.1;, score=0.014 total time=   0.0s\n",
      "[CV 3/5] END ...gamma=scale, kernel=rbf, nu=0.1;, score=0.014 total time=   0.0s\n",
      "[CV 4/5] END ...gamma=scale, kernel=rbf, nu=0.1;, score=0.020 total time=   0.0s\n"
     ]
    },
    {
     "name": "stderr",
     "output_type": "stream",
     "text": [
      "C:\\Users\\Hannah Nga\\AppData\\Local\\Temp\\ipykernel_25108\\1732734207.py:4: RuntimeWarning: invalid value encountered in scalar divide\n",
      "  return precision_score(y_true,y_pred) / fp\n",
      "C:\\Users\\Hannah Nga\\AppData\\Local\\Temp\\ipykernel_25108\\1732734207.py:4: RuntimeWarning: invalid value encountered in scalar divide\n",
      "  return precision_score(y_true,y_pred) / fp\n"
     ]
    },
    {
     "name": "stdout",
     "output_type": "stream",
     "text": [
      "[CV 5/5] END .....gamma=scale, kernel=rbf, nu=0.1;, score=nan total time=   0.0s\n",
      "[CV 1/5] END ...gamma=scale, kernel=rbf, nu=0.2;, score=0.011 total time=   0.0s\n",
      "[CV 2/5] END ...gamma=scale, kernel=rbf, nu=0.2;, score=0.008 total time=   0.0s\n",
      "[CV 3/5] END ...gamma=scale, kernel=rbf, nu=0.2;, score=0.009 total time=   0.0s\n",
      "[CV 4/5] END ...gamma=scale, kernel=rbf, nu=0.2;, score=0.009 total time=   0.0s\n",
      "[CV 5/5] END .....gamma=scale, kernel=rbf, nu=0.2;, score=nan total time=   0.0s\n"
     ]
    },
    {
     "name": "stderr",
     "output_type": "stream",
     "text": [
      "C:\\Users\\Hannah Nga\\AppData\\Local\\Temp\\ipykernel_25108\\1732734207.py:4: RuntimeWarning: invalid value encountered in scalar divide\n",
      "  return precision_score(y_true,y_pred) / fp\n"
     ]
    },
    {
     "name": "stdout",
     "output_type": "stream",
     "text": [
      "[CV 1/5] END ...gamma=scale, kernel=rbf, nu=0.3;, score=0.007 total time=   0.0s\n",
      "[CV 2/5] END ...gamma=scale, kernel=rbf, nu=0.3;, score=0.006 total time=   0.0s\n",
      "[CV 3/5] END ...gamma=scale, kernel=rbf, nu=0.3;, score=0.006 total time=   0.0s\n",
      "[CV 4/5] END ...gamma=scale, kernel=rbf, nu=0.3;, score=0.006 total time=   0.0s\n"
     ]
    },
    {
     "name": "stderr",
     "output_type": "stream",
     "text": [
      "C:\\Users\\Hannah Nga\\AppData\\Local\\Temp\\ipykernel_25108\\1732734207.py:4: RuntimeWarning: invalid value encountered in scalar divide\n",
      "  return precision_score(y_true,y_pred) / fp\n"
     ]
    },
    {
     "name": "stdout",
     "output_type": "stream",
     "text": [
      "[CV 5/5] END .....gamma=scale, kernel=rbf, nu=0.3;, score=nan total time=   0.0s\n",
      "[CV 1/5] END ...gamma=scale, kernel=rbf, nu=0.5;, score=0.004 total time=   0.0s\n",
      "[CV 2/5] END ...gamma=scale, kernel=rbf, nu=0.5;, score=0.004 total time=   0.0s\n",
      "[CV 3/5] END ...gamma=scale, kernel=rbf, nu=0.5;, score=0.004 total time=   0.0s\n",
      "[CV 4/5] END ...gamma=scale, kernel=rbf, nu=0.5;, score=0.004 total time=   0.0s\n",
      "[CV 5/5] END .....gamma=scale, kernel=rbf, nu=0.5;, score=nan total time=   0.0s\n"
     ]
    },
    {
     "name": "stderr",
     "output_type": "stream",
     "text": [
      "C:\\Users\\Hannah Nga\\AppData\\Local\\Temp\\ipykernel_25108\\1732734207.py:4: RuntimeWarning: invalid value encountered in scalar divide\n",
      "  return precision_score(y_true,y_pred) / fp\n"
     ]
    },
    {
     "name": "stdout",
     "output_type": "stream",
     "text": [
      "[CV 1/5] END ...gamma=scale, kernel=rbf, nu=0.7;, score=0.003 total time=   0.0s\n",
      "[CV 2/5] END ...gamma=scale, kernel=rbf, nu=0.7;, score=0.003 total time=   0.0s\n",
      "[CV 3/5] END ...gamma=scale, kernel=rbf, nu=0.7;, score=0.003 total time=   0.0s\n",
      "[CV 4/5] END ...gamma=scale, kernel=rbf, nu=0.7;, score=0.003 total time=   0.0s\n",
      "[CV 5/5] END .....gamma=scale, kernel=rbf, nu=0.7;, score=nan total time=   0.0s\n",
      "[CV 1/5] END ...gamma=scale, kernel=rbf, nu=0.9;, score=0.003 total time=   0.0s\n"
     ]
    },
    {
     "name": "stderr",
     "output_type": "stream",
     "text": [
      "C:\\Users\\Hannah Nga\\AppData\\Local\\Temp\\ipykernel_25108\\1732734207.py:4: RuntimeWarning: invalid value encountered in scalar divide\n",
      "  return precision_score(y_true,y_pred) / fp\n"
     ]
    },
    {
     "name": "stdout",
     "output_type": "stream",
     "text": [
      "[CV 2/5] END ...gamma=scale, kernel=rbf, nu=0.9;, score=0.003 total time=   0.0s\n",
      "[CV 3/5] END ...gamma=scale, kernel=rbf, nu=0.9;, score=0.002 total time=   0.0s\n",
      "[CV 4/5] END ...gamma=scale, kernel=rbf, nu=0.9;, score=0.002 total time=   0.0s\n"
     ]
    },
    {
     "name": "stderr",
     "output_type": "stream",
     "text": [
      "C:\\Users\\Hannah Nga\\AppData\\Local\\Temp\\ipykernel_25108\\1732734207.py:4: RuntimeWarning: invalid value encountered in scalar divide\n",
      "  return precision_score(y_true,y_pred) / fp\n",
      "C:\\Users\\Hannah Nga\\AppData\\Local\\Temp\\ipykernel_25108\\1732734207.py:4: RuntimeWarning: invalid value encountered in scalar divide\n",
      "  return precision_score(y_true,y_pred) / fp\n",
      "C:\\Users\\Hannah Nga\\AppData\\Local\\Temp\\ipykernel_25108\\1732734207.py:4: RuntimeWarning: invalid value encountered in scalar divide\n",
      "  return precision_score(y_true,y_pred) / fp\n"
     ]
    },
    {
     "name": "stdout",
     "output_type": "stream",
     "text": [
      "[CV 5/5] END .....gamma=scale, kernel=rbf, nu=0.9;, score=nan total time=   0.0s\n",
      "[CV 1/5] END gamma=scale, kernel=poly, nu=0.001;, score=0.007 total time=   0.0s\n",
      "[CV 2/5] END gamma=scale, kernel=poly, nu=0.001;, score=0.008 total time=   0.0s\n",
      "[CV 3/5] END gamma=scale, kernel=poly, nu=0.001;, score=0.008 total time=   0.0s\n",
      "[CV 4/5] END gamma=scale, kernel=poly, nu=0.001;, score=0.008 total time=   0.0s\n",
      "[CV 5/5] END ..gamma=scale, kernel=poly, nu=0.001;, score=nan total time=   0.0s\n",
      "[CV 1/5] END gamma=scale, kernel=poly, nu=0.005;, score=0.013 total time=   0.0s\n",
      "[CV 2/5] END gamma=scale, kernel=poly, nu=0.005;, score=0.016 total time=   0.0s\n",
      "[CV 3/5] END gamma=scale, kernel=poly, nu=0.005;, score=0.013 total time=   0.0s\n",
      "[CV 4/5] END gamma=scale, kernel=poly, nu=0.005;, score=0.017 total time=   0.0s\n",
      "[CV 5/5] END ..gamma=scale, kernel=poly, nu=0.005;, score=nan total time=   0.0s\n",
      "[CV 1/5] END .gamma=scale, kernel=poly, nu=0.01;, score=0.018 total time=   0.0s\n",
      "[CV 2/5] END .gamma=scale, kernel=poly, nu=0.01;, score=0.017 total time=   0.0s\n",
      "[CV 3/5] END .gamma=scale, kernel=poly, nu=0.01;, score=0.014 total time=   0.0s\n",
      "[CV 4/5] END .gamma=scale, kernel=poly, nu=0.01;, score=0.021 total time=   0.0s\n",
      "[CV 5/5] END ...gamma=scale, kernel=poly, nu=0.01;, score=nan total time=   0.0s\n",
      "[CV 1/5] END .gamma=scale, kernel=poly, nu=0.05;, score=0.017 total time=   0.0s\n",
      "[CV 2/5] END .gamma=scale, kernel=poly, nu=0.05;, score=0.016 total time=   0.0s\n",
      "[CV 3/5] END .gamma=scale, kernel=poly, nu=0.05;, score=0.013 total time=   0.0s\n",
      "[CV 4/5] END .gamma=scale, kernel=poly, nu=0.05;, score=0.020 total time=   0.0s\n",
      "[CV 5/5] END ...gamma=scale, kernel=poly, nu=0.05;, score=nan total time=   0.0s\n",
      "[CV 1/5] END ..gamma=scale, kernel=poly, nu=0.1;, score=0.015 total time=   0.0s\n",
      "[CV 2/5] END ..gamma=scale, kernel=poly, nu=0.1;, score=0.014 total time=   0.0s\n"
     ]
    },
    {
     "name": "stderr",
     "output_type": "stream",
     "text": [
      "C:\\Users\\Hannah Nga\\AppData\\Local\\Temp\\ipykernel_25108\\1732734207.py:4: RuntimeWarning: invalid value encountered in scalar divide\n",
      "  return precision_score(y_true,y_pred) / fp\n",
      "C:\\Users\\Hannah Nga\\AppData\\Local\\Temp\\ipykernel_25108\\1732734207.py:4: RuntimeWarning: invalid value encountered in scalar divide\n",
      "  return precision_score(y_true,y_pred) / fp\n"
     ]
    },
    {
     "name": "stdout",
     "output_type": "stream",
     "text": [
      "[CV 3/5] END ..gamma=scale, kernel=poly, nu=0.1;, score=0.013 total time=   0.0s\n",
      "[CV 4/5] END ..gamma=scale, kernel=poly, nu=0.1;, score=0.017 total time=   0.0s\n",
      "[CV 5/5] END ....gamma=scale, kernel=poly, nu=0.1;, score=nan total time=   0.0s\n",
      "[CV 1/5] END ..gamma=scale, kernel=poly, nu=0.2;, score=0.011 total time=   0.0s\n",
      "[CV 2/5] END ..gamma=scale, kernel=poly, nu=0.2;, score=0.010 total time=   0.0s\n",
      "[CV 3/5] END ..gamma=scale, kernel=poly, nu=0.2;, score=0.010 total time=   0.0s\n",
      "[CV 4/5] END ..gamma=scale, kernel=poly, nu=0.2;, score=0.012 total time=   0.0s\n"
     ]
    },
    {
     "name": "stderr",
     "output_type": "stream",
     "text": [
      "C:\\Users\\Hannah Nga\\AppData\\Local\\Temp\\ipykernel_25108\\1732734207.py:4: RuntimeWarning: invalid value encountered in scalar divide\n",
      "  return precision_score(y_true,y_pred) / fp\n",
      "C:\\Users\\Hannah Nga\\AppData\\Local\\Temp\\ipykernel_25108\\1732734207.py:4: RuntimeWarning: invalid value encountered in scalar divide\n",
      "  return precision_score(y_true,y_pred) / fp\n"
     ]
    },
    {
     "name": "stdout",
     "output_type": "stream",
     "text": [
      "[CV 5/5] END ....gamma=scale, kernel=poly, nu=0.2;, score=nan total time=   0.0s\n",
      "[CV 1/5] END ..gamma=scale, kernel=poly, nu=0.3;, score=0.009 total time=   0.0s\n",
      "[CV 2/5] END ..gamma=scale, kernel=poly, nu=0.3;, score=0.008 total time=   0.0s\n",
      "[CV 3/5] END ..gamma=scale, kernel=poly, nu=0.3;, score=0.007 total time=   0.0s\n",
      "[CV 4/5] END ..gamma=scale, kernel=poly, nu=0.3;, score=0.009 total time=   0.0s\n",
      "[CV 5/5] END ....gamma=scale, kernel=poly, nu=0.3;, score=nan total time=   0.0s\n"
     ]
    },
    {
     "name": "stderr",
     "output_type": "stream",
     "text": [
      "C:\\Users\\Hannah Nga\\AppData\\Local\\Temp\\ipykernel_25108\\1732734207.py:4: RuntimeWarning: invalid value encountered in scalar divide\n",
      "  return precision_score(y_true,y_pred) / fp\n"
     ]
    },
    {
     "name": "stdout",
     "output_type": "stream",
     "text": [
      "[CV 1/5] END ..gamma=scale, kernel=poly, nu=0.5;, score=0.005 total time=   0.0s\n",
      "[CV 2/5] END ..gamma=scale, kernel=poly, nu=0.5;, score=0.005 total time=   0.0s\n",
      "[CV 3/5] END ..gamma=scale, kernel=poly, nu=0.5;, score=0.005 total time=   0.0s\n",
      "[CV 4/5] END ..gamma=scale, kernel=poly, nu=0.5;, score=0.006 total time=   0.0s\n"
     ]
    },
    {
     "name": "stderr",
     "output_type": "stream",
     "text": [
      "C:\\Users\\Hannah Nga\\AppData\\Local\\Temp\\ipykernel_25108\\1732734207.py:4: RuntimeWarning: invalid value encountered in scalar divide\n",
      "  return precision_score(y_true,y_pred) / fp\n"
     ]
    },
    {
     "name": "stdout",
     "output_type": "stream",
     "text": [
      "[CV 5/5] END ....gamma=scale, kernel=poly, nu=0.5;, score=nan total time=   0.0s\n",
      "[CV 1/5] END ..gamma=scale, kernel=poly, nu=0.7;, score=0.004 total time=   0.0s\n",
      "[CV 2/5] END ..gamma=scale, kernel=poly, nu=0.7;, score=0.004 total time=   0.0s\n",
      "[CV 3/5] END ..gamma=scale, kernel=poly, nu=0.7;, score=0.004 total time=   0.0s\n",
      "[CV 4/5] END ..gamma=scale, kernel=poly, nu=0.7;, score=0.004 total time=   0.0s\n",
      "[CV 5/5] END ....gamma=scale, kernel=poly, nu=0.7;, score=nan total time=   0.0s\n",
      "[CV 1/5] END ..gamma=scale, kernel=poly, nu=0.9;, score=0.003 total time=   0.0s\n",
      "[CV 2/5] END ..gamma=scale, kernel=poly, nu=0.9;, score=0.003 total time=   0.0s\n"
     ]
    },
    {
     "name": "stderr",
     "output_type": "stream",
     "text": [
      "C:\\Users\\Hannah Nga\\AppData\\Local\\Temp\\ipykernel_25108\\1732734207.py:4: RuntimeWarning: invalid value encountered in scalar divide\n",
      "  return precision_score(y_true,y_pred) / fp\n"
     ]
    },
    {
     "name": "stdout",
     "output_type": "stream",
     "text": [
      "[CV 3/5] END ..gamma=scale, kernel=poly, nu=0.9;, score=0.003 total time=   0.0s\n",
      "[CV 4/5] END ..gamma=scale, kernel=poly, nu=0.9;, score=0.003 total time=   0.0s\n",
      "[CV 5/5] END ....gamma=scale, kernel=poly, nu=0.9;, score=nan total time=   0.0s\n",
      "[CV 1/5] END gamma=scale, kernel=sigmoid, nu=0.001;, score=0.328 total time=   0.0s\n",
      "[CV 2/5] END gamma=scale, kernel=sigmoid, nu=0.001;, score=0.493 total time=   0.0s\n",
      "[CV 3/5] END gamma=scale, kernel=sigmoid, nu=0.001;, score=0.328 total time=   0.0s\n",
      "[CV 4/5] END gamma=scale, kernel=sigmoid, nu=0.001;, score=inf total time=   0.0s\n",
      "[CV 5/5] END gamma=scale, kernel=sigmoid, nu=0.001;, score=nan total time=   0.0s\n",
      "[CV 1/5] END gamma=scale, kernel=sigmoid, nu=0.005;, score=0.493 total time=   0.0s\n",
      "[CV 2/5] END gamma=scale, kernel=sigmoid, nu=0.005;, score=inf total time=   0.0s\n",
      "[CV 3/5] END gamma=scale, kernel=sigmoid, nu=0.005;, score=inf total time=   0.0s\n",
      "[CV 4/5] END gamma=scale, kernel=sigmoid, nu=0.005;, score=0.099 total time=   0.0s\n",
      "[CV 5/5] END gamma=scale, kernel=sigmoid, nu=0.005;, score=nan total time=   0.0s\n",
      "[CV 1/5] END gamma=scale, kernel=sigmoid, nu=0.01;, score=0.141 total time=   0.0s\n",
      "[CV 2/5] END gamma=scale, kernel=sigmoid, nu=0.01;, score=0.197 total time=   0.0s\n",
      "[CV 3/5] END gamma=scale, kernel=sigmoid, nu=0.01;, score=0.197 total time=   0.0s\n",
      "[CV 4/5] END gamma=scale, kernel=sigmoid, nu=0.01;, score=0.890 total time=   0.0s\n",
      "[CV 5/5] END gamma=scale, kernel=sigmoid, nu=0.01;, score=nan total time=   0.0s\n",
      "[CV 1/5] END gamma=scale, kernel=sigmoid, nu=0.05;, score=0.033 total time=   0.0s\n",
      "[CV 2/5] END gamma=scale, kernel=sigmoid, nu=0.05;, score=0.045 total time=   0.0s\n"
     ]
    },
    {
     "name": "stderr",
     "output_type": "stream",
     "text": [
      "c:\\Users\\Hannah Nga\\.conda\\envs\\fraudenv\\lib\\site-packages\\sklearn\\metrics\\_classification.py:1509: UndefinedMetricWarning: Precision is ill-defined and being set to 0.0 due to no predicted samples. Use `zero_division` parameter to control this behavior.\n",
      "  _warn_prf(average, modifier, f\"{metric.capitalize()} is\", len(result))\n",
      "C:\\Users\\Hannah Nga\\AppData\\Local\\Temp\\ipykernel_25108\\1732734207.py:4: RuntimeWarning: invalid value encountered in scalar divide\n",
      "  return precision_score(y_true,y_pred) / fp\n",
      "C:\\Users\\Hannah Nga\\AppData\\Local\\Temp\\ipykernel_25108\\1732734207.py:4: RuntimeWarning: divide by zero encountered in scalar divide\n",
      "  return precision_score(y_true,y_pred) / fp\n",
      "C:\\Users\\Hannah Nga\\AppData\\Local\\Temp\\ipykernel_25108\\1732734207.py:4: RuntimeWarning: invalid value encountered in scalar divide\n",
      "  return precision_score(y_true,y_pred) / fp\n",
      "C:\\Users\\Hannah Nga\\AppData\\Local\\Temp\\ipykernel_25108\\1732734207.py:4: RuntimeWarning: divide by zero encountered in scalar divide\n",
      "  return precision_score(y_true,y_pred) / fp\n",
      "C:\\Users\\Hannah Nga\\AppData\\Local\\Temp\\ipykernel_25108\\1732734207.py:4: RuntimeWarning: divide by zero encountered in scalar divide\n",
      "  return precision_score(y_true,y_pred) / fp\n",
      "C:\\Users\\Hannah Nga\\AppData\\Local\\Temp\\ipykernel_25108\\1732734207.py:4: RuntimeWarning: invalid value encountered in scalar divide\n",
      "  return precision_score(y_true,y_pred) / fp\n",
      "C:\\Users\\Hannah Nga\\AppData\\Local\\Temp\\ipykernel_25108\\1732734207.py:4: RuntimeWarning: invalid value encountered in scalar divide\n",
      "  return precision_score(y_true,y_pred) / fp\n",
      "C:\\Users\\Hannah Nga\\AppData\\Local\\Temp\\ipykernel_25108\\1732734207.py:4: RuntimeWarning: invalid value encountered in scalar divide\n",
      "  return precision_score(y_true,y_pred) / fp\n"
     ]
    },
    {
     "name": "stdout",
     "output_type": "stream",
     "text": [
      "[CV 3/5] END gamma=scale, kernel=sigmoid, nu=0.05;, score=0.029 total time=   0.0s\n",
      "[CV 4/5] END gamma=scale, kernel=sigmoid, nu=0.05;, score=0.027 total time=   0.0s\n",
      "[CV 5/5] END gamma=scale, kernel=sigmoid, nu=0.05;, score=nan total time=   0.0s\n",
      "[CV 1/5] END gamma=scale, kernel=sigmoid, nu=0.1;, score=0.015 total time=   0.0s\n",
      "[CV 2/5] END gamma=scale, kernel=sigmoid, nu=0.1;, score=0.018 total time=   0.0s\n",
      "[CV 3/5] END gamma=scale, kernel=sigmoid, nu=0.1;, score=0.016 total time=   0.0s\n",
      "[CV 4/5] END gamma=scale, kernel=sigmoid, nu=0.1;, score=0.016 total time=   0.0s\n",
      "[CV 5/5] END .gamma=scale, kernel=sigmoid, nu=0.1;, score=nan total time=   0.0s\n",
      "[CV 1/5] END gamma=scale, kernel=sigmoid, nu=0.2;, score=0.009 total time=   0.0s\n",
      "[CV 2/5] END gamma=scale, kernel=sigmoid, nu=0.2;, score=0.010 total time=   0.0s\n"
     ]
    },
    {
     "name": "stderr",
     "output_type": "stream",
     "text": [
      "C:\\Users\\Hannah Nga\\AppData\\Local\\Temp\\ipykernel_25108\\1732734207.py:4: RuntimeWarning: invalid value encountered in scalar divide\n",
      "  return precision_score(y_true,y_pred) / fp\n"
     ]
    },
    {
     "name": "stdout",
     "output_type": "stream",
     "text": [
      "[CV 3/5] END gamma=scale, kernel=sigmoid, nu=0.2;, score=0.008 total time=   0.0s\n",
      "[CV 4/5] END gamma=scale, kernel=sigmoid, nu=0.2;, score=0.009 total time=   0.0s\n",
      "[CV 5/5] END .gamma=scale, kernel=sigmoid, nu=0.2;, score=nan total time=   0.0s\n",
      "[CV 1/5] END gamma=scale, kernel=sigmoid, nu=0.3;, score=0.006 total time=   0.0s\n",
      "[CV 2/5] END gamma=scale, kernel=sigmoid, nu=0.3;, score=0.006 total time=   0.0s\n"
     ]
    },
    {
     "name": "stderr",
     "output_type": "stream",
     "text": [
      "C:\\Users\\Hannah Nga\\AppData\\Local\\Temp\\ipykernel_25108\\1732734207.py:4: RuntimeWarning: invalid value encountered in scalar divide\n",
      "  return precision_score(y_true,y_pred) / fp\n"
     ]
    },
    {
     "name": "stdout",
     "output_type": "stream",
     "text": [
      "[CV 3/5] END gamma=scale, kernel=sigmoid, nu=0.3;, score=0.006 total time=   0.0s\n",
      "[CV 4/5] END gamma=scale, kernel=sigmoid, nu=0.3;, score=0.005 total time=   0.0s\n",
      "[CV 5/5] END .gamma=scale, kernel=sigmoid, nu=0.3;, score=nan total time=   0.0s\n",
      "[CV 1/5] END gamma=scale, kernel=sigmoid, nu=0.5;, score=0.004 total time=   0.0s\n"
     ]
    },
    {
     "name": "stderr",
     "output_type": "stream",
     "text": [
      "C:\\Users\\Hannah Nga\\AppData\\Local\\Temp\\ipykernel_25108\\1732734207.py:4: RuntimeWarning: invalid value encountered in scalar divide\n",
      "  return precision_score(y_true,y_pred) / fp\n"
     ]
    },
    {
     "name": "stdout",
     "output_type": "stream",
     "text": [
      "[CV 2/5] END gamma=scale, kernel=sigmoid, nu=0.5;, score=0.004 total time=   0.0s\n",
      "[CV 3/5] END gamma=scale, kernel=sigmoid, nu=0.5;, score=0.004 total time=   0.0s\n",
      "[CV 4/5] END gamma=scale, kernel=sigmoid, nu=0.5;, score=0.004 total time=   0.0s\n"
     ]
    },
    {
     "name": "stderr",
     "output_type": "stream",
     "text": [
      "C:\\Users\\Hannah Nga\\AppData\\Local\\Temp\\ipykernel_25108\\1732734207.py:4: RuntimeWarning: invalid value encountered in scalar divide\n",
      "  return precision_score(y_true,y_pred) / fp\n"
     ]
    },
    {
     "name": "stdout",
     "output_type": "stream",
     "text": [
      "[CV 5/5] END .gamma=scale, kernel=sigmoid, nu=0.5;, score=nan total time=   0.0s\n",
      "[CV 1/5] END gamma=scale, kernel=sigmoid, nu=0.7;, score=0.003 total time=   0.0s\n",
      "[CV 2/5] END gamma=scale, kernel=sigmoid, nu=0.7;, score=0.003 total time=   0.0s\n",
      "[CV 3/5] END gamma=scale, kernel=sigmoid, nu=0.7;, score=0.003 total time=   0.0s\n",
      "[CV 4/5] END gamma=scale, kernel=sigmoid, nu=0.7;, score=0.002 total time=   0.0s\n",
      "[CV 5/5] END .gamma=scale, kernel=sigmoid, nu=0.7;, score=nan total time=   0.0s\n"
     ]
    },
    {
     "name": "stderr",
     "output_type": "stream",
     "text": [
      "C:\\Users\\Hannah Nga\\AppData\\Local\\Temp\\ipykernel_25108\\1732734207.py:4: RuntimeWarning: invalid value encountered in scalar divide\n",
      "  return precision_score(y_true,y_pred) / fp\n"
     ]
    },
    {
     "name": "stdout",
     "output_type": "stream",
     "text": [
      "[CV 1/5] END gamma=scale, kernel=sigmoid, nu=0.9;, score=0.003 total time=   0.0s\n",
      "[CV 2/5] END gamma=scale, kernel=sigmoid, nu=0.9;, score=0.003 total time=   0.0s\n",
      "[CV 3/5] END gamma=scale, kernel=sigmoid, nu=0.9;, score=0.003 total time=   0.0s\n",
      "[CV 4/5] END gamma=scale, kernel=sigmoid, nu=0.9;, score=0.002 total time=   0.0s\n",
      "[CV 5/5] END .gamma=scale, kernel=sigmoid, nu=0.9;, score=nan total time=   0.0s\n",
      "[CV 1/5] END gamma=auto, kernel=linear, nu=0.001;, score=0.006 total time=   0.0s\n",
      "[CV 2/5] END gamma=auto, kernel=linear, nu=0.001;, score=0.005 total time=   0.0s\n",
      "[CV 3/5] END gamma=auto, kernel=linear, nu=0.001;, score=0.005 total time=   0.0s\n",
      "[CV 4/5] END gamma=auto, kernel=linear, nu=0.001;, score=0.008 total time=   0.0s\n",
      "[CV 5/5] END .gamma=auto, kernel=linear, nu=0.001;, score=nan total time=   0.0s\n",
      "[CV 1/5] END gamma=auto, kernel=linear, nu=0.005;, score=0.007 total time=   0.0s\n",
      "[CV 2/5] END gamma=auto, kernel=linear, nu=0.005;, score=0.003 total time=   0.0s\n",
      "[CV 3/5] END gamma=auto, kernel=linear, nu=0.005;, score=0.010 total time=   0.0s\n",
      "[CV 4/5] END gamma=auto, kernel=linear, nu=0.005;, score=0.002 total time=   0.0s\n",
      "[CV 5/5] END .gamma=auto, kernel=linear, nu=0.005;, score=nan total time=   0.0s\n",
      "[CV 1/5] END gamma=auto, kernel=linear, nu=0.01;, score=0.005 total time=   0.0s\n",
      "[CV 2/5] END gamma=auto, kernel=linear, nu=0.01;, score=0.007 total time=   0.0s\n",
      "[CV 3/5] END gamma=auto, kernel=linear, nu=0.01;, score=0.005 total time=   0.0s\n",
      "[CV 4/5] END gamma=auto, kernel=linear, nu=0.01;, score=0.008 total time=   0.0s\n",
      "[CV 5/5] END ..gamma=auto, kernel=linear, nu=0.01;, score=nan total time=   0.0s\n",
      "[CV 1/5] END gamma=auto, kernel=linear, nu=0.05;, score=0.005 total time=   0.0s\n",
      "[CV 2/5] END gamma=auto, kernel=linear, nu=0.05;, score=0.011 total time=   0.0s\n",
      "[CV 3/5] END gamma=auto, kernel=linear, nu=0.05;, score=0.003 total time=   0.0s\n",
      "[CV 4/5] END gamma=auto, kernel=linear, nu=0.05;, score=0.011 total time=   0.0s\n"
     ]
    },
    {
     "name": "stderr",
     "output_type": "stream",
     "text": [
      "C:\\Users\\Hannah Nga\\AppData\\Local\\Temp\\ipykernel_25108\\1732734207.py:4: RuntimeWarning: invalid value encountered in scalar divide\n",
      "  return precision_score(y_true,y_pred) / fp\n",
      "C:\\Users\\Hannah Nga\\AppData\\Local\\Temp\\ipykernel_25108\\1732734207.py:4: RuntimeWarning: invalid value encountered in scalar divide\n",
      "  return precision_score(y_true,y_pred) / fp\n",
      "C:\\Users\\Hannah Nga\\AppData\\Local\\Temp\\ipykernel_25108\\1732734207.py:4: RuntimeWarning: invalid value encountered in scalar divide\n",
      "  return precision_score(y_true,y_pred) / fp\n",
      "C:\\Users\\Hannah Nga\\AppData\\Local\\Temp\\ipykernel_25108\\1732734207.py:4: RuntimeWarning: invalid value encountered in scalar divide\n",
      "  return precision_score(y_true,y_pred) / fp\n",
      "C:\\Users\\Hannah Nga\\AppData\\Local\\Temp\\ipykernel_25108\\1732734207.py:4: RuntimeWarning: invalid value encountered in scalar divide\n",
      "  return precision_score(y_true,y_pred) / fp\n",
      "C:\\Users\\Hannah Nga\\AppData\\Local\\Temp\\ipykernel_25108\\1732734207.py:4: RuntimeWarning: invalid value encountered in scalar divide\n",
      "  return precision_score(y_true,y_pred) / fp\n",
      "c:\\Users\\Hannah Nga\\.conda\\envs\\fraudenv\\lib\\site-packages\\sklearn\\metrics\\_classification.py:1509: UndefinedMetricWarning: Precision is ill-defined and being set to 0.0 due to no predicted samples. Use `zero_division` parameter to control this behavior.\n",
      "  _warn_prf(average, modifier, f\"{metric.capitalize()} is\", len(result))\n",
      "C:\\Users\\Hannah Nga\\AppData\\Local\\Temp\\ipykernel_25108\\1732734207.py:4: RuntimeWarning: invalid value encountered in scalar divide\n",
      "  return precision_score(y_true,y_pred) / fp\n"
     ]
    },
    {
     "name": "stdout",
     "output_type": "stream",
     "text": [
      "[CV 5/5] END ..gamma=auto, kernel=linear, nu=0.05;, score=nan total time=   0.0s\n",
      "[CV 1/5] END .gamma=auto, kernel=linear, nu=0.1;, score=0.004 total time=   0.0s\n",
      "[CV 2/5] END .gamma=auto, kernel=linear, nu=0.1;, score=0.004 total time=   0.0s\n",
      "[CV 3/5] END .gamma=auto, kernel=linear, nu=0.1;, score=0.003 total time=   0.0s\n",
      "[CV 4/5] END .gamma=auto, kernel=linear, nu=0.1;, score=0.003 total time=   0.0s\n",
      "[CV 5/5] END ...gamma=auto, kernel=linear, nu=0.1;, score=nan total time=   0.0s\n",
      "[CV 1/5] END .gamma=auto, kernel=linear, nu=0.2;, score=0.003 total time=   0.0s\n",
      "[CV 2/5] END .gamma=auto, kernel=linear, nu=0.2;, score=0.003 total time=   0.0s\n",
      "[CV 3/5] END .gamma=auto, kernel=linear, nu=0.2;, score=0.003 total time=   0.0s\n",
      "[CV 4/5] END .gamma=auto, kernel=linear, nu=0.2;, score=0.004 total time=   0.0s\n",
      "[CV 5/5] END ...gamma=auto, kernel=linear, nu=0.2;, score=nan total time=   0.0s\n",
      "[CV 1/5] END .gamma=auto, kernel=linear, nu=0.3;, score=0.003 total time=   0.0s\n",
      "[CV 2/5] END .gamma=auto, kernel=linear, nu=0.3;, score=0.003 total time=   0.0s\n",
      "[CV 3/5] END .gamma=auto, kernel=linear, nu=0.3;, score=0.003 total time=   0.0s\n",
      "[CV 4/5] END .gamma=auto, kernel=linear, nu=0.3;, score=0.002 total time=   0.0s\n",
      "[CV 5/5] END ...gamma=auto, kernel=linear, nu=0.3;, score=nan total time=   0.0s\n"
     ]
    },
    {
     "name": "stderr",
     "output_type": "stream",
     "text": [
      "C:\\Users\\Hannah Nga\\AppData\\Local\\Temp\\ipykernel_25108\\1732734207.py:4: RuntimeWarning: invalid value encountered in scalar divide\n",
      "  return precision_score(y_true,y_pred) / fp\n",
      "C:\\Users\\Hannah Nga\\AppData\\Local\\Temp\\ipykernel_25108\\1732734207.py:4: RuntimeWarning: invalid value encountered in scalar divide\n",
      "  return precision_score(y_true,y_pred) / fp\n"
     ]
    },
    {
     "name": "stdout",
     "output_type": "stream",
     "text": [
      "[CV 1/5] END .gamma=auto, kernel=linear, nu=0.5;, score=0.003 total time=   0.0s\n",
      "[CV 2/5] END .gamma=auto, kernel=linear, nu=0.5;, score=0.003 total time=   0.0s\n",
      "[CV 3/5] END .gamma=auto, kernel=linear, nu=0.5;, score=0.003 total time=   0.0s\n",
      "[CV 4/5] END .gamma=auto, kernel=linear, nu=0.5;, score=0.003 total time=   0.0s\n",
      "[CV 5/5] END ...gamma=auto, kernel=linear, nu=0.5;, score=nan total time=   0.0s\n",
      "[CV 1/5] END .gamma=auto, kernel=linear, nu=0.7;, score=0.003 total time=   0.0s\n",
      "[CV 2/5] END .gamma=auto, kernel=linear, nu=0.7;, score=0.003 total time=   0.0s\n",
      "[CV 3/5] END .gamma=auto, kernel=linear, nu=0.7;, score=0.003 total time=   0.0s\n",
      "[CV 4/5] END .gamma=auto, kernel=linear, nu=0.7;, score=0.005 total time=   0.0s\n",
      "[CV 5/5] END ...gamma=auto, kernel=linear, nu=0.7;, score=nan total time=   0.0s\n",
      "[CV 1/5] END .gamma=auto, kernel=linear, nu=0.9;, score=0.004 total time=   0.0s\n"
     ]
    },
    {
     "name": "stderr",
     "output_type": "stream",
     "text": [
      "C:\\Users\\Hannah Nga\\AppData\\Local\\Temp\\ipykernel_25108\\1732734207.py:4: RuntimeWarning: invalid value encountered in scalar divide\n",
      "  return precision_score(y_true,y_pred) / fp\n"
     ]
    },
    {
     "name": "stdout",
     "output_type": "stream",
     "text": [
      "[CV 2/5] END .gamma=auto, kernel=linear, nu=0.9;, score=0.003 total time=   0.0s\n",
      "[CV 3/5] END .gamma=auto, kernel=linear, nu=0.9;, score=0.003 total time=   0.0s\n",
      "[CV 4/5] END .gamma=auto, kernel=linear, nu=0.9;, score=0.003 total time=   0.0s\n",
      "[CV 5/5] END ...gamma=auto, kernel=linear, nu=0.9;, score=nan total time=   0.0s\n",
      "[CV 1/5] END ..gamma=auto, kernel=rbf, nu=0.001;, score=0.023 total time=   0.0s\n",
      "[CV 2/5] END ..gamma=auto, kernel=rbf, nu=0.001;, score=0.020 total time=   0.0s\n"
     ]
    },
    {
     "name": "stderr",
     "output_type": "stream",
     "text": [
      "C:\\Users\\Hannah Nga\\AppData\\Local\\Temp\\ipykernel_25108\\1732734207.py:4: RuntimeWarning: invalid value encountered in scalar divide\n",
      "  return precision_score(y_true,y_pred) / fp\n",
      "C:\\Users\\Hannah Nga\\AppData\\Local\\Temp\\ipykernel_25108\\1732734207.py:4: RuntimeWarning: invalid value encountered in scalar divide\n",
      "  return precision_score(y_true,y_pred) / fp\n",
      "C:\\Users\\Hannah Nga\\AppData\\Local\\Temp\\ipykernel_25108\\1732734207.py:4: RuntimeWarning: invalid value encountered in scalar divide\n",
      "  return precision_score(y_true,y_pred) / fp\n",
      "C:\\Users\\Hannah Nga\\AppData\\Local\\Temp\\ipykernel_25108\\1732734207.py:4: RuntimeWarning: invalid value encountered in scalar divide\n",
      "  return precision_score(y_true,y_pred) / fp\n"
     ]
    },
    {
     "name": "stdout",
     "output_type": "stream",
     "text": [
      "[CV 3/5] END ..gamma=auto, kernel=rbf, nu=0.001;, score=0.020 total time=   0.0s\n",
      "[CV 4/5] END ..gamma=auto, kernel=rbf, nu=0.001;, score=0.023 total time=   0.0s\n",
      "[CV 5/5] END ....gamma=auto, kernel=rbf, nu=0.001;, score=nan total time=   0.0s\n",
      "[CV 1/5] END ..gamma=auto, kernel=rbf, nu=0.005;, score=0.022 total time=   0.0s\n",
      "[CV 2/5] END ..gamma=auto, kernel=rbf, nu=0.005;, score=0.021 total time=   0.0s\n",
      "[CV 3/5] END ..gamma=auto, kernel=rbf, nu=0.005;, score=0.020 total time=   0.0s\n",
      "[CV 4/5] END ..gamma=auto, kernel=rbf, nu=0.005;, score=0.023 total time=   0.0s\n",
      "[CV 5/5] END ....gamma=auto, kernel=rbf, nu=0.005;, score=nan total time=   0.0s\n",
      "[CV 1/5] END ...gamma=auto, kernel=rbf, nu=0.01;, score=0.023 total time=   0.0s\n",
      "[CV 2/5] END ...gamma=auto, kernel=rbf, nu=0.01;, score=0.021 total time=   0.0s\n",
      "[CV 3/5] END ...gamma=auto, kernel=rbf, nu=0.01;, score=0.020 total time=   0.0s\n",
      "[CV 4/5] END ...gamma=auto, kernel=rbf, nu=0.01;, score=0.023 total time=   0.0s\n",
      "[CV 5/5] END .....gamma=auto, kernel=rbf, nu=0.01;, score=nan total time=   0.0s\n",
      "[CV 1/5] END ...gamma=auto, kernel=rbf, nu=0.05;, score=0.022 total time=   0.0s\n",
      "[CV 2/5] END ...gamma=auto, kernel=rbf, nu=0.05;, score=0.020 total time=   0.0s\n",
      "[CV 3/5] END ...gamma=auto, kernel=rbf, nu=0.05;, score=0.020 total time=   0.0s\n",
      "[CV 4/5] END ...gamma=auto, kernel=rbf, nu=0.05;, score=0.024 total time=   0.0s\n"
     ]
    },
    {
     "name": "stderr",
     "output_type": "stream",
     "text": [
      "C:\\Users\\Hannah Nga\\AppData\\Local\\Temp\\ipykernel_25108\\1732734207.py:4: RuntimeWarning: invalid value encountered in scalar divide\n",
      "  return precision_score(y_true,y_pred) / fp\n",
      "C:\\Users\\Hannah Nga\\AppData\\Local\\Temp\\ipykernel_25108\\1732734207.py:4: RuntimeWarning: invalid value encountered in scalar divide\n",
      "  return precision_score(y_true,y_pred) / fp\n"
     ]
    },
    {
     "name": "stdout",
     "output_type": "stream",
     "text": [
      "[CV 5/5] END .....gamma=auto, kernel=rbf, nu=0.05;, score=nan total time=   0.0s\n",
      "[CV 1/5] END ....gamma=auto, kernel=rbf, nu=0.1;, score=0.017 total time=   0.0s\n",
      "[CV 2/5] END ....gamma=auto, kernel=rbf, nu=0.1;, score=0.014 total time=   0.0s\n",
      "[CV 3/5] END ....gamma=auto, kernel=rbf, nu=0.1;, score=0.014 total time=   0.0s\n",
      "[CV 4/5] END ....gamma=auto, kernel=rbf, nu=0.1;, score=0.020 total time=   0.0s\n",
      "[CV 5/5] END ......gamma=auto, kernel=rbf, nu=0.1;, score=nan total time=   0.0s\n",
      "[CV 1/5] END ....gamma=auto, kernel=rbf, nu=0.2;, score=0.011 total time=   0.0s\n",
      "[CV 2/5] END ....gamma=auto, kernel=rbf, nu=0.2;, score=0.008 total time=   0.0s\n",
      "[CV 3/5] END ....gamma=auto, kernel=rbf, nu=0.2;, score=0.009 total time=   0.0s\n",
      "[CV 4/5] END ....gamma=auto, kernel=rbf, nu=0.2;, score=0.009 total time=   0.0s\n",
      "[CV 5/5] END ......gamma=auto, kernel=rbf, nu=0.2;, score=nan total time=   0.0s\n",
      "[CV 1/5] END ....gamma=auto, kernel=rbf, nu=0.3;, score=0.007 total time=   0.0s\n",
      "[CV 2/5] END ....gamma=auto, kernel=rbf, nu=0.3;, score=0.006 total time=   0.0s\n",
      "[CV 3/5] END ....gamma=auto, kernel=rbf, nu=0.3;, score=0.006 total time=   0.0s\n"
     ]
    },
    {
     "name": "stderr",
     "output_type": "stream",
     "text": [
      "C:\\Users\\Hannah Nga\\AppData\\Local\\Temp\\ipykernel_25108\\1732734207.py:4: RuntimeWarning: invalid value encountered in scalar divide\n",
      "  return precision_score(y_true,y_pred) / fp\n"
     ]
    },
    {
     "name": "stdout",
     "output_type": "stream",
     "text": [
      "[CV 4/5] END ....gamma=auto, kernel=rbf, nu=0.3;, score=0.006 total time=   0.0s\n",
      "[CV 5/5] END ......gamma=auto, kernel=rbf, nu=0.3;, score=nan total time=   0.0s\n",
      "[CV 1/5] END ....gamma=auto, kernel=rbf, nu=0.5;, score=0.004 total time=   0.0s\n"
     ]
    },
    {
     "name": "stderr",
     "output_type": "stream",
     "text": [
      "C:\\Users\\Hannah Nga\\AppData\\Local\\Temp\\ipykernel_25108\\1732734207.py:4: RuntimeWarning: invalid value encountered in scalar divide\n",
      "  return precision_score(y_true,y_pred) / fp\n"
     ]
    },
    {
     "name": "stdout",
     "output_type": "stream",
     "text": [
      "[CV 2/5] END ....gamma=auto, kernel=rbf, nu=0.5;, score=0.004 total time=   0.0s\n",
      "[CV 3/5] END ....gamma=auto, kernel=rbf, nu=0.5;, score=0.004 total time=   0.0s\n",
      "[CV 4/5] END ....gamma=auto, kernel=rbf, nu=0.5;, score=0.004 total time=   0.0s\n"
     ]
    },
    {
     "name": "stderr",
     "output_type": "stream",
     "text": [
      "C:\\Users\\Hannah Nga\\AppData\\Local\\Temp\\ipykernel_25108\\1732734207.py:4: RuntimeWarning: invalid value encountered in scalar divide\n",
      "  return precision_score(y_true,y_pred) / fp\n"
     ]
    },
    {
     "name": "stdout",
     "output_type": "stream",
     "text": [
      "[CV 5/5] END ......gamma=auto, kernel=rbf, nu=0.5;, score=nan total time=   0.0s\n",
      "[CV 1/5] END ....gamma=auto, kernel=rbf, nu=0.7;, score=0.003 total time=   0.0s\n",
      "[CV 2/5] END ....gamma=auto, kernel=rbf, nu=0.7;, score=0.003 total time=   0.0s\n",
      "[CV 3/5] END ....gamma=auto, kernel=rbf, nu=0.7;, score=0.003 total time=   0.0s\n",
      "[CV 4/5] END ....gamma=auto, kernel=rbf, nu=0.7;, score=0.003 total time=   0.0s\n"
     ]
    },
    {
     "name": "stderr",
     "output_type": "stream",
     "text": [
      "C:\\Users\\Hannah Nga\\AppData\\Local\\Temp\\ipykernel_25108\\1732734207.py:4: RuntimeWarning: invalid value encountered in scalar divide\n",
      "  return precision_score(y_true,y_pred) / fp\n"
     ]
    },
    {
     "name": "stdout",
     "output_type": "stream",
     "text": [
      "[CV 5/5] END ......gamma=auto, kernel=rbf, nu=0.7;, score=nan total time=   0.0s\n",
      "[CV 1/5] END ....gamma=auto, kernel=rbf, nu=0.9;, score=0.003 total time=   0.0s\n",
      "[CV 2/5] END ....gamma=auto, kernel=rbf, nu=0.9;, score=0.003 total time=   0.0s\n",
      "[CV 3/5] END ....gamma=auto, kernel=rbf, nu=0.9;, score=0.002 total time=   0.0s\n",
      "[CV 4/5] END ....gamma=auto, kernel=rbf, nu=0.9;, score=0.002 total time=   0.0s\n",
      "[CV 5/5] END ......gamma=auto, kernel=rbf, nu=0.9;, score=nan total time=   0.0s\n",
      "[CV 1/5] END .gamma=auto, kernel=poly, nu=0.001;, score=0.007 total time=   0.0s\n",
      "[CV 2/5] END .gamma=auto, kernel=poly, nu=0.001;, score=0.008 total time=   0.0s\n",
      "[CV 3/5] END .gamma=auto, kernel=poly, nu=0.001;, score=0.007 total time=   0.0s\n",
      "[CV 4/5] END .gamma=auto, kernel=poly, nu=0.001;, score=0.007 total time=   0.0s\n",
      "[CV 5/5] END ...gamma=auto, kernel=poly, nu=0.001;, score=nan total time=   0.0s\n",
      "[CV 1/5] END .gamma=auto, kernel=poly, nu=0.005;, score=0.017 total time=   0.0s\n"
     ]
    },
    {
     "name": "stderr",
     "output_type": "stream",
     "text": [
      "C:\\Users\\Hannah Nga\\AppData\\Local\\Temp\\ipykernel_25108\\1732734207.py:4: RuntimeWarning: invalid value encountered in scalar divide\n",
      "  return precision_score(y_true,y_pred) / fp\n",
      "C:\\Users\\Hannah Nga\\AppData\\Local\\Temp\\ipykernel_25108\\1732734207.py:4: RuntimeWarning: invalid value encountered in scalar divide\n",
      "  return precision_score(y_true,y_pred) / fp\n",
      "C:\\Users\\Hannah Nga\\AppData\\Local\\Temp\\ipykernel_25108\\1732734207.py:4: RuntimeWarning: invalid value encountered in scalar divide\n",
      "  return precision_score(y_true,y_pred) / fp\n"
     ]
    },
    {
     "name": "stdout",
     "output_type": "stream",
     "text": [
      "[CV 2/5] END .gamma=auto, kernel=poly, nu=0.005;, score=0.015 total time=   0.0s\n",
      "[CV 3/5] END .gamma=auto, kernel=poly, nu=0.005;, score=0.012 total time=   0.0s\n",
      "[CV 4/5] END .gamma=auto, kernel=poly, nu=0.005;, score=0.016 total time=   0.0s\n",
      "[CV 5/5] END ...gamma=auto, kernel=poly, nu=0.005;, score=nan total time=   0.0s\n",
      "[CV 1/5] END ..gamma=auto, kernel=poly, nu=0.01;, score=0.018 total time=   0.0s\n",
      "[CV 2/5] END ..gamma=auto, kernel=poly, nu=0.01;, score=0.017 total time=   0.0s\n",
      "[CV 3/5] END ..gamma=auto, kernel=poly, nu=0.01;, score=0.013 total time=   0.0s\n",
      "[CV 4/5] END ..gamma=auto, kernel=poly, nu=0.01;, score=0.021 total time=   0.0s\n",
      "[CV 5/5] END ....gamma=auto, kernel=poly, nu=0.01;, score=nan total time=   0.0s\n",
      "[CV 1/5] END ..gamma=auto, kernel=poly, nu=0.05;, score=0.017 total time=   0.0s\n",
      "[CV 2/5] END ..gamma=auto, kernel=poly, nu=0.05;, score=0.016 total time=   0.0s\n"
     ]
    },
    {
     "name": "stderr",
     "output_type": "stream",
     "text": [
      "C:\\Users\\Hannah Nga\\AppData\\Local\\Temp\\ipykernel_25108\\1732734207.py:4: RuntimeWarning: invalid value encountered in scalar divide\n",
      "  return precision_score(y_true,y_pred) / fp\n",
      "C:\\Users\\Hannah Nga\\AppData\\Local\\Temp\\ipykernel_25108\\1732734207.py:4: RuntimeWarning: invalid value encountered in scalar divide\n",
      "  return precision_score(y_true,y_pred) / fp\n"
     ]
    },
    {
     "name": "stdout",
     "output_type": "stream",
     "text": [
      "[CV 3/5] END ..gamma=auto, kernel=poly, nu=0.05;, score=0.013 total time=   0.0s\n",
      "[CV 4/5] END ..gamma=auto, kernel=poly, nu=0.05;, score=0.020 total time=   0.0s\n",
      "[CV 5/5] END ....gamma=auto, kernel=poly, nu=0.05;, score=nan total time=   0.0s\n",
      "[CV 1/5] END ...gamma=auto, kernel=poly, nu=0.1;, score=0.015 total time=   0.0s\n",
      "[CV 2/5] END ...gamma=auto, kernel=poly, nu=0.1;, score=0.014 total time=   0.0s\n",
      "[CV 3/5] END ...gamma=auto, kernel=poly, nu=0.1;, score=0.013 total time=   0.0s\n",
      "[CV 4/5] END ...gamma=auto, kernel=poly, nu=0.1;, score=0.017 total time=   0.0s\n",
      "[CV 5/5] END .....gamma=auto, kernel=poly, nu=0.1;, score=nan total time=   0.0s\n",
      "[CV 1/5] END ...gamma=auto, kernel=poly, nu=0.2;, score=0.011 total time=   0.0s\n"
     ]
    },
    {
     "name": "stderr",
     "output_type": "stream",
     "text": [
      "C:\\Users\\Hannah Nga\\AppData\\Local\\Temp\\ipykernel_25108\\1732734207.py:4: RuntimeWarning: invalid value encountered in scalar divide\n",
      "  return precision_score(y_true,y_pred) / fp\n",
      "C:\\Users\\Hannah Nga\\AppData\\Local\\Temp\\ipykernel_25108\\1732734207.py:4: RuntimeWarning: invalid value encountered in scalar divide\n",
      "  return precision_score(y_true,y_pred) / fp\n"
     ]
    },
    {
     "name": "stdout",
     "output_type": "stream",
     "text": [
      "[CV 2/5] END ...gamma=auto, kernel=poly, nu=0.2;, score=0.010 total time=   0.0s\n",
      "[CV 3/5] END ...gamma=auto, kernel=poly, nu=0.2;, score=0.010 total time=   0.0s\n",
      "[CV 4/5] END ...gamma=auto, kernel=poly, nu=0.2;, score=0.012 total time=   0.0s\n",
      "[CV 5/5] END .....gamma=auto, kernel=poly, nu=0.2;, score=nan total time=   0.0s\n",
      "[CV 1/5] END ...gamma=auto, kernel=poly, nu=0.3;, score=0.009 total time=   0.0s\n",
      "[CV 2/5] END ...gamma=auto, kernel=poly, nu=0.3;, score=0.008 total time=   0.0s\n",
      "[CV 3/5] END ...gamma=auto, kernel=poly, nu=0.3;, score=0.007 total time=   0.0s\n",
      "[CV 4/5] END ...gamma=auto, kernel=poly, nu=0.3;, score=0.009 total time=   0.0s\n",
      "[CV 5/5] END .....gamma=auto, kernel=poly, nu=0.3;, score=nan total time=   0.0s\n",
      "[CV 1/5] END ...gamma=auto, kernel=poly, nu=0.5;, score=0.005 total time=   0.0s\n",
      "[CV 2/5] END ...gamma=auto, kernel=poly, nu=0.5;, score=0.005 total time=   0.0s\n",
      "[CV 3/5] END ...gamma=auto, kernel=poly, nu=0.5;, score=0.005 total time=   0.0s\n"
     ]
    },
    {
     "name": "stderr",
     "output_type": "stream",
     "text": [
      "C:\\Users\\Hannah Nga\\AppData\\Local\\Temp\\ipykernel_25108\\1732734207.py:4: RuntimeWarning: invalid value encountered in scalar divide\n",
      "  return precision_score(y_true,y_pred) / fp\n"
     ]
    },
    {
     "name": "stdout",
     "output_type": "stream",
     "text": [
      "[CV 4/5] END ...gamma=auto, kernel=poly, nu=0.5;, score=0.006 total time=   0.0s\n",
      "[CV 5/5] END .....gamma=auto, kernel=poly, nu=0.5;, score=nan total time=   0.0s\n",
      "[CV 1/5] END ...gamma=auto, kernel=poly, nu=0.7;, score=0.004 total time=   0.0s\n",
      "[CV 2/5] END ...gamma=auto, kernel=poly, nu=0.7;, score=0.004 total time=   0.0s\n"
     ]
    },
    {
     "name": "stderr",
     "output_type": "stream",
     "text": [
      "C:\\Users\\Hannah Nga\\AppData\\Local\\Temp\\ipykernel_25108\\1732734207.py:4: RuntimeWarning: invalid value encountered in scalar divide\n",
      "  return precision_score(y_true,y_pred) / fp\n"
     ]
    },
    {
     "name": "stdout",
     "output_type": "stream",
     "text": [
      "[CV 3/5] END ...gamma=auto, kernel=poly, nu=0.7;, score=0.004 total time=   0.0s\n",
      "[CV 4/5] END ...gamma=auto, kernel=poly, nu=0.7;, score=0.004 total time=   0.0s\n",
      "[CV 5/5] END .....gamma=auto, kernel=poly, nu=0.7;, score=nan total time=   0.0s\n",
      "[CV 1/5] END ...gamma=auto, kernel=poly, nu=0.9;, score=0.003 total time=   0.0s\n"
     ]
    },
    {
     "name": "stderr",
     "output_type": "stream",
     "text": [
      "C:\\Users\\Hannah Nga\\AppData\\Local\\Temp\\ipykernel_25108\\1732734207.py:4: RuntimeWarning: invalid value encountered in scalar divide\n",
      "  return precision_score(y_true,y_pred) / fp\n"
     ]
    },
    {
     "name": "stdout",
     "output_type": "stream",
     "text": [
      "[CV 2/5] END ...gamma=auto, kernel=poly, nu=0.9;, score=0.003 total time=   0.0s\n",
      "[CV 3/5] END ...gamma=auto, kernel=poly, nu=0.9;, score=0.003 total time=   0.0s\n",
      "[CV 4/5] END ...gamma=auto, kernel=poly, nu=0.9;, score=0.003 total time=   0.0s\n",
      "[CV 5/5] END .....gamma=auto, kernel=poly, nu=0.9;, score=nan total time=   0.0s\n",
      "[CV 1/5] END gamma=auto, kernel=sigmoid, nu=0.001;, score=0.328 total time=   0.0s\n",
      "[CV 2/5] END gamma=auto, kernel=sigmoid, nu=0.001;, score=inf total time=   0.0s\n",
      "[CV 3/5] END gamma=auto, kernel=sigmoid, nu=0.001;, score=0.246 total time=   0.0s\n",
      "[CV 4/5] END gamma=auto, kernel=sigmoid, nu=0.001;, score=inf total time=   0.0s\n",
      "[CV 5/5] END gamma=auto, kernel=sigmoid, nu=0.001;, score=nan total time=   0.0s\n",
      "[CV 1/5] END gamma=auto, kernel=sigmoid, nu=0.005;, score=0.493 total time=   0.0s\n",
      "[CV 2/5] END gamma=auto, kernel=sigmoid, nu=0.005;, score=inf total time=   0.0s\n",
      "[CV 3/5] END gamma=auto, kernel=sigmoid, nu=0.005;, score=0.985 total time=   0.0s\n"
     ]
    },
    {
     "name": "stderr",
     "output_type": "stream",
     "text": [
      "c:\\Users\\Hannah Nga\\.conda\\envs\\fraudenv\\lib\\site-packages\\sklearn\\metrics\\_classification.py:1509: UndefinedMetricWarning: Precision is ill-defined and being set to 0.0 due to no predicted samples. Use `zero_division` parameter to control this behavior.\n",
      "  _warn_prf(average, modifier, f\"{metric.capitalize()} is\", len(result))\n",
      "C:\\Users\\Hannah Nga\\AppData\\Local\\Temp\\ipykernel_25108\\1732734207.py:4: RuntimeWarning: invalid value encountered in scalar divide\n",
      "  return precision_score(y_true,y_pred) / fp\n",
      "C:\\Users\\Hannah Nga\\AppData\\Local\\Temp\\ipykernel_25108\\1732734207.py:4: RuntimeWarning: divide by zero encountered in scalar divide\n",
      "  return precision_score(y_true,y_pred) / fp\n",
      "C:\\Users\\Hannah Nga\\AppData\\Local\\Temp\\ipykernel_25108\\1732734207.py:4: RuntimeWarning: divide by zero encountered in scalar divide\n",
      "  return precision_score(y_true,y_pred) / fp\n",
      "C:\\Users\\Hannah Nga\\AppData\\Local\\Temp\\ipykernel_25108\\1732734207.py:4: RuntimeWarning: invalid value encountered in scalar divide\n",
      "  return precision_score(y_true,y_pred) / fp\n",
      "C:\\Users\\Hannah Nga\\AppData\\Local\\Temp\\ipykernel_25108\\1732734207.py:4: RuntimeWarning: divide by zero encountered in scalar divide\n",
      "  return precision_score(y_true,y_pred) / fp\n",
      "C:\\Users\\Hannah Nga\\AppData\\Local\\Temp\\ipykernel_25108\\1732734207.py:4: RuntimeWarning: invalid value encountered in scalar divide\n",
      "  return precision_score(y_true,y_pred) / fp\n",
      "C:\\Users\\Hannah Nga\\AppData\\Local\\Temp\\ipykernel_25108\\1732734207.py:4: RuntimeWarning: invalid value encountered in scalar divide\n",
      "  return precision_score(y_true,y_pred) / fp\n",
      "C:\\Users\\Hannah Nga\\AppData\\Local\\Temp\\ipykernel_25108\\1732734207.py:4: RuntimeWarning: invalid value encountered in scalar divide\n",
      "  return precision_score(y_true,y_pred) / fp\n"
     ]
    },
    {
     "name": "stdout",
     "output_type": "stream",
     "text": [
      "[CV 4/5] END gamma=auto, kernel=sigmoid, nu=0.005;, score=0.099 total time=   0.0s\n",
      "[CV 5/5] END gamma=auto, kernel=sigmoid, nu=0.005;, score=nan total time=   0.0s\n",
      "[CV 1/5] END gamma=auto, kernel=sigmoid, nu=0.01;, score=0.197 total time=   0.0s\n",
      "[CV 2/5] END gamma=auto, kernel=sigmoid, nu=0.01;, score=0.328 total time=   0.0s\n",
      "[CV 3/5] END gamma=auto, kernel=sigmoid, nu=0.01;, score=0.197 total time=   0.0s\n",
      "[CV 4/5] END gamma=auto, kernel=sigmoid, nu=0.01;, score=0.890 total time=   0.0s\n",
      "[CV 5/5] END .gamma=auto, kernel=sigmoid, nu=0.01;, score=nan total time=   0.0s\n",
      "[CV 1/5] END gamma=auto, kernel=sigmoid, nu=0.05;, score=0.034 total time=   0.0s\n",
      "[CV 2/5] END gamma=auto, kernel=sigmoid, nu=0.05;, score=0.047 total time=   0.0s\n",
      "[CV 3/5] END gamma=auto, kernel=sigmoid, nu=0.05;, score=0.026 total time=   0.0s\n",
      "[CV 4/5] END gamma=auto, kernel=sigmoid, nu=0.05;, score=0.027 total time=   0.0s\n",
      "[CV 5/5] END .gamma=auto, kernel=sigmoid, nu=0.05;, score=nan total time=   0.0s\n",
      "[CV 1/5] END gamma=auto, kernel=sigmoid, nu=0.1;, score=0.014 total time=   0.0s\n",
      "[CV 2/5] END gamma=auto, kernel=sigmoid, nu=0.1;, score=0.019 total time=   0.0s\n",
      "[CV 3/5] END gamma=auto, kernel=sigmoid, nu=0.1;, score=0.016 total time=   0.0s\n",
      "[CV 4/5] END gamma=auto, kernel=sigmoid, nu=0.1;, score=0.016 total time=   0.0s\n"
     ]
    },
    {
     "name": "stderr",
     "output_type": "stream",
     "text": [
      "C:\\Users\\Hannah Nga\\AppData\\Local\\Temp\\ipykernel_25108\\1732734207.py:4: RuntimeWarning: invalid value encountered in scalar divide\n",
      "  return precision_score(y_true,y_pred) / fp\n",
      "C:\\Users\\Hannah Nga\\AppData\\Local\\Temp\\ipykernel_25108\\1732734207.py:4: RuntimeWarning: invalid value encountered in scalar divide\n",
      "  return precision_score(y_true,y_pred) / fp\n"
     ]
    },
    {
     "name": "stdout",
     "output_type": "stream",
     "text": [
      "[CV 5/5] END ..gamma=auto, kernel=sigmoid, nu=0.1;, score=nan total time=   0.0s\n",
      "[CV 1/5] END gamma=auto, kernel=sigmoid, nu=0.2;, score=0.009 total time=   0.0s\n",
      "[CV 2/5] END gamma=auto, kernel=sigmoid, nu=0.2;, score=0.010 total time=   0.0s\n",
      "[CV 3/5] END gamma=auto, kernel=sigmoid, nu=0.2;, score=0.008 total time=   0.0s\n",
      "[CV 4/5] END gamma=auto, kernel=sigmoid, nu=0.2;, score=0.009 total time=   0.0s\n",
      "[CV 5/5] END ..gamma=auto, kernel=sigmoid, nu=0.2;, score=nan total time=   0.0s\n",
      "[CV 1/5] END gamma=auto, kernel=sigmoid, nu=0.3;, score=0.006 total time=   0.0s\n",
      "[CV 2/5] END gamma=auto, kernel=sigmoid, nu=0.3;, score=0.006 total time=   0.0s\n",
      "[CV 3/5] END gamma=auto, kernel=sigmoid, nu=0.3;, score=0.006 total time=   0.0s\n",
      "[CV 4/5] END gamma=auto, kernel=sigmoid, nu=0.3;, score=0.005 total time=   0.0s\n"
     ]
    },
    {
     "name": "stderr",
     "output_type": "stream",
     "text": [
      "C:\\Users\\Hannah Nga\\AppData\\Local\\Temp\\ipykernel_25108\\1732734207.py:4: RuntimeWarning: invalid value encountered in scalar divide\n",
      "  return precision_score(y_true,y_pred) / fp\n"
     ]
    },
    {
     "name": "stdout",
     "output_type": "stream",
     "text": [
      "[CV 5/5] END ..gamma=auto, kernel=sigmoid, nu=0.3;, score=nan total time=   0.0s\n",
      "[CV 1/5] END gamma=auto, kernel=sigmoid, nu=0.5;, score=0.004 total time=   0.0s\n",
      "[CV 2/5] END gamma=auto, kernel=sigmoid, nu=0.5;, score=0.004 total time=   0.0s\n",
      "[CV 3/5] END gamma=auto, kernel=sigmoid, nu=0.5;, score=0.004 total time=   0.0s\n",
      "[CV 4/5] END gamma=auto, kernel=sigmoid, nu=0.5;, score=0.004 total time=   0.0s\n",
      "[CV 5/5] END ..gamma=auto, kernel=sigmoid, nu=0.5;, score=nan total time=   0.0s\n"
     ]
    },
    {
     "name": "stderr",
     "output_type": "stream",
     "text": [
      "C:\\Users\\Hannah Nga\\AppData\\Local\\Temp\\ipykernel_25108\\1732734207.py:4: RuntimeWarning: invalid value encountered in scalar divide\n",
      "  return precision_score(y_true,y_pred) / fp\n"
     ]
    },
    {
     "name": "stdout",
     "output_type": "stream",
     "text": [
      "[CV 1/5] END gamma=auto, kernel=sigmoid, nu=0.7;, score=0.003 total time=   0.0s\n",
      "[CV 2/5] END gamma=auto, kernel=sigmoid, nu=0.7;, score=0.003 total time=   0.0s\n",
      "[CV 3/5] END gamma=auto, kernel=sigmoid, nu=0.7;, score=0.003 total time=   0.0s\n",
      "[CV 4/5] END gamma=auto, kernel=sigmoid, nu=0.7;, score=0.003 total time=   0.0s\n",
      "[CV 5/5] END ..gamma=auto, kernel=sigmoid, nu=0.7;, score=nan total time=   0.0s\n",
      "[CV 1/5] END gamma=auto, kernel=sigmoid, nu=0.9;, score=0.003 total time=   0.0s\n"
     ]
    },
    {
     "name": "stderr",
     "output_type": "stream",
     "text": [
      "C:\\Users\\Hannah Nga\\AppData\\Local\\Temp\\ipykernel_25108\\1732734207.py:4: RuntimeWarning: invalid value encountered in scalar divide\n",
      "  return precision_score(y_true,y_pred) / fp\n"
     ]
    },
    {
     "name": "stdout",
     "output_type": "stream",
     "text": [
      "[CV 2/5] END gamma=auto, kernel=sigmoid, nu=0.9;, score=0.003 total time=   0.0s\n",
      "[CV 3/5] END gamma=auto, kernel=sigmoid, nu=0.9;, score=0.003 total time=   0.0s\n",
      "[CV 4/5] END gamma=auto, kernel=sigmoid, nu=0.9;, score=0.002 total time=   0.0s\n"
     ]
    },
    {
     "name": "stderr",
     "output_type": "stream",
     "text": [
      "C:\\Users\\Hannah Nga\\AppData\\Local\\Temp\\ipykernel_25108\\1732734207.py:4: RuntimeWarning: invalid value encountered in scalar divide\n",
      "  return precision_score(y_true,y_pred) / fp\n",
      "C:\\Users\\Hannah Nga\\AppData\\Local\\Temp\\ipykernel_25108\\1732734207.py:4: RuntimeWarning: invalid value encountered in scalar divide\n",
      "  return precision_score(y_true,y_pred) / fp\n",
      "C:\\Users\\Hannah Nga\\AppData\\Local\\Temp\\ipykernel_25108\\1732734207.py:4: RuntimeWarning: invalid value encountered in scalar divide\n",
      "  return precision_score(y_true,y_pred) / fp\n",
      "C:\\Users\\Hannah Nga\\AppData\\Local\\Temp\\ipykernel_25108\\1732734207.py:4: RuntimeWarning: invalid value encountered in scalar divide\n",
      "  return precision_score(y_true,y_pred) / fp\n",
      "C:\\Users\\Hannah Nga\\AppData\\Local\\Temp\\ipykernel_25108\\1732734207.py:4: RuntimeWarning: invalid value encountered in scalar divide\n",
      "  return precision_score(y_true,y_pred) / fp\n",
      "C:\\Users\\Hannah Nga\\AppData\\Local\\Temp\\ipykernel_25108\\1732734207.py:4: RuntimeWarning: invalid value encountered in scalar divide\n",
      "  return precision_score(y_true,y_pred) / fp\n",
      "c:\\Users\\Hannah Nga\\.conda\\envs\\fraudenv\\lib\\site-packages\\sklearn\\metrics\\_classification.py:1509: UndefinedMetricWarning: Precision is ill-defined and being set to 0.0 due to no predicted samples. Use `zero_division` parameter to control this behavior.\n",
      "  _warn_prf(average, modifier, f\"{metric.capitalize()} is\", len(result))\n",
      "C:\\Users\\Hannah Nga\\AppData\\Local\\Temp\\ipykernel_25108\\1732734207.py:4: RuntimeWarning: invalid value encountered in scalar divide\n",
      "  return precision_score(y_true,y_pred) / fp\n"
     ]
    },
    {
     "name": "stdout",
     "output_type": "stream",
     "text": [
      "[CV 5/5] END ..gamma=auto, kernel=sigmoid, nu=0.9;, score=nan total time=   0.0s\n",
      "[CV 1/5] END gamma=0.1, kernel=linear, nu=0.001;, score=0.006 total time=   0.0s\n",
      "[CV 2/5] END gamma=0.1, kernel=linear, nu=0.001;, score=0.005 total time=   0.0s\n",
      "[CV 3/5] END gamma=0.1, kernel=linear, nu=0.001;, score=0.005 total time=   0.0s\n",
      "[CV 4/5] END gamma=0.1, kernel=linear, nu=0.001;, score=0.008 total time=   0.0s\n",
      "[CV 5/5] END ..gamma=0.1, kernel=linear, nu=0.001;, score=nan total time=   0.0s\n",
      "[CV 1/5] END gamma=0.1, kernel=linear, nu=0.005;, score=0.007 total time=   0.0s\n",
      "[CV 2/5] END gamma=0.1, kernel=linear, nu=0.005;, score=0.003 total time=   0.0s\n",
      "[CV 3/5] END gamma=0.1, kernel=linear, nu=0.005;, score=0.010 total time=   0.0s\n",
      "[CV 4/5] END gamma=0.1, kernel=linear, nu=0.005;, score=0.002 total time=   0.0s\n",
      "[CV 5/5] END ..gamma=0.1, kernel=linear, nu=0.005;, score=nan total time=   0.0s\n",
      "[CV 1/5] END .gamma=0.1, kernel=linear, nu=0.01;, score=0.005 total time=   0.0s\n",
      "[CV 2/5] END .gamma=0.1, kernel=linear, nu=0.01;, score=0.007 total time=   0.0s\n",
      "[CV 3/5] END .gamma=0.1, kernel=linear, nu=0.01;, score=0.005 total time=   0.0s\n",
      "[CV 4/5] END .gamma=0.1, kernel=linear, nu=0.01;, score=0.008 total time=   0.0s\n",
      "[CV 5/5] END ...gamma=0.1, kernel=linear, nu=0.01;, score=nan total time=   0.0s\n",
      "[CV 1/5] END .gamma=0.1, kernel=linear, nu=0.05;, score=0.005 total time=   0.0s\n",
      "[CV 2/5] END .gamma=0.1, kernel=linear, nu=0.05;, score=0.011 total time=   0.0s\n",
      "[CV 3/5] END .gamma=0.1, kernel=linear, nu=0.05;, score=0.003 total time=   0.0s\n",
      "[CV 4/5] END .gamma=0.1, kernel=linear, nu=0.05;, score=0.011 total time=   0.0s\n",
      "[CV 5/5] END ...gamma=0.1, kernel=linear, nu=0.05;, score=nan total time=   0.0s\n",
      "[CV 1/5] END ..gamma=0.1, kernel=linear, nu=0.1;, score=0.004 total time=   0.0s\n",
      "[CV 2/5] END ..gamma=0.1, kernel=linear, nu=0.1;, score=0.004 total time=   0.0s\n",
      "[CV 3/5] END ..gamma=0.1, kernel=linear, nu=0.1;, score=0.003 total time=   0.0s\n",
      "[CV 4/5] END ..gamma=0.1, kernel=linear, nu=0.1;, score=0.003 total time=   0.0s\n",
      "[CV 5/5] END ....gamma=0.1, kernel=linear, nu=0.1;, score=nan total time=   0.0s\n",
      "[CV 1/5] END ..gamma=0.1, kernel=linear, nu=0.2;, score=0.003 total time=   0.0s\n",
      "[CV 2/5] END ..gamma=0.1, kernel=linear, nu=0.2;, score=0.003 total time=   0.0s\n",
      "[CV 3/5] END ..gamma=0.1, kernel=linear, nu=0.2;, score=0.003 total time=   0.0s\n",
      "[CV 4/5] END ..gamma=0.1, kernel=linear, nu=0.2;, score=0.004 total time=   0.0s\n",
      "[CV 5/5] END ....gamma=0.1, kernel=linear, nu=0.2;, score=nan total time=   0.0s\n",
      "[CV 1/5] END ..gamma=0.1, kernel=linear, nu=0.3;, score=0.003 total time=   0.0s\n",
      "[CV 2/5] END ..gamma=0.1, kernel=linear, nu=0.3;, score=0.003 total time=   0.0s\n",
      "[CV 3/5] END ..gamma=0.1, kernel=linear, nu=0.3;, score=0.003 total time=   0.0s\n",
      "[CV 4/5] END ..gamma=0.1, kernel=linear, nu=0.3;, score=0.002 total time=   0.0s\n",
      "[CV 5/5] END ....gamma=0.1, kernel=linear, nu=0.3;, score=nan total time=   0.0s\n",
      "[CV 1/5] END ..gamma=0.1, kernel=linear, nu=0.5;, score=0.003 total time=   0.0s\n",
      "[CV 2/5] END ..gamma=0.1, kernel=linear, nu=0.5;, score=0.003 total time=   0.0s\n",
      "[CV 3/5] END ..gamma=0.1, kernel=linear, nu=0.5;, score=0.003 total time=   0.0s\n",
      "[CV 4/5] END ..gamma=0.1, kernel=linear, nu=0.5;, score=0.003 total time=   0.0s\n",
      "[CV 5/5] END ....gamma=0.1, kernel=linear, nu=0.5;, score=nan total time=   0.0s\n"
     ]
    },
    {
     "name": "stderr",
     "output_type": "stream",
     "text": [
      "C:\\Users\\Hannah Nga\\AppData\\Local\\Temp\\ipykernel_25108\\1732734207.py:4: RuntimeWarning: invalid value encountered in scalar divide\n",
      "  return precision_score(y_true,y_pred) / fp\n",
      "C:\\Users\\Hannah Nga\\AppData\\Local\\Temp\\ipykernel_25108\\1732734207.py:4: RuntimeWarning: invalid value encountered in scalar divide\n",
      "  return precision_score(y_true,y_pred) / fp\n"
     ]
    },
    {
     "name": "stdout",
     "output_type": "stream",
     "text": [
      "[CV 1/5] END ..gamma=0.1, kernel=linear, nu=0.7;, score=0.003 total time=   0.0s\n",
      "[CV 2/5] END ..gamma=0.1, kernel=linear, nu=0.7;, score=0.003 total time=   0.0s\n",
      "[CV 3/5] END ..gamma=0.1, kernel=linear, nu=0.7;, score=0.003 total time=   0.0s\n",
      "[CV 4/5] END ..gamma=0.1, kernel=linear, nu=0.7;, score=0.005 total time=   0.0s\n",
      "[CV 5/5] END ....gamma=0.1, kernel=linear, nu=0.7;, score=nan total time=   0.0s\n",
      "[CV 1/5] END ..gamma=0.1, kernel=linear, nu=0.9;, score=0.004 total time=   0.0s\n"
     ]
    },
    {
     "name": "stderr",
     "output_type": "stream",
     "text": [
      "C:\\Users\\Hannah Nga\\AppData\\Local\\Temp\\ipykernel_25108\\1732734207.py:4: RuntimeWarning: invalid value encountered in scalar divide\n",
      "  return precision_score(y_true,y_pred) / fp\n"
     ]
    },
    {
     "name": "stdout",
     "output_type": "stream",
     "text": [
      "[CV 2/5] END ..gamma=0.1, kernel=linear, nu=0.9;, score=0.003 total time=   0.0s\n",
      "[CV 3/5] END ..gamma=0.1, kernel=linear, nu=0.9;, score=0.003 total time=   0.0s\n",
      "[CV 4/5] END ..gamma=0.1, kernel=linear, nu=0.9;, score=0.003 total time=   0.0s\n",
      "[CV 5/5] END ....gamma=0.1, kernel=linear, nu=0.9;, score=nan total time=   0.0s\n",
      "[CV 1/5] END ...gamma=0.1, kernel=rbf, nu=0.001;, score=0.017 total time=   0.0s\n",
      "[CV 2/5] END ...gamma=0.1, kernel=rbf, nu=0.001;, score=0.012 total time=   0.0s\n"
     ]
    },
    {
     "name": "stderr",
     "output_type": "stream",
     "text": [
      "C:\\Users\\Hannah Nga\\AppData\\Local\\Temp\\ipykernel_25108\\1732734207.py:4: RuntimeWarning: invalid value encountered in scalar divide\n",
      "  return precision_score(y_true,y_pred) / fp\n",
      "C:\\Users\\Hannah Nga\\AppData\\Local\\Temp\\ipykernel_25108\\1732734207.py:4: RuntimeWarning: invalid value encountered in scalar divide\n",
      "  return precision_score(y_true,y_pred) / fp\n",
      "C:\\Users\\Hannah Nga\\AppData\\Local\\Temp\\ipykernel_25108\\1732734207.py:4: RuntimeWarning: invalid value encountered in scalar divide\n",
      "  return precision_score(y_true,y_pred) / fp\n"
     ]
    },
    {
     "name": "stdout",
     "output_type": "stream",
     "text": [
      "[CV 3/5] END ...gamma=0.1, kernel=rbf, nu=0.001;, score=0.013 total time=   0.0s\n",
      "[CV 4/5] END ...gamma=0.1, kernel=rbf, nu=0.001;, score=0.015 total time=   0.0s\n",
      "[CV 5/5] END .....gamma=0.1, kernel=rbf, nu=0.001;, score=nan total time=   0.0s\n",
      "[CV 1/5] END ...gamma=0.1, kernel=rbf, nu=0.005;, score=0.017 total time=   0.0s\n",
      "[CV 2/5] END ...gamma=0.1, kernel=rbf, nu=0.005;, score=0.012 total time=   0.0s\n",
      "[CV 3/5] END ...gamma=0.1, kernel=rbf, nu=0.005;, score=0.013 total time=   0.0s\n",
      "[CV 4/5] END ...gamma=0.1, kernel=rbf, nu=0.005;, score=0.015 total time=   0.0s\n",
      "[CV 5/5] END .....gamma=0.1, kernel=rbf, nu=0.005;, score=nan total time=   0.0s\n",
      "[CV 1/5] END ....gamma=0.1, kernel=rbf, nu=0.01;, score=0.017 total time=   0.0s\n",
      "[CV 2/5] END ....gamma=0.1, kernel=rbf, nu=0.01;, score=0.012 total time=   0.0s\n",
      "[CV 3/5] END ....gamma=0.1, kernel=rbf, nu=0.01;, score=0.013 total time=   0.0s\n",
      "[CV 4/5] END ....gamma=0.1, kernel=rbf, nu=0.01;, score=0.015 total time=   0.0s\n"
     ]
    },
    {
     "name": "stderr",
     "output_type": "stream",
     "text": [
      "C:\\Users\\Hannah Nga\\AppData\\Local\\Temp\\ipykernel_25108\\1732734207.py:4: RuntimeWarning: invalid value encountered in scalar divide\n",
      "  return precision_score(y_true,y_pred) / fp\n",
      "C:\\Users\\Hannah Nga\\AppData\\Local\\Temp\\ipykernel_25108\\1732734207.py:4: RuntimeWarning: invalid value encountered in scalar divide\n",
      "  return precision_score(y_true,y_pred) / fp\n"
     ]
    },
    {
     "name": "stdout",
     "output_type": "stream",
     "text": [
      "[CV 5/5] END ......gamma=0.1, kernel=rbf, nu=0.01;, score=nan total time=   0.0s\n",
      "[CV 1/5] END ....gamma=0.1, kernel=rbf, nu=0.05;, score=0.017 total time=   0.0s\n",
      "[CV 2/5] END ....gamma=0.1, kernel=rbf, nu=0.05;, score=0.012 total time=   0.0s\n",
      "[CV 3/5] END ....gamma=0.1, kernel=rbf, nu=0.05;, score=0.013 total time=   0.0s\n",
      "[CV 4/5] END ....gamma=0.1, kernel=rbf, nu=0.05;, score=0.015 total time=   0.0s\n",
      "[CV 5/5] END ......gamma=0.1, kernel=rbf, nu=0.05;, score=nan total time=   0.0s\n",
      "[CV 1/5] END .....gamma=0.1, kernel=rbf, nu=0.1;, score=0.016 total time=   0.0s\n",
      "[CV 2/5] END .....gamma=0.1, kernel=rbf, nu=0.1;, score=0.012 total time=   0.0s\n",
      "[CV 3/5] END .....gamma=0.1, kernel=rbf, nu=0.1;, score=0.012 total time=   0.0s\n",
      "[CV 4/5] END .....gamma=0.1, kernel=rbf, nu=0.1;, score=0.015 total time=   0.0s\n"
     ]
    },
    {
     "name": "stderr",
     "output_type": "stream",
     "text": [
      "C:\\Users\\Hannah Nga\\AppData\\Local\\Temp\\ipykernel_25108\\1732734207.py:4: RuntimeWarning: invalid value encountered in scalar divide\n",
      "  return precision_score(y_true,y_pred) / fp\n",
      "C:\\Users\\Hannah Nga\\AppData\\Local\\Temp\\ipykernel_25108\\1732734207.py:4: RuntimeWarning: invalid value encountered in scalar divide\n",
      "  return precision_score(y_true,y_pred) / fp\n"
     ]
    },
    {
     "name": "stdout",
     "output_type": "stream",
     "text": [
      "[CV 5/5] END .......gamma=0.1, kernel=rbf, nu=0.1;, score=nan total time=   0.0s\n",
      "[CV 1/5] END .....gamma=0.1, kernel=rbf, nu=0.2;, score=0.010 total time=   0.0s\n",
      "[CV 2/5] END .....gamma=0.1, kernel=rbf, nu=0.2;, score=0.008 total time=   0.0s\n",
      "[CV 3/5] END .....gamma=0.1, kernel=rbf, nu=0.2;, score=0.009 total time=   0.0s\n",
      "[CV 4/5] END .....gamma=0.1, kernel=rbf, nu=0.2;, score=0.009 total time=   0.0s\n",
      "[CV 5/5] END .......gamma=0.1, kernel=rbf, nu=0.2;, score=nan total time=   0.0s\n",
      "[CV 1/5] END .....gamma=0.1, kernel=rbf, nu=0.3;, score=0.007 total time=   0.0s\n",
      "[CV 2/5] END .....gamma=0.1, kernel=rbf, nu=0.3;, score=0.006 total time=   0.0s\n",
      "[CV 3/5] END .....gamma=0.1, kernel=rbf, nu=0.3;, score=0.006 total time=   0.0s\n",
      "[CV 4/5] END .....gamma=0.1, kernel=rbf, nu=0.3;, score=0.006 total time=   0.0s\n"
     ]
    },
    {
     "name": "stderr",
     "output_type": "stream",
     "text": [
      "C:\\Users\\Hannah Nga\\AppData\\Local\\Temp\\ipykernel_25108\\1732734207.py:4: RuntimeWarning: invalid value encountered in scalar divide\n",
      "  return precision_score(y_true,y_pred) / fp\n"
     ]
    },
    {
     "name": "stdout",
     "output_type": "stream",
     "text": [
      "[CV 5/5] END .......gamma=0.1, kernel=rbf, nu=0.3;, score=nan total time=   0.0s\n",
      "[CV 1/5] END .....gamma=0.1, kernel=rbf, nu=0.5;, score=0.004 total time=   0.0s\n",
      "[CV 2/5] END .....gamma=0.1, kernel=rbf, nu=0.5;, score=0.004 total time=   0.0s\n",
      "[CV 3/5] END .....gamma=0.1, kernel=rbf, nu=0.5;, score=0.004 total time=   0.0s\n",
      "[CV 4/5] END .....gamma=0.1, kernel=rbf, nu=0.5;, score=0.004 total time=   0.0s\n",
      "[CV 5/5] END .......gamma=0.1, kernel=rbf, nu=0.5;, score=nan total time=   0.0s\n"
     ]
    },
    {
     "name": "stderr",
     "output_type": "stream",
     "text": [
      "C:\\Users\\Hannah Nga\\AppData\\Local\\Temp\\ipykernel_25108\\1732734207.py:4: RuntimeWarning: invalid value encountered in scalar divide\n",
      "  return precision_score(y_true,y_pred) / fp\n"
     ]
    },
    {
     "name": "stdout",
     "output_type": "stream",
     "text": [
      "[CV 1/5] END .....gamma=0.1, kernel=rbf, nu=0.7;, score=0.003 total time=   0.0s\n",
      "[CV 2/5] END .....gamma=0.1, kernel=rbf, nu=0.7;, score=0.003 total time=   0.0s\n",
      "[CV 3/5] END .....gamma=0.1, kernel=rbf, nu=0.7;, score=0.003 total time=   0.0s\n",
      "[CV 4/5] END .....gamma=0.1, kernel=rbf, nu=0.7;, score=0.003 total time=   0.0s\n",
      "[CV 5/5] END .......gamma=0.1, kernel=rbf, nu=0.7;, score=nan total time=   0.0s\n",
      "[CV 1/5] END .....gamma=0.1, kernel=rbf, nu=0.9;, score=0.003 total time=   0.0s\n"
     ]
    },
    {
     "name": "stderr",
     "output_type": "stream",
     "text": [
      "C:\\Users\\Hannah Nga\\AppData\\Local\\Temp\\ipykernel_25108\\1732734207.py:4: RuntimeWarning: invalid value encountered in scalar divide\n",
      "  return precision_score(y_true,y_pred) / fp\n"
     ]
    },
    {
     "name": "stdout",
     "output_type": "stream",
     "text": [
      "[CV 2/5] END .....gamma=0.1, kernel=rbf, nu=0.9;, score=0.003 total time=   0.0s\n",
      "[CV 3/5] END .....gamma=0.1, kernel=rbf, nu=0.9;, score=0.002 total time=   0.0s\n",
      "[CV 4/5] END .....gamma=0.1, kernel=rbf, nu=0.9;, score=0.002 total time=   0.0s\n",
      "[CV 5/5] END .......gamma=0.1, kernel=rbf, nu=0.9;, score=nan total time=   0.0s\n",
      "[CV 1/5] END ..gamma=0.1, kernel=poly, nu=0.001;, score=0.017 total time=   0.0s\n",
      "[CV 2/5] END ..gamma=0.1, kernel=poly, nu=0.001;, score=0.014 total time=   0.0s\n",
      "[CV 3/5] END ..gamma=0.1, kernel=poly, nu=0.001;, score=0.012 total time=   0.0s\n",
      "[CV 4/5] END ..gamma=0.1, kernel=poly, nu=0.001;, score=0.017 total time=   0.0s\n",
      "[CV 5/5] END ....gamma=0.1, kernel=poly, nu=0.001;, score=nan total time=   0.0s\n",
      "[CV 1/5] END ..gamma=0.1, kernel=poly, nu=0.005;, score=0.020 total time=   0.0s\n"
     ]
    },
    {
     "name": "stderr",
     "output_type": "stream",
     "text": [
      "C:\\Users\\Hannah Nga\\AppData\\Local\\Temp\\ipykernel_25108\\1732734207.py:4: RuntimeWarning: invalid value encountered in scalar divide\n",
      "  return precision_score(y_true,y_pred) / fp\n",
      "C:\\Users\\Hannah Nga\\AppData\\Local\\Temp\\ipykernel_25108\\1732734207.py:4: RuntimeWarning: invalid value encountered in scalar divide\n",
      "  return precision_score(y_true,y_pred) / fp\n",
      "C:\\Users\\Hannah Nga\\AppData\\Local\\Temp\\ipykernel_25108\\1732734207.py:4: RuntimeWarning: invalid value encountered in scalar divide\n",
      "  return precision_score(y_true,y_pred) / fp\n"
     ]
    },
    {
     "name": "stdout",
     "output_type": "stream",
     "text": [
      "[CV 2/5] END ..gamma=0.1, kernel=poly, nu=0.005;, score=0.021 total time=   0.0s\n",
      "[CV 3/5] END ..gamma=0.1, kernel=poly, nu=0.005;, score=0.015 total time=   0.0s\n",
      "[CV 4/5] END ..gamma=0.1, kernel=poly, nu=0.005;, score=0.020 total time=   0.0s\n",
      "[CV 5/5] END ....gamma=0.1, kernel=poly, nu=0.005;, score=nan total time=   0.0s\n",
      "[CV 1/5] END ...gamma=0.1, kernel=poly, nu=0.01;, score=0.019 total time=   0.0s\n",
      "[CV 2/5] END ...gamma=0.1, kernel=poly, nu=0.01;, score=0.018 total time=   0.0s\n",
      "[CV 3/5] END ...gamma=0.1, kernel=poly, nu=0.01;, score=0.014 total time=   0.0s\n",
      "[CV 4/5] END ...gamma=0.1, kernel=poly, nu=0.01;, score=0.022 total time=   0.0s\n",
      "[CV 5/5] END .....gamma=0.1, kernel=poly, nu=0.01;, score=nan total time=   0.0s\n",
      "[CV 1/5] END ...gamma=0.1, kernel=poly, nu=0.05;, score=0.018 total time=   0.0s\n"
     ]
    },
    {
     "name": "stderr",
     "output_type": "stream",
     "text": [
      "C:\\Users\\Hannah Nga\\AppData\\Local\\Temp\\ipykernel_25108\\1732734207.py:4: RuntimeWarning: invalid value encountered in scalar divide\n",
      "  return precision_score(y_true,y_pred) / fp\n",
      "C:\\Users\\Hannah Nga\\AppData\\Local\\Temp\\ipykernel_25108\\1732734207.py:4: RuntimeWarning: invalid value encountered in scalar divide\n",
      "  return precision_score(y_true,y_pred) / fp\n"
     ]
    },
    {
     "name": "stdout",
     "output_type": "stream",
     "text": [
      "[CV 2/5] END ...gamma=0.1, kernel=poly, nu=0.05;, score=0.016 total time=   0.0s\n",
      "[CV 3/5] END ...gamma=0.1, kernel=poly, nu=0.05;, score=0.013 total time=   0.0s\n",
      "[CV 4/5] END ...gamma=0.1, kernel=poly, nu=0.05;, score=0.020 total time=   0.0s\n",
      "[CV 5/5] END .....gamma=0.1, kernel=poly, nu=0.05;, score=nan total time=   0.0s\n",
      "[CV 1/5] END ....gamma=0.1, kernel=poly, nu=0.1;, score=0.015 total time=   0.0s\n",
      "[CV 2/5] END ....gamma=0.1, kernel=poly, nu=0.1;, score=0.014 total time=   0.0s\n",
      "[CV 3/5] END ....gamma=0.1, kernel=poly, nu=0.1;, score=0.013 total time=   0.0s\n",
      "[CV 4/5] END ....gamma=0.1, kernel=poly, nu=0.1;, score=0.018 total time=   0.0s\n"
     ]
    },
    {
     "name": "stderr",
     "output_type": "stream",
     "text": [
      "C:\\Users\\Hannah Nga\\AppData\\Local\\Temp\\ipykernel_25108\\1732734207.py:4: RuntimeWarning: invalid value encountered in scalar divide\n",
      "  return precision_score(y_true,y_pred) / fp\n",
      "C:\\Users\\Hannah Nga\\AppData\\Local\\Temp\\ipykernel_25108\\1732734207.py:4: RuntimeWarning: invalid value encountered in scalar divide\n",
      "  return precision_score(y_true,y_pred) / fp\n"
     ]
    },
    {
     "name": "stdout",
     "output_type": "stream",
     "text": [
      "[CV 5/5] END ......gamma=0.1, kernel=poly, nu=0.1;, score=nan total time=   0.0s\n",
      "[CV 1/5] END ....gamma=0.1, kernel=poly, nu=0.2;, score=0.011 total time=   0.0s\n",
      "[CV 2/5] END ....gamma=0.1, kernel=poly, nu=0.2;, score=0.010 total time=   0.0s\n",
      "[CV 3/5] END ....gamma=0.1, kernel=poly, nu=0.2;, score=0.010 total time=   0.0s\n",
      "[CV 4/5] END ....gamma=0.1, kernel=poly, nu=0.2;, score=0.012 total time=   0.0s\n",
      "[CV 5/5] END ......gamma=0.1, kernel=poly, nu=0.2;, score=nan total time=   0.0s\n",
      "[CV 1/5] END ....gamma=0.1, kernel=poly, nu=0.3;, score=0.009 total time=   0.0s\n",
      "[CV 2/5] END ....gamma=0.1, kernel=poly, nu=0.3;, score=0.008 total time=   0.0s\n",
      "[CV 3/5] END ....gamma=0.1, kernel=poly, nu=0.3;, score=0.007 total time=   0.0s\n",
      "[CV 4/5] END ....gamma=0.1, kernel=poly, nu=0.3;, score=0.009 total time=   0.0s\n",
      "[CV 5/5] END ......gamma=0.1, kernel=poly, nu=0.3;, score=nan total time=   0.0s\n",
      "[CV 1/5] END ....gamma=0.1, kernel=poly, nu=0.5;, score=0.005 total time=   0.0s\n"
     ]
    },
    {
     "name": "stderr",
     "output_type": "stream",
     "text": [
      "C:\\Users\\Hannah Nga\\AppData\\Local\\Temp\\ipykernel_25108\\1732734207.py:4: RuntimeWarning: invalid value encountered in scalar divide\n",
      "  return precision_score(y_true,y_pred) / fp\n"
     ]
    },
    {
     "name": "stdout",
     "output_type": "stream",
     "text": [
      "[CV 2/5] END ....gamma=0.1, kernel=poly, nu=0.5;, score=0.005 total time=   0.0s\n",
      "[CV 3/5] END ....gamma=0.1, kernel=poly, nu=0.5;, score=0.005 total time=   0.0s\n",
      "[CV 4/5] END ....gamma=0.1, kernel=poly, nu=0.5;, score=0.006 total time=   0.0s\n",
      "[CV 5/5] END ......gamma=0.1, kernel=poly, nu=0.5;, score=nan total time=   0.0s\n",
      "[CV 1/5] END ....gamma=0.1, kernel=poly, nu=0.7;, score=0.004 total time=   0.0s\n"
     ]
    },
    {
     "name": "stderr",
     "output_type": "stream",
     "text": [
      "C:\\Users\\Hannah Nga\\AppData\\Local\\Temp\\ipykernel_25108\\1732734207.py:4: RuntimeWarning: invalid value encountered in scalar divide\n",
      "  return precision_score(y_true,y_pred) / fp\n"
     ]
    },
    {
     "name": "stdout",
     "output_type": "stream",
     "text": [
      "[CV 2/5] END ....gamma=0.1, kernel=poly, nu=0.7;, score=0.004 total time=   0.0s\n",
      "[CV 3/5] END ....gamma=0.1, kernel=poly, nu=0.7;, score=0.004 total time=   0.0s\n",
      "[CV 4/5] END ....gamma=0.1, kernel=poly, nu=0.7;, score=0.004 total time=   0.0s\n",
      "[CV 5/5] END ......gamma=0.1, kernel=poly, nu=0.7;, score=nan total time=   0.0s\n"
     ]
    },
    {
     "name": "stderr",
     "output_type": "stream",
     "text": [
      "C:\\Users\\Hannah Nga\\AppData\\Local\\Temp\\ipykernel_25108\\1732734207.py:4: RuntimeWarning: invalid value encountered in scalar divide\n",
      "  return precision_score(y_true,y_pred) / fp\n"
     ]
    },
    {
     "name": "stdout",
     "output_type": "stream",
     "text": [
      "[CV 1/5] END ....gamma=0.1, kernel=poly, nu=0.9;, score=0.003 total time=   0.0s\n",
      "[CV 2/5] END ....gamma=0.1, kernel=poly, nu=0.9;, score=0.003 total time=   0.0s\n",
      "[CV 3/5] END ....gamma=0.1, kernel=poly, nu=0.9;, score=0.003 total time=   0.0s\n",
      "[CV 4/5] END ....gamma=0.1, kernel=poly, nu=0.9;, score=0.003 total time=   0.0s\n"
     ]
    },
    {
     "name": "stderr",
     "output_type": "stream",
     "text": [
      "c:\\Users\\Hannah Nga\\.conda\\envs\\fraudenv\\lib\\site-packages\\sklearn\\metrics\\_classification.py:1509: UndefinedMetricWarning: Precision is ill-defined and being set to 0.0 due to no predicted samples. Use `zero_division` parameter to control this behavior.\n",
      "  _warn_prf(average, modifier, f\"{metric.capitalize()} is\", len(result))\n",
      "C:\\Users\\Hannah Nga\\AppData\\Local\\Temp\\ipykernel_25108\\1732734207.py:4: RuntimeWarning: invalid value encountered in scalar divide\n",
      "  return precision_score(y_true,y_pred) / fp\n",
      "C:\\Users\\Hannah Nga\\AppData\\Local\\Temp\\ipykernel_25108\\1732734207.py:4: RuntimeWarning: divide by zero encountered in scalar divide\n",
      "  return precision_score(y_true,y_pred) / fp\n",
      "C:\\Users\\Hannah Nga\\AppData\\Local\\Temp\\ipykernel_25108\\1732734207.py:4: RuntimeWarning: invalid value encountered in scalar divide\n",
      "  return precision_score(y_true,y_pred) / fp\n",
      "C:\\Users\\Hannah Nga\\AppData\\Local\\Temp\\ipykernel_25108\\1732734207.py:4: RuntimeWarning: divide by zero encountered in scalar divide\n",
      "  return precision_score(y_true,y_pred) / fp\n",
      "C:\\Users\\Hannah Nga\\AppData\\Local\\Temp\\ipykernel_25108\\1732734207.py:4: RuntimeWarning: invalid value encountered in scalar divide\n",
      "  return precision_score(y_true,y_pred) / fp\n",
      "C:\\Users\\Hannah Nga\\AppData\\Local\\Temp\\ipykernel_25108\\1732734207.py:4: RuntimeWarning: divide by zero encountered in scalar divide\n",
      "  return precision_score(y_true,y_pred) / fp\n",
      "C:\\Users\\Hannah Nga\\AppData\\Local\\Temp\\ipykernel_25108\\1732734207.py:4: RuntimeWarning: invalid value encountered in scalar divide\n",
      "  return precision_score(y_true,y_pred) / fp\n",
      "C:\\Users\\Hannah Nga\\AppData\\Local\\Temp\\ipykernel_25108\\1732734207.py:4: RuntimeWarning: invalid value encountered in scalar divide\n",
      "  return precision_score(y_true,y_pred) / fp\n"
     ]
    },
    {
     "name": "stdout",
     "output_type": "stream",
     "text": [
      "[CV 5/5] END ......gamma=0.1, kernel=poly, nu=0.9;, score=nan total time=   0.0s\n",
      "[CV 1/5] END gamma=0.1, kernel=sigmoid, nu=0.001;, score=0.493 total time=   0.0s\n",
      "[CV 2/5] END gamma=0.1, kernel=sigmoid, nu=0.001;, score=0.493 total time=   0.0s\n",
      "[CV 3/5] END gamma=0.1, kernel=sigmoid, nu=0.001;, score=0.328 total time=   0.0s\n",
      "[CV 4/5] END .gamma=0.1, kernel=sigmoid, nu=0.001;, score=inf total time=   0.0s\n",
      "[CV 5/5] END .gamma=0.1, kernel=sigmoid, nu=0.001;, score=nan total time=   0.0s\n",
      "[CV 1/5] END gamma=0.1, kernel=sigmoid, nu=0.005;, score=0.985 total time=   0.0s\n",
      "[CV 2/5] END .gamma=0.1, kernel=sigmoid, nu=0.005;, score=inf total time=   0.0s\n",
      "[CV 3/5] END gamma=0.1, kernel=sigmoid, nu=0.005;, score=0.328 total time=   0.0s\n",
      "[CV 4/5] END gamma=0.1, kernel=sigmoid, nu=0.005;, score=0.222 total time=   0.0s\n",
      "[CV 5/5] END .gamma=0.1, kernel=sigmoid, nu=0.005;, score=nan total time=   0.0s\n",
      "[CV 1/5] END ..gamma=0.1, kernel=sigmoid, nu=0.01;, score=inf total time=   0.0s\n",
      "[CV 2/5] END gamma=0.1, kernel=sigmoid, nu=0.01;, score=0.164 total time=   0.0s\n",
      "[CV 3/5] END gamma=0.1, kernel=sigmoid, nu=0.01;, score=0.246 total time=   0.0s\n",
      "[CV 4/5] END gamma=0.1, kernel=sigmoid, nu=0.01;, score=0.148 total time=   0.0s\n",
      "[CV 5/5] END ..gamma=0.1, kernel=sigmoid, nu=0.01;, score=nan total time=   0.0s\n",
      "[CV 1/5] END gamma=0.1, kernel=sigmoid, nu=0.05;, score=0.036 total time=   0.0s\n",
      "[CV 2/5] END gamma=0.1, kernel=sigmoid, nu=0.05;, score=0.039 total time=   0.0s\n",
      "[CV 3/5] END gamma=0.1, kernel=sigmoid, nu=0.05;, score=0.029 total time=   0.0s\n",
      "[CV 4/5] END gamma=0.1, kernel=sigmoid, nu=0.05;, score=0.024 total time=   0.0s\n",
      "[CV 5/5] END ..gamma=0.1, kernel=sigmoid, nu=0.05;, score=nan total time=   0.0s\n",
      "[CV 1/5] END .gamma=0.1, kernel=sigmoid, nu=0.1;, score=0.018 total time=   0.0s\n",
      "[CV 2/5] END .gamma=0.1, kernel=sigmoid, nu=0.1;, score=0.020 total time=   0.0s\n",
      "[CV 3/5] END .gamma=0.1, kernel=sigmoid, nu=0.1;, score=0.017 total time=   0.0s\n",
      "[CV 4/5] END .gamma=0.1, kernel=sigmoid, nu=0.1;, score=0.018 total time=   0.0s\n",
      "[CV 5/5] END ...gamma=0.1, kernel=sigmoid, nu=0.1;, score=nan total time=   0.0s\n",
      "[CV 1/5] END .gamma=0.1, kernel=sigmoid, nu=0.2;, score=0.009 total time=   0.0s\n",
      "[CV 2/5] END .gamma=0.1, kernel=sigmoid, nu=0.2;, score=0.009 total time=   0.0s\n",
      "[CV 3/5] END .gamma=0.1, kernel=sigmoid, nu=0.2;, score=0.008 total time=   0.0s\n",
      "[CV 4/5] END .gamma=0.1, kernel=sigmoid, nu=0.2;, score=0.009 total time=   0.0s\n",
      "[CV 5/5] END ...gamma=0.1, kernel=sigmoid, nu=0.2;, score=nan total time=   0.0s\n"
     ]
    },
    {
     "name": "stderr",
     "output_type": "stream",
     "text": [
      "C:\\Users\\Hannah Nga\\AppData\\Local\\Temp\\ipykernel_25108\\1732734207.py:4: RuntimeWarning: invalid value encountered in scalar divide\n",
      "  return precision_score(y_true,y_pred) / fp\n",
      "C:\\Users\\Hannah Nga\\AppData\\Local\\Temp\\ipykernel_25108\\1732734207.py:4: RuntimeWarning: invalid value encountered in scalar divide\n",
      "  return precision_score(y_true,y_pred) / fp\n"
     ]
    },
    {
     "name": "stdout",
     "output_type": "stream",
     "text": [
      "[CV 1/5] END .gamma=0.1, kernel=sigmoid, nu=0.3;, score=0.006 total time=   0.0s\n",
      "[CV 2/5] END .gamma=0.1, kernel=sigmoid, nu=0.3;, score=0.006 total time=   0.0s\n",
      "[CV 3/5] END .gamma=0.1, kernel=sigmoid, nu=0.3;, score=0.006 total time=   0.0s\n",
      "[CV 4/5] END .gamma=0.1, kernel=sigmoid, nu=0.3;, score=0.006 total time=   0.0s\n"
     ]
    },
    {
     "name": "stderr",
     "output_type": "stream",
     "text": [
      "C:\\Users\\Hannah Nga\\AppData\\Local\\Temp\\ipykernel_25108\\1732734207.py:4: RuntimeWarning: invalid value encountered in scalar divide\n",
      "  return precision_score(y_true,y_pred) / fp\n"
     ]
    },
    {
     "name": "stdout",
     "output_type": "stream",
     "text": [
      "[CV 5/5] END ...gamma=0.1, kernel=sigmoid, nu=0.3;, score=nan total time=   0.0s\n",
      "[CV 1/5] END .gamma=0.1, kernel=sigmoid, nu=0.5;, score=0.004 total time=   0.0s\n",
      "[CV 2/5] END .gamma=0.1, kernel=sigmoid, nu=0.5;, score=0.004 total time=   0.0s\n",
      "[CV 3/5] END .gamma=0.1, kernel=sigmoid, nu=0.5;, score=0.004 total time=   0.0s\n",
      "[CV 4/5] END .gamma=0.1, kernel=sigmoid, nu=0.5;, score=0.004 total time=   0.0s\n",
      "[CV 5/5] END ...gamma=0.1, kernel=sigmoid, nu=0.5;, score=nan total time=   0.0s\n"
     ]
    },
    {
     "name": "stderr",
     "output_type": "stream",
     "text": [
      "C:\\Users\\Hannah Nga\\AppData\\Local\\Temp\\ipykernel_25108\\1732734207.py:4: RuntimeWarning: invalid value encountered in scalar divide\n",
      "  return precision_score(y_true,y_pred) / fp\n"
     ]
    },
    {
     "name": "stdout",
     "output_type": "stream",
     "text": [
      "[CV 1/5] END .gamma=0.1, kernel=sigmoid, nu=0.7;, score=0.003 total time=   0.0s\n",
      "[CV 2/5] END .gamma=0.1, kernel=sigmoid, nu=0.7;, score=0.003 total time=   0.0s\n",
      "[CV 3/5] END .gamma=0.1, kernel=sigmoid, nu=0.7;, score=0.003 total time=   0.0s\n",
      "[CV 4/5] END .gamma=0.1, kernel=sigmoid, nu=0.7;, score=0.003 total time=   0.0s\n",
      "[CV 5/5] END ...gamma=0.1, kernel=sigmoid, nu=0.7;, score=nan total time=   0.0s\n",
      "[CV 1/5] END .gamma=0.1, kernel=sigmoid, nu=0.9;, score=0.003 total time=   0.0s\n"
     ]
    },
    {
     "name": "stderr",
     "output_type": "stream",
     "text": [
      "C:\\Users\\Hannah Nga\\AppData\\Local\\Temp\\ipykernel_25108\\1732734207.py:4: RuntimeWarning: invalid value encountered in scalar divide\n",
      "  return precision_score(y_true,y_pred) / fp\n"
     ]
    },
    {
     "name": "stdout",
     "output_type": "stream",
     "text": [
      "[CV 2/5] END .gamma=0.1, kernel=sigmoid, nu=0.9;, score=0.003 total time=   0.0s\n",
      "[CV 3/5] END .gamma=0.1, kernel=sigmoid, nu=0.9;, score=0.003 total time=   0.0s\n",
      "[CV 4/5] END .gamma=0.1, kernel=sigmoid, nu=0.9;, score=0.002 total time=   0.0s\n"
     ]
    },
    {
     "name": "stderr",
     "output_type": "stream",
     "text": [
      "C:\\Users\\Hannah Nga\\AppData\\Local\\Temp\\ipykernel_25108\\1732734207.py:4: RuntimeWarning: invalid value encountered in scalar divide\n",
      "  return precision_score(y_true,y_pred) / fp\n",
      "C:\\Users\\Hannah Nga\\AppData\\Local\\Temp\\ipykernel_25108\\1732734207.py:4: RuntimeWarning: invalid value encountered in scalar divide\n",
      "  return precision_score(y_true,y_pred) / fp\n",
      "C:\\Users\\Hannah Nga\\AppData\\Local\\Temp\\ipykernel_25108\\1732734207.py:4: RuntimeWarning: invalid value encountered in scalar divide\n",
      "  return precision_score(y_true,y_pred) / fp\n",
      "C:\\Users\\Hannah Nga\\AppData\\Local\\Temp\\ipykernel_25108\\1732734207.py:4: RuntimeWarning: invalid value encountered in scalar divide\n",
      "  return precision_score(y_true,y_pred) / fp\n",
      "C:\\Users\\Hannah Nga\\AppData\\Local\\Temp\\ipykernel_25108\\1732734207.py:4: RuntimeWarning: invalid value encountered in scalar divide\n",
      "  return precision_score(y_true,y_pred) / fp\n",
      "C:\\Users\\Hannah Nga\\AppData\\Local\\Temp\\ipykernel_25108\\1732734207.py:4: RuntimeWarning: invalid value encountered in scalar divide\n",
      "  return precision_score(y_true,y_pred) / fp\n",
      "c:\\Users\\Hannah Nga\\.conda\\envs\\fraudenv\\lib\\site-packages\\sklearn\\metrics\\_classification.py:1509: UndefinedMetricWarning: Precision is ill-defined and being set to 0.0 due to no predicted samples. Use `zero_division` parameter to control this behavior.\n",
      "  _warn_prf(average, modifier, f\"{metric.capitalize()} is\", len(result))\n",
      "C:\\Users\\Hannah Nga\\AppData\\Local\\Temp\\ipykernel_25108\\1732734207.py:4: RuntimeWarning: invalid value encountered in scalar divide\n",
      "  return precision_score(y_true,y_pred) / fp\n"
     ]
    },
    {
     "name": "stdout",
     "output_type": "stream",
     "text": [
      "[CV 5/5] END ...gamma=0.1, kernel=sigmoid, nu=0.9;, score=nan total time=   0.0s\n",
      "[CV 1/5] END gamma=0.01, kernel=linear, nu=0.001;, score=0.006 total time=   0.0s\n",
      "[CV 2/5] END gamma=0.01, kernel=linear, nu=0.001;, score=0.005 total time=   0.0s\n",
      "[CV 3/5] END gamma=0.01, kernel=linear, nu=0.001;, score=0.005 total time=   0.0s\n",
      "[CV 4/5] END gamma=0.01, kernel=linear, nu=0.001;, score=0.008 total time=   0.0s\n",
      "[CV 5/5] END .gamma=0.01, kernel=linear, nu=0.001;, score=nan total time=   0.0s\n",
      "[CV 1/5] END gamma=0.01, kernel=linear, nu=0.005;, score=0.007 total time=   0.0s\n",
      "[CV 2/5] END gamma=0.01, kernel=linear, nu=0.005;, score=0.003 total time=   0.0s\n",
      "[CV 3/5] END gamma=0.01, kernel=linear, nu=0.005;, score=0.010 total time=   0.0s\n",
      "[CV 4/5] END gamma=0.01, kernel=linear, nu=0.005;, score=0.002 total time=   0.0s\n",
      "[CV 5/5] END .gamma=0.01, kernel=linear, nu=0.005;, score=nan total time=   0.0s\n",
      "[CV 1/5] END gamma=0.01, kernel=linear, nu=0.01;, score=0.005 total time=   0.0s\n",
      "[CV 2/5] END gamma=0.01, kernel=linear, nu=0.01;, score=0.007 total time=   0.0s\n",
      "[CV 3/5] END gamma=0.01, kernel=linear, nu=0.01;, score=0.005 total time=   0.0s\n",
      "[CV 4/5] END gamma=0.01, kernel=linear, nu=0.01;, score=0.008 total time=   0.0s\n",
      "[CV 5/5] END ..gamma=0.01, kernel=linear, nu=0.01;, score=nan total time=   0.0s\n",
      "[CV 1/5] END gamma=0.01, kernel=linear, nu=0.05;, score=0.005 total time=   0.0s\n",
      "[CV 2/5] END gamma=0.01, kernel=linear, nu=0.05;, score=0.011 total time=   0.0s\n",
      "[CV 3/5] END gamma=0.01, kernel=linear, nu=0.05;, score=0.003 total time=   0.0s\n",
      "[CV 4/5] END gamma=0.01, kernel=linear, nu=0.05;, score=0.011 total time=   0.0s\n",
      "[CV 5/5] END ..gamma=0.01, kernel=linear, nu=0.05;, score=nan total time=   0.0s\n",
      "[CV 1/5] END .gamma=0.01, kernel=linear, nu=0.1;, score=0.004 total time=   0.0s\n",
      "[CV 2/5] END .gamma=0.01, kernel=linear, nu=0.1;, score=0.004 total time=   0.0s\n",
      "[CV 3/5] END .gamma=0.01, kernel=linear, nu=0.1;, score=0.003 total time=   0.0s\n",
      "[CV 4/5] END .gamma=0.01, kernel=linear, nu=0.1;, score=0.003 total time=   0.0s\n",
      "[CV 5/5] END ...gamma=0.01, kernel=linear, nu=0.1;, score=nan total time=   0.0s\n",
      "[CV 1/5] END .gamma=0.01, kernel=linear, nu=0.2;, score=0.003 total time=   0.0s\n",
      "[CV 2/5] END .gamma=0.01, kernel=linear, nu=0.2;, score=0.003 total time=   0.0s\n",
      "[CV 3/5] END .gamma=0.01, kernel=linear, nu=0.2;, score=0.003 total time=   0.0s\n",
      "[CV 4/5] END .gamma=0.01, kernel=linear, nu=0.2;, score=0.004 total time=   0.0s\n",
      "[CV 5/5] END ...gamma=0.01, kernel=linear, nu=0.2;, score=nan total time=   0.0s\n",
      "[CV 1/5] END .gamma=0.01, kernel=linear, nu=0.3;, score=0.003 total time=   0.0s\n",
      "[CV 2/5] END .gamma=0.01, kernel=linear, nu=0.3;, score=0.003 total time=   0.0s\n",
      "[CV 3/5] END .gamma=0.01, kernel=linear, nu=0.3;, score=0.003 total time=   0.0s\n",
      "[CV 4/5] END .gamma=0.01, kernel=linear, nu=0.3;, score=0.002 total time=   0.0s\n",
      "[CV 5/5] END ...gamma=0.01, kernel=linear, nu=0.3;, score=nan total time=   0.0s\n",
      "[CV 1/5] END .gamma=0.01, kernel=linear, nu=0.5;, score=0.003 total time=   0.0s\n",
      "[CV 2/5] END .gamma=0.01, kernel=linear, nu=0.5;, score=0.003 total time=   0.0s\n",
      "[CV 3/5] END .gamma=0.01, kernel=linear, nu=0.5;, score=0.003 total time=   0.0s\n",
      "[CV 4/5] END .gamma=0.01, kernel=linear, nu=0.5;, score=0.003 total time=   0.0s\n",
      "[CV 5/5] END ...gamma=0.01, kernel=linear, nu=0.5;, score=nan total time=   0.0s\n"
     ]
    },
    {
     "name": "stderr",
     "output_type": "stream",
     "text": [
      "C:\\Users\\Hannah Nga\\AppData\\Local\\Temp\\ipykernel_25108\\1732734207.py:4: RuntimeWarning: invalid value encountered in scalar divide\n",
      "  return precision_score(y_true,y_pred) / fp\n",
      "C:\\Users\\Hannah Nga\\AppData\\Local\\Temp\\ipykernel_25108\\1732734207.py:4: RuntimeWarning: invalid value encountered in scalar divide\n",
      "  return precision_score(y_true,y_pred) / fp\n"
     ]
    },
    {
     "name": "stdout",
     "output_type": "stream",
     "text": [
      "[CV 1/5] END .gamma=0.01, kernel=linear, nu=0.7;, score=0.003 total time=   0.0s\n",
      "[CV 2/5] END .gamma=0.01, kernel=linear, nu=0.7;, score=0.003 total time=   0.0s\n",
      "[CV 3/5] END .gamma=0.01, kernel=linear, nu=0.7;, score=0.003 total time=   0.0s\n",
      "[CV 4/5] END .gamma=0.01, kernel=linear, nu=0.7;, score=0.005 total time=   0.0s\n",
      "[CV 5/5] END ...gamma=0.01, kernel=linear, nu=0.7;, score=nan total time=   0.0s\n",
      "[CV 1/5] END .gamma=0.01, kernel=linear, nu=0.9;, score=0.004 total time=   0.0s\n"
     ]
    },
    {
     "name": "stderr",
     "output_type": "stream",
     "text": [
      "C:\\Users\\Hannah Nga\\AppData\\Local\\Temp\\ipykernel_25108\\1732734207.py:4: RuntimeWarning: invalid value encountered in scalar divide\n",
      "  return precision_score(y_true,y_pred) / fp\n"
     ]
    },
    {
     "name": "stdout",
     "output_type": "stream",
     "text": [
      "[CV 2/5] END .gamma=0.01, kernel=linear, nu=0.9;, score=0.003 total time=   0.0s\n",
      "[CV 3/5] END .gamma=0.01, kernel=linear, nu=0.9;, score=0.003 total time=   0.0s\n",
      "[CV 4/5] END .gamma=0.01, kernel=linear, nu=0.9;, score=0.003 total time=   0.0s\n",
      "[CV 5/5] END ...gamma=0.01, kernel=linear, nu=0.9;, score=nan total time=   0.0s\n",
      "[CV 1/5] END ..gamma=0.01, kernel=rbf, nu=0.001;, score=0.141 total time=   0.0s\n",
      "[CV 2/5] END ..gamma=0.01, kernel=rbf, nu=0.001;, score=0.090 total time=   0.0s\n",
      "[CV 3/5] END ..gamma=0.01, kernel=rbf, nu=0.001;, score=0.070 total time=   0.0s\n",
      "[CV 4/5] END ..gamma=0.01, kernel=rbf, nu=0.001;, score=0.127 total time=   0.0s\n",
      "[CV 5/5] END ....gamma=0.01, kernel=rbf, nu=0.001;, score=nan total time=   0.0s\n",
      "[CV 1/5] END ..gamma=0.01, kernel=rbf, nu=0.005;, score=0.141 total time=   0.0s\n",
      "[CV 2/5] END ..gamma=0.01, kernel=rbf, nu=0.005;, score=0.090 total time=   0.0s\n",
      "[CV 3/5] END ..gamma=0.01, kernel=rbf, nu=0.005;, score=0.070 total time=   0.0s\n",
      "[CV 4/5] END ..gamma=0.01, kernel=rbf, nu=0.005;, score=0.127 total time=   0.0s\n",
      "[CV 5/5] END ....gamma=0.01, kernel=rbf, nu=0.005;, score=nan total time=   0.0s\n",
      "[CV 1/5] END ...gamma=0.01, kernel=rbf, nu=0.01;, score=0.141 total time=   0.0s\n"
     ]
    },
    {
     "name": "stderr",
     "output_type": "stream",
     "text": [
      "C:\\Users\\Hannah Nga\\AppData\\Local\\Temp\\ipykernel_25108\\1732734207.py:4: RuntimeWarning: invalid value encountered in scalar divide\n",
      "  return precision_score(y_true,y_pred) / fp\n",
      "C:\\Users\\Hannah Nga\\AppData\\Local\\Temp\\ipykernel_25108\\1732734207.py:4: RuntimeWarning: invalid value encountered in scalar divide\n",
      "  return precision_score(y_true,y_pred) / fp\n",
      "C:\\Users\\Hannah Nga\\AppData\\Local\\Temp\\ipykernel_25108\\1732734207.py:4: RuntimeWarning: invalid value encountered in scalar divide\n",
      "  return precision_score(y_true,y_pred) / fp\n",
      "C:\\Users\\Hannah Nga\\AppData\\Local\\Temp\\ipykernel_25108\\1732734207.py:4: RuntimeWarning: invalid value encountered in scalar divide\n",
      "  return precision_score(y_true,y_pred) / fp\n",
      "C:\\Users\\Hannah Nga\\AppData\\Local\\Temp\\ipykernel_25108\\1732734207.py:4: RuntimeWarning: invalid value encountered in scalar divide\n",
      "  return precision_score(y_true,y_pred) / fp\n"
     ]
    },
    {
     "name": "stdout",
     "output_type": "stream",
     "text": [
      "[CV 2/5] END ...gamma=0.01, kernel=rbf, nu=0.01;, score=0.090 total time=   0.0s\n",
      "[CV 3/5] END ...gamma=0.01, kernel=rbf, nu=0.01;, score=0.070 total time=   0.0s\n",
      "[CV 4/5] END ...gamma=0.01, kernel=rbf, nu=0.01;, score=0.127 total time=   0.0s\n",
      "[CV 5/5] END .....gamma=0.01, kernel=rbf, nu=0.01;, score=nan total time=   0.0s\n",
      "[CV 1/5] END ...gamma=0.01, kernel=rbf, nu=0.05;, score=0.034 total time=   0.0s\n",
      "[CV 2/5] END ...gamma=0.01, kernel=rbf, nu=0.05;, score=0.026 total time=   0.0s\n",
      "[CV 3/5] END ...gamma=0.01, kernel=rbf, nu=0.05;, score=0.030 total time=   0.0s\n",
      "[CV 4/5] END ...gamma=0.01, kernel=rbf, nu=0.05;, score=0.049 total time=   0.0s\n",
      "[CV 5/5] END .....gamma=0.01, kernel=rbf, nu=0.05;, score=nan total time=   0.0s\n",
      "[CV 1/5] END ....gamma=0.01, kernel=rbf, nu=0.1;, score=0.019 total time=   0.0s\n",
      "[CV 2/5] END ....gamma=0.01, kernel=rbf, nu=0.1;, score=0.016 total time=   0.0s\n",
      "[CV 3/5] END ....gamma=0.01, kernel=rbf, nu=0.1;, score=0.015 total time=   0.0s\n",
      "[CV 4/5] END ....gamma=0.01, kernel=rbf, nu=0.1;, score=0.023 total time=   0.0s\n",
      "[CV 5/5] END ......gamma=0.01, kernel=rbf, nu=0.1;, score=nan total time=   0.0s\n"
     ]
    },
    {
     "name": "stderr",
     "output_type": "stream",
     "text": [
      "C:\\Users\\Hannah Nga\\AppData\\Local\\Temp\\ipykernel_25108\\1732734207.py:4: RuntimeWarning: invalid value encountered in scalar divide\n",
      "  return precision_score(y_true,y_pred) / fp\n",
      "C:\\Users\\Hannah Nga\\AppData\\Local\\Temp\\ipykernel_25108\\1732734207.py:4: RuntimeWarning: invalid value encountered in scalar divide\n",
      "  return precision_score(y_true,y_pred) / fp\n"
     ]
    },
    {
     "name": "stdout",
     "output_type": "stream",
     "text": [
      "[CV 1/5] END ....gamma=0.01, kernel=rbf, nu=0.2;, score=0.010 total time=   0.0s\n",
      "[CV 2/5] END ....gamma=0.01, kernel=rbf, nu=0.2;, score=0.008 total time=   0.0s\n",
      "[CV 3/5] END ....gamma=0.01, kernel=rbf, nu=0.2;, score=0.009 total time=   0.0s\n",
      "[CV 4/5] END ....gamma=0.01, kernel=rbf, nu=0.2;, score=0.009 total time=   0.0s\n",
      "[CV 5/5] END ......gamma=0.01, kernel=rbf, nu=0.2;, score=nan total time=   0.0s\n",
      "[CV 1/5] END ....gamma=0.01, kernel=rbf, nu=0.3;, score=0.007 total time=   0.0s\n",
      "[CV 2/5] END ....gamma=0.01, kernel=rbf, nu=0.3;, score=0.006 total time=   0.0s\n",
      "[CV 3/5] END ....gamma=0.01, kernel=rbf, nu=0.3;, score=0.006 total time=   0.0s\n",
      "[CV 4/5] END ....gamma=0.01, kernel=rbf, nu=0.3;, score=0.006 total time=   0.0s\n",
      "[CV 5/5] END ......gamma=0.01, kernel=rbf, nu=0.3;, score=nan total time=   0.0s\n"
     ]
    },
    {
     "name": "stderr",
     "output_type": "stream",
     "text": [
      "C:\\Users\\Hannah Nga\\AppData\\Local\\Temp\\ipykernel_25108\\1732734207.py:4: RuntimeWarning: invalid value encountered in scalar divide\n",
      "  return precision_score(y_true,y_pred) / fp\n"
     ]
    },
    {
     "name": "stdout",
     "output_type": "stream",
     "text": [
      "[CV 1/5] END ....gamma=0.01, kernel=rbf, nu=0.5;, score=0.004 total time=   0.0s\n",
      "[CV 2/5] END ....gamma=0.01, kernel=rbf, nu=0.5;, score=0.004 total time=   0.0s\n",
      "[CV 3/5] END ....gamma=0.01, kernel=rbf, nu=0.5;, score=0.004 total time=   0.0s\n",
      "[CV 4/5] END ....gamma=0.01, kernel=rbf, nu=0.5;, score=0.004 total time=   0.0s\n"
     ]
    },
    {
     "name": "stderr",
     "output_type": "stream",
     "text": [
      "C:\\Users\\Hannah Nga\\AppData\\Local\\Temp\\ipykernel_25108\\1732734207.py:4: RuntimeWarning: invalid value encountered in scalar divide\n",
      "  return precision_score(y_true,y_pred) / fp\n"
     ]
    },
    {
     "name": "stdout",
     "output_type": "stream",
     "text": [
      "[CV 5/5] END ......gamma=0.01, kernel=rbf, nu=0.5;, score=nan total time=   0.0s\n",
      "[CV 1/5] END ....gamma=0.01, kernel=rbf, nu=0.7;, score=0.003 total time=   0.0s\n",
      "[CV 2/5] END ....gamma=0.01, kernel=rbf, nu=0.7;, score=0.003 total time=   0.0s\n",
      "[CV 3/5] END ....gamma=0.01, kernel=rbf, nu=0.7;, score=0.003 total time=   0.0s\n",
      "[CV 4/5] END ....gamma=0.01, kernel=rbf, nu=0.7;, score=0.003 total time=   0.0s\n"
     ]
    },
    {
     "name": "stderr",
     "output_type": "stream",
     "text": [
      "C:\\Users\\Hannah Nga\\AppData\\Local\\Temp\\ipykernel_25108\\1732734207.py:4: RuntimeWarning: invalid value encountered in scalar divide\n",
      "  return precision_score(y_true,y_pred) / fp\n"
     ]
    },
    {
     "name": "stdout",
     "output_type": "stream",
     "text": [
      "[CV 5/5] END ......gamma=0.01, kernel=rbf, nu=0.7;, score=nan total time=   0.0s\n",
      "[CV 1/5] END ....gamma=0.01, kernel=rbf, nu=0.9;, score=0.003 total time=   0.0s\n",
      "[CV 2/5] END ....gamma=0.01, kernel=rbf, nu=0.9;, score=0.003 total time=   0.0s\n",
      "[CV 3/5] END ....gamma=0.01, kernel=rbf, nu=0.9;, score=0.002 total time=   0.0s\n",
      "[CV 4/5] END ....gamma=0.01, kernel=rbf, nu=0.9;, score=0.002 total time=   0.0s\n",
      "[CV 5/5] END ......gamma=0.01, kernel=rbf, nu=0.9;, score=nan total time=   0.0s\n",
      "[CV 1/5] END .gamma=0.01, kernel=poly, nu=0.001;, score=0.003 total time=   0.0s\n",
      "[CV 2/5] END .gamma=0.01, kernel=poly, nu=0.001;, score=0.003 total time=   0.0s\n",
      "[CV 3/5] END .gamma=0.01, kernel=poly, nu=0.001;, score=0.003 total time=   0.0s\n",
      "[CV 4/5] END .gamma=0.01, kernel=poly, nu=0.001;, score=0.004 total time=   0.0s\n",
      "[CV 5/5] END ...gamma=0.01, kernel=poly, nu=0.001;, score=nan total time=   0.0s\n",
      "[CV 1/5] END .gamma=0.01, kernel=poly, nu=0.005;, score=0.003 total time=   0.0s\n",
      "[CV 2/5] END .gamma=0.01, kernel=poly, nu=0.005;, score=0.004 total time=   0.0s\n",
      "[CV 3/5] END .gamma=0.01, kernel=poly, nu=0.005;, score=0.003 total time=   0.0s\n",
      "[CV 4/5] END .gamma=0.01, kernel=poly, nu=0.005;, score=0.004 total time=   0.0s\n",
      "[CV 5/5] END ...gamma=0.01, kernel=poly, nu=0.005;, score=nan total time=   0.0s\n",
      "[CV 1/5] END ..gamma=0.01, kernel=poly, nu=0.01;, score=0.003 total time=   0.0s\n",
      "[CV 2/5] END ..gamma=0.01, kernel=poly, nu=0.01;, score=0.004 total time=   0.0s\n",
      "[CV 3/5] END ..gamma=0.01, kernel=poly, nu=0.01;, score=0.003 total time=   0.0s\n",
      "[CV 4/5] END ..gamma=0.01, kernel=poly, nu=0.01;, score=0.004 total time=   0.0s\n",
      "[CV 5/5] END ....gamma=0.01, kernel=poly, nu=0.01;, score=nan total time=   0.0s\n",
      "[CV 1/5] END ..gamma=0.01, kernel=poly, nu=0.05;, score=0.004 total time=   0.0s\n"
     ]
    },
    {
     "name": "stderr",
     "output_type": "stream",
     "text": [
      "C:\\Users\\Hannah Nga\\AppData\\Local\\Temp\\ipykernel_25108\\1732734207.py:4: RuntimeWarning: invalid value encountered in scalar divide\n",
      "  return precision_score(y_true,y_pred) / fp\n",
      "C:\\Users\\Hannah Nga\\AppData\\Local\\Temp\\ipykernel_25108\\1732734207.py:4: RuntimeWarning: invalid value encountered in scalar divide\n",
      "  return precision_score(y_true,y_pred) / fp\n",
      "C:\\Users\\Hannah Nga\\AppData\\Local\\Temp\\ipykernel_25108\\1732734207.py:4: RuntimeWarning: invalid value encountered in scalar divide\n",
      "  return precision_score(y_true,y_pred) / fp\n",
      "C:\\Users\\Hannah Nga\\AppData\\Local\\Temp\\ipykernel_25108\\1732734207.py:4: RuntimeWarning: invalid value encountered in scalar divide\n",
      "  return precision_score(y_true,y_pred) / fp\n",
      "C:\\Users\\Hannah Nga\\AppData\\Local\\Temp\\ipykernel_25108\\1732734207.py:4: RuntimeWarning: invalid value encountered in scalar divide\n",
      "  return precision_score(y_true,y_pred) / fp\n",
      "C:\\Users\\Hannah Nga\\AppData\\Local\\Temp\\ipykernel_25108\\1732734207.py:4: RuntimeWarning: invalid value encountered in scalar divide\n",
      "  return precision_score(y_true,y_pred) / fp\n"
     ]
    },
    {
     "name": "stdout",
     "output_type": "stream",
     "text": [
      "[CV 2/5] END ..gamma=0.01, kernel=poly, nu=0.05;, score=0.004 total time=   0.0s\n",
      "[CV 3/5] END ..gamma=0.01, kernel=poly, nu=0.05;, score=0.004 total time=   0.0s\n",
      "[CV 4/5] END ..gamma=0.01, kernel=poly, nu=0.05;, score=0.006 total time=   0.0s\n",
      "[CV 5/5] END ....gamma=0.01, kernel=poly, nu=0.05;, score=nan total time=   0.0s\n",
      "[CV 1/5] END ...gamma=0.01, kernel=poly, nu=0.1;, score=0.005 total time=   0.0s\n",
      "[CV 2/5] END ...gamma=0.01, kernel=poly, nu=0.1;, score=0.005 total time=   0.0s\n",
      "[CV 3/5] END ...gamma=0.01, kernel=poly, nu=0.1;, score=0.005 total time=   0.0s\n",
      "[CV 4/5] END ...gamma=0.01, kernel=poly, nu=0.1;, score=0.006 total time=   0.0s\n",
      "[CV 5/5] END .....gamma=0.01, kernel=poly, nu=0.1;, score=nan total time=   0.0s\n",
      "[CV 1/5] END ...gamma=0.01, kernel=poly, nu=0.2;, score=0.006 total time=   0.0s\n",
      "[CV 2/5] END ...gamma=0.01, kernel=poly, nu=0.2;, score=0.006 total time=   0.0s\n",
      "[CV 3/5] END ...gamma=0.01, kernel=poly, nu=0.2;, score=0.007 total time=   0.0s\n",
      "[CV 4/5] END ...gamma=0.01, kernel=poly, nu=0.2;, score=0.008 total time=   0.0s\n"
     ]
    },
    {
     "name": "stderr",
     "output_type": "stream",
     "text": [
      "C:\\Users\\Hannah Nga\\AppData\\Local\\Temp\\ipykernel_25108\\1732734207.py:4: RuntimeWarning: invalid value encountered in scalar divide\n",
      "  return precision_score(y_true,y_pred) / fp\n",
      "C:\\Users\\Hannah Nga\\AppData\\Local\\Temp\\ipykernel_25108\\1732734207.py:4: RuntimeWarning: invalid value encountered in scalar divide\n",
      "  return precision_score(y_true,y_pred) / fp\n"
     ]
    },
    {
     "name": "stdout",
     "output_type": "stream",
     "text": [
      "[CV 5/5] END .....gamma=0.01, kernel=poly, nu=0.2;, score=nan total time=   0.0s\n",
      "[CV 1/5] END ...gamma=0.01, kernel=poly, nu=0.3;, score=0.007 total time=   0.0s\n",
      "[CV 2/5] END ...gamma=0.01, kernel=poly, nu=0.3;, score=0.006 total time=   0.0s\n",
      "[CV 3/5] END ...gamma=0.01, kernel=poly, nu=0.3;, score=0.006 total time=   0.0s\n",
      "[CV 4/5] END ...gamma=0.01, kernel=poly, nu=0.3;, score=0.007 total time=   0.0s\n",
      "[CV 5/5] END .....gamma=0.01, kernel=poly, nu=0.3;, score=nan total time=   0.0s\n",
      "[CV 1/5] END ...gamma=0.01, kernel=poly, nu=0.5;, score=0.005 total time=   0.0s\n",
      "[CV 2/5] END ...gamma=0.01, kernel=poly, nu=0.5;, score=0.005 total time=   0.0s\n",
      "[CV 3/5] END ...gamma=0.01, kernel=poly, nu=0.5;, score=0.005 total time=   0.0s\n",
      "[CV 4/5] END ...gamma=0.01, kernel=poly, nu=0.5;, score=0.005 total time=   0.0s\n",
      "[CV 5/5] END .....gamma=0.01, kernel=poly, nu=0.5;, score=nan total time=   0.0s\n"
     ]
    },
    {
     "name": "stderr",
     "output_type": "stream",
     "text": [
      "C:\\Users\\Hannah Nga\\AppData\\Local\\Temp\\ipykernel_25108\\1732734207.py:4: RuntimeWarning: invalid value encountered in scalar divide\n",
      "  return precision_score(y_true,y_pred) / fp\n"
     ]
    },
    {
     "name": "stdout",
     "output_type": "stream",
     "text": [
      "[CV 1/5] END ...gamma=0.01, kernel=poly, nu=0.7;, score=0.003 total time=   0.0s\n",
      "[CV 2/5] END ...gamma=0.01, kernel=poly, nu=0.7;, score=0.004 total time=   0.0s\n",
      "[CV 3/5] END ...gamma=0.01, kernel=poly, nu=0.7;, score=0.004 total time=   0.0s\n",
      "[CV 4/5] END ...gamma=0.01, kernel=poly, nu=0.7;, score=0.004 total time=   0.0s\n"
     ]
    },
    {
     "name": "stderr",
     "output_type": "stream",
     "text": [
      "C:\\Users\\Hannah Nga\\AppData\\Local\\Temp\\ipykernel_25108\\1732734207.py:4: RuntimeWarning: invalid value encountered in scalar divide\n",
      "  return precision_score(y_true,y_pred) / fp\n"
     ]
    },
    {
     "name": "stdout",
     "output_type": "stream",
     "text": [
      "[CV 5/5] END .....gamma=0.01, kernel=poly, nu=0.7;, score=nan total time=   0.0s\n",
      "[CV 1/5] END ...gamma=0.01, kernel=poly, nu=0.9;, score=0.003 total time=   0.0s\n",
      "[CV 2/5] END ...gamma=0.01, kernel=poly, nu=0.9;, score=0.003 total time=   0.0s\n",
      "[CV 3/5] END ...gamma=0.01, kernel=poly, nu=0.9;, score=0.003 total time=   0.0s\n",
      "[CV 4/5] END ...gamma=0.01, kernel=poly, nu=0.9;, score=0.003 total time=   0.0s\n",
      "[CV 5/5] END .....gamma=0.01, kernel=poly, nu=0.9;, score=nan total time=   0.0s\n",
      "[CV 1/5] END gamma=0.01, kernel=sigmoid, nu=0.001;, score=0.025 total time=   0.0s\n",
      "[CV 2/5] END gamma=0.01, kernel=sigmoid, nu=0.001;, score=0.197 total time=   0.0s\n",
      "[CV 3/5] END gamma=0.01, kernel=sigmoid, nu=0.001;, score=0.039 total time=   0.0s\n",
      "[CV 4/5] END gamma=0.01, kernel=sigmoid, nu=0.001;, score=0.222 total time=   0.0s\n",
      "[CV 5/5] END gamma=0.01, kernel=sigmoid, nu=0.001;, score=nan total time=   0.0s\n",
      "[CV 1/5] END gamma=0.01, kernel=sigmoid, nu=0.005;, score=0.123 total time=   0.0s\n",
      "[CV 2/5] END gamma=0.01, kernel=sigmoid, nu=0.005;, score=0.246 total time=   0.0s\n",
      "[CV 3/5] END gamma=0.01, kernel=sigmoid, nu=0.005;, score=0.090 total time=   0.0s\n",
      "[CV 4/5] END gamma=0.01, kernel=sigmoid, nu=0.005;, score=0.148 total time=   0.0s\n",
      "[CV 5/5] END gamma=0.01, kernel=sigmoid, nu=0.005;, score=nan total time=   0.0s\n",
      "[CV 1/5] END gamma=0.01, kernel=sigmoid, nu=0.01;, score=0.123 total time=   0.0s\n",
      "[CV 2/5] END gamma=0.01, kernel=sigmoid, nu=0.01;, score=0.246 total time=   0.0s\n",
      "[CV 3/5] END gamma=0.01, kernel=sigmoid, nu=0.01;, score=0.082 total time=   0.0s\n",
      "[CV 4/5] END gamma=0.01, kernel=sigmoid, nu=0.01;, score=0.148 total time=   0.0s\n",
      "[CV 5/5] END .gamma=0.01, kernel=sigmoid, nu=0.01;, score=nan total time=   0.0s\n",
      "[CV 1/5] END gamma=0.01, kernel=sigmoid, nu=0.05;, score=0.025 total time=   0.0s\n",
      "[CV 2/5] END gamma=0.01, kernel=sigmoid, nu=0.05;, score=0.049 total time=   0.0s\n",
      "[CV 3/5] END gamma=0.01, kernel=sigmoid, nu=0.05;, score=0.027 total time=   0.0s\n",
      "[CV 4/5] END gamma=0.01, kernel=sigmoid, nu=0.05;, score=0.040 total time=   0.0s\n"
     ]
    },
    {
     "name": "stderr",
     "output_type": "stream",
     "text": [
      "c:\\Users\\Hannah Nga\\.conda\\envs\\fraudenv\\lib\\site-packages\\sklearn\\metrics\\_classification.py:1509: UndefinedMetricWarning: Precision is ill-defined and being set to 0.0 due to no predicted samples. Use `zero_division` parameter to control this behavior.\n",
      "  _warn_prf(average, modifier, f\"{metric.capitalize()} is\", len(result))\n",
      "C:\\Users\\Hannah Nga\\AppData\\Local\\Temp\\ipykernel_25108\\1732734207.py:4: RuntimeWarning: invalid value encountered in scalar divide\n",
      "  return precision_score(y_true,y_pred) / fp\n",
      "C:\\Users\\Hannah Nga\\AppData\\Local\\Temp\\ipykernel_25108\\1732734207.py:4: RuntimeWarning: invalid value encountered in scalar divide\n",
      "  return precision_score(y_true,y_pred) / fp\n",
      "C:\\Users\\Hannah Nga\\AppData\\Local\\Temp\\ipykernel_25108\\1732734207.py:4: RuntimeWarning: invalid value encountered in scalar divide\n",
      "  return precision_score(y_true,y_pred) / fp\n",
      "C:\\Users\\Hannah Nga\\AppData\\Local\\Temp\\ipykernel_25108\\1732734207.py:4: RuntimeWarning: invalid value encountered in scalar divide\n",
      "  return precision_score(y_true,y_pred) / fp\n",
      "C:\\Users\\Hannah Nga\\AppData\\Local\\Temp\\ipykernel_25108\\1732734207.py:4: RuntimeWarning: invalid value encountered in scalar divide\n",
      "  return precision_score(y_true,y_pred) / fp\n"
     ]
    },
    {
     "name": "stdout",
     "output_type": "stream",
     "text": [
      "[CV 5/5] END .gamma=0.01, kernel=sigmoid, nu=0.05;, score=nan total time=   0.0s\n",
      "[CV 1/5] END gamma=0.01, kernel=sigmoid, nu=0.1;, score=0.015 total time=   0.0s\n",
      "[CV 2/5] END gamma=0.01, kernel=sigmoid, nu=0.1;, score=0.024 total time=   0.0s\n",
      "[CV 3/5] END gamma=0.01, kernel=sigmoid, nu=0.1;, score=0.017 total time=   0.0s\n",
      "[CV 4/5] END gamma=0.01, kernel=sigmoid, nu=0.1;, score=0.017 total time=   0.0s\n",
      "[CV 5/5] END ..gamma=0.01, kernel=sigmoid, nu=0.1;, score=nan total time=   0.0s\n",
      "[CV 1/5] END gamma=0.01, kernel=sigmoid, nu=0.2;, score=0.008 total time=   0.0s\n"
     ]
    },
    {
     "name": "stderr",
     "output_type": "stream",
     "text": [
      "C:\\Users\\Hannah Nga\\AppData\\Local\\Temp\\ipykernel_25108\\1732734207.py:4: RuntimeWarning: invalid value encountered in scalar divide\n",
      "  return precision_score(y_true,y_pred) / fp\n",
      "C:\\Users\\Hannah Nga\\AppData\\Local\\Temp\\ipykernel_25108\\1732734207.py:4: RuntimeWarning: invalid value encountered in scalar divide\n",
      "  return precision_score(y_true,y_pred) / fp\n"
     ]
    },
    {
     "name": "stdout",
     "output_type": "stream",
     "text": [
      "[CV 2/5] END gamma=0.01, kernel=sigmoid, nu=0.2;, score=0.009 total time=   0.0s\n",
      "[CV 3/5] END gamma=0.01, kernel=sigmoid, nu=0.2;, score=0.008 total time=   0.0s\n",
      "[CV 4/5] END gamma=0.01, kernel=sigmoid, nu=0.2;, score=0.008 total time=   0.0s\n",
      "[CV 5/5] END ..gamma=0.01, kernel=sigmoid, nu=0.2;, score=nan total time=   0.0s\n",
      "[CV 1/5] END gamma=0.01, kernel=sigmoid, nu=0.3;, score=0.006 total time=   0.0s\n",
      "[CV 2/5] END gamma=0.01, kernel=sigmoid, nu=0.3;, score=0.006 total time=   0.0s\n",
      "[CV 3/5] END gamma=0.01, kernel=sigmoid, nu=0.3;, score=0.006 total time=   0.0s\n",
      "[CV 4/5] END gamma=0.01, kernel=sigmoid, nu=0.3;, score=0.005 total time=   0.0s\n",
      "[CV 5/5] END ..gamma=0.01, kernel=sigmoid, nu=0.3;, score=nan total time=   0.0s\n"
     ]
    },
    {
     "name": "stderr",
     "output_type": "stream",
     "text": [
      "C:\\Users\\Hannah Nga\\AppData\\Local\\Temp\\ipykernel_25108\\1732734207.py:4: RuntimeWarning: invalid value encountered in scalar divide\n",
      "  return precision_score(y_true,y_pred) / fp\n"
     ]
    },
    {
     "name": "stdout",
     "output_type": "stream",
     "text": [
      "[CV 1/5] END gamma=0.01, kernel=sigmoid, nu=0.5;, score=0.004 total time=   0.0s\n",
      "[CV 2/5] END gamma=0.01, kernel=sigmoid, nu=0.5;, score=0.004 total time=   0.0s\n",
      "[CV 3/5] END gamma=0.01, kernel=sigmoid, nu=0.5;, score=0.004 total time=   0.0s\n",
      "[CV 4/5] END gamma=0.01, kernel=sigmoid, nu=0.5;, score=0.004 total time=   0.0s\n",
      "[CV 5/5] END ..gamma=0.01, kernel=sigmoid, nu=0.5;, score=nan total time=   0.0s\n",
      "[CV 1/5] END gamma=0.01, kernel=sigmoid, nu=0.7;, score=0.003 total time=   0.0s\n"
     ]
    },
    {
     "name": "stderr",
     "output_type": "stream",
     "text": [
      "C:\\Users\\Hannah Nga\\AppData\\Local\\Temp\\ipykernel_25108\\1732734207.py:4: RuntimeWarning: invalid value encountered in scalar divide\n",
      "  return precision_score(y_true,y_pred) / fp\n"
     ]
    },
    {
     "name": "stdout",
     "output_type": "stream",
     "text": [
      "[CV 2/5] END gamma=0.01, kernel=sigmoid, nu=0.7;, score=0.003 total time=   0.0s\n",
      "[CV 3/5] END gamma=0.01, kernel=sigmoid, nu=0.7;, score=0.003 total time=   0.0s\n",
      "[CV 4/5] END gamma=0.01, kernel=sigmoid, nu=0.7;, score=0.002 total time=   0.0s\n"
     ]
    },
    {
     "name": "stderr",
     "output_type": "stream",
     "text": [
      "C:\\Users\\Hannah Nga\\AppData\\Local\\Temp\\ipykernel_25108\\1732734207.py:4: RuntimeWarning: invalid value encountered in scalar divide\n",
      "  return precision_score(y_true,y_pred) / fp\n"
     ]
    },
    {
     "name": "stdout",
     "output_type": "stream",
     "text": [
      "[CV 5/5] END ..gamma=0.01, kernel=sigmoid, nu=0.7;, score=nan total time=   0.0s\n",
      "[CV 1/5] END gamma=0.01, kernel=sigmoid, nu=0.9;, score=0.003 total time=   0.0s\n",
      "[CV 2/5] END gamma=0.01, kernel=sigmoid, nu=0.9;, score=0.003 total time=   0.0s\n",
      "[CV 3/5] END gamma=0.01, kernel=sigmoid, nu=0.9;, score=0.003 total time=   0.0s\n",
      "[CV 4/5] END gamma=0.01, kernel=sigmoid, nu=0.9;, score=0.002 total time=   0.0s\n",
      "[CV 5/5] END ..gamma=0.01, kernel=sigmoid, nu=0.9;, score=nan total time=   0.0s\n",
      "[CV 1/5] END gamma=0.001, kernel=linear, nu=0.001;, score=0.006 total time=   0.0s\n",
      "[CV 2/5] END gamma=0.001, kernel=linear, nu=0.001;, score=0.005 total time=   0.0s\n",
      "[CV 3/5] END gamma=0.001, kernel=linear, nu=0.001;, score=0.005 total time=   0.0s\n",
      "[CV 4/5] END gamma=0.001, kernel=linear, nu=0.001;, score=0.008 total time=   0.0s\n",
      "[CV 5/5] END gamma=0.001, kernel=linear, nu=0.001;, score=nan total time=   0.0s\n",
      "[CV 1/5] END gamma=0.001, kernel=linear, nu=0.005;, score=0.007 total time=   0.0s\n",
      "[CV 2/5] END gamma=0.001, kernel=linear, nu=0.005;, score=0.003 total time=   0.0s\n",
      "[CV 3/5] END gamma=0.001, kernel=linear, nu=0.005;, score=0.010 total time=   0.0s\n",
      "[CV 4/5] END gamma=0.001, kernel=linear, nu=0.005;, score=0.002 total time=   0.0s\n",
      "[CV 5/5] END gamma=0.001, kernel=linear, nu=0.005;, score=nan total time=   0.0s\n",
      "[CV 1/5] END gamma=0.001, kernel=linear, nu=0.01;, score=0.005 total time=   0.0s\n",
      "[CV 2/5] END gamma=0.001, kernel=linear, nu=0.01;, score=0.007 total time=   0.0s\n",
      "[CV 3/5] END gamma=0.001, kernel=linear, nu=0.01;, score=0.005 total time=   0.0s\n",
      "[CV 4/5] END gamma=0.001, kernel=linear, nu=0.01;, score=0.008 total time=   0.0s\n",
      "[CV 5/5] END .gamma=0.001, kernel=linear, nu=0.01;, score=nan total time=   0.0s\n",
      "[CV 1/5] END gamma=0.001, kernel=linear, nu=0.05;, score=0.005 total time=   0.0s\n",
      "[CV 2/5] END gamma=0.001, kernel=linear, nu=0.05;, score=0.011 total time=   0.0s\n",
      "[CV 3/5] END gamma=0.001, kernel=linear, nu=0.05;, score=0.003 total time=   0.0s\n",
      "[CV 4/5] END gamma=0.001, kernel=linear, nu=0.05;, score=0.011 total time=   0.0s\n",
      "[CV 5/5] END .gamma=0.001, kernel=linear, nu=0.05;, score=nan total time=   0.0s\n",
      "[CV 1/5] END gamma=0.001, kernel=linear, nu=0.1;, score=0.004 total time=   0.0s\n",
      "[CV 2/5] END gamma=0.001, kernel=linear, nu=0.1;, score=0.004 total time=   0.0s\n",
      "[CV 3/5] END gamma=0.001, kernel=linear, nu=0.1;, score=0.003 total time=   0.0s\n"
     ]
    },
    {
     "name": "stderr",
     "output_type": "stream",
     "text": [
      "C:\\Users\\Hannah Nga\\AppData\\Local\\Temp\\ipykernel_25108\\1732734207.py:4: RuntimeWarning: invalid value encountered in scalar divide\n",
      "  return precision_score(y_true,y_pred) / fp\n",
      "C:\\Users\\Hannah Nga\\AppData\\Local\\Temp\\ipykernel_25108\\1732734207.py:4: RuntimeWarning: invalid value encountered in scalar divide\n",
      "  return precision_score(y_true,y_pred) / fp\n",
      "C:\\Users\\Hannah Nga\\AppData\\Local\\Temp\\ipykernel_25108\\1732734207.py:4: RuntimeWarning: invalid value encountered in scalar divide\n",
      "  return precision_score(y_true,y_pred) / fp\n",
      "C:\\Users\\Hannah Nga\\AppData\\Local\\Temp\\ipykernel_25108\\1732734207.py:4: RuntimeWarning: invalid value encountered in scalar divide\n",
      "  return precision_score(y_true,y_pred) / fp\n",
      "C:\\Users\\Hannah Nga\\AppData\\Local\\Temp\\ipykernel_25108\\1732734207.py:4: RuntimeWarning: invalid value encountered in scalar divide\n",
      "  return precision_score(y_true,y_pred) / fp\n",
      "C:\\Users\\Hannah Nga\\AppData\\Local\\Temp\\ipykernel_25108\\1732734207.py:4: RuntimeWarning: invalid value encountered in scalar divide\n",
      "  return precision_score(y_true,y_pred) / fp\n",
      "c:\\Users\\Hannah Nga\\.conda\\envs\\fraudenv\\lib\\site-packages\\sklearn\\metrics\\_classification.py:1509: UndefinedMetricWarning: Precision is ill-defined and being set to 0.0 due to no predicted samples. Use `zero_division` parameter to control this behavior.\n",
      "  _warn_prf(average, modifier, f\"{metric.capitalize()} is\", len(result))\n",
      "C:\\Users\\Hannah Nga\\AppData\\Local\\Temp\\ipykernel_25108\\1732734207.py:4: RuntimeWarning: invalid value encountered in scalar divide\n",
      "  return precision_score(y_true,y_pred) / fp\n"
     ]
    },
    {
     "name": "stdout",
     "output_type": "stream",
     "text": [
      "[CV 4/5] END gamma=0.001, kernel=linear, nu=0.1;, score=0.003 total time=   0.0s\n",
      "[CV 5/5] END ..gamma=0.001, kernel=linear, nu=0.1;, score=nan total time=   0.0s\n",
      "[CV 1/5] END gamma=0.001, kernel=linear, nu=0.2;, score=0.003 total time=   0.0s\n",
      "[CV 2/5] END gamma=0.001, kernel=linear, nu=0.2;, score=0.003 total time=   0.0s\n",
      "[CV 3/5] END gamma=0.001, kernel=linear, nu=0.2;, score=0.003 total time=   0.0s\n",
      "[CV 4/5] END gamma=0.001, kernel=linear, nu=0.2;, score=0.004 total time=   0.0s\n",
      "[CV 5/5] END ..gamma=0.001, kernel=linear, nu=0.2;, score=nan total time=   0.0s\n",
      "[CV 1/5] END gamma=0.001, kernel=linear, nu=0.3;, score=0.003 total time=   0.0s\n",
      "[CV 2/5] END gamma=0.001, kernel=linear, nu=0.3;, score=0.003 total time=   0.0s\n",
      "[CV 3/5] END gamma=0.001, kernel=linear, nu=0.3;, score=0.003 total time=   0.0s\n",
      "[CV 4/5] END gamma=0.001, kernel=linear, nu=0.3;, score=0.002 total time=   0.0s\n",
      "[CV 5/5] END ..gamma=0.001, kernel=linear, nu=0.3;, score=nan total time=   0.0s\n",
      "[CV 1/5] END gamma=0.001, kernel=linear, nu=0.5;, score=0.003 total time=   0.0s\n"
     ]
    },
    {
     "name": "stderr",
     "output_type": "stream",
     "text": [
      "C:\\Users\\Hannah Nga\\AppData\\Local\\Temp\\ipykernel_25108\\1732734207.py:4: RuntimeWarning: invalid value encountered in scalar divide\n",
      "  return precision_score(y_true,y_pred) / fp\n",
      "C:\\Users\\Hannah Nga\\AppData\\Local\\Temp\\ipykernel_25108\\1732734207.py:4: RuntimeWarning: invalid value encountered in scalar divide\n",
      "  return precision_score(y_true,y_pred) / fp\n"
     ]
    },
    {
     "name": "stdout",
     "output_type": "stream",
     "text": [
      "[CV 2/5] END gamma=0.001, kernel=linear, nu=0.5;, score=0.003 total time=   0.0s\n",
      "[CV 3/5] END gamma=0.001, kernel=linear, nu=0.5;, score=0.003 total time=   0.0s\n",
      "[CV 4/5] END gamma=0.001, kernel=linear, nu=0.5;, score=0.003 total time=   0.0s\n",
      "[CV 5/5] END ..gamma=0.001, kernel=linear, nu=0.5;, score=nan total time=   0.0s\n",
      "[CV 1/5] END gamma=0.001, kernel=linear, nu=0.7;, score=0.003 total time=   0.0s\n",
      "[CV 2/5] END gamma=0.001, kernel=linear, nu=0.7;, score=0.003 total time=   0.0s\n",
      "[CV 3/5] END gamma=0.001, kernel=linear, nu=0.7;, score=0.003 total time=   0.0s\n",
      "[CV 4/5] END gamma=0.001, kernel=linear, nu=0.7;, score=0.005 total time=   0.0s\n",
      "[CV 5/5] END ..gamma=0.001, kernel=linear, nu=0.7;, score=nan total time=   0.0s\n",
      "[CV 1/5] END gamma=0.001, kernel=linear, nu=0.9;, score=0.004 total time=   0.0s\n",
      "[CV 2/5] END gamma=0.001, kernel=linear, nu=0.9;, score=0.003 total time=   0.0s\n"
     ]
    },
    {
     "name": "stderr",
     "output_type": "stream",
     "text": [
      "C:\\Users\\Hannah Nga\\AppData\\Local\\Temp\\ipykernel_25108\\1732734207.py:4: RuntimeWarning: invalid value encountered in scalar divide\n",
      "  return precision_score(y_true,y_pred) / fp\n"
     ]
    },
    {
     "name": "stdout",
     "output_type": "stream",
     "text": [
      "[CV 3/5] END gamma=0.001, kernel=linear, nu=0.9;, score=0.003 total time=   0.0s\n",
      "[CV 4/5] END gamma=0.001, kernel=linear, nu=0.9;, score=0.003 total time=   0.0s\n",
      "[CV 5/5] END ..gamma=0.001, kernel=linear, nu=0.9;, score=nan total time=   0.0s\n",
      "[CV 1/5] END .gamma=0.001, kernel=rbf, nu=0.001;, score=0.493 total time=   0.0s\n",
      "[CV 2/5] END .gamma=0.001, kernel=rbf, nu=0.001;, score=0.328 total time=   0.0s\n",
      "[CV 3/5] END .gamma=0.001, kernel=rbf, nu=0.001;, score=0.328 total time=   0.0s\n",
      "[CV 4/5] END .gamma=0.001, kernel=rbf, nu=0.001;, score=0.890 total time=   0.0s\n",
      "[CV 5/5] END ...gamma=0.001, kernel=rbf, nu=0.001;, score=nan total time=   0.0s\n",
      "[CV 1/5] END .gamma=0.001, kernel=rbf, nu=0.005;, score=0.985 total time=   0.0s\n",
      "[CV 2/5] END .gamma=0.001, kernel=rbf, nu=0.005;, score=0.164 total time=   0.0s\n",
      "[CV 3/5] END .gamma=0.001, kernel=rbf, nu=0.005;, score=0.197 total time=   0.0s\n",
      "[CV 4/5] END .gamma=0.001, kernel=rbf, nu=0.005;, score=0.445 total time=   0.0s\n",
      "[CV 5/5] END ...gamma=0.001, kernel=rbf, nu=0.005;, score=nan total time=   0.0s\n",
      "[CV 1/5] END ..gamma=0.001, kernel=rbf, nu=0.01;, score=0.328 total time=   0.0s\n",
      "[CV 2/5] END ..gamma=0.001, kernel=rbf, nu=0.01;, score=0.123 total time=   0.0s\n",
      "[CV 3/5] END ..gamma=0.001, kernel=rbf, nu=0.01;, score=0.098 total time=   0.0s\n",
      "[CV 4/5] END ..gamma=0.001, kernel=rbf, nu=0.01;, score=0.178 total time=   0.0s\n",
      "[CV 5/5] END ....gamma=0.001, kernel=rbf, nu=0.01;, score=nan total time=   0.0s\n",
      "[CV 1/5] END ..gamma=0.001, kernel=rbf, nu=0.05;, score=0.036 total time=   0.0s\n",
      "[CV 2/5] END ..gamma=0.001, kernel=rbf, nu=0.05;, score=0.026 total time=   0.0s\n",
      "[CV 3/5] END ..gamma=0.001, kernel=rbf, nu=0.05;, score=0.031 total time=   0.0s\n",
      "[CV 4/5] END ..gamma=0.001, kernel=rbf, nu=0.05;, score=0.049 total time=   0.0s\n"
     ]
    },
    {
     "name": "stderr",
     "output_type": "stream",
     "text": [
      "C:\\Users\\Hannah Nga\\AppData\\Local\\Temp\\ipykernel_25108\\1732734207.py:4: RuntimeWarning: invalid value encountered in scalar divide\n",
      "  return precision_score(y_true,y_pred) / fp\n",
      "C:\\Users\\Hannah Nga\\AppData\\Local\\Temp\\ipykernel_25108\\1732734207.py:4: RuntimeWarning: invalid value encountered in scalar divide\n",
      "  return precision_score(y_true,y_pred) / fp\n",
      "C:\\Users\\Hannah Nga\\AppData\\Local\\Temp\\ipykernel_25108\\1732734207.py:4: RuntimeWarning: invalid value encountered in scalar divide\n",
      "  return precision_score(y_true,y_pred) / fp\n",
      "C:\\Users\\Hannah Nga\\AppData\\Local\\Temp\\ipykernel_25108\\1732734207.py:4: RuntimeWarning: invalid value encountered in scalar divide\n",
      "  return precision_score(y_true,y_pred) / fp\n",
      "C:\\Users\\Hannah Nga\\AppData\\Local\\Temp\\ipykernel_25108\\1732734207.py:4: RuntimeWarning: invalid value encountered in scalar divide\n",
      "  return precision_score(y_true,y_pred) / fp\n",
      "C:\\Users\\Hannah Nga\\AppData\\Local\\Temp\\ipykernel_25108\\1732734207.py:4: RuntimeWarning: invalid value encountered in scalar divide\n",
      "  return precision_score(y_true,y_pred) / fp\n"
     ]
    },
    {
     "name": "stdout",
     "output_type": "stream",
     "text": [
      "[CV 5/5] END ....gamma=0.001, kernel=rbf, nu=0.05;, score=nan total time=   0.0s\n",
      "[CV 1/5] END ...gamma=0.001, kernel=rbf, nu=0.1;, score=0.020 total time=   0.0s\n",
      "[CV 2/5] END ...gamma=0.001, kernel=rbf, nu=0.1;, score=0.016 total time=   0.0s\n",
      "[CV 3/5] END ...gamma=0.001, kernel=rbf, nu=0.1;, score=0.015 total time=   0.0s\n",
      "[CV 4/5] END ...gamma=0.001, kernel=rbf, nu=0.1;, score=0.023 total time=   0.0s\n",
      "[CV 5/5] END .....gamma=0.001, kernel=rbf, nu=0.1;, score=nan total time=   0.0s\n",
      "[CV 1/5] END ...gamma=0.001, kernel=rbf, nu=0.2;, score=0.011 total time=   0.0s\n",
      "[CV 2/5] END ...gamma=0.001, kernel=rbf, nu=0.2;, score=0.008 total time=   0.0s\n",
      "[CV 3/5] END ...gamma=0.001, kernel=rbf, nu=0.2;, score=0.009 total time=   0.0s\n",
      "[CV 4/5] END ...gamma=0.001, kernel=rbf, nu=0.2;, score=0.009 total time=   0.0s\n",
      "[CV 5/5] END .....gamma=0.001, kernel=rbf, nu=0.2;, score=nan total time=   0.0s\n",
      "[CV 1/5] END ...gamma=0.001, kernel=rbf, nu=0.3;, score=0.007 total time=   0.0s\n",
      "[CV 2/5] END ...gamma=0.001, kernel=rbf, nu=0.3;, score=0.006 total time=   0.0s\n",
      "[CV 3/5] END ...gamma=0.001, kernel=rbf, nu=0.3;, score=0.006 total time=   0.0s\n"
     ]
    },
    {
     "name": "stderr",
     "output_type": "stream",
     "text": [
      "C:\\Users\\Hannah Nga\\AppData\\Local\\Temp\\ipykernel_25108\\1732734207.py:4: RuntimeWarning: invalid value encountered in scalar divide\n",
      "  return precision_score(y_true,y_pred) / fp\n"
     ]
    },
    {
     "name": "stdout",
     "output_type": "stream",
     "text": [
      "[CV 4/5] END ...gamma=0.001, kernel=rbf, nu=0.3;, score=0.006 total time=   0.0s\n",
      "[CV 5/5] END .....gamma=0.001, kernel=rbf, nu=0.3;, score=nan total time=   0.0s\n",
      "[CV 1/5] END ...gamma=0.001, kernel=rbf, nu=0.5;, score=0.004 total time=   0.0s\n"
     ]
    },
    {
     "name": "stderr",
     "output_type": "stream",
     "text": [
      "C:\\Users\\Hannah Nga\\AppData\\Local\\Temp\\ipykernel_25108\\1732734207.py:4: RuntimeWarning: invalid value encountered in scalar divide\n",
      "  return precision_score(y_true,y_pred) / fp\n"
     ]
    },
    {
     "name": "stdout",
     "output_type": "stream",
     "text": [
      "[CV 2/5] END ...gamma=0.001, kernel=rbf, nu=0.5;, score=0.004 total time=   0.0s\n",
      "[CV 3/5] END ...gamma=0.001, kernel=rbf, nu=0.5;, score=0.004 total time=   0.0s\n",
      "[CV 4/5] END ...gamma=0.001, kernel=rbf, nu=0.5;, score=0.003 total time=   0.0s\n"
     ]
    },
    {
     "name": "stderr",
     "output_type": "stream",
     "text": [
      "C:\\Users\\Hannah Nga\\AppData\\Local\\Temp\\ipykernel_25108\\1732734207.py:4: RuntimeWarning: invalid value encountered in scalar divide\n",
      "  return precision_score(y_true,y_pred) / fp\n"
     ]
    },
    {
     "name": "stdout",
     "output_type": "stream",
     "text": [
      "[CV 5/5] END .....gamma=0.001, kernel=rbf, nu=0.5;, score=nan total time=   0.0s\n",
      "[CV 1/5] END ...gamma=0.001, kernel=rbf, nu=0.7;, score=0.003 total time=   0.0s\n",
      "[CV 2/5] END ...gamma=0.001, kernel=rbf, nu=0.7;, score=0.003 total time=   0.0s\n",
      "[CV 3/5] END ...gamma=0.001, kernel=rbf, nu=0.7;, score=0.003 total time=   0.0s\n",
      "[CV 4/5] END ...gamma=0.001, kernel=rbf, nu=0.7;, score=0.003 total time=   0.0s\n"
     ]
    },
    {
     "name": "stderr",
     "output_type": "stream",
     "text": [
      "C:\\Users\\Hannah Nga\\AppData\\Local\\Temp\\ipykernel_25108\\1732734207.py:4: RuntimeWarning: invalid value encountered in scalar divide\n",
      "  return precision_score(y_true,y_pred) / fp\n"
     ]
    },
    {
     "name": "stdout",
     "output_type": "stream",
     "text": [
      "[CV 5/5] END .....gamma=0.001, kernel=rbf, nu=0.7;, score=nan total time=   0.0s\n",
      "[CV 1/5] END ...gamma=0.001, kernel=rbf, nu=0.9;, score=0.003 total time=   0.0s\n",
      "[CV 2/5] END ...gamma=0.001, kernel=rbf, nu=0.9;, score=0.003 total time=   0.0s\n",
      "[CV 3/5] END ...gamma=0.001, kernel=rbf, nu=0.9;, score=0.002 total time=   0.0s\n",
      "[CV 4/5] END ...gamma=0.001, kernel=rbf, nu=0.9;, score=0.002 total time=   0.0s\n",
      "[CV 5/5] END .....gamma=0.001, kernel=rbf, nu=0.9;, score=nan total time=   0.0s\n",
      "[CV 1/5] END gamma=0.001, kernel=poly, nu=0.001;, score=0.002 total time=   0.0s\n",
      "[CV 2/5] END gamma=0.001, kernel=poly, nu=0.001;, score=0.003 total time=   0.0s\n",
      "[CV 3/5] END gamma=0.001, kernel=poly, nu=0.001;, score=0.003 total time=   0.0s\n",
      "[CV 4/5] END gamma=0.001, kernel=poly, nu=0.001;, score=0.003 total time=   0.0s\n",
      "[CV 5/5] END ..gamma=0.001, kernel=poly, nu=0.001;, score=nan total time=   0.0s\n",
      "[CV 1/5] END gamma=0.001, kernel=poly, nu=0.005;, score=0.003 total time=   0.0s\n",
      "[CV 2/5] END gamma=0.001, kernel=poly, nu=0.005;, score=0.003 total time=   0.0s\n",
      "[CV 3/5] END gamma=0.001, kernel=poly, nu=0.005;, score=0.003 total time=   0.0s\n",
      "[CV 4/5] END gamma=0.001, kernel=poly, nu=0.005;, score=0.003 total time=   0.0s\n",
      "[CV 5/5] END ..gamma=0.001, kernel=poly, nu=0.005;, score=nan total time=   0.0s\n",
      "[CV 1/5] END .gamma=0.001, kernel=poly, nu=0.01;, score=0.015 total time=   0.0s\n",
      "[CV 2/5] END .gamma=0.001, kernel=poly, nu=0.01;, score=0.009 total time=   0.0s\n",
      "[CV 3/5] END .gamma=0.001, kernel=poly, nu=0.01;, score=0.008 total time=   0.0s\n",
      "[CV 4/5] END .gamma=0.001, kernel=poly, nu=0.01;, score=0.008 total time=   0.0s\n",
      "[CV 5/5] END ...gamma=0.001, kernel=poly, nu=0.01;, score=nan total time=   0.0s\n",
      "[CV 1/5] END .gamma=0.001, kernel=poly, nu=0.05;, score=0.010 total time=   0.0s\n",
      "[CV 2/5] END .gamma=0.001, kernel=poly, nu=0.05;, score=0.198 total time=   0.0s\n",
      "[CV 3/5] END .gamma=0.001, kernel=poly, nu=0.05;, score=0.090 total time=   0.0s\n",
      "[CV 4/5] END .gamma=0.001, kernel=poly, nu=0.05;, score=0.112 total time=   0.0s\n",
      "[CV 5/5] END ...gamma=0.001, kernel=poly, nu=0.05;, score=nan total time=   0.0s\n",
      "[CV 1/5] END ..gamma=0.001, kernel=poly, nu=0.1;, score=0.003 total time=   0.0s\n",
      "[CV 2/5] END ..gamma=0.001, kernel=poly, nu=0.1;, score=0.005 total time=   0.0s\n",
      "[CV 3/5] END ..gamma=0.001, kernel=poly, nu=0.1;, score=0.005 total time=   0.0s\n",
      "[CV 4/5] END ..gamma=0.001, kernel=poly, nu=0.1;, score=0.005 total time=   0.0s\n",
      "[CV 5/5] END ....gamma=0.001, kernel=poly, nu=0.1;, score=nan total time=   0.0s\n"
     ]
    },
    {
     "name": "stderr",
     "output_type": "stream",
     "text": [
      "C:\\Users\\Hannah Nga\\AppData\\Local\\Temp\\ipykernel_25108\\1732734207.py:4: RuntimeWarning: invalid value encountered in scalar divide\n",
      "  return precision_score(y_true,y_pred) / fp\n",
      "c:\\Users\\Hannah Nga\\.conda\\envs\\fraudenv\\lib\\site-packages\\sklearn\\metrics\\_classification.py:1509: UndefinedMetricWarning: Precision is ill-defined and being set to 0.0 due to no predicted samples. Use `zero_division` parameter to control this behavior.\n",
      "  _warn_prf(average, modifier, f\"{metric.capitalize()} is\", len(result))\n",
      "C:\\Users\\Hannah Nga\\AppData\\Local\\Temp\\ipykernel_25108\\1732734207.py:4: RuntimeWarning: invalid value encountered in scalar divide\n",
      "  return precision_score(y_true,y_pred) / fp\n",
      "C:\\Users\\Hannah Nga\\AppData\\Local\\Temp\\ipykernel_25108\\1732734207.py:4: RuntimeWarning: invalid value encountered in scalar divide\n",
      "  return precision_score(y_true,y_pred) / fp\n",
      "C:\\Users\\Hannah Nga\\AppData\\Local\\Temp\\ipykernel_25108\\1732734207.py:4: RuntimeWarning: invalid value encountered in scalar divide\n",
      "  return precision_score(y_true,y_pred) / fp\n",
      "C:\\Users\\Hannah Nga\\AppData\\Local\\Temp\\ipykernel_25108\\1732734207.py:4: RuntimeWarning: invalid value encountered in scalar divide\n",
      "  return precision_score(y_true,y_pred) / fp\n",
      "C:\\Users\\Hannah Nga\\AppData\\Local\\Temp\\ipykernel_25108\\1732734207.py:4: RuntimeWarning: invalid value encountered in scalar divide\n",
      "  return precision_score(y_true,y_pred) / fp\n",
      "C:\\Users\\Hannah Nga\\AppData\\Local\\Temp\\ipykernel_25108\\1732734207.py:4: RuntimeWarning: invalid value encountered in scalar divide\n",
      "  return precision_score(y_true,y_pred) / fp\n"
     ]
    },
    {
     "name": "stdout",
     "output_type": "stream",
     "text": [
      "[CV 1/5] END ..gamma=0.001, kernel=poly, nu=0.2;, score=0.008 total time=   0.0s\n",
      "[CV 2/5] END ..gamma=0.001, kernel=poly, nu=0.2;, score=0.011 total time=   0.0s\n",
      "[CV 3/5] END ..gamma=0.001, kernel=poly, nu=0.2;, score=0.015 total time=   0.0s\n",
      "[CV 4/5] END ..gamma=0.001, kernel=poly, nu=0.2;, score=0.013 total time=   0.0s\n",
      "[CV 5/5] END ....gamma=0.001, kernel=poly, nu=0.2;, score=nan total time=   0.0s\n",
      "[CV 1/5] END ..gamma=0.001, kernel=poly, nu=0.3;, score=0.005 total time=   0.0s\n",
      "[CV 2/5] END ..gamma=0.001, kernel=poly, nu=0.3;, score=0.003 total time=   0.0s\n",
      "[CV 3/5] END ..gamma=0.001, kernel=poly, nu=0.3;, score=0.008 total time=   0.0s\n",
      "[CV 4/5] END ..gamma=0.001, kernel=poly, nu=0.3;, score=0.007 total time=   0.0s\n",
      "[CV 5/5] END ....gamma=0.001, kernel=poly, nu=0.3;, score=nan total time=   0.0s\n",
      "[CV 1/5] END ..gamma=0.001, kernel=poly, nu=0.5;, score=0.003 total time=   0.0s\n"
     ]
    },
    {
     "name": "stderr",
     "output_type": "stream",
     "text": [
      "C:\\Users\\Hannah Nga\\AppData\\Local\\Temp\\ipykernel_25108\\1732734207.py:4: RuntimeWarning: invalid value encountered in scalar divide\n",
      "  return precision_score(y_true,y_pred) / fp\n",
      "C:\\Users\\Hannah Nga\\AppData\\Local\\Temp\\ipykernel_25108\\1732734207.py:4: RuntimeWarning: invalid value encountered in scalar divide\n",
      "  return precision_score(y_true,y_pred) / fp\n"
     ]
    },
    {
     "name": "stdout",
     "output_type": "stream",
     "text": [
      "[CV 2/5] END ..gamma=0.001, kernel=poly, nu=0.5;, score=0.003 total time=   0.0s\n",
      "[CV 3/5] END ..gamma=0.001, kernel=poly, nu=0.5;, score=0.005 total time=   0.0s\n",
      "[CV 4/5] END ..gamma=0.001, kernel=poly, nu=0.5;, score=0.005 total time=   0.0s\n",
      "[CV 5/5] END ....gamma=0.001, kernel=poly, nu=0.5;, score=nan total time=   0.0s\n",
      "[CV 1/5] END ..gamma=0.001, kernel=poly, nu=0.7;, score=0.003 total time=   0.0s\n",
      "[CV 2/5] END ..gamma=0.001, kernel=poly, nu=0.7;, score=0.008 total time=   0.0s\n",
      "[CV 3/5] END ..gamma=0.001, kernel=poly, nu=0.7;, score=0.006 total time=   0.0s\n",
      "[CV 4/5] END ..gamma=0.001, kernel=poly, nu=0.7;, score=0.006 total time=   0.0s\n",
      "[CV 5/5] END ....gamma=0.001, kernel=poly, nu=0.7;, score=nan total time=   0.0s\n",
      "[CV 1/5] END ..gamma=0.001, kernel=poly, nu=0.9;, score=0.005 total time=   0.0s\n",
      "[CV 2/5] END ..gamma=0.001, kernel=poly, nu=0.9;, score=0.006 total time=   0.0s\n"
     ]
    },
    {
     "name": "stderr",
     "output_type": "stream",
     "text": [
      "C:\\Users\\Hannah Nga\\AppData\\Local\\Temp\\ipykernel_25108\\1732734207.py:4: RuntimeWarning: invalid value encountered in scalar divide\n",
      "  return precision_score(y_true,y_pred) / fp\n"
     ]
    },
    {
     "name": "stdout",
     "output_type": "stream",
     "text": [
      "[CV 3/5] END ..gamma=0.001, kernel=poly, nu=0.9;, score=0.008 total time=   0.0s\n",
      "[CV 4/5] END ..gamma=0.001, kernel=poly, nu=0.9;, score=0.003 total time=   0.0s\n",
      "[CV 5/5] END ....gamma=0.001, kernel=poly, nu=0.9;, score=nan total time=   0.0s\n",
      "[CV 1/5] END gamma=0.001, kernel=sigmoid, nu=0.001;, score=0.003 total time=   0.0s\n",
      "[CV 2/5] END gamma=0.001, kernel=sigmoid, nu=0.001;, score=0.005 total time=   0.0s\n",
      "[CV 3/5] END gamma=0.001, kernel=sigmoid, nu=0.001;, score=0.008 total time=   0.0s\n",
      "[CV 4/5] END gamma=0.001, kernel=sigmoid, nu=0.001;, score=0.005 total time=   0.0s\n",
      "[CV 5/5] END gamma=0.001, kernel=sigmoid, nu=0.001;, score=nan total time=   0.0s\n",
      "[CV 1/5] END gamma=0.001, kernel=sigmoid, nu=0.005;, score=0.004 total time=   0.0s\n",
      "[CV 2/5] END gamma=0.001, kernel=sigmoid, nu=0.005;, score=0.004 total time=   0.0s\n",
      "[CV 3/5] END gamma=0.001, kernel=sigmoid, nu=0.005;, score=0.004 total time=   0.0s\n",
      "[CV 4/5] END gamma=0.001, kernel=sigmoid, nu=0.005;, score=0.003 total time=   0.0s\n",
      "[CV 5/5] END gamma=0.001, kernel=sigmoid, nu=0.005;, score=nan total time=   0.0s\n",
      "[CV 1/5] END gamma=0.001, kernel=sigmoid, nu=0.01;, score=0.004 total time=   0.0s\n",
      "[CV 2/5] END gamma=0.001, kernel=sigmoid, nu=0.01;, score=0.005 total time=   0.0s\n",
      "[CV 3/5] END gamma=0.001, kernel=sigmoid, nu=0.01;, score=0.005 total time=   0.0s\n",
      "[CV 4/5] END gamma=0.001, kernel=sigmoid, nu=0.01;, score=0.004 total time=   0.0s\n",
      "[CV 5/5] END gamma=0.001, kernel=sigmoid, nu=0.01;, score=nan total time=   0.0s\n",
      "[CV 1/5] END gamma=0.001, kernel=sigmoid, nu=0.05;, score=0.004 total time=   0.0s\n",
      "[CV 2/5] END gamma=0.001, kernel=sigmoid, nu=0.05;, score=0.004 total time=   0.0s\n",
      "[CV 3/5] END gamma=0.001, kernel=sigmoid, nu=0.05;, score=0.005 total time=   0.0s\n",
      "[CV 4/5] END gamma=0.001, kernel=sigmoid, nu=0.05;, score=0.003 total time=   0.0s\n",
      "[CV 5/5] END gamma=0.001, kernel=sigmoid, nu=0.05;, score=nan total time=   0.0s\n"
     ]
    },
    {
     "name": "stderr",
     "output_type": "stream",
     "text": [
      "C:\\Users\\Hannah Nga\\AppData\\Local\\Temp\\ipykernel_25108\\1732734207.py:4: RuntimeWarning: invalid value encountered in scalar divide\n",
      "  return precision_score(y_true,y_pred) / fp\n",
      "C:\\Users\\Hannah Nga\\AppData\\Local\\Temp\\ipykernel_25108\\1732734207.py:4: RuntimeWarning: invalid value encountered in scalar divide\n",
      "  return precision_score(y_true,y_pred) / fp\n",
      "C:\\Users\\Hannah Nga\\AppData\\Local\\Temp\\ipykernel_25108\\1732734207.py:4: RuntimeWarning: invalid value encountered in scalar divide\n",
      "  return precision_score(y_true,y_pred) / fp\n",
      "C:\\Users\\Hannah Nga\\AppData\\Local\\Temp\\ipykernel_25108\\1732734207.py:4: RuntimeWarning: invalid value encountered in scalar divide\n",
      "  return precision_score(y_true,y_pred) / fp\n",
      "C:\\Users\\Hannah Nga\\AppData\\Local\\Temp\\ipykernel_25108\\1732734207.py:4: RuntimeWarning: invalid value encountered in scalar divide\n",
      "  return precision_score(y_true,y_pred) / fp\n"
     ]
    },
    {
     "name": "stdout",
     "output_type": "stream",
     "text": [
      "[CV 1/5] END gamma=0.001, kernel=sigmoid, nu=0.1;, score=0.005 total time=   0.0s\n",
      "[CV 2/5] END gamma=0.001, kernel=sigmoid, nu=0.1;, score=0.006 total time=   0.0s\n",
      "[CV 3/5] END gamma=0.001, kernel=sigmoid, nu=0.1;, score=0.005 total time=   0.0s\n",
      "[CV 4/5] END gamma=0.001, kernel=sigmoid, nu=0.1;, score=0.005 total time=   0.0s\n",
      "[CV 5/5] END .gamma=0.001, kernel=sigmoid, nu=0.1;, score=nan total time=   0.0s\n",
      "[CV 1/5] END gamma=0.001, kernel=sigmoid, nu=0.2;, score=0.005 total time=   0.0s\n",
      "[CV 2/5] END gamma=0.001, kernel=sigmoid, nu=0.2;, score=0.005 total time=   0.0s\n",
      "[CV 3/5] END gamma=0.001, kernel=sigmoid, nu=0.2;, score=0.004 total time=   0.0s\n"
     ]
    },
    {
     "name": "stderr",
     "output_type": "stream",
     "text": [
      "C:\\Users\\Hannah Nga\\AppData\\Local\\Temp\\ipykernel_25108\\1732734207.py:4: RuntimeWarning: invalid value encountered in scalar divide\n",
      "  return precision_score(y_true,y_pred) / fp\n",
      "C:\\Users\\Hannah Nga\\AppData\\Local\\Temp\\ipykernel_25108\\1732734207.py:4: RuntimeWarning: invalid value encountered in scalar divide\n",
      "  return precision_score(y_true,y_pred) / fp\n"
     ]
    },
    {
     "name": "stdout",
     "output_type": "stream",
     "text": [
      "[CV 4/5] END gamma=0.001, kernel=sigmoid, nu=0.2;, score=0.005 total time=   0.0s\n",
      "[CV 5/5] END .gamma=0.001, kernel=sigmoid, nu=0.2;, score=nan total time=   0.0s\n",
      "[CV 1/5] END gamma=0.001, kernel=sigmoid, nu=0.3;, score=0.004 total time=   0.0s\n",
      "[CV 2/5] END gamma=0.001, kernel=sigmoid, nu=0.3;, score=0.005 total time=   0.0s\n",
      "[CV 3/5] END gamma=0.001, kernel=sigmoid, nu=0.3;, score=0.004 total time=   0.0s\n",
      "[CV 4/5] END gamma=0.001, kernel=sigmoid, nu=0.3;, score=0.004 total time=   0.0s\n",
      "[CV 5/5] END .gamma=0.001, kernel=sigmoid, nu=0.3;, score=nan total time=   0.0s\n",
      "[CV 1/5] END gamma=0.001, kernel=sigmoid, nu=0.5;, score=0.004 total time=   0.0s\n",
      "[CV 2/5] END gamma=0.001, kernel=sigmoid, nu=0.5;, score=0.004 total time=   0.0s\n"
     ]
    },
    {
     "name": "stderr",
     "output_type": "stream",
     "text": [
      "C:\\Users\\Hannah Nga\\AppData\\Local\\Temp\\ipykernel_25108\\1732734207.py:4: RuntimeWarning: invalid value encountered in scalar divide\n",
      "  return precision_score(y_true,y_pred) / fp\n"
     ]
    },
    {
     "name": "stdout",
     "output_type": "stream",
     "text": [
      "[CV 3/5] END gamma=0.001, kernel=sigmoid, nu=0.5;, score=0.004 total time=   0.0s\n",
      "[CV 4/5] END gamma=0.001, kernel=sigmoid, nu=0.5;, score=0.004 total time=   0.0s\n",
      "[CV 5/5] END .gamma=0.001, kernel=sigmoid, nu=0.5;, score=nan total time=   0.0s\n"
     ]
    },
    {
     "name": "stderr",
     "output_type": "stream",
     "text": [
      "C:\\Users\\Hannah Nga\\AppData\\Local\\Temp\\ipykernel_25108\\1732734207.py:4: RuntimeWarning: invalid value encountered in scalar divide\n",
      "  return precision_score(y_true,y_pred) / fp\n"
     ]
    },
    {
     "name": "stdout",
     "output_type": "stream",
     "text": [
      "[CV 1/5] END gamma=0.001, kernel=sigmoid, nu=0.7;, score=0.003 total time=   0.0s\n",
      "[CV 2/5] END gamma=0.001, kernel=sigmoid, nu=0.7;, score=0.003 total time=   0.0s\n",
      "[CV 3/5] END gamma=0.001, kernel=sigmoid, nu=0.7;, score=0.003 total time=   0.0s\n",
      "[CV 4/5] END gamma=0.001, kernel=sigmoid, nu=0.7;, score=0.003 total time=   0.0s\n",
      "[CV 5/5] END .gamma=0.001, kernel=sigmoid, nu=0.7;, score=nan total time=   0.0s\n",
      "[CV 1/5] END gamma=0.001, kernel=sigmoid, nu=0.9;, score=0.003 total time=   0.0s\n"
     ]
    },
    {
     "name": "stderr",
     "output_type": "stream",
     "text": [
      "C:\\Users\\Hannah Nga\\AppData\\Local\\Temp\\ipykernel_25108\\1732734207.py:4: RuntimeWarning: invalid value encountered in scalar divide\n",
      "  return precision_score(y_true,y_pred) / fp\n"
     ]
    },
    {
     "name": "stdout",
     "output_type": "stream",
     "text": [
      "[CV 2/5] END gamma=0.001, kernel=sigmoid, nu=0.9;, score=0.003 total time=   0.0s\n",
      "[CV 3/5] END gamma=0.001, kernel=sigmoid, nu=0.9;, score=0.003 total time=   0.0s\n",
      "[CV 4/5] END gamma=0.001, kernel=sigmoid, nu=0.9;, score=0.003 total time=   0.0s\n"
     ]
    },
    {
     "name": "stderr",
     "output_type": "stream",
     "text": [
      "C:\\Users\\Hannah Nga\\AppData\\Local\\Temp\\ipykernel_25108\\1732734207.py:4: RuntimeWarning: invalid value encountered in scalar divide\n",
      "  return precision_score(y_true,y_pred) / fp\n",
      "C:\\Users\\Hannah Nga\\AppData\\Local\\Temp\\ipykernel_25108\\1732734207.py:4: RuntimeWarning: invalid value encountered in scalar divide\n",
      "  return precision_score(y_true,y_pred) / fp\n",
      "C:\\Users\\Hannah Nga\\AppData\\Local\\Temp\\ipykernel_25108\\1732734207.py:4: RuntimeWarning: invalid value encountered in scalar divide\n",
      "  return precision_score(y_true,y_pred) / fp\n",
      "C:\\Users\\Hannah Nga\\AppData\\Local\\Temp\\ipykernel_25108\\1732734207.py:4: RuntimeWarning: invalid value encountered in scalar divide\n",
      "  return precision_score(y_true,y_pred) / fp\n",
      "C:\\Users\\Hannah Nga\\AppData\\Local\\Temp\\ipykernel_25108\\1732734207.py:4: RuntimeWarning: invalid value encountered in scalar divide\n",
      "  return precision_score(y_true,y_pred) / fp\n",
      "C:\\Users\\Hannah Nga\\AppData\\Local\\Temp\\ipykernel_25108\\1732734207.py:4: RuntimeWarning: invalid value encountered in scalar divide\n",
      "  return precision_score(y_true,y_pred) / fp\n",
      "c:\\Users\\Hannah Nga\\.conda\\envs\\fraudenv\\lib\\site-packages\\sklearn\\metrics\\_classification.py:1509: UndefinedMetricWarning: Precision is ill-defined and being set to 0.0 due to no predicted samples. Use `zero_division` parameter to control this behavior.\n",
      "  _warn_prf(average, modifier, f\"{metric.capitalize()} is\", len(result))\n",
      "C:\\Users\\Hannah Nga\\AppData\\Local\\Temp\\ipykernel_25108\\1732734207.py:4: RuntimeWarning: invalid value encountered in scalar divide\n",
      "  return precision_score(y_true,y_pred) / fp\n"
     ]
    },
    {
     "name": "stdout",
     "output_type": "stream",
     "text": [
      "[CV 5/5] END .gamma=0.001, kernel=sigmoid, nu=0.9;, score=nan total time=   0.0s\n",
      "[CV 1/5] END gamma=0.0001, kernel=linear, nu=0.001;, score=0.006 total time=   0.0s\n",
      "[CV 2/5] END gamma=0.0001, kernel=linear, nu=0.001;, score=0.005 total time=   0.0s\n",
      "[CV 3/5] END gamma=0.0001, kernel=linear, nu=0.001;, score=0.005 total time=   0.0s\n",
      "[CV 4/5] END gamma=0.0001, kernel=linear, nu=0.001;, score=0.008 total time=   0.0s\n",
      "[CV 5/5] END gamma=0.0001, kernel=linear, nu=0.001;, score=nan total time=   0.0s\n",
      "[CV 1/5] END gamma=0.0001, kernel=linear, nu=0.005;, score=0.007 total time=   0.0s\n",
      "[CV 2/5] END gamma=0.0001, kernel=linear, nu=0.005;, score=0.003 total time=   0.0s\n",
      "[CV 3/5] END gamma=0.0001, kernel=linear, nu=0.005;, score=0.010 total time=   0.0s\n",
      "[CV 4/5] END gamma=0.0001, kernel=linear, nu=0.005;, score=0.002 total time=   0.0s\n",
      "[CV 5/5] END gamma=0.0001, kernel=linear, nu=0.005;, score=nan total time=   0.0s\n",
      "[CV 1/5] END gamma=0.0001, kernel=linear, nu=0.01;, score=0.005 total time=   0.0s\n",
      "[CV 2/5] END gamma=0.0001, kernel=linear, nu=0.01;, score=0.007 total time=   0.0s\n",
      "[CV 3/5] END gamma=0.0001, kernel=linear, nu=0.01;, score=0.005 total time=   0.0s\n",
      "[CV 4/5] END gamma=0.0001, kernel=linear, nu=0.01;, score=0.008 total time=   0.0s\n",
      "[CV 5/5] END gamma=0.0001, kernel=linear, nu=0.01;, score=nan total time=   0.0s\n",
      "[CV 1/5] END gamma=0.0001, kernel=linear, nu=0.05;, score=0.005 total time=   0.0s\n",
      "[CV 2/5] END gamma=0.0001, kernel=linear, nu=0.05;, score=0.011 total time=   0.0s\n",
      "[CV 3/5] END gamma=0.0001, kernel=linear, nu=0.05;, score=0.003 total time=   0.0s\n",
      "[CV 4/5] END gamma=0.0001, kernel=linear, nu=0.05;, score=0.011 total time=   0.0s\n",
      "[CV 5/5] END gamma=0.0001, kernel=linear, nu=0.05;, score=nan total time=   0.0s\n",
      "[CV 1/5] END gamma=0.0001, kernel=linear, nu=0.1;, score=0.004 total time=   0.0s\n",
      "[CV 2/5] END gamma=0.0001, kernel=linear, nu=0.1;, score=0.004 total time=   0.0s\n",
      "[CV 3/5] END gamma=0.0001, kernel=linear, nu=0.1;, score=0.003 total time=   0.0s\n",
      "[CV 4/5] END gamma=0.0001, kernel=linear, nu=0.1;, score=0.003 total time=   0.0s\n",
      "[CV 5/5] END .gamma=0.0001, kernel=linear, nu=0.1;, score=nan total time=   0.0s\n",
      "[CV 1/5] END gamma=0.0001, kernel=linear, nu=0.2;, score=0.003 total time=   0.0s\n",
      "[CV 2/5] END gamma=0.0001, kernel=linear, nu=0.2;, score=0.003 total time=   0.0s\n",
      "[CV 3/5] END gamma=0.0001, kernel=linear, nu=0.2;, score=0.003 total time=   0.0s\n",
      "[CV 4/5] END gamma=0.0001, kernel=linear, nu=0.2;, score=0.004 total time=   0.0s\n",
      "[CV 5/5] END .gamma=0.0001, kernel=linear, nu=0.2;, score=nan total time=   0.0s\n",
      "[CV 1/5] END gamma=0.0001, kernel=linear, nu=0.3;, score=0.003 total time=   0.0s\n",
      "[CV 2/5] END gamma=0.0001, kernel=linear, nu=0.3;, score=0.003 total time=   0.0s\n",
      "[CV 3/5] END gamma=0.0001, kernel=linear, nu=0.3;, score=0.003 total time=   0.0s\n",
      "[CV 4/5] END gamma=0.0001, kernel=linear, nu=0.3;, score=0.002 total time=   0.0s\n",
      "[CV 5/5] END .gamma=0.0001, kernel=linear, nu=0.3;, score=nan total time=   0.0s\n",
      "[CV 1/5] END gamma=0.0001, kernel=linear, nu=0.5;, score=0.003 total time=   0.0s\n",
      "[CV 2/5] END gamma=0.0001, kernel=linear, nu=0.5;, score=0.003 total time=   0.0s\n",
      "[CV 3/5] END gamma=0.0001, kernel=linear, nu=0.5;, score=0.003 total time=   0.0s\n",
      "[CV 4/5] END gamma=0.0001, kernel=linear, nu=0.5;, score=0.003 total time=   0.0s\n"
     ]
    },
    {
     "name": "stderr",
     "output_type": "stream",
     "text": [
      "C:\\Users\\Hannah Nga\\AppData\\Local\\Temp\\ipykernel_25108\\1732734207.py:4: RuntimeWarning: invalid value encountered in scalar divide\n",
      "  return precision_score(y_true,y_pred) / fp\n",
      "C:\\Users\\Hannah Nga\\AppData\\Local\\Temp\\ipykernel_25108\\1732734207.py:4: RuntimeWarning: invalid value encountered in scalar divide\n",
      "  return precision_score(y_true,y_pred) / fp\n"
     ]
    },
    {
     "name": "stdout",
     "output_type": "stream",
     "text": [
      "[CV 5/5] END .gamma=0.0001, kernel=linear, nu=0.5;, score=nan total time=   0.0s\n",
      "[CV 1/5] END gamma=0.0001, kernel=linear, nu=0.7;, score=0.003 total time=   0.0s\n",
      "[CV 2/5] END gamma=0.0001, kernel=linear, nu=0.7;, score=0.003 total time=   0.0s\n",
      "[CV 3/5] END gamma=0.0001, kernel=linear, nu=0.7;, score=0.003 total time=   0.0s\n",
      "[CV 4/5] END gamma=0.0001, kernel=linear, nu=0.7;, score=0.005 total time=   0.0s\n"
     ]
    },
    {
     "name": "stderr",
     "output_type": "stream",
     "text": [
      "C:\\Users\\Hannah Nga\\AppData\\Local\\Temp\\ipykernel_25108\\1732734207.py:4: RuntimeWarning: invalid value encountered in scalar divide\n",
      "  return precision_score(y_true,y_pred) / fp\n"
     ]
    },
    {
     "name": "stdout",
     "output_type": "stream",
     "text": [
      "[CV 5/5] END .gamma=0.0001, kernel=linear, nu=0.7;, score=nan total time=   0.0s\n",
      "[CV 1/5] END gamma=0.0001, kernel=linear, nu=0.9;, score=0.004 total time=   0.0s\n",
      "[CV 2/5] END gamma=0.0001, kernel=linear, nu=0.9;, score=0.003 total time=   0.0s\n",
      "[CV 3/5] END gamma=0.0001, kernel=linear, nu=0.9;, score=0.003 total time=   0.0s\n",
      "[CV 4/5] END gamma=0.0001, kernel=linear, nu=0.9;, score=0.003 total time=   0.0s\n",
      "[CV 5/5] END .gamma=0.0001, kernel=linear, nu=0.9;, score=nan total time=   0.0s\n",
      "[CV 1/5] END ..gamma=0.0001, kernel=rbf, nu=0.001;, score=inf total time=   0.0s\n",
      "[CV 2/5] END gamma=0.0001, kernel=rbf, nu=0.001;, score=0.493 total time=   0.0s\n",
      "[CV 3/5] END gamma=0.0001, kernel=rbf, nu=0.001;, score=0.985 total time=   0.0s\n",
      "[CV 4/5] END gamma=0.0001, kernel=rbf, nu=0.001;, score=0.890 total time=   0.0s\n",
      "[CV 5/5] END ..gamma=0.0001, kernel=rbf, nu=0.001;, score=nan total time=   0.0s\n",
      "[CV 1/5] END gamma=0.0001, kernel=rbf, nu=0.005;, score=0.985 total time=   0.0s\n",
      "[CV 2/5] END gamma=0.0001, kernel=rbf, nu=0.005;, score=0.246 total time=   0.0s\n",
      "[CV 3/5] END gamma=0.0001, kernel=rbf, nu=0.005;, score=0.197 total time=   0.0s\n",
      "[CV 4/5] END gamma=0.0001, kernel=rbf, nu=0.005;, score=0.445 total time=   0.0s\n",
      "[CV 5/5] END ..gamma=0.0001, kernel=rbf, nu=0.005;, score=nan total time=   0.0s\n",
      "[CV 1/5] END .gamma=0.0001, kernel=rbf, nu=0.01;, score=0.493 total time=   0.0s\n",
      "[CV 2/5] END .gamma=0.0001, kernel=rbf, nu=0.01;, score=0.123 total time=   0.0s\n",
      "[CV 3/5] END .gamma=0.0001, kernel=rbf, nu=0.01;, score=0.098 total time=   0.0s\n",
      "[CV 4/5] END .gamma=0.0001, kernel=rbf, nu=0.01;, score=0.178 total time=   0.0s\n",
      "[CV 5/5] END ...gamma=0.0001, kernel=rbf, nu=0.01;, score=nan total time=   0.0s\n",
      "[CV 1/5] END .gamma=0.0001, kernel=rbf, nu=0.05;, score=0.041 total time=   0.0s\n",
      "[CV 2/5] END .gamma=0.0001, kernel=rbf, nu=0.05;, score=0.027 total time=   0.0s\n",
      "[CV 3/5] END .gamma=0.0001, kernel=rbf, nu=0.05;, score=0.030 total time=   0.0s\n",
      "[CV 4/5] END .gamma=0.0001, kernel=rbf, nu=0.05;, score=0.047 total time=   0.0s\n",
      "[CV 5/5] END ...gamma=0.0001, kernel=rbf, nu=0.05;, score=nan total time=   0.0s\n",
      "[CV 1/5] END ..gamma=0.0001, kernel=rbf, nu=0.1;, score=0.020 total time=   0.0s\n",
      "[CV 2/5] END ..gamma=0.0001, kernel=rbf, nu=0.1;, score=0.016 total time=   0.0s\n"
     ]
    },
    {
     "name": "stderr",
     "output_type": "stream",
     "text": [
      "C:\\Users\\Hannah Nga\\AppData\\Local\\Temp\\ipykernel_25108\\1732734207.py:4: RuntimeWarning: invalid value encountered in scalar divide\n",
      "  return precision_score(y_true,y_pred) / fp\n",
      "C:\\Users\\Hannah Nga\\AppData\\Local\\Temp\\ipykernel_25108\\1732734207.py:4: RuntimeWarning: divide by zero encountered in scalar divide\n",
      "  return precision_score(y_true,y_pred) / fp\n",
      "C:\\Users\\Hannah Nga\\AppData\\Local\\Temp\\ipykernel_25108\\1732734207.py:4: RuntimeWarning: invalid value encountered in scalar divide\n",
      "  return precision_score(y_true,y_pred) / fp\n",
      "C:\\Users\\Hannah Nga\\AppData\\Local\\Temp\\ipykernel_25108\\1732734207.py:4: RuntimeWarning: invalid value encountered in scalar divide\n",
      "  return precision_score(y_true,y_pred) / fp\n",
      "C:\\Users\\Hannah Nga\\AppData\\Local\\Temp\\ipykernel_25108\\1732734207.py:4: RuntimeWarning: invalid value encountered in scalar divide\n",
      "  return precision_score(y_true,y_pred) / fp\n",
      "C:\\Users\\Hannah Nga\\AppData\\Local\\Temp\\ipykernel_25108\\1732734207.py:4: RuntimeWarning: invalid value encountered in scalar divide\n",
      "  return precision_score(y_true,y_pred) / fp\n",
      "C:\\Users\\Hannah Nga\\AppData\\Local\\Temp\\ipykernel_25108\\1732734207.py:4: RuntimeWarning: invalid value encountered in scalar divide\n",
      "  return precision_score(y_true,y_pred) / fp\n"
     ]
    },
    {
     "name": "stdout",
     "output_type": "stream",
     "text": [
      "[CV 3/5] END ..gamma=0.0001, kernel=rbf, nu=0.1;, score=0.015 total time=   0.0s\n",
      "[CV 4/5] END ..gamma=0.0001, kernel=rbf, nu=0.1;, score=0.023 total time=   0.0s\n",
      "[CV 5/5] END ....gamma=0.0001, kernel=rbf, nu=0.1;, score=nan total time=   0.0s\n",
      "[CV 1/5] END ..gamma=0.0001, kernel=rbf, nu=0.2;, score=0.010 total time=   0.0s\n",
      "[CV 2/5] END ..gamma=0.0001, kernel=rbf, nu=0.2;, score=0.008 total time=   0.0s\n",
      "[CV 3/5] END ..gamma=0.0001, kernel=rbf, nu=0.2;, score=0.009 total time=   0.0s\n",
      "[CV 4/5] END ..gamma=0.0001, kernel=rbf, nu=0.2;, score=0.009 total time=   0.0s\n"
     ]
    },
    {
     "name": "stderr",
     "output_type": "stream",
     "text": [
      "C:\\Users\\Hannah Nga\\AppData\\Local\\Temp\\ipykernel_25108\\1732734207.py:4: RuntimeWarning: invalid value encountered in scalar divide\n",
      "  return precision_score(y_true,y_pred) / fp\n"
     ]
    },
    {
     "name": "stdout",
     "output_type": "stream",
     "text": [
      "[CV 5/5] END ....gamma=0.0001, kernel=rbf, nu=0.2;, score=nan total time=   0.0s\n",
      "[CV 1/5] END ..gamma=0.0001, kernel=rbf, nu=0.3;, score=0.007 total time=   0.0s\n",
      "[CV 2/5] END ..gamma=0.0001, kernel=rbf, nu=0.3;, score=0.006 total time=   0.0s\n",
      "[CV 3/5] END ..gamma=0.0001, kernel=rbf, nu=0.3;, score=0.006 total time=   0.0s\n",
      "[CV 4/5] END ..gamma=0.0001, kernel=rbf, nu=0.3;, score=0.006 total time=   0.0s\n"
     ]
    },
    {
     "name": "stderr",
     "output_type": "stream",
     "text": [
      "C:\\Users\\Hannah Nga\\AppData\\Local\\Temp\\ipykernel_25108\\1732734207.py:4: RuntimeWarning: invalid value encountered in scalar divide\n",
      "  return precision_score(y_true,y_pred) / fp\n"
     ]
    },
    {
     "name": "stdout",
     "output_type": "stream",
     "text": [
      "[CV 5/5] END ....gamma=0.0001, kernel=rbf, nu=0.3;, score=nan total time=   0.0s\n",
      "[CV 1/5] END ..gamma=0.0001, kernel=rbf, nu=0.5;, score=0.004 total time=   0.0s\n",
      "[CV 2/5] END ..gamma=0.0001, kernel=rbf, nu=0.5;, score=0.004 total time=   0.0s\n",
      "[CV 3/5] END ..gamma=0.0001, kernel=rbf, nu=0.5;, score=0.004 total time=   0.0s\n",
      "[CV 4/5] END ..gamma=0.0001, kernel=rbf, nu=0.5;, score=0.003 total time=   0.0s\n",
      "[CV 5/5] END ....gamma=0.0001, kernel=rbf, nu=0.5;, score=nan total time=   0.0s\n"
     ]
    },
    {
     "name": "stderr",
     "output_type": "stream",
     "text": [
      "C:\\Users\\Hannah Nga\\AppData\\Local\\Temp\\ipykernel_25108\\1732734207.py:4: RuntimeWarning: invalid value encountered in scalar divide\n",
      "  return precision_score(y_true,y_pred) / fp\n"
     ]
    },
    {
     "name": "stdout",
     "output_type": "stream",
     "text": [
      "[CV 1/5] END ..gamma=0.0001, kernel=rbf, nu=0.7;, score=0.003 total time=   0.0s\n",
      "[CV 2/5] END ..gamma=0.0001, kernel=rbf, nu=0.7;, score=0.003 total time=   0.0s\n",
      "[CV 3/5] END ..gamma=0.0001, kernel=rbf, nu=0.7;, score=0.003 total time=   0.0s\n",
      "[CV 4/5] END ..gamma=0.0001, kernel=rbf, nu=0.7;, score=0.003 total time=   0.0s\n",
      "[CV 5/5] END ....gamma=0.0001, kernel=rbf, nu=0.7;, score=nan total time=   0.0s\n",
      "[CV 1/5] END ..gamma=0.0001, kernel=rbf, nu=0.9;, score=0.003 total time=   0.0s\n"
     ]
    },
    {
     "name": "stderr",
     "output_type": "stream",
     "text": [
      "C:\\Users\\Hannah Nga\\AppData\\Local\\Temp\\ipykernel_25108\\1732734207.py:4: RuntimeWarning: invalid value encountered in scalar divide\n",
      "  return precision_score(y_true,y_pred) / fp\n"
     ]
    },
    {
     "name": "stdout",
     "output_type": "stream",
     "text": [
      "[CV 2/5] END ..gamma=0.0001, kernel=rbf, nu=0.9;, score=0.003 total time=   0.0s\n",
      "[CV 3/5] END ..gamma=0.0001, kernel=rbf, nu=0.9;, score=0.002 total time=   0.0s\n",
      "[CV 4/5] END ..gamma=0.0001, kernel=rbf, nu=0.9;, score=0.002 total time=   0.0s\n",
      "[CV 5/5] END ....gamma=0.0001, kernel=rbf, nu=0.9;, score=nan total time=   0.0s\n",
      "[CV 1/5] END gamma=0.0001, kernel=poly, nu=0.001;, score=0.002 total time=   0.0s\n",
      "[CV 2/5] END gamma=0.0001, kernel=poly, nu=0.001;, score=0.003 total time=   0.0s\n",
      "[CV 3/5] END gamma=0.0001, kernel=poly, nu=0.001;, score=0.003 total time=   0.0s\n",
      "[CV 4/5] END gamma=0.0001, kernel=poly, nu=0.001;, score=0.003 total time=   0.0s\n",
      "[CV 5/5] END .gamma=0.0001, kernel=poly, nu=0.001;, score=nan total time=   0.0s\n",
      "[CV 1/5] END gamma=0.0001, kernel=poly, nu=0.005;, score=0.003 total time=   0.0s\n",
      "[CV 2/5] END gamma=0.0001, kernel=poly, nu=0.005;, score=0.003 total time=   0.0s\n",
      "[CV 3/5] END gamma=0.0001, kernel=poly, nu=0.005;, score=0.003 total time=   0.0s\n",
      "[CV 4/5] END gamma=0.0001, kernel=poly, nu=0.005;, score=0.003 total time=   0.0s\n",
      "[CV 5/5] END .gamma=0.0001, kernel=poly, nu=0.005;, score=nan total time=   0.0s\n",
      "[CV 1/5] END gamma=0.0001, kernel=poly, nu=0.01;, score=0.015 total time=   0.0s\n",
      "[CV 2/5] END gamma=0.0001, kernel=poly, nu=0.01;, score=0.009 total time=   0.0s\n",
      "[CV 3/5] END gamma=0.0001, kernel=poly, nu=0.01;, score=0.008 total time=   0.0s\n",
      "[CV 4/5] END gamma=0.0001, kernel=poly, nu=0.01;, score=0.008 total time=   0.0s\n",
      "[CV 5/5] END ..gamma=0.0001, kernel=poly, nu=0.01;, score=nan total time=   0.0s\n",
      "[CV 1/5] END gamma=0.0001, kernel=poly, nu=0.05;, score=0.009 total time=   0.0s\n",
      "[CV 2/5] END gamma=0.0001, kernel=poly, nu=0.05;, score=0.141 total time=   0.0s\n",
      "[CV 3/5] END gamma=0.0001, kernel=poly, nu=0.05;, score=0.066 total time=   0.0s\n",
      "[CV 4/5] END gamma=0.0001, kernel=poly, nu=0.05;, score=0.064 total time=   0.0s\n",
      "[CV 5/5] END ..gamma=0.0001, kernel=poly, nu=0.05;, score=nan total time=   0.0s\n",
      "[CV 1/5] END .gamma=0.0001, kernel=poly, nu=0.1;, score=0.003 total time=   0.0s\n",
      "[CV 2/5] END .gamma=0.0001, kernel=poly, nu=0.1;, score=0.005 total time=   0.0s\n",
      "[CV 3/5] END .gamma=0.0001, kernel=poly, nu=0.1;, score=0.005 total time=   0.0s\n",
      "[CV 4/5] END .gamma=0.0001, kernel=poly, nu=0.1;, score=0.005 total time=   0.0s\n"
     ]
    },
    {
     "name": "stderr",
     "output_type": "stream",
     "text": [
      "C:\\Users\\Hannah Nga\\AppData\\Local\\Temp\\ipykernel_25108\\1732734207.py:4: RuntimeWarning: invalid value encountered in scalar divide\n",
      "  return precision_score(y_true,y_pred) / fp\n",
      "c:\\Users\\Hannah Nga\\.conda\\envs\\fraudenv\\lib\\site-packages\\sklearn\\metrics\\_classification.py:1509: UndefinedMetricWarning: Precision is ill-defined and being set to 0.0 due to no predicted samples. Use `zero_division` parameter to control this behavior.\n",
      "  _warn_prf(average, modifier, f\"{metric.capitalize()} is\", len(result))\n",
      "C:\\Users\\Hannah Nga\\AppData\\Local\\Temp\\ipykernel_25108\\1732734207.py:4: RuntimeWarning: invalid value encountered in scalar divide\n",
      "  return precision_score(y_true,y_pred) / fp\n",
      "C:\\Users\\Hannah Nga\\AppData\\Local\\Temp\\ipykernel_25108\\1732734207.py:4: RuntimeWarning: invalid value encountered in scalar divide\n",
      "  return precision_score(y_true,y_pred) / fp\n",
      "C:\\Users\\Hannah Nga\\AppData\\Local\\Temp\\ipykernel_25108\\1732734207.py:4: RuntimeWarning: invalid value encountered in scalar divide\n",
      "  return precision_score(y_true,y_pred) / fp\n",
      "C:\\Users\\Hannah Nga\\AppData\\Local\\Temp\\ipykernel_25108\\1732734207.py:4: RuntimeWarning: invalid value encountered in scalar divide\n",
      "  return precision_score(y_true,y_pred) / fp\n",
      "C:\\Users\\Hannah Nga\\AppData\\Local\\Temp\\ipykernel_25108\\1732734207.py:4: RuntimeWarning: invalid value encountered in scalar divide\n",
      "  return precision_score(y_true,y_pred) / fp\n",
      "C:\\Users\\Hannah Nga\\AppData\\Local\\Temp\\ipykernel_25108\\1732734207.py:4: RuntimeWarning: invalid value encountered in scalar divide\n",
      "  return precision_score(y_true,y_pred) / fp\n"
     ]
    },
    {
     "name": "stdout",
     "output_type": "stream",
     "text": [
      "[CV 5/5] END ...gamma=0.0001, kernel=poly, nu=0.1;, score=nan total time=   0.0s\n",
      "[CV 1/5] END .gamma=0.0001, kernel=poly, nu=0.2;, score=0.025 total time=   0.0s\n",
      "[CV 2/5] END .gamma=0.0001, kernel=poly, nu=0.2;, score=0.013 total time=   0.0s\n",
      "[CV 3/5] END .gamma=0.0001, kernel=poly, nu=0.2;, score=0.012 total time=   0.0s\n",
      "[CV 4/5] END .gamma=0.0001, kernel=poly, nu=0.2;, score=0.011 total time=   0.0s\n",
      "[CV 5/5] END ...gamma=0.0001, kernel=poly, nu=0.2;, score=nan total time=   0.0s\n",
      "[CV 1/5] END .gamma=0.0001, kernel=poly, nu=0.3;, score=0.003 total time=   0.0s\n",
      "[CV 2/5] END .gamma=0.0001, kernel=poly, nu=0.3;, score=0.003 total time=   0.0s\n",
      "[CV 3/5] END .gamma=0.0001, kernel=poly, nu=0.3;, score=0.012 total time=   0.0s\n",
      "[CV 4/5] END .gamma=0.0001, kernel=poly, nu=0.3;, score=0.011 total time=   0.0s\n",
      "[CV 5/5] END ...gamma=0.0001, kernel=poly, nu=0.3;, score=nan total time=   0.0s\n",
      "[CV 1/5] END .gamma=0.0001, kernel=poly, nu=0.5;, score=0.000 total time=   0.0s\n"
     ]
    },
    {
     "name": "stderr",
     "output_type": "stream",
     "text": [
      "C:\\Users\\Hannah Nga\\AppData\\Local\\Temp\\ipykernel_25108\\1732734207.py:4: RuntimeWarning: invalid value encountered in scalar divide\n",
      "  return precision_score(y_true,y_pred) / fp\n",
      "c:\\Users\\Hannah Nga\\.conda\\envs\\fraudenv\\lib\\site-packages\\sklearn\\metrics\\_classification.py:1509: UndefinedMetricWarning: Precision is ill-defined and being set to 0.0 due to no predicted samples. Use `zero_division` parameter to control this behavior.\n",
      "  _warn_prf(average, modifier, f\"{metric.capitalize()} is\", len(result))\n",
      "C:\\Users\\Hannah Nga\\AppData\\Local\\Temp\\ipykernel_25108\\1732734207.py:4: RuntimeWarning: invalid value encountered in scalar divide\n",
      "  return precision_score(y_true,y_pred) / fp\n"
     ]
    },
    {
     "name": "stdout",
     "output_type": "stream",
     "text": [
      "[CV 2/5] END .gamma=0.0001, kernel=poly, nu=0.5;, score=0.035 total time=   0.0s\n",
      "[CV 3/5] END .gamma=0.0001, kernel=poly, nu=0.5;, score=0.005 total time=   0.0s\n",
      "[CV 4/5] END .gamma=0.0001, kernel=poly, nu=0.5;, score=0.005 total time=   0.0s\n",
      "[CV 5/5] END ...gamma=0.0001, kernel=poly, nu=0.5;, score=nan total time=   0.0s\n",
      "[CV 1/5] END .gamma=0.0001, kernel=poly, nu=0.7;, score=0.003 total time=   0.0s\n",
      "[CV 2/5] END .gamma=0.0001, kernel=poly, nu=0.7;, score=0.005 total time=   0.0s\n",
      "[CV 3/5] END .gamma=0.0001, kernel=poly, nu=0.7;, score=0.005 total time=   0.0s\n",
      "[CV 4/5] END .gamma=0.0001, kernel=poly, nu=0.7;, score=0.004 total time=   0.0s\n",
      "[CV 5/5] END ...gamma=0.0001, kernel=poly, nu=0.7;, score=nan total time=   0.0s\n",
      "[CV 1/5] END .gamma=0.0001, kernel=poly, nu=0.9;, score=0.004 total time=   0.0s\n",
      "[CV 2/5] END .gamma=0.0001, kernel=poly, nu=0.9;, score=0.006 total time=   0.0s\n"
     ]
    },
    {
     "name": "stderr",
     "output_type": "stream",
     "text": [
      "C:\\Users\\Hannah Nga\\AppData\\Local\\Temp\\ipykernel_25108\\1732734207.py:4: RuntimeWarning: invalid value encountered in scalar divide\n",
      "  return precision_score(y_true,y_pred) / fp\n"
     ]
    },
    {
     "name": "stdout",
     "output_type": "stream",
     "text": [
      "[CV 3/5] END .gamma=0.0001, kernel=poly, nu=0.9;, score=0.005 total time=   0.0s\n",
      "[CV 4/5] END .gamma=0.0001, kernel=poly, nu=0.9;, score=0.004 total time=   0.0s\n",
      "[CV 5/5] END ...gamma=0.0001, kernel=poly, nu=0.9;, score=nan total time=   0.0s\n",
      "[CV 1/5] END gamma=0.0001, kernel=sigmoid, nu=0.001;, score=0.004 total time=   0.0s\n",
      "[CV 2/5] END gamma=0.0001, kernel=sigmoid, nu=0.001;, score=0.003 total time=   0.0s\n",
      "[CV 3/5] END gamma=0.0001, kernel=sigmoid, nu=0.001;, score=0.004 total time=   0.0s\n",
      "[CV 4/5] END gamma=0.0001, kernel=sigmoid, nu=0.001;, score=0.003 total time=   0.0s\n",
      "[CV 5/5] END gamma=0.0001, kernel=sigmoid, nu=0.001;, score=nan total time=   0.0s\n",
      "[CV 1/5] END gamma=0.0001, kernel=sigmoid, nu=0.005;, score=0.005 total time=   0.0s\n",
      "[CV 2/5] END gamma=0.0001, kernel=sigmoid, nu=0.005;, score=0.003 total time=   0.0s\n",
      "[CV 3/5] END gamma=0.0001, kernel=sigmoid, nu=0.005;, score=0.003 total time=   0.0s\n",
      "[CV 4/5] END gamma=0.0001, kernel=sigmoid, nu=0.005;, score=0.003 total time=   0.0s\n",
      "[CV 5/5] END gamma=0.0001, kernel=sigmoid, nu=0.005;, score=nan total time=   0.0s\n",
      "[CV 1/5] END gamma=0.0001, kernel=sigmoid, nu=0.01;, score=0.003 total time=   0.0s\n",
      "[CV 2/5] END gamma=0.0001, kernel=sigmoid, nu=0.01;, score=0.003 total time=   0.0s\n",
      "[CV 3/5] END gamma=0.0001, kernel=sigmoid, nu=0.01;, score=0.003 total time=   0.0s\n",
      "[CV 4/5] END gamma=0.0001, kernel=sigmoid, nu=0.01;, score=0.003 total time=   0.0s\n",
      "[CV 5/5] END gamma=0.0001, kernel=sigmoid, nu=0.01;, score=nan total time=   0.0s\n",
      "[CV 1/5] END gamma=0.0001, kernel=sigmoid, nu=0.05;, score=0.004 total time=   0.0s\n",
      "[CV 2/5] END gamma=0.0001, kernel=sigmoid, nu=0.05;, score=0.003 total time=   0.0s\n",
      "[CV 3/5] END gamma=0.0001, kernel=sigmoid, nu=0.05;, score=0.003 total time=   0.0s\n",
      "[CV 4/5] END gamma=0.0001, kernel=sigmoid, nu=0.05;, score=0.003 total time=   0.0s\n",
      "[CV 5/5] END gamma=0.0001, kernel=sigmoid, nu=0.05;, score=nan total time=   0.0s\n"
     ]
    },
    {
     "name": "stderr",
     "output_type": "stream",
     "text": [
      "C:\\Users\\Hannah Nga\\AppData\\Local\\Temp\\ipykernel_25108\\1732734207.py:4: RuntimeWarning: invalid value encountered in scalar divide\n",
      "  return precision_score(y_true,y_pred) / fp\n",
      "C:\\Users\\Hannah Nga\\AppData\\Local\\Temp\\ipykernel_25108\\1732734207.py:4: RuntimeWarning: invalid value encountered in scalar divide\n",
      "  return precision_score(y_true,y_pred) / fp\n",
      "c:\\Users\\Hannah Nga\\.conda\\envs\\fraudenv\\lib\\site-packages\\sklearn\\metrics\\_classification.py:1509: UndefinedMetricWarning: Precision is ill-defined and being set to 0.0 due to no predicted samples. Use `zero_division` parameter to control this behavior.\n",
      "  _warn_prf(average, modifier, f\"{metric.capitalize()} is\", len(result))\n",
      "C:\\Users\\Hannah Nga\\AppData\\Local\\Temp\\ipykernel_25108\\1732734207.py:4: RuntimeWarning: invalid value encountered in scalar divide\n",
      "  return precision_score(y_true,y_pred) / fp\n",
      "C:\\Users\\Hannah Nga\\AppData\\Local\\Temp\\ipykernel_25108\\1732734207.py:4: RuntimeWarning: invalid value encountered in scalar divide\n",
      "  return precision_score(y_true,y_pred) / fp\n",
      "C:\\Users\\Hannah Nga\\AppData\\Local\\Temp\\ipykernel_25108\\1732734207.py:4: RuntimeWarning: invalid value encountered in scalar divide\n",
      "  return precision_score(y_true,y_pred) / fp\n",
      "C:\\Users\\Hannah Nga\\AppData\\Local\\Temp\\ipykernel_25108\\1732734207.py:4: RuntimeWarning: invalid value encountered in scalar divide\n",
      "  return precision_score(y_true,y_pred) / fp\n"
     ]
    },
    {
     "name": "stdout",
     "output_type": "stream",
     "text": [
      "[CV 1/5] END gamma=0.0001, kernel=sigmoid, nu=0.1;, score=0.003 total time=   0.0s\n",
      "[CV 2/5] END gamma=0.0001, kernel=sigmoid, nu=0.1;, score=0.003 total time=   0.0s\n",
      "[CV 3/5] END gamma=0.0001, kernel=sigmoid, nu=0.1;, score=0.003 total time=   0.0s\n",
      "[CV 4/5] END gamma=0.0001, kernel=sigmoid, nu=0.1;, score=0.003 total time=   0.0s\n",
      "[CV 5/5] END gamma=0.0001, kernel=sigmoid, nu=0.1;, score=nan total time=   0.0s\n",
      "[CV 1/5] END gamma=0.0001, kernel=sigmoid, nu=0.2;, score=0.003 total time=   0.0s\n",
      "[CV 2/5] END gamma=0.0001, kernel=sigmoid, nu=0.2;, score=0.003 total time=   0.0s\n",
      "[CV 3/5] END gamma=0.0001, kernel=sigmoid, nu=0.2;, score=0.003 total time=   0.0s\n",
      "[CV 4/5] END gamma=0.0001, kernel=sigmoid, nu=0.2;, score=0.003 total time=   0.0s\n",
      "[CV 5/5] END gamma=0.0001, kernel=sigmoid, nu=0.2;, score=nan total time=   0.0s\n",
      "[CV 1/5] END gamma=0.0001, kernel=sigmoid, nu=0.3;, score=0.003 total time=   0.0s\n"
     ]
    },
    {
     "name": "stderr",
     "output_type": "stream",
     "text": [
      "C:\\Users\\Hannah Nga\\AppData\\Local\\Temp\\ipykernel_25108\\1732734207.py:4: RuntimeWarning: invalid value encountered in scalar divide\n",
      "  return precision_score(y_true,y_pred) / fp\n",
      "c:\\Users\\Hannah Nga\\.conda\\envs\\fraudenv\\lib\\site-packages\\sklearn\\metrics\\_classification.py:1509: UndefinedMetricWarning: Precision is ill-defined and being set to 0.0 due to no predicted samples. Use `zero_division` parameter to control this behavior.\n",
      "  _warn_prf(average, modifier, f\"{metric.capitalize()} is\", len(result))\n",
      "C:\\Users\\Hannah Nga\\AppData\\Local\\Temp\\ipykernel_25108\\1732734207.py:4: RuntimeWarning: invalid value encountered in scalar divide\n",
      "  return precision_score(y_true,y_pred) / fp\n"
     ]
    },
    {
     "name": "stdout",
     "output_type": "stream",
     "text": [
      "[CV 2/5] END gamma=0.0001, kernel=sigmoid, nu=0.3;, score=0.003 total time=   0.0s\n",
      "[CV 3/5] END gamma=0.0001, kernel=sigmoid, nu=0.3;, score=0.004 total time=   0.0s\n",
      "[CV 4/5] END gamma=0.0001, kernel=sigmoid, nu=0.3;, score=0.003 total time=   0.0s\n",
      "[CV 5/5] END gamma=0.0001, kernel=sigmoid, nu=0.3;, score=nan total time=   0.0s\n",
      "[CV 1/5] END gamma=0.0001, kernel=sigmoid, nu=0.5;, score=0.003 total time=   0.0s\n",
      "[CV 2/5] END gamma=0.0001, kernel=sigmoid, nu=0.5;, score=0.003 total time=   0.0s\n",
      "[CV 3/5] END gamma=0.0001, kernel=sigmoid, nu=0.5;, score=0.003 total time=   0.0s\n",
      "[CV 4/5] END gamma=0.0001, kernel=sigmoid, nu=0.5;, score=0.003 total time=   0.0s\n",
      "[CV 5/5] END gamma=0.0001, kernel=sigmoid, nu=0.5;, score=nan total time=   0.0s\n"
     ]
    },
    {
     "name": "stderr",
     "output_type": "stream",
     "text": [
      "C:\\Users\\Hannah Nga\\AppData\\Local\\Temp\\ipykernel_25108\\1732734207.py:4: RuntimeWarning: invalid value encountered in scalar divide\n",
      "  return precision_score(y_true,y_pred) / fp\n"
     ]
    },
    {
     "name": "stdout",
     "output_type": "stream",
     "text": [
      "[CV 1/5] END gamma=0.0001, kernel=sigmoid, nu=0.7;, score=0.004 total time=   0.0s\n",
      "[CV 2/5] END gamma=0.0001, kernel=sigmoid, nu=0.7;, score=0.003 total time=   0.0s\n",
      "[CV 3/5] END gamma=0.0001, kernel=sigmoid, nu=0.7;, score=0.003 total time=   0.0s\n",
      "[CV 4/5] END gamma=0.0001, kernel=sigmoid, nu=0.7;, score=0.003 total time=   0.0s\n",
      "[CV 5/5] END gamma=0.0001, kernel=sigmoid, nu=0.7;, score=nan total time=   0.0s\n",
      "[CV 1/5] END gamma=0.0001, kernel=sigmoid, nu=0.9;, score=0.003 total time=   0.0s\n"
     ]
    },
    {
     "name": "stderr",
     "output_type": "stream",
     "text": [
      "c:\\Users\\Hannah Nga\\.conda\\envs\\fraudenv\\lib\\site-packages\\sklearn\\metrics\\_classification.py:1509: UndefinedMetricWarning: Precision is ill-defined and being set to 0.0 due to no predicted samples. Use `zero_division` parameter to control this behavior.\n",
      "  _warn_prf(average, modifier, f\"{metric.capitalize()} is\", len(result))\n",
      "C:\\Users\\Hannah Nga\\AppData\\Local\\Temp\\ipykernel_25108\\1732734207.py:4: RuntimeWarning: invalid value encountered in scalar divide\n",
      "  return precision_score(y_true,y_pred) / fp\n"
     ]
    },
    {
     "name": "stdout",
     "output_type": "stream",
     "text": [
      "[CV 2/5] END gamma=0.0001, kernel=sigmoid, nu=0.9;, score=0.003 total time=   0.0s\n",
      "[CV 3/5] END gamma=0.0001, kernel=sigmoid, nu=0.9;, score=0.004 total time=   0.0s\n",
      "[CV 4/5] END gamma=0.0001, kernel=sigmoid, nu=0.9;, score=0.003 total time=   0.0s\n"
     ]
    },
    {
     "name": "stderr",
     "output_type": "stream",
     "text": [
      "C:\\Users\\Hannah Nga\\AppData\\Local\\Temp\\ipykernel_25108\\1732734207.py:4: RuntimeWarning: invalid value encountered in scalar divide\n",
      "  return precision_score(y_true,y_pred) / fp\n",
      "C:\\Users\\Hannah Nga\\AppData\\Local\\Temp\\ipykernel_25108\\1732734207.py:4: RuntimeWarning: invalid value encountered in scalar divide\n",
      "  return precision_score(y_true,y_pred) / fp\n",
      "C:\\Users\\Hannah Nga\\AppData\\Local\\Temp\\ipykernel_25108\\1732734207.py:4: RuntimeWarning: invalid value encountered in scalar divide\n",
      "  return precision_score(y_true,y_pred) / fp\n",
      "C:\\Users\\Hannah Nga\\AppData\\Local\\Temp\\ipykernel_25108\\1732734207.py:4: RuntimeWarning: invalid value encountered in scalar divide\n",
      "  return precision_score(y_true,y_pred) / fp\n",
      "C:\\Users\\Hannah Nga\\AppData\\Local\\Temp\\ipykernel_25108\\1732734207.py:4: RuntimeWarning: invalid value encountered in scalar divide\n",
      "  return precision_score(y_true,y_pred) / fp\n",
      "C:\\Users\\Hannah Nga\\AppData\\Local\\Temp\\ipykernel_25108\\1732734207.py:4: RuntimeWarning: invalid value encountered in scalar divide\n",
      "  return precision_score(y_true,y_pred) / fp\n",
      "c:\\Users\\Hannah Nga\\.conda\\envs\\fraudenv\\lib\\site-packages\\sklearn\\metrics\\_classification.py:1509: UndefinedMetricWarning: Precision is ill-defined and being set to 0.0 due to no predicted samples. Use `zero_division` parameter to control this behavior.\n",
      "  _warn_prf(average, modifier, f\"{metric.capitalize()} is\", len(result))\n",
      "C:\\Users\\Hannah Nga\\AppData\\Local\\Temp\\ipykernel_25108\\1732734207.py:4: RuntimeWarning: invalid value encountered in scalar divide\n",
      "  return precision_score(y_true,y_pred) / fp\n"
     ]
    },
    {
     "name": "stdout",
     "output_type": "stream",
     "text": [
      "[CV 5/5] END gamma=0.0001, kernel=sigmoid, nu=0.9;, score=nan total time=   0.0s\n",
      "[CV 1/5] END gamma=1.0, kernel=linear, nu=0.001;, score=0.006 total time=   0.0s\n",
      "[CV 2/5] END gamma=1.0, kernel=linear, nu=0.001;, score=0.005 total time=   0.0s\n",
      "[CV 3/5] END gamma=1.0, kernel=linear, nu=0.001;, score=0.005 total time=   0.0s\n",
      "[CV 4/5] END gamma=1.0, kernel=linear, nu=0.001;, score=0.008 total time=   0.0s\n",
      "[CV 5/5] END ..gamma=1.0, kernel=linear, nu=0.001;, score=nan total time=   0.0s\n",
      "[CV 1/5] END gamma=1.0, kernel=linear, nu=0.005;, score=0.007 total time=   0.0s\n",
      "[CV 2/5] END gamma=1.0, kernel=linear, nu=0.005;, score=0.003 total time=   0.0s\n",
      "[CV 3/5] END gamma=1.0, kernel=linear, nu=0.005;, score=0.010 total time=   0.0s\n",
      "[CV 4/5] END gamma=1.0, kernel=linear, nu=0.005;, score=0.002 total time=   0.0s\n",
      "[CV 5/5] END ..gamma=1.0, kernel=linear, nu=0.005;, score=nan total time=   0.0s\n",
      "[CV 1/5] END .gamma=1.0, kernel=linear, nu=0.01;, score=0.005 total time=   0.0s\n",
      "[CV 2/5] END .gamma=1.0, kernel=linear, nu=0.01;, score=0.007 total time=   0.0s\n",
      "[CV 3/5] END .gamma=1.0, kernel=linear, nu=0.01;, score=0.005 total time=   0.0s\n",
      "[CV 4/5] END .gamma=1.0, kernel=linear, nu=0.01;, score=0.008 total time=   0.0s\n",
      "[CV 5/5] END ...gamma=1.0, kernel=linear, nu=0.01;, score=nan total time=   0.0s\n",
      "[CV 1/5] END .gamma=1.0, kernel=linear, nu=0.05;, score=0.005 total time=   0.0s\n",
      "[CV 2/5] END .gamma=1.0, kernel=linear, nu=0.05;, score=0.011 total time=   0.0s\n",
      "[CV 3/5] END .gamma=1.0, kernel=linear, nu=0.05;, score=0.003 total time=   0.0s\n",
      "[CV 4/5] END .gamma=1.0, kernel=linear, nu=0.05;, score=0.011 total time=   0.0s\n",
      "[CV 5/5] END ...gamma=1.0, kernel=linear, nu=0.05;, score=nan total time=   0.0s\n",
      "[CV 1/5] END ..gamma=1.0, kernel=linear, nu=0.1;, score=0.004 total time=   0.0s\n",
      "[CV 2/5] END ..gamma=1.0, kernel=linear, nu=0.1;, score=0.004 total time=   0.0s\n",
      "[CV 3/5] END ..gamma=1.0, kernel=linear, nu=0.1;, score=0.003 total time=   0.0s\n",
      "[CV 4/5] END ..gamma=1.0, kernel=linear, nu=0.1;, score=0.003 total time=   0.0s\n",
      "[CV 5/5] END ....gamma=1.0, kernel=linear, nu=0.1;, score=nan total time=   0.0s\n",
      "[CV 1/5] END ..gamma=1.0, kernel=linear, nu=0.2;, score=0.003 total time=   0.0s\n",
      "[CV 2/5] END ..gamma=1.0, kernel=linear, nu=0.2;, score=0.003 total time=   0.0s\n",
      "[CV 3/5] END ..gamma=1.0, kernel=linear, nu=0.2;, score=0.003 total time=   0.0s\n",
      "[CV 4/5] END ..gamma=1.0, kernel=linear, nu=0.2;, score=0.004 total time=   0.0s\n",
      "[CV 5/5] END ....gamma=1.0, kernel=linear, nu=0.2;, score=nan total time=   0.0s\n",
      "[CV 1/5] END ..gamma=1.0, kernel=linear, nu=0.3;, score=0.003 total time=   0.0s\n",
      "[CV 2/5] END ..gamma=1.0, kernel=linear, nu=0.3;, score=0.003 total time=   0.0s\n",
      "[CV 3/5] END ..gamma=1.0, kernel=linear, nu=0.3;, score=0.003 total time=   0.0s\n",
      "[CV 4/5] END ..gamma=1.0, kernel=linear, nu=0.3;, score=0.002 total time=   0.0s\n",
      "[CV 5/5] END ....gamma=1.0, kernel=linear, nu=0.3;, score=nan total time=   0.0s\n",
      "[CV 1/5] END ..gamma=1.0, kernel=linear, nu=0.5;, score=0.003 total time=   0.0s\n",
      "[CV 2/5] END ..gamma=1.0, kernel=linear, nu=0.5;, score=0.003 total time=   0.0s\n",
      "[CV 3/5] END ..gamma=1.0, kernel=linear, nu=0.5;, score=0.003 total time=   0.0s\n",
      "[CV 4/5] END ..gamma=1.0, kernel=linear, nu=0.5;, score=0.003 total time=   0.0s\n",
      "[CV 5/5] END ....gamma=1.0, kernel=linear, nu=0.5;, score=nan total time=   0.0s\n"
     ]
    },
    {
     "name": "stderr",
     "output_type": "stream",
     "text": [
      "C:\\Users\\Hannah Nga\\AppData\\Local\\Temp\\ipykernel_25108\\1732734207.py:4: RuntimeWarning: invalid value encountered in scalar divide\n",
      "  return precision_score(y_true,y_pred) / fp\n",
      "C:\\Users\\Hannah Nga\\AppData\\Local\\Temp\\ipykernel_25108\\1732734207.py:4: RuntimeWarning: invalid value encountered in scalar divide\n",
      "  return precision_score(y_true,y_pred) / fp\n"
     ]
    },
    {
     "name": "stdout",
     "output_type": "stream",
     "text": [
      "[CV 1/5] END ..gamma=1.0, kernel=linear, nu=0.7;, score=0.003 total time=   0.0s\n",
      "[CV 2/5] END ..gamma=1.0, kernel=linear, nu=0.7;, score=0.003 total time=   0.0s\n",
      "[CV 3/5] END ..gamma=1.0, kernel=linear, nu=0.7;, score=0.003 total time=   0.0s\n",
      "[CV 4/5] END ..gamma=1.0, kernel=linear, nu=0.7;, score=0.005 total time=   0.0s\n",
      "[CV 5/5] END ....gamma=1.0, kernel=linear, nu=0.7;, score=nan total time=   0.0s\n"
     ]
    },
    {
     "name": "stderr",
     "output_type": "stream",
     "text": [
      "C:\\Users\\Hannah Nga\\AppData\\Local\\Temp\\ipykernel_25108\\1732734207.py:4: RuntimeWarning: invalid value encountered in scalar divide\n",
      "  return precision_score(y_true,y_pred) / fp\n"
     ]
    },
    {
     "name": "stdout",
     "output_type": "stream",
     "text": [
      "[CV 1/5] END ..gamma=1.0, kernel=linear, nu=0.9;, score=0.004 total time=   0.0s\n",
      "[CV 2/5] END ..gamma=1.0, kernel=linear, nu=0.9;, score=0.003 total time=   0.0s\n",
      "[CV 3/5] END ..gamma=1.0, kernel=linear, nu=0.9;, score=0.003 total time=   0.0s\n",
      "[CV 4/5] END ..gamma=1.0, kernel=linear, nu=0.9;, score=0.003 total time=   0.0s\n"
     ]
    },
    {
     "name": "stderr",
     "output_type": "stream",
     "text": [
      "C:\\Users\\Hannah Nga\\AppData\\Local\\Temp\\ipykernel_25108\\1732734207.py:4: RuntimeWarning: invalid value encountered in scalar divide\n",
      "  return precision_score(y_true,y_pred) / fp\n"
     ]
    },
    {
     "name": "stdout",
     "output_type": "stream",
     "text": [
      "[CV 5/5] END ....gamma=1.0, kernel=linear, nu=0.9;, score=nan total time=   0.0s\n",
      "[CV 1/5] END ...gamma=1.0, kernel=rbf, nu=0.001;, score=0.003 total time=   0.0s\n",
      "[CV 2/5] END ...gamma=1.0, kernel=rbf, nu=0.001;, score=0.003 total time=   0.0s\n",
      "[CV 3/5] END ...gamma=1.0, kernel=rbf, nu=0.001;, score=0.003 total time=   0.0s\n",
      "[CV 4/5] END ...gamma=1.0, kernel=rbf, nu=0.001;, score=0.002 total time=   0.0s\n",
      "[CV 5/5] END .....gamma=1.0, kernel=rbf, nu=0.001;, score=nan total time=   0.0s\n"
     ]
    },
    {
     "name": "stderr",
     "output_type": "stream",
     "text": [
      "C:\\Users\\Hannah Nga\\AppData\\Local\\Temp\\ipykernel_25108\\1732734207.py:4: RuntimeWarning: invalid value encountered in scalar divide\n",
      "  return precision_score(y_true,y_pred) / fp\n"
     ]
    },
    {
     "name": "stdout",
     "output_type": "stream",
     "text": [
      "[CV 1/5] END ...gamma=1.0, kernel=rbf, nu=0.005;, score=0.003 total time=   0.0s\n",
      "[CV 2/5] END ...gamma=1.0, kernel=rbf, nu=0.005;, score=0.003 total time=   0.0s\n",
      "[CV 3/5] END ...gamma=1.0, kernel=rbf, nu=0.005;, score=0.003 total time=   0.0s\n",
      "[CV 4/5] END ...gamma=1.0, kernel=rbf, nu=0.005;, score=0.002 total time=   0.0s\n",
      "[CV 5/5] END .....gamma=1.0, kernel=rbf, nu=0.005;, score=nan total time=   0.0s\n",
      "[CV 1/5] END ....gamma=1.0, kernel=rbf, nu=0.01;, score=0.003 total time=   0.0s\n"
     ]
    },
    {
     "name": "stderr",
     "output_type": "stream",
     "text": [
      "C:\\Users\\Hannah Nga\\AppData\\Local\\Temp\\ipykernel_25108\\1732734207.py:4: RuntimeWarning: invalid value encountered in scalar divide\n",
      "  return precision_score(y_true,y_pred) / fp\n"
     ]
    },
    {
     "name": "stdout",
     "output_type": "stream",
     "text": [
      "[CV 2/5] END ....gamma=1.0, kernel=rbf, nu=0.01;, score=0.003 total time=   0.0s\n",
      "[CV 3/5] END ....gamma=1.0, kernel=rbf, nu=0.01;, score=0.003 total time=   0.0s\n",
      "[CV 4/5] END ....gamma=1.0, kernel=rbf, nu=0.01;, score=0.002 total time=   0.0s\n"
     ]
    },
    {
     "name": "stderr",
     "output_type": "stream",
     "text": [
      "C:\\Users\\Hannah Nga\\AppData\\Local\\Temp\\ipykernel_25108\\1732734207.py:4: RuntimeWarning: invalid value encountered in scalar divide\n",
      "  return precision_score(y_true,y_pred) / fp\n"
     ]
    },
    {
     "name": "stdout",
     "output_type": "stream",
     "text": [
      "[CV 5/5] END ......gamma=1.0, kernel=rbf, nu=0.01;, score=nan total time=   0.0s\n",
      "[CV 1/5] END ....gamma=1.0, kernel=rbf, nu=0.05;, score=0.003 total time=   0.0s\n",
      "[CV 2/5] END ....gamma=1.0, kernel=rbf, nu=0.05;, score=0.003 total time=   0.0s\n",
      "[CV 3/5] END ....gamma=1.0, kernel=rbf, nu=0.05;, score=0.003 total time=   0.0s\n",
      "[CV 4/5] END ....gamma=1.0, kernel=rbf, nu=0.05;, score=0.002 total time=   0.0s\n"
     ]
    },
    {
     "name": "stderr",
     "output_type": "stream",
     "text": [
      "C:\\Users\\Hannah Nga\\AppData\\Local\\Temp\\ipykernel_25108\\1732734207.py:4: RuntimeWarning: invalid value encountered in scalar divide\n",
      "  return precision_score(y_true,y_pred) / fp\n"
     ]
    },
    {
     "name": "stdout",
     "output_type": "stream",
     "text": [
      "[CV 5/5] END ......gamma=1.0, kernel=rbf, nu=0.05;, score=nan total time=   0.0s\n",
      "[CV 1/5] END .....gamma=1.0, kernel=rbf, nu=0.1;, score=0.003 total time=   0.0s\n",
      "[CV 2/5] END .....gamma=1.0, kernel=rbf, nu=0.1;, score=0.003 total time=   0.0s\n",
      "[CV 3/5] END .....gamma=1.0, kernel=rbf, nu=0.1;, score=0.003 total time=   0.0s\n",
      "[CV 4/5] END .....gamma=1.0, kernel=rbf, nu=0.1;, score=0.002 total time=   0.0s\n"
     ]
    },
    {
     "name": "stderr",
     "output_type": "stream",
     "text": [
      "C:\\Users\\Hannah Nga\\AppData\\Local\\Temp\\ipykernel_25108\\1732734207.py:4: RuntimeWarning: invalid value encountered in scalar divide\n",
      "  return precision_score(y_true,y_pred) / fp\n"
     ]
    },
    {
     "name": "stdout",
     "output_type": "stream",
     "text": [
      "[CV 5/5] END .......gamma=1.0, kernel=rbf, nu=0.1;, score=nan total time=   0.0s\n",
      "[CV 1/5] END .....gamma=1.0, kernel=rbf, nu=0.2;, score=0.003 total time=   0.0s\n",
      "[CV 2/5] END .....gamma=1.0, kernel=rbf, nu=0.2;, score=0.003 total time=   0.0s\n",
      "[CV 3/5] END .....gamma=1.0, kernel=rbf, nu=0.2;, score=0.003 total time=   0.0s\n",
      "[CV 4/5] END .....gamma=1.0, kernel=rbf, nu=0.2;, score=0.002 total time=   0.0s\n",
      "[CV 5/5] END .......gamma=1.0, kernel=rbf, nu=0.2;, score=nan total time=   0.0s\n"
     ]
    },
    {
     "name": "stderr",
     "output_type": "stream",
     "text": [
      "C:\\Users\\Hannah Nga\\AppData\\Local\\Temp\\ipykernel_25108\\1732734207.py:4: RuntimeWarning: invalid value encountered in scalar divide\n",
      "  return precision_score(y_true,y_pred) / fp\n"
     ]
    },
    {
     "name": "stdout",
     "output_type": "stream",
     "text": [
      "[CV 1/5] END .....gamma=1.0, kernel=rbf, nu=0.3;, score=0.003 total time=   0.0s\n",
      "[CV 2/5] END .....gamma=1.0, kernel=rbf, nu=0.3;, score=0.003 total time=   0.0s\n",
      "[CV 3/5] END .....gamma=1.0, kernel=rbf, nu=0.3;, score=0.003 total time=   0.0s\n",
      "[CV 4/5] END .....gamma=1.0, kernel=rbf, nu=0.3;, score=0.002 total time=   0.0s\n"
     ]
    },
    {
     "name": "stderr",
     "output_type": "stream",
     "text": [
      "C:\\Users\\Hannah Nga\\AppData\\Local\\Temp\\ipykernel_25108\\1732734207.py:4: RuntimeWarning: invalid value encountered in scalar divide\n",
      "  return precision_score(y_true,y_pred) / fp\n"
     ]
    },
    {
     "name": "stdout",
     "output_type": "stream",
     "text": [
      "[CV 5/5] END .......gamma=1.0, kernel=rbf, nu=0.3;, score=nan total time=   0.0s\n",
      "[CV 1/5] END .....gamma=1.0, kernel=rbf, nu=0.5;, score=0.003 total time=   0.0s\n",
      "[CV 2/5] END .....gamma=1.0, kernel=rbf, nu=0.5;, score=0.003 total time=   0.0s\n",
      "[CV 3/5] END .....gamma=1.0, kernel=rbf, nu=0.5;, score=0.003 total time=   0.0s\n",
      "[CV 4/5] END .....gamma=1.0, kernel=rbf, nu=0.5;, score=0.002 total time=   0.0s\n"
     ]
    },
    {
     "name": "stderr",
     "output_type": "stream",
     "text": [
      "C:\\Users\\Hannah Nga\\AppData\\Local\\Temp\\ipykernel_25108\\1732734207.py:4: RuntimeWarning: invalid value encountered in scalar divide\n",
      "  return precision_score(y_true,y_pred) / fp\n"
     ]
    },
    {
     "name": "stdout",
     "output_type": "stream",
     "text": [
      "[CV 5/5] END .......gamma=1.0, kernel=rbf, nu=0.5;, score=nan total time=   0.0s\n",
      "[CV 1/5] END .....gamma=1.0, kernel=rbf, nu=0.7;, score=0.003 total time=   0.0s\n",
      "[CV 2/5] END .....gamma=1.0, kernel=rbf, nu=0.7;, score=0.003 total time=   0.0s\n",
      "[CV 3/5] END .....gamma=1.0, kernel=rbf, nu=0.7;, score=0.003 total time=   0.0s\n",
      "[CV 4/5] END .....gamma=1.0, kernel=rbf, nu=0.7;, score=0.002 total time=   0.0s\n"
     ]
    },
    {
     "name": "stderr",
     "output_type": "stream",
     "text": [
      "C:\\Users\\Hannah Nga\\AppData\\Local\\Temp\\ipykernel_25108\\1732734207.py:4: RuntimeWarning: invalid value encountered in scalar divide\n",
      "  return precision_score(y_true,y_pred) / fp\n"
     ]
    },
    {
     "name": "stdout",
     "output_type": "stream",
     "text": [
      "[CV 5/5] END .......gamma=1.0, kernel=rbf, nu=0.7;, score=nan total time=   0.0s\n",
      "[CV 1/5] END .....gamma=1.0, kernel=rbf, nu=0.9;, score=0.003 total time=   0.0s\n",
      "[CV 2/5] END .....gamma=1.0, kernel=rbf, nu=0.9;, score=0.003 total time=   0.0s\n",
      "[CV 3/5] END .....gamma=1.0, kernel=rbf, nu=0.9;, score=0.003 total time=   0.0s\n",
      "[CV 4/5] END .....gamma=1.0, kernel=rbf, nu=0.9;, score=0.002 total time=   0.0s\n",
      "[CV 5/5] END .......gamma=1.0, kernel=rbf, nu=0.9;, score=nan total time=   0.0s\n",
      "[CV 1/5] END ..gamma=1.0, kernel=poly, nu=0.001;, score=0.023 total time=   0.0s\n",
      "[CV 2/5] END ..gamma=1.0, kernel=poly, nu=0.001;, score=0.022 total time=   0.0s\n",
      "[CV 3/5] END ..gamma=1.0, kernel=poly, nu=0.001;, score=0.016 total time=   0.0s\n"
     ]
    },
    {
     "name": "stderr",
     "output_type": "stream",
     "text": [
      "C:\\Users\\Hannah Nga\\AppData\\Local\\Temp\\ipykernel_25108\\1732734207.py:4: RuntimeWarning: invalid value encountered in scalar divide\n",
      "  return precision_score(y_true,y_pred) / fp\n",
      "C:\\Users\\Hannah Nga\\AppData\\Local\\Temp\\ipykernel_25108\\1732734207.py:4: RuntimeWarning: invalid value encountered in scalar divide\n",
      "  return precision_score(y_true,y_pred) / fp\n"
     ]
    },
    {
     "name": "stdout",
     "output_type": "stream",
     "text": [
      "[CV 4/5] END ..gamma=1.0, kernel=poly, nu=0.001;, score=0.021 total time=   0.0s\n",
      "[CV 5/5] END ....gamma=1.0, kernel=poly, nu=0.001;, score=nan total time=   0.0s\n",
      "[CV 1/5] END ..gamma=1.0, kernel=poly, nu=0.005;, score=0.021 total time=   0.0s\n",
      "[CV 2/5] END ..gamma=1.0, kernel=poly, nu=0.005;, score=0.021 total time=   0.0s\n",
      "[CV 3/5] END ..gamma=1.0, kernel=poly, nu=0.005;, score=0.016 total time=   0.0s\n",
      "[CV 4/5] END ..gamma=1.0, kernel=poly, nu=0.005;, score=0.022 total time=   0.0s\n",
      "[CV 5/5] END ....gamma=1.0, kernel=poly, nu=0.005;, score=nan total time=   0.0s\n"
     ]
    },
    {
     "name": "stderr",
     "output_type": "stream",
     "text": [
      "C:\\Users\\Hannah Nga\\AppData\\Local\\Temp\\ipykernel_25108\\1732734207.py:4: RuntimeWarning: invalid value encountered in scalar divide\n",
      "  return precision_score(y_true,y_pred) / fp\n",
      "C:\\Users\\Hannah Nga\\AppData\\Local\\Temp\\ipykernel_25108\\1732734207.py:4: RuntimeWarning: invalid value encountered in scalar divide\n",
      "  return precision_score(y_true,y_pred) / fp\n"
     ]
    },
    {
     "name": "stdout",
     "output_type": "stream",
     "text": [
      "[CV 1/5] END ...gamma=1.0, kernel=poly, nu=0.01;, score=0.020 total time=   0.0s\n",
      "[CV 2/5] END ...gamma=1.0, kernel=poly, nu=0.01;, score=0.019 total time=   0.0s\n",
      "[CV 3/5] END ...gamma=1.0, kernel=poly, nu=0.01;, score=0.014 total time=   0.0s\n",
      "[CV 4/5] END ...gamma=1.0, kernel=poly, nu=0.01;, score=0.023 total time=   0.0s\n",
      "[CV 5/5] END .....gamma=1.0, kernel=poly, nu=0.01;, score=nan total time=   0.0s\n",
      "[CV 1/5] END ...gamma=1.0, kernel=poly, nu=0.05;, score=0.018 total time=   0.0s\n",
      "[CV 2/5] END ...gamma=1.0, kernel=poly, nu=0.05;, score=0.016 total time=   0.0s\n",
      "[CV 3/5] END ...gamma=1.0, kernel=poly, nu=0.05;, score=0.013 total time=   0.0s\n",
      "[CV 4/5] END ...gamma=1.0, kernel=poly, nu=0.05;, score=0.020 total time=   0.0s\n",
      "[CV 5/5] END .....gamma=1.0, kernel=poly, nu=0.05;, score=nan total time=   0.0s\n",
      "[CV 1/5] END ....gamma=1.0, kernel=poly, nu=0.1;, score=0.015 total time=   0.0s\n",
      "[CV 2/5] END ....gamma=1.0, kernel=poly, nu=0.1;, score=0.014 total time=   0.0s\n",
      "[CV 3/5] END ....gamma=1.0, kernel=poly, nu=0.1;, score=0.013 total time=   0.0s\n",
      "[CV 4/5] END ....gamma=1.0, kernel=poly, nu=0.1;, score=0.018 total time=   0.0s\n"
     ]
    },
    {
     "name": "stderr",
     "output_type": "stream",
     "text": [
      "C:\\Users\\Hannah Nga\\AppData\\Local\\Temp\\ipykernel_25108\\1732734207.py:4: RuntimeWarning: invalid value encountered in scalar divide\n",
      "  return precision_score(y_true,y_pred) / fp\n",
      "C:\\Users\\Hannah Nga\\AppData\\Local\\Temp\\ipykernel_25108\\1732734207.py:4: RuntimeWarning: invalid value encountered in scalar divide\n",
      "  return precision_score(y_true,y_pred) / fp\n"
     ]
    },
    {
     "name": "stdout",
     "output_type": "stream",
     "text": [
      "[CV 5/5] END ......gamma=1.0, kernel=poly, nu=0.1;, score=nan total time=   0.0s\n",
      "[CV 1/5] END ....gamma=1.0, kernel=poly, nu=0.2;, score=0.011 total time=   0.0s\n",
      "[CV 2/5] END ....gamma=1.0, kernel=poly, nu=0.2;, score=0.010 total time=   0.0s\n",
      "[CV 3/5] END ....gamma=1.0, kernel=poly, nu=0.2;, score=0.010 total time=   0.0s\n",
      "[CV 4/5] END ....gamma=1.0, kernel=poly, nu=0.2;, score=0.012 total time=   0.0s\n",
      "[CV 5/5] END ......gamma=1.0, kernel=poly, nu=0.2;, score=nan total time=   0.0s\n"
     ]
    },
    {
     "name": "stderr",
     "output_type": "stream",
     "text": [
      "C:\\Users\\Hannah Nga\\AppData\\Local\\Temp\\ipykernel_25108\\1732734207.py:4: RuntimeWarning: invalid value encountered in scalar divide\n",
      "  return precision_score(y_true,y_pred) / fp\n",
      "C:\\Users\\Hannah Nga\\AppData\\Local\\Temp\\ipykernel_25108\\1732734207.py:4: RuntimeWarning: invalid value encountered in scalar divide\n",
      "  return precision_score(y_true,y_pred) / fp\n"
     ]
    },
    {
     "name": "stdout",
     "output_type": "stream",
     "text": [
      "[CV 1/5] END ....gamma=1.0, kernel=poly, nu=0.3;, score=0.009 total time=   0.0s\n",
      "[CV 2/5] END ....gamma=1.0, kernel=poly, nu=0.3;, score=0.008 total time=   0.0s\n",
      "[CV 3/5] END ....gamma=1.0, kernel=poly, nu=0.3;, score=0.007 total time=   0.0s\n",
      "[CV 4/5] END ....gamma=1.0, kernel=poly, nu=0.3;, score=0.009 total time=   0.0s\n",
      "[CV 5/5] END ......gamma=1.0, kernel=poly, nu=0.3;, score=nan total time=   0.0s\n",
      "[CV 1/5] END ....gamma=1.0, kernel=poly, nu=0.5;, score=0.005 total time=   0.0s\n",
      "[CV 2/5] END ....gamma=1.0, kernel=poly, nu=0.5;, score=0.005 total time=   0.0s\n",
      "[CV 3/5] END ....gamma=1.0, kernel=poly, nu=0.5;, score=0.005 total time=   0.0s\n",
      "[CV 4/5] END ....gamma=1.0, kernel=poly, nu=0.5;, score=0.006 total time=   0.0s\n"
     ]
    },
    {
     "name": "stderr",
     "output_type": "stream",
     "text": [
      "C:\\Users\\Hannah Nga\\AppData\\Local\\Temp\\ipykernel_25108\\1732734207.py:4: RuntimeWarning: invalid value encountered in scalar divide\n",
      "  return precision_score(y_true,y_pred) / fp\n"
     ]
    },
    {
     "name": "stdout",
     "output_type": "stream",
     "text": [
      "[CV 5/5] END ......gamma=1.0, kernel=poly, nu=0.5;, score=nan total time=   0.0s\n",
      "[CV 1/5] END ....gamma=1.0, kernel=poly, nu=0.7;, score=0.004 total time=   0.0s\n",
      "[CV 2/5] END ....gamma=1.0, kernel=poly, nu=0.7;, score=0.004 total time=   0.0s\n",
      "[CV 3/5] END ....gamma=1.0, kernel=poly, nu=0.7;, score=0.004 total time=   0.0s\n",
      "[CV 4/5] END ....gamma=1.0, kernel=poly, nu=0.7;, score=0.004 total time=   0.0s\n",
      "[CV 5/5] END ......gamma=1.0, kernel=poly, nu=0.7;, score=nan total time=   0.0s\n",
      "[CV 1/5] END ....gamma=1.0, kernel=poly, nu=0.9;, score=0.003 total time=   0.0s\n",
      "[CV 2/5] END ....gamma=1.0, kernel=poly, nu=0.9;, score=0.003 total time=   0.0s\n"
     ]
    },
    {
     "name": "stderr",
     "output_type": "stream",
     "text": [
      "C:\\Users\\Hannah Nga\\AppData\\Local\\Temp\\ipykernel_25108\\1732734207.py:4: RuntimeWarning: invalid value encountered in scalar divide\n",
      "  return precision_score(y_true,y_pred) / fp\n"
     ]
    },
    {
     "name": "stdout",
     "output_type": "stream",
     "text": [
      "[CV 3/5] END ....gamma=1.0, kernel=poly, nu=0.9;, score=0.003 total time=   0.0s\n",
      "[CV 4/5] END ....gamma=1.0, kernel=poly, nu=0.9;, score=0.003 total time=   0.0s\n",
      "[CV 5/5] END ......gamma=1.0, kernel=poly, nu=0.9;, score=nan total time=   0.0s\n",
      "[CV 1/5] END gamma=1.0, kernel=sigmoid, nu=0.001;, score=0.985 total time=   0.0s\n",
      "[CV 2/5] END .gamma=1.0, kernel=sigmoid, nu=0.001;, score=inf total time=   0.0s\n",
      "[CV 3/5] END gamma=1.0, kernel=sigmoid, nu=0.001;, score=0.493 total time=   0.0s\n",
      "[CV 4/5] END .gamma=1.0, kernel=sigmoid, nu=0.001;, score=inf total time=   0.0s\n",
      "[CV 5/5] END .gamma=1.0, kernel=sigmoid, nu=0.001;, score=nan total time=   0.0s\n",
      "[CV 1/5] END .gamma=1.0, kernel=sigmoid, nu=0.005;, score=inf total time=   0.0s\n",
      "[CV 2/5] END gamma=1.0, kernel=sigmoid, nu=0.005;, score=0.985 total time=   0.0s\n",
      "[CV 3/5] END gamma=1.0, kernel=sigmoid, nu=0.005;, score=0.493 total time=   0.0s\n",
      "[CV 4/5] END gamma=1.0, kernel=sigmoid, nu=0.005;, score=0.890 total time=   0.0s\n",
      "[CV 5/5] END .gamma=1.0, kernel=sigmoid, nu=0.005;, score=nan total time=   0.0s\n",
      "[CV 1/5] END gamma=1.0, kernel=sigmoid, nu=0.01;, score=0.985 total time=   0.0s\n",
      "[CV 2/5] END gamma=1.0, kernel=sigmoid, nu=0.01;, score=0.328 total time=   0.0s\n",
      "[CV 3/5] END gamma=1.0, kernel=sigmoid, nu=0.01;, score=0.328 total time=   0.0s\n",
      "[CV 4/5] END ..gamma=1.0, kernel=sigmoid, nu=0.01;, score=inf total time=   0.0s\n",
      "[CV 5/5] END ..gamma=1.0, kernel=sigmoid, nu=0.01;, score=nan total time=   0.0s\n"
     ]
    },
    {
     "name": "stderr",
     "output_type": "stream",
     "text": [
      "c:\\Users\\Hannah Nga\\.conda\\envs\\fraudenv\\lib\\site-packages\\sklearn\\metrics\\_classification.py:1509: UndefinedMetricWarning: Precision is ill-defined and being set to 0.0 due to no predicted samples. Use `zero_division` parameter to control this behavior.\n",
      "  _warn_prf(average, modifier, f\"{metric.capitalize()} is\", len(result))\n",
      "C:\\Users\\Hannah Nga\\AppData\\Local\\Temp\\ipykernel_25108\\1732734207.py:4: RuntimeWarning: invalid value encountered in scalar divide\n",
      "  return precision_score(y_true,y_pred) / fp\n",
      "C:\\Users\\Hannah Nga\\AppData\\Local\\Temp\\ipykernel_25108\\1732734207.py:4: RuntimeWarning: divide by zero encountered in scalar divide\n",
      "  return precision_score(y_true,y_pred) / fp\n",
      "C:\\Users\\Hannah Nga\\AppData\\Local\\Temp\\ipykernel_25108\\1732734207.py:4: RuntimeWarning: divide by zero encountered in scalar divide\n",
      "  return precision_score(y_true,y_pred) / fp\n",
      "C:\\Users\\Hannah Nga\\AppData\\Local\\Temp\\ipykernel_25108\\1732734207.py:4: RuntimeWarning: invalid value encountered in scalar divide\n",
      "  return precision_score(y_true,y_pred) / fp\n",
      "C:\\Users\\Hannah Nga\\AppData\\Local\\Temp\\ipykernel_25108\\1732734207.py:4: RuntimeWarning: divide by zero encountered in scalar divide\n",
      "  return precision_score(y_true,y_pred) / fp\n",
      "C:\\Users\\Hannah Nga\\AppData\\Local\\Temp\\ipykernel_25108\\1732734207.py:4: RuntimeWarning: invalid value encountered in scalar divide\n",
      "  return precision_score(y_true,y_pred) / fp\n",
      "C:\\Users\\Hannah Nga\\AppData\\Local\\Temp\\ipykernel_25108\\1732734207.py:4: RuntimeWarning: divide by zero encountered in scalar divide\n",
      "  return precision_score(y_true,y_pred) / fp\n",
      "C:\\Users\\Hannah Nga\\AppData\\Local\\Temp\\ipykernel_25108\\1732734207.py:4: RuntimeWarning: invalid value encountered in scalar divide\n",
      "  return precision_score(y_true,y_pred) / fp\n",
      "C:\\Users\\Hannah Nga\\AppData\\Local\\Temp\\ipykernel_25108\\1732734207.py:4: RuntimeWarning: invalid value encountered in scalar divide\n",
      "  return precision_score(y_true,y_pred) / fp\n"
     ]
    },
    {
     "name": "stdout",
     "output_type": "stream",
     "text": [
      "[CV 1/5] END gamma=1.0, kernel=sigmoid, nu=0.05;, score=0.052 total time=   0.0s\n",
      "[CV 2/5] END gamma=1.0, kernel=sigmoid, nu=0.05;, score=0.041 total time=   0.0s\n",
      "[CV 3/5] END gamma=1.0, kernel=sigmoid, nu=0.05;, score=0.036 total time=   0.0s\n",
      "[CV 4/5] END gamma=1.0, kernel=sigmoid, nu=0.05;, score=0.047 total time=   0.0s\n",
      "[CV 5/5] END ..gamma=1.0, kernel=sigmoid, nu=0.05;, score=nan total time=   0.0s\n",
      "[CV 1/5] END .gamma=1.0, kernel=sigmoid, nu=0.1;, score=0.033 total time=   0.0s\n",
      "[CV 2/5] END .gamma=1.0, kernel=sigmoid, nu=0.1;, score=0.017 total time=   0.0s\n",
      "[CV 3/5] END .gamma=1.0, kernel=sigmoid, nu=0.1;, score=0.023 total time=   0.0s\n",
      "[CV 4/5] END .gamma=1.0, kernel=sigmoid, nu=0.1;, score=0.019 total time=   0.0s\n",
      "[CV 5/5] END ...gamma=1.0, kernel=sigmoid, nu=0.1;, score=nan total time=   0.0s\n",
      "[CV 1/5] END .gamma=1.0, kernel=sigmoid, nu=0.2;, score=0.014 total time=   0.0s\n",
      "[CV 2/5] END .gamma=1.0, kernel=sigmoid, nu=0.2;, score=0.011 total time=   0.0s\n"
     ]
    },
    {
     "name": "stderr",
     "output_type": "stream",
     "text": [
      "C:\\Users\\Hannah Nga\\AppData\\Local\\Temp\\ipykernel_25108\\1732734207.py:4: RuntimeWarning: invalid value encountered in scalar divide\n",
      "  return precision_score(y_true,y_pred) / fp\n"
     ]
    },
    {
     "name": "stdout",
     "output_type": "stream",
     "text": [
      "[CV 3/5] END .gamma=1.0, kernel=sigmoid, nu=0.2;, score=0.011 total time=   0.0s\n",
      "[CV 4/5] END .gamma=1.0, kernel=sigmoid, nu=0.2;, score=0.010 total time=   0.0s\n",
      "[CV 5/5] END ...gamma=1.0, kernel=sigmoid, nu=0.2;, score=nan total time=   0.0s\n",
      "[CV 1/5] END .gamma=1.0, kernel=sigmoid, nu=0.3;, score=0.009 total time=   0.0s\n"
     ]
    },
    {
     "name": "stderr",
     "output_type": "stream",
     "text": [
      "C:\\Users\\Hannah Nga\\AppData\\Local\\Temp\\ipykernel_25108\\1732734207.py:4: RuntimeWarning: invalid value encountered in scalar divide\n",
      "  return precision_score(y_true,y_pred) / fp\n"
     ]
    },
    {
     "name": "stdout",
     "output_type": "stream",
     "text": [
      "[CV 2/5] END .gamma=1.0, kernel=sigmoid, nu=0.3;, score=0.007 total time=   0.0s\n",
      "[CV 3/5] END .gamma=1.0, kernel=sigmoid, nu=0.3;, score=0.008 total time=   0.0s\n",
      "[CV 4/5] END .gamma=1.0, kernel=sigmoid, nu=0.3;, score=0.007 total time=   0.0s\n"
     ]
    },
    {
     "name": "stderr",
     "output_type": "stream",
     "text": [
      "C:\\Users\\Hannah Nga\\AppData\\Local\\Temp\\ipykernel_25108\\1732734207.py:4: RuntimeWarning: invalid value encountered in scalar divide\n",
      "  return precision_score(y_true,y_pred) / fp\n"
     ]
    },
    {
     "name": "stdout",
     "output_type": "stream",
     "text": [
      "[CV 5/5] END ...gamma=1.0, kernel=sigmoid, nu=0.3;, score=nan total time=   0.0s\n",
      "[CV 1/5] END .gamma=1.0, kernel=sigmoid, nu=0.5;, score=0.005 total time=   0.0s\n",
      "[CV 2/5] END .gamma=1.0, kernel=sigmoid, nu=0.5;, score=0.004 total time=   0.0s\n",
      "[CV 3/5] END .gamma=1.0, kernel=sigmoid, nu=0.5;, score=0.005 total time=   0.0s\n",
      "[CV 4/5] END .gamma=1.0, kernel=sigmoid, nu=0.5;, score=0.004 total time=   0.0s\n",
      "[CV 5/5] END ...gamma=1.0, kernel=sigmoid, nu=0.5;, score=nan total time=   0.0s\n"
     ]
    },
    {
     "name": "stderr",
     "output_type": "stream",
     "text": [
      "C:\\Users\\Hannah Nga\\AppData\\Local\\Temp\\ipykernel_25108\\1732734207.py:4: RuntimeWarning: invalid value encountered in scalar divide\n",
      "  return precision_score(y_true,y_pred) / fp\n"
     ]
    },
    {
     "name": "stdout",
     "output_type": "stream",
     "text": [
      "[CV 1/5] END .gamma=1.0, kernel=sigmoid, nu=0.7;, score=0.004 total time=   0.0s\n",
      "[CV 2/5] END .gamma=1.0, kernel=sigmoid, nu=0.7;, score=0.003 total time=   0.0s\n",
      "[CV 3/5] END .gamma=1.0, kernel=sigmoid, nu=0.7;, score=0.004 total time=   0.0s\n",
      "[CV 4/5] END .gamma=1.0, kernel=sigmoid, nu=0.7;, score=0.003 total time=   0.0s\n"
     ]
    },
    {
     "name": "stderr",
     "output_type": "stream",
     "text": [
      "C:\\Users\\Hannah Nga\\AppData\\Local\\Temp\\ipykernel_25108\\1732734207.py:4: RuntimeWarning: invalid value encountered in scalar divide\n",
      "  return precision_score(y_true,y_pred) / fp\n"
     ]
    },
    {
     "name": "stdout",
     "output_type": "stream",
     "text": [
      "[CV 5/5] END ...gamma=1.0, kernel=sigmoid, nu=0.7;, score=nan total time=   0.0s\n",
      "[CV 1/5] END .gamma=1.0, kernel=sigmoid, nu=0.9;, score=0.003 total time=   0.0s\n",
      "[CV 2/5] END .gamma=1.0, kernel=sigmoid, nu=0.9;, score=0.003 total time=   0.0s\n",
      "[CV 3/5] END .gamma=1.0, kernel=sigmoid, nu=0.9;, score=0.003 total time=   0.0s\n",
      "[CV 4/5] END .gamma=1.0, kernel=sigmoid, nu=0.9;, score=0.003 total time=   0.0s\n",
      "[CV 5/5] END ...gamma=1.0, kernel=sigmoid, nu=0.9;, score=nan total time=   0.1s\n",
      "[CV 1/5] END gamma=10.0, kernel=linear, nu=0.001;, score=0.006 total time=   0.0s\n",
      "[CV 2/5] END gamma=10.0, kernel=linear, nu=0.001;, score=0.005 total time=   0.0s\n",
      "[CV 3/5] END gamma=10.0, kernel=linear, nu=0.001;, score=0.005 total time=   0.0s\n",
      "[CV 4/5] END gamma=10.0, kernel=linear, nu=0.001;, score=0.008 total time=   0.0s\n",
      "[CV 5/5] END .gamma=10.0, kernel=linear, nu=0.001;, score=nan total time=   0.0s\n",
      "[CV 1/5] END gamma=10.0, kernel=linear, nu=0.005;, score=0.007 total time=   0.0s\n",
      "[CV 2/5] END gamma=10.0, kernel=linear, nu=0.005;, score=0.003 total time=   0.0s\n",
      "[CV 3/5] END gamma=10.0, kernel=linear, nu=0.005;, score=0.010 total time=   0.0s\n",
      "[CV 4/5] END gamma=10.0, kernel=linear, nu=0.005;, score=0.002 total time=   0.0s\n",
      "[CV 5/5] END .gamma=10.0, kernel=linear, nu=0.005;, score=nan total time=   0.0s\n",
      "[CV 1/5] END gamma=10.0, kernel=linear, nu=0.01;, score=0.005 total time=   0.0s\n",
      "[CV 2/5] END gamma=10.0, kernel=linear, nu=0.01;, score=0.007 total time=   0.0s\n",
      "[CV 3/5] END gamma=10.0, kernel=linear, nu=0.01;, score=0.005 total time=   0.0s\n",
      "[CV 4/5] END gamma=10.0, kernel=linear, nu=0.01;, score=0.008 total time=   0.0s\n"
     ]
    },
    {
     "name": "stderr",
     "output_type": "stream",
     "text": [
      "C:\\Users\\Hannah Nga\\AppData\\Local\\Temp\\ipykernel_25108\\1732734207.py:4: RuntimeWarning: invalid value encountered in scalar divide\n",
      "  return precision_score(y_true,y_pred) / fp\n",
      "C:\\Users\\Hannah Nga\\AppData\\Local\\Temp\\ipykernel_25108\\1732734207.py:4: RuntimeWarning: invalid value encountered in scalar divide\n",
      "  return precision_score(y_true,y_pred) / fp\n",
      "C:\\Users\\Hannah Nga\\AppData\\Local\\Temp\\ipykernel_25108\\1732734207.py:4: RuntimeWarning: invalid value encountered in scalar divide\n",
      "  return precision_score(y_true,y_pred) / fp\n",
      "C:\\Users\\Hannah Nga\\AppData\\Local\\Temp\\ipykernel_25108\\1732734207.py:4: RuntimeWarning: invalid value encountered in scalar divide\n",
      "  return precision_score(y_true,y_pred) / fp\n",
      "C:\\Users\\Hannah Nga\\AppData\\Local\\Temp\\ipykernel_25108\\1732734207.py:4: RuntimeWarning: invalid value encountered in scalar divide\n",
      "  return precision_score(y_true,y_pred) / fp\n",
      "C:\\Users\\Hannah Nga\\AppData\\Local\\Temp\\ipykernel_25108\\1732734207.py:4: RuntimeWarning: invalid value encountered in scalar divide\n",
      "  return precision_score(y_true,y_pred) / fp\n",
      "c:\\Users\\Hannah Nga\\.conda\\envs\\fraudenv\\lib\\site-packages\\sklearn\\metrics\\_classification.py:1509: UndefinedMetricWarning: Precision is ill-defined and being set to 0.0 due to no predicted samples. Use `zero_division` parameter to control this behavior.\n",
      "  _warn_prf(average, modifier, f\"{metric.capitalize()} is\", len(result))\n",
      "C:\\Users\\Hannah Nga\\AppData\\Local\\Temp\\ipykernel_25108\\1732734207.py:4: RuntimeWarning: invalid value encountered in scalar divide\n",
      "  return precision_score(y_true,y_pred) / fp\n"
     ]
    },
    {
     "name": "stdout",
     "output_type": "stream",
     "text": [
      "[CV 5/5] END ..gamma=10.0, kernel=linear, nu=0.01;, score=nan total time=   0.0s\n",
      "[CV 1/5] END gamma=10.0, kernel=linear, nu=0.05;, score=0.005 total time=   0.0s\n",
      "[CV 2/5] END gamma=10.0, kernel=linear, nu=0.05;, score=0.011 total time=   0.0s\n",
      "[CV 3/5] END gamma=10.0, kernel=linear, nu=0.05;, score=0.003 total time=   0.0s\n",
      "[CV 4/5] END gamma=10.0, kernel=linear, nu=0.05;, score=0.011 total time=   0.0s\n",
      "[CV 5/5] END ..gamma=10.0, kernel=linear, nu=0.05;, score=nan total time=   0.0s\n",
      "[CV 1/5] END .gamma=10.0, kernel=linear, nu=0.1;, score=0.004 total time=   0.0s\n",
      "[CV 2/5] END .gamma=10.0, kernel=linear, nu=0.1;, score=0.004 total time=   0.0s\n",
      "[CV 3/5] END .gamma=10.0, kernel=linear, nu=0.1;, score=0.003 total time=   0.0s\n",
      "[CV 4/5] END .gamma=10.0, kernel=linear, nu=0.1;, score=0.003 total time=   0.0s\n",
      "[CV 5/5] END ...gamma=10.0, kernel=linear, nu=0.1;, score=nan total time=   0.0s\n",
      "[CV 1/5] END .gamma=10.0, kernel=linear, nu=0.2;, score=0.003 total time=   0.0s\n",
      "[CV 2/5] END .gamma=10.0, kernel=linear, nu=0.2;, score=0.003 total time=   0.0s\n",
      "[CV 3/5] END .gamma=10.0, kernel=linear, nu=0.2;, score=0.003 total time=   0.0s\n",
      "[CV 4/5] END .gamma=10.0, kernel=linear, nu=0.2;, score=0.004 total time=   0.0s\n",
      "[CV 5/5] END ...gamma=10.0, kernel=linear, nu=0.2;, score=nan total time=   0.0s\n",
      "[CV 1/5] END .gamma=10.0, kernel=linear, nu=0.3;, score=0.003 total time=   0.0s\n",
      "[CV 2/5] END .gamma=10.0, kernel=linear, nu=0.3;, score=0.003 total time=   0.0s\n",
      "[CV 3/5] END .gamma=10.0, kernel=linear, nu=0.3;, score=0.003 total time=   0.0s\n",
      "[CV 4/5] END .gamma=10.0, kernel=linear, nu=0.3;, score=0.002 total time=   0.0s\n",
      "[CV 5/5] END ...gamma=10.0, kernel=linear, nu=0.3;, score=nan total time=   0.0s\n",
      "[CV 1/5] END .gamma=10.0, kernel=linear, nu=0.5;, score=0.003 total time=   0.0s\n",
      "[CV 2/5] END .gamma=10.0, kernel=linear, nu=0.5;, score=0.003 total time=   0.0s\n",
      "[CV 3/5] END .gamma=10.0, kernel=linear, nu=0.5;, score=0.003 total time=   0.0s\n",
      "[CV 4/5] END .gamma=10.0, kernel=linear, nu=0.5;, score=0.003 total time=   0.0s\n",
      "[CV 5/5] END ...gamma=10.0, kernel=linear, nu=0.5;, score=nan total time=   0.0s\n",
      "[CV 1/5] END .gamma=10.0, kernel=linear, nu=0.7;, score=0.003 total time=   0.0s\n"
     ]
    },
    {
     "name": "stderr",
     "output_type": "stream",
     "text": [
      "C:\\Users\\Hannah Nga\\AppData\\Local\\Temp\\ipykernel_25108\\1732734207.py:4: RuntimeWarning: invalid value encountered in scalar divide\n",
      "  return precision_score(y_true,y_pred) / fp\n",
      "C:\\Users\\Hannah Nga\\AppData\\Local\\Temp\\ipykernel_25108\\1732734207.py:4: RuntimeWarning: invalid value encountered in scalar divide\n",
      "  return precision_score(y_true,y_pred) / fp\n"
     ]
    },
    {
     "name": "stdout",
     "output_type": "stream",
     "text": [
      "[CV 2/5] END .gamma=10.0, kernel=linear, nu=0.7;, score=0.003 total time=   0.0s\n",
      "[CV 3/5] END .gamma=10.0, kernel=linear, nu=0.7;, score=0.003 total time=   0.0s\n",
      "[CV 4/5] END .gamma=10.0, kernel=linear, nu=0.7;, score=0.005 total time=   0.0s\n",
      "[CV 5/5] END ...gamma=10.0, kernel=linear, nu=0.7;, score=nan total time=   0.0s\n",
      "[CV 1/5] END .gamma=10.0, kernel=linear, nu=0.9;, score=0.004 total time=   0.0s\n"
     ]
    },
    {
     "name": "stderr",
     "output_type": "stream",
     "text": [
      "C:\\Users\\Hannah Nga\\AppData\\Local\\Temp\\ipykernel_25108\\1732734207.py:4: RuntimeWarning: invalid value encountered in scalar divide\n",
      "  return precision_score(y_true,y_pred) / fp\n"
     ]
    },
    {
     "name": "stdout",
     "output_type": "stream",
     "text": [
      "[CV 2/5] END .gamma=10.0, kernel=linear, nu=0.9;, score=0.003 total time=   0.0s\n",
      "[CV 3/5] END .gamma=10.0, kernel=linear, nu=0.9;, score=0.003 total time=   0.0s\n",
      "[CV 4/5] END .gamma=10.0, kernel=linear, nu=0.9;, score=0.003 total time=   0.0s\n",
      "[CV 5/5] END ...gamma=10.0, kernel=linear, nu=0.9;, score=nan total time=   0.0s\n"
     ]
    },
    {
     "name": "stderr",
     "output_type": "stream",
     "text": [
      "C:\\Users\\Hannah Nga\\AppData\\Local\\Temp\\ipykernel_25108\\1732734207.py:4: RuntimeWarning: invalid value encountered in scalar divide\n",
      "  return precision_score(y_true,y_pred) / fp\n",
      "c:\\Users\\Hannah Nga\\.conda\\envs\\fraudenv\\lib\\site-packages\\sklearn\\metrics\\_classification.py:1509: UndefinedMetricWarning: Precision is ill-defined and being set to 0.0 due to no predicted samples. Use `zero_division` parameter to control this behavior.\n",
      "  _warn_prf(average, modifier, f\"{metric.capitalize()} is\", len(result))\n"
     ]
    },
    {
     "name": "stdout",
     "output_type": "stream",
     "text": [
      "[CV 1/5] END ..gamma=10.0, kernel=rbf, nu=0.001;, score=0.000 total time=   0.0s\n",
      "[CV 2/5] END ..gamma=10.0, kernel=rbf, nu=0.001;, score=0.000 total time=   0.0s\n"
     ]
    },
    {
     "name": "stderr",
     "output_type": "stream",
     "text": [
      "c:\\Users\\Hannah Nga\\.conda\\envs\\fraudenv\\lib\\site-packages\\sklearn\\metrics\\_classification.py:1509: UndefinedMetricWarning: Precision is ill-defined and being set to 0.0 due to no predicted samples. Use `zero_division` parameter to control this behavior.\n",
      "  _warn_prf(average, modifier, f\"{metric.capitalize()} is\", len(result))\n"
     ]
    },
    {
     "name": "stdout",
     "output_type": "stream",
     "text": [
      "[CV 3/5] END ..gamma=10.0, kernel=rbf, nu=0.001;, score=0.000 total time=   0.0s\n",
      "[CV 4/5] END ..gamma=10.0, kernel=rbf, nu=0.001;, score=0.000 total time=   0.0s\n"
     ]
    },
    {
     "name": "stderr",
     "output_type": "stream",
     "text": [
      "C:\\Users\\Hannah Nga\\AppData\\Local\\Temp\\ipykernel_25108\\1732734207.py:4: RuntimeWarning: invalid value encountered in scalar divide\n",
      "  return precision_score(y_true,y_pred) / fp\n",
      "c:\\Users\\Hannah Nga\\.conda\\envs\\fraudenv\\lib\\site-packages\\sklearn\\metrics\\_classification.py:1509: UndefinedMetricWarning: Precision is ill-defined and being set to 0.0 due to no predicted samples. Use `zero_division` parameter to control this behavior.\n",
      "  _warn_prf(average, modifier, f\"{metric.capitalize()} is\", len(result))\n"
     ]
    },
    {
     "name": "stdout",
     "output_type": "stream",
     "text": [
      "[CV 5/5] END ....gamma=10.0, kernel=rbf, nu=0.001;, score=nan total time=   0.0s\n",
      "[CV 1/5] END ..gamma=10.0, kernel=rbf, nu=0.005;, score=0.000 total time=   0.0s\n"
     ]
    },
    {
     "name": "stderr",
     "output_type": "stream",
     "text": [
      "c:\\Users\\Hannah Nga\\.conda\\envs\\fraudenv\\lib\\site-packages\\sklearn\\metrics\\_classification.py:1509: UndefinedMetricWarning: Precision is ill-defined and being set to 0.0 due to no predicted samples. Use `zero_division` parameter to control this behavior.\n",
      "  _warn_prf(average, modifier, f\"{metric.capitalize()} is\", len(result))\n",
      "c:\\Users\\Hannah Nga\\.conda\\envs\\fraudenv\\lib\\site-packages\\sklearn\\metrics\\_classification.py:1509: UndefinedMetricWarning: Precision is ill-defined and being set to 0.0 due to no predicted samples. Use `zero_division` parameter to control this behavior.\n",
      "  _warn_prf(average, modifier, f\"{metric.capitalize()} is\", len(result))\n"
     ]
    },
    {
     "name": "stdout",
     "output_type": "stream",
     "text": [
      "[CV 2/5] END ..gamma=10.0, kernel=rbf, nu=0.005;, score=0.000 total time=   0.0s\n",
      "[CV 3/5] END ..gamma=10.0, kernel=rbf, nu=0.005;, score=0.000 total time=   0.0s\n",
      "[CV 4/5] END ..gamma=10.0, kernel=rbf, nu=0.005;, score=0.000 total time=   0.0s\n",
      "[CV 5/5] END ....gamma=10.0, kernel=rbf, nu=0.005;, score=nan total time=   0.0s\n"
     ]
    },
    {
     "name": "stderr",
     "output_type": "stream",
     "text": [
      "C:\\Users\\Hannah Nga\\AppData\\Local\\Temp\\ipykernel_25108\\1732734207.py:4: RuntimeWarning: invalid value encountered in scalar divide\n",
      "  return precision_score(y_true,y_pred) / fp\n",
      "c:\\Users\\Hannah Nga\\.conda\\envs\\fraudenv\\lib\\site-packages\\sklearn\\metrics\\_classification.py:1509: UndefinedMetricWarning: Precision is ill-defined and being set to 0.0 due to no predicted samples. Use `zero_division` parameter to control this behavior.\n",
      "  _warn_prf(average, modifier, f\"{metric.capitalize()} is\", len(result))\n"
     ]
    },
    {
     "name": "stdout",
     "output_type": "stream",
     "text": [
      "[CV 1/5] END ...gamma=10.0, kernel=rbf, nu=0.01;, score=0.000 total time=   0.0s\n",
      "[CV 2/5] END ...gamma=10.0, kernel=rbf, nu=0.01;, score=0.000 total time=   0.0s\n"
     ]
    },
    {
     "name": "stderr",
     "output_type": "stream",
     "text": [
      "c:\\Users\\Hannah Nga\\.conda\\envs\\fraudenv\\lib\\site-packages\\sklearn\\metrics\\_classification.py:1509: UndefinedMetricWarning: Precision is ill-defined and being set to 0.0 due to no predicted samples. Use `zero_division` parameter to control this behavior.\n",
      "  _warn_prf(average, modifier, f\"{metric.capitalize()} is\", len(result))\n",
      "c:\\Users\\Hannah Nga\\.conda\\envs\\fraudenv\\lib\\site-packages\\sklearn\\metrics\\_classification.py:1509: UndefinedMetricWarning: Precision is ill-defined and being set to 0.0 due to no predicted samples. Use `zero_division` parameter to control this behavior.\n",
      "  _warn_prf(average, modifier, f\"{metric.capitalize()} is\", len(result))\n"
     ]
    },
    {
     "name": "stdout",
     "output_type": "stream",
     "text": [
      "[CV 3/5] END ...gamma=10.0, kernel=rbf, nu=0.01;, score=0.000 total time=   0.0s\n",
      "[CV 4/5] END ...gamma=10.0, kernel=rbf, nu=0.01;, score=0.000 total time=   0.0s\n"
     ]
    },
    {
     "name": "stderr",
     "output_type": "stream",
     "text": [
      "C:\\Users\\Hannah Nga\\AppData\\Local\\Temp\\ipykernel_25108\\1732734207.py:4: RuntimeWarning: invalid value encountered in scalar divide\n",
      "  return precision_score(y_true,y_pred) / fp\n",
      "c:\\Users\\Hannah Nga\\.conda\\envs\\fraudenv\\lib\\site-packages\\sklearn\\metrics\\_classification.py:1509: UndefinedMetricWarning: Precision is ill-defined and being set to 0.0 due to no predicted samples. Use `zero_division` parameter to control this behavior.\n",
      "  _warn_prf(average, modifier, f\"{metric.capitalize()} is\", len(result))\n"
     ]
    },
    {
     "name": "stdout",
     "output_type": "stream",
     "text": [
      "[CV 5/5] END .....gamma=10.0, kernel=rbf, nu=0.01;, score=nan total time=   0.1s\n",
      "[CV 1/5] END ...gamma=10.0, kernel=rbf, nu=0.05;, score=0.000 total time=   0.0s\n"
     ]
    },
    {
     "name": "stderr",
     "output_type": "stream",
     "text": [
      "c:\\Users\\Hannah Nga\\.conda\\envs\\fraudenv\\lib\\site-packages\\sklearn\\metrics\\_classification.py:1509: UndefinedMetricWarning: Precision is ill-defined and being set to 0.0 due to no predicted samples. Use `zero_division` parameter to control this behavior.\n",
      "  _warn_prf(average, modifier, f\"{metric.capitalize()} is\", len(result))\n",
      "c:\\Users\\Hannah Nga\\.conda\\envs\\fraudenv\\lib\\site-packages\\sklearn\\metrics\\_classification.py:1509: UndefinedMetricWarning: Precision is ill-defined and being set to 0.0 due to no predicted samples. Use `zero_division` parameter to control this behavior.\n",
      "  _warn_prf(average, modifier, f\"{metric.capitalize()} is\", len(result))\n"
     ]
    },
    {
     "name": "stdout",
     "output_type": "stream",
     "text": [
      "[CV 2/5] END ...gamma=10.0, kernel=rbf, nu=0.05;, score=0.000 total time=   0.0s\n",
      "[CV 3/5] END ...gamma=10.0, kernel=rbf, nu=0.05;, score=0.000 total time=   0.0s\n",
      "[CV 4/5] END ...gamma=10.0, kernel=rbf, nu=0.05;, score=0.000 total time=   0.0s\n",
      "[CV 5/5] END .....gamma=10.0, kernel=rbf, nu=0.05;, score=nan total time=   0.0s\n"
     ]
    },
    {
     "name": "stderr",
     "output_type": "stream",
     "text": [
      "C:\\Users\\Hannah Nga\\AppData\\Local\\Temp\\ipykernel_25108\\1732734207.py:4: RuntimeWarning: invalid value encountered in scalar divide\n",
      "  return precision_score(y_true,y_pred) / fp\n",
      "c:\\Users\\Hannah Nga\\.conda\\envs\\fraudenv\\lib\\site-packages\\sklearn\\metrics\\_classification.py:1509: UndefinedMetricWarning: Precision is ill-defined and being set to 0.0 due to no predicted samples. Use `zero_division` parameter to control this behavior.\n",
      "  _warn_prf(average, modifier, f\"{metric.capitalize()} is\", len(result))\n"
     ]
    },
    {
     "name": "stdout",
     "output_type": "stream",
     "text": [
      "[CV 1/5] END ....gamma=10.0, kernel=rbf, nu=0.1;, score=0.000 total time=   0.0s\n",
      "[CV 2/5] END ....gamma=10.0, kernel=rbf, nu=0.1;, score=0.000 total time=   0.0s\n"
     ]
    },
    {
     "name": "stderr",
     "output_type": "stream",
     "text": [
      "c:\\Users\\Hannah Nga\\.conda\\envs\\fraudenv\\lib\\site-packages\\sklearn\\metrics\\_classification.py:1509: UndefinedMetricWarning: Precision is ill-defined and being set to 0.0 due to no predicted samples. Use `zero_division` parameter to control this behavior.\n",
      "  _warn_prf(average, modifier, f\"{metric.capitalize()} is\", len(result))\n",
      "c:\\Users\\Hannah Nga\\.conda\\envs\\fraudenv\\lib\\site-packages\\sklearn\\metrics\\_classification.py:1509: UndefinedMetricWarning: Precision is ill-defined and being set to 0.0 due to no predicted samples. Use `zero_division` parameter to control this behavior.\n",
      "  _warn_prf(average, modifier, f\"{metric.capitalize()} is\", len(result))\n"
     ]
    },
    {
     "name": "stdout",
     "output_type": "stream",
     "text": [
      "[CV 3/5] END ....gamma=10.0, kernel=rbf, nu=0.1;, score=0.000 total time=   0.0s\n",
      "[CV 4/5] END ....gamma=10.0, kernel=rbf, nu=0.1;, score=0.000 total time=   0.0s\n"
     ]
    },
    {
     "name": "stderr",
     "output_type": "stream",
     "text": [
      "C:\\Users\\Hannah Nga\\AppData\\Local\\Temp\\ipykernel_25108\\1732734207.py:4: RuntimeWarning: invalid value encountered in scalar divide\n",
      "  return precision_score(y_true,y_pred) / fp\n",
      "c:\\Users\\Hannah Nga\\.conda\\envs\\fraudenv\\lib\\site-packages\\sklearn\\metrics\\_classification.py:1509: UndefinedMetricWarning: Precision is ill-defined and being set to 0.0 due to no predicted samples. Use `zero_division` parameter to control this behavior.\n",
      "  _warn_prf(average, modifier, f\"{metric.capitalize()} is\", len(result))\n"
     ]
    },
    {
     "name": "stdout",
     "output_type": "stream",
     "text": [
      "[CV 5/5] END ......gamma=10.0, kernel=rbf, nu=0.1;, score=nan total time=   0.0s\n",
      "[CV 1/5] END ....gamma=10.0, kernel=rbf, nu=0.2;, score=0.000 total time=   0.0s\n"
     ]
    },
    {
     "name": "stderr",
     "output_type": "stream",
     "text": [
      "c:\\Users\\Hannah Nga\\.conda\\envs\\fraudenv\\lib\\site-packages\\sklearn\\metrics\\_classification.py:1509: UndefinedMetricWarning: Precision is ill-defined and being set to 0.0 due to no predicted samples. Use `zero_division` parameter to control this behavior.\n",
      "  _warn_prf(average, modifier, f\"{metric.capitalize()} is\", len(result))\n",
      "c:\\Users\\Hannah Nga\\.conda\\envs\\fraudenv\\lib\\site-packages\\sklearn\\metrics\\_classification.py:1509: UndefinedMetricWarning: Precision is ill-defined and being set to 0.0 due to no predicted samples. Use `zero_division` parameter to control this behavior.\n",
      "  _warn_prf(average, modifier, f\"{metric.capitalize()} is\", len(result))\n"
     ]
    },
    {
     "name": "stdout",
     "output_type": "stream",
     "text": [
      "[CV 2/5] END ....gamma=10.0, kernel=rbf, nu=0.2;, score=0.000 total time=   0.1s\n",
      "[CV 3/5] END ....gamma=10.0, kernel=rbf, nu=0.2;, score=0.000 total time=   0.0s\n",
      "[CV 4/5] END ....gamma=10.0, kernel=rbf, nu=0.2;, score=0.000 total time=   0.0s\n",
      "[CV 5/5] END ......gamma=10.0, kernel=rbf, nu=0.2;, score=nan total time=   0.0s\n"
     ]
    },
    {
     "name": "stderr",
     "output_type": "stream",
     "text": [
      "C:\\Users\\Hannah Nga\\AppData\\Local\\Temp\\ipykernel_25108\\1732734207.py:4: RuntimeWarning: invalid value encountered in scalar divide\n",
      "  return precision_score(y_true,y_pred) / fp\n",
      "c:\\Users\\Hannah Nga\\.conda\\envs\\fraudenv\\lib\\site-packages\\sklearn\\metrics\\_classification.py:1509: UndefinedMetricWarning: Precision is ill-defined and being set to 0.0 due to no predicted samples. Use `zero_division` parameter to control this behavior.\n",
      "  _warn_prf(average, modifier, f\"{metric.capitalize()} is\", len(result))\n"
     ]
    },
    {
     "name": "stdout",
     "output_type": "stream",
     "text": [
      "[CV 1/5] END ....gamma=10.0, kernel=rbf, nu=0.3;, score=0.000 total time=   0.0s\n",
      "[CV 2/5] END ....gamma=10.0, kernel=rbf, nu=0.3;, score=0.000 total time=   0.0s\n"
     ]
    },
    {
     "name": "stderr",
     "output_type": "stream",
     "text": [
      "c:\\Users\\Hannah Nga\\.conda\\envs\\fraudenv\\lib\\site-packages\\sklearn\\metrics\\_classification.py:1509: UndefinedMetricWarning: Precision is ill-defined and being set to 0.0 due to no predicted samples. Use `zero_division` parameter to control this behavior.\n",
      "  _warn_prf(average, modifier, f\"{metric.capitalize()} is\", len(result))\n",
      "c:\\Users\\Hannah Nga\\.conda\\envs\\fraudenv\\lib\\site-packages\\sklearn\\metrics\\_classification.py:1509: UndefinedMetricWarning: Precision is ill-defined and being set to 0.0 due to no predicted samples. Use `zero_division` parameter to control this behavior.\n",
      "  _warn_prf(average, modifier, f\"{metric.capitalize()} is\", len(result))\n"
     ]
    },
    {
     "name": "stdout",
     "output_type": "stream",
     "text": [
      "[CV 3/5] END ....gamma=10.0, kernel=rbf, nu=0.3;, score=0.000 total time=   0.0s\n",
      "[CV 4/5] END ....gamma=10.0, kernel=rbf, nu=0.3;, score=0.000 total time=   0.0s\n"
     ]
    },
    {
     "name": "stderr",
     "output_type": "stream",
     "text": [
      "C:\\Users\\Hannah Nga\\AppData\\Local\\Temp\\ipykernel_25108\\1732734207.py:4: RuntimeWarning: invalid value encountered in scalar divide\n",
      "  return precision_score(y_true,y_pred) / fp\n",
      "c:\\Users\\Hannah Nga\\.conda\\envs\\fraudenv\\lib\\site-packages\\sklearn\\metrics\\_classification.py:1509: UndefinedMetricWarning: Precision is ill-defined and being set to 0.0 due to no predicted samples. Use `zero_division` parameter to control this behavior.\n",
      "  _warn_prf(average, modifier, f\"{metric.capitalize()} is\", len(result))\n"
     ]
    },
    {
     "name": "stdout",
     "output_type": "stream",
     "text": [
      "[CV 5/5] END ......gamma=10.0, kernel=rbf, nu=0.3;, score=nan total time=   0.0s\n",
      "[CV 1/5] END ....gamma=10.0, kernel=rbf, nu=0.5;, score=0.000 total time=   0.0s\n"
     ]
    },
    {
     "name": "stderr",
     "output_type": "stream",
     "text": [
      "c:\\Users\\Hannah Nga\\.conda\\envs\\fraudenv\\lib\\site-packages\\sklearn\\metrics\\_classification.py:1509: UndefinedMetricWarning: Precision is ill-defined and being set to 0.0 due to no predicted samples. Use `zero_division` parameter to control this behavior.\n",
      "  _warn_prf(average, modifier, f\"{metric.capitalize()} is\", len(result))\n",
      "c:\\Users\\Hannah Nga\\.conda\\envs\\fraudenv\\lib\\site-packages\\sklearn\\metrics\\_classification.py:1509: UndefinedMetricWarning: Precision is ill-defined and being set to 0.0 due to no predicted samples. Use `zero_division` parameter to control this behavior.\n",
      "  _warn_prf(average, modifier, f\"{metric.capitalize()} is\", len(result))\n"
     ]
    },
    {
     "name": "stdout",
     "output_type": "stream",
     "text": [
      "[CV 2/5] END ....gamma=10.0, kernel=rbf, nu=0.5;, score=0.000 total time=   0.0s\n",
      "[CV 3/5] END ....gamma=10.0, kernel=rbf, nu=0.5;, score=0.000 total time=   0.0s\n",
      "[CV 4/5] END ....gamma=10.0, kernel=rbf, nu=0.5;, score=0.000 total time=   0.0s\n",
      "[CV 5/5] END ......gamma=10.0, kernel=rbf, nu=0.5;, score=nan total time=   0.0s\n"
     ]
    },
    {
     "name": "stderr",
     "output_type": "stream",
     "text": [
      "C:\\Users\\Hannah Nga\\AppData\\Local\\Temp\\ipykernel_25108\\1732734207.py:4: RuntimeWarning: invalid value encountered in scalar divide\n",
      "  return precision_score(y_true,y_pred) / fp\n",
      "c:\\Users\\Hannah Nga\\.conda\\envs\\fraudenv\\lib\\site-packages\\sklearn\\metrics\\_classification.py:1509: UndefinedMetricWarning: Precision is ill-defined and being set to 0.0 due to no predicted samples. Use `zero_division` parameter to control this behavior.\n",
      "  _warn_prf(average, modifier, f\"{metric.capitalize()} is\", len(result))\n"
     ]
    },
    {
     "name": "stdout",
     "output_type": "stream",
     "text": [
      "[CV 1/5] END ....gamma=10.0, kernel=rbf, nu=0.7;, score=0.000 total time=   0.0s\n",
      "[CV 2/5] END ....gamma=10.0, kernel=rbf, nu=0.7;, score=0.000 total time=   0.0s\n"
     ]
    },
    {
     "name": "stderr",
     "output_type": "stream",
     "text": [
      "c:\\Users\\Hannah Nga\\.conda\\envs\\fraudenv\\lib\\site-packages\\sklearn\\metrics\\_classification.py:1509: UndefinedMetricWarning: Precision is ill-defined and being set to 0.0 due to no predicted samples. Use `zero_division` parameter to control this behavior.\n",
      "  _warn_prf(average, modifier, f\"{metric.capitalize()} is\", len(result))\n",
      "c:\\Users\\Hannah Nga\\.conda\\envs\\fraudenv\\lib\\site-packages\\sklearn\\metrics\\_classification.py:1509: UndefinedMetricWarning: Precision is ill-defined and being set to 0.0 due to no predicted samples. Use `zero_division` parameter to control this behavior.\n",
      "  _warn_prf(average, modifier, f\"{metric.capitalize()} is\", len(result))\n"
     ]
    },
    {
     "name": "stdout",
     "output_type": "stream",
     "text": [
      "[CV 3/5] END ....gamma=10.0, kernel=rbf, nu=0.7;, score=0.000 total time=   0.0s\n",
      "[CV 4/5] END ....gamma=10.0, kernel=rbf, nu=0.7;, score=0.000 total time=   0.0s\n"
     ]
    },
    {
     "name": "stderr",
     "output_type": "stream",
     "text": [
      "C:\\Users\\Hannah Nga\\AppData\\Local\\Temp\\ipykernel_25108\\1732734207.py:4: RuntimeWarning: invalid value encountered in scalar divide\n",
      "  return precision_score(y_true,y_pred) / fp\n",
      "c:\\Users\\Hannah Nga\\.conda\\envs\\fraudenv\\lib\\site-packages\\sklearn\\metrics\\_classification.py:1509: UndefinedMetricWarning: Precision is ill-defined and being set to 0.0 due to no predicted samples. Use `zero_division` parameter to control this behavior.\n",
      "  _warn_prf(average, modifier, f\"{metric.capitalize()} is\", len(result))\n"
     ]
    },
    {
     "name": "stdout",
     "output_type": "stream",
     "text": [
      "[CV 5/5] END ......gamma=10.0, kernel=rbf, nu=0.7;, score=nan total time=   0.0s\n",
      "[CV 1/5] END ....gamma=10.0, kernel=rbf, nu=0.9;, score=0.000 total time=   0.0s\n"
     ]
    },
    {
     "name": "stderr",
     "output_type": "stream",
     "text": [
      "c:\\Users\\Hannah Nga\\.conda\\envs\\fraudenv\\lib\\site-packages\\sklearn\\metrics\\_classification.py:1509: UndefinedMetricWarning: Precision is ill-defined and being set to 0.0 due to no predicted samples. Use `zero_division` parameter to control this behavior.\n",
      "  _warn_prf(average, modifier, f\"{metric.capitalize()} is\", len(result))\n",
      "c:\\Users\\Hannah Nga\\.conda\\envs\\fraudenv\\lib\\site-packages\\sklearn\\metrics\\_classification.py:1509: UndefinedMetricWarning: Precision is ill-defined and being set to 0.0 due to no predicted samples. Use `zero_division` parameter to control this behavior.\n",
      "  _warn_prf(average, modifier, f\"{metric.capitalize()} is\", len(result))\n"
     ]
    },
    {
     "name": "stdout",
     "output_type": "stream",
     "text": [
      "[CV 2/5] END ....gamma=10.0, kernel=rbf, nu=0.9;, score=0.000 total time=   0.0s\n",
      "[CV 3/5] END ....gamma=10.0, kernel=rbf, nu=0.9;, score=0.000 total time=   0.0s\n",
      "[CV 4/5] END ....gamma=10.0, kernel=rbf, nu=0.9;, score=0.000 total time=   0.0s\n",
      "[CV 5/5] END ......gamma=10.0, kernel=rbf, nu=0.9;, score=nan total time=   0.0s\n"
     ]
    },
    {
     "name": "stderr",
     "output_type": "stream",
     "text": [
      "C:\\Users\\Hannah Nga\\AppData\\Local\\Temp\\ipykernel_25108\\1732734207.py:4: RuntimeWarning: invalid value encountered in scalar divide\n",
      "  return precision_score(y_true,y_pred) / fp\n",
      "C:\\Users\\Hannah Nga\\AppData\\Local\\Temp\\ipykernel_25108\\1732734207.py:4: RuntimeWarning: invalid value encountered in scalar divide\n",
      "  return precision_score(y_true,y_pred) / fp\n"
     ]
    },
    {
     "name": "stdout",
     "output_type": "stream",
     "text": [
      "[CV 1/5] END .gamma=10.0, kernel=poly, nu=0.001;, score=0.023 total time=   0.0s\n",
      "[CV 2/5] END .gamma=10.0, kernel=poly, nu=0.001;, score=0.022 total time=   0.0s\n",
      "[CV 3/5] END .gamma=10.0, kernel=poly, nu=0.001;, score=0.016 total time=   0.0s\n",
      "[CV 4/5] END .gamma=10.0, kernel=poly, nu=0.001;, score=0.021 total time=   0.0s\n",
      "[CV 5/5] END ...gamma=10.0, kernel=poly, nu=0.001;, score=nan total time=   0.0s\n",
      "[CV 1/5] END .gamma=10.0, kernel=poly, nu=0.005;, score=0.021 total time=   0.0s\n",
      "[CV 2/5] END .gamma=10.0, kernel=poly, nu=0.005;, score=0.021 total time=   0.0s\n",
      "[CV 3/5] END .gamma=10.0, kernel=poly, nu=0.005;, score=0.016 total time=   0.0s\n",
      "[CV 4/5] END .gamma=10.0, kernel=poly, nu=0.005;, score=0.022 total time=   0.0s\n",
      "[CV 5/5] END ...gamma=10.0, kernel=poly, nu=0.005;, score=nan total time=   0.0s\n",
      "[CV 1/5] END ..gamma=10.0, kernel=poly, nu=0.01;, score=0.020 total time=   0.0s\n",
      "[CV 2/5] END ..gamma=10.0, kernel=poly, nu=0.01;, score=0.019 total time=   0.0s\n",
      "[CV 3/5] END ..gamma=10.0, kernel=poly, nu=0.01;, score=0.014 total time=   0.0s\n"
     ]
    },
    {
     "name": "stderr",
     "output_type": "stream",
     "text": [
      "C:\\Users\\Hannah Nga\\AppData\\Local\\Temp\\ipykernel_25108\\1732734207.py:4: RuntimeWarning: invalid value encountered in scalar divide\n",
      "  return precision_score(y_true,y_pred) / fp\n",
      "C:\\Users\\Hannah Nga\\AppData\\Local\\Temp\\ipykernel_25108\\1732734207.py:4: RuntimeWarning: invalid value encountered in scalar divide\n",
      "  return precision_score(y_true,y_pred) / fp\n"
     ]
    },
    {
     "name": "stdout",
     "output_type": "stream",
     "text": [
      "[CV 4/5] END ..gamma=10.0, kernel=poly, nu=0.01;, score=0.023 total time=   0.0s\n",
      "[CV 5/5] END ....gamma=10.0, kernel=poly, nu=0.01;, score=nan total time=   0.0s\n",
      "[CV 1/5] END ..gamma=10.0, kernel=poly, nu=0.05;, score=0.018 total time=   0.0s\n",
      "[CV 2/5] END ..gamma=10.0, kernel=poly, nu=0.05;, score=0.016 total time=   0.0s\n",
      "[CV 3/5] END ..gamma=10.0, kernel=poly, nu=0.05;, score=0.013 total time=   0.0s\n",
      "[CV 4/5] END ..gamma=10.0, kernel=poly, nu=0.05;, score=0.020 total time=   0.0s\n"
     ]
    },
    {
     "name": "stderr",
     "output_type": "stream",
     "text": [
      "C:\\Users\\Hannah Nga\\AppData\\Local\\Temp\\ipykernel_25108\\1732734207.py:4: RuntimeWarning: invalid value encountered in scalar divide\n",
      "  return precision_score(y_true,y_pred) / fp\n",
      "C:\\Users\\Hannah Nga\\AppData\\Local\\Temp\\ipykernel_25108\\1732734207.py:4: RuntimeWarning: invalid value encountered in scalar divide\n",
      "  return precision_score(y_true,y_pred) / fp\n"
     ]
    },
    {
     "name": "stdout",
     "output_type": "stream",
     "text": [
      "[CV 5/5] END ....gamma=10.0, kernel=poly, nu=0.05;, score=nan total time=   0.0s\n",
      "[CV 1/5] END ...gamma=10.0, kernel=poly, nu=0.1;, score=0.015 total time=   0.0s\n",
      "[CV 2/5] END ...gamma=10.0, kernel=poly, nu=0.1;, score=0.014 total time=   0.0s\n",
      "[CV 3/5] END ...gamma=10.0, kernel=poly, nu=0.1;, score=0.013 total time=   0.0s\n",
      "[CV 4/5] END ...gamma=10.0, kernel=poly, nu=0.1;, score=0.018 total time=   0.0s\n",
      "[CV 5/5] END .....gamma=10.0, kernel=poly, nu=0.1;, score=nan total time=   0.0s\n",
      "[CV 1/5] END ...gamma=10.0, kernel=poly, nu=0.2;, score=0.011 total time=   0.0s\n",
      "[CV 2/5] END ...gamma=10.0, kernel=poly, nu=0.2;, score=0.010 total time=   0.0s\n",
      "[CV 3/5] END ...gamma=10.0, kernel=poly, nu=0.2;, score=0.010 total time=   0.0s\n",
      "[CV 4/5] END ...gamma=10.0, kernel=poly, nu=0.2;, score=0.012 total time=   0.0s\n",
      "[CV 5/5] END .....gamma=10.0, kernel=poly, nu=0.2;, score=nan total time=   0.0s\n",
      "[CV 1/5] END ...gamma=10.0, kernel=poly, nu=0.3;, score=0.009 total time=   0.0s\n"
     ]
    },
    {
     "name": "stderr",
     "output_type": "stream",
     "text": [
      "C:\\Users\\Hannah Nga\\AppData\\Local\\Temp\\ipykernel_25108\\1732734207.py:4: RuntimeWarning: invalid value encountered in scalar divide\n",
      "  return precision_score(y_true,y_pred) / fp\n"
     ]
    },
    {
     "name": "stdout",
     "output_type": "stream",
     "text": [
      "[CV 2/5] END ...gamma=10.0, kernel=poly, nu=0.3;, score=0.008 total time=   0.0s\n",
      "[CV 3/5] END ...gamma=10.0, kernel=poly, nu=0.3;, score=0.007 total time=   0.0s\n",
      "[CV 4/5] END ...gamma=10.0, kernel=poly, nu=0.3;, score=0.009 total time=   0.0s\n",
      "[CV 5/5] END .....gamma=10.0, kernel=poly, nu=0.3;, score=nan total time=   0.0s\n",
      "[CV 1/5] END ...gamma=10.0, kernel=poly, nu=0.5;, score=0.005 total time=   0.0s\n"
     ]
    },
    {
     "name": "stderr",
     "output_type": "stream",
     "text": [
      "C:\\Users\\Hannah Nga\\AppData\\Local\\Temp\\ipykernel_25108\\1732734207.py:4: RuntimeWarning: invalid value encountered in scalar divide\n",
      "  return precision_score(y_true,y_pred) / fp\n"
     ]
    },
    {
     "name": "stdout",
     "output_type": "stream",
     "text": [
      "[CV 2/5] END ...gamma=10.0, kernel=poly, nu=0.5;, score=0.005 total time=   0.0s\n",
      "[CV 3/5] END ...gamma=10.0, kernel=poly, nu=0.5;, score=0.005 total time=   0.0s\n",
      "[CV 4/5] END ...gamma=10.0, kernel=poly, nu=0.5;, score=0.006 total time=   0.0s\n",
      "[CV 5/5] END .....gamma=10.0, kernel=poly, nu=0.5;, score=nan total time=   0.0s\n",
      "[CV 1/5] END ...gamma=10.0, kernel=poly, nu=0.7;, score=0.004 total time=   0.0s\n"
     ]
    },
    {
     "name": "stderr",
     "output_type": "stream",
     "text": [
      "C:\\Users\\Hannah Nga\\AppData\\Local\\Temp\\ipykernel_25108\\1732734207.py:4: RuntimeWarning: invalid value encountered in scalar divide\n",
      "  return precision_score(y_true,y_pred) / fp\n"
     ]
    },
    {
     "name": "stdout",
     "output_type": "stream",
     "text": [
      "[CV 2/5] END ...gamma=10.0, kernel=poly, nu=0.7;, score=0.004 total time=   0.0s\n",
      "[CV 3/5] END ...gamma=10.0, kernel=poly, nu=0.7;, score=0.004 total time=   0.0s\n",
      "[CV 4/5] END ...gamma=10.0, kernel=poly, nu=0.7;, score=0.004 total time=   0.0s\n",
      "[CV 5/5] END .....gamma=10.0, kernel=poly, nu=0.7;, score=nan total time=   0.0s\n"
     ]
    },
    {
     "name": "stderr",
     "output_type": "stream",
     "text": [
      "C:\\Users\\Hannah Nga\\AppData\\Local\\Temp\\ipykernel_25108\\1732734207.py:4: RuntimeWarning: invalid value encountered in scalar divide\n",
      "  return precision_score(y_true,y_pred) / fp\n"
     ]
    },
    {
     "name": "stdout",
     "output_type": "stream",
     "text": [
      "[CV 1/5] END ...gamma=10.0, kernel=poly, nu=0.9;, score=0.003 total time=   0.0s\n",
      "[CV 2/5] END ...gamma=10.0, kernel=poly, nu=0.9;, score=0.003 total time=   0.0s\n",
      "[CV 3/5] END ...gamma=10.0, kernel=poly, nu=0.9;, score=0.003 total time=   0.0s\n",
      "[CV 4/5] END ...gamma=10.0, kernel=poly, nu=0.9;, score=0.003 total time=   0.0s\n"
     ]
    },
    {
     "name": "stderr",
     "output_type": "stream",
     "text": [
      "c:\\Users\\Hannah Nga\\.conda\\envs\\fraudenv\\lib\\site-packages\\sklearn\\metrics\\_classification.py:1509: UndefinedMetricWarning: Precision is ill-defined and being set to 0.0 due to no predicted samples. Use `zero_division` parameter to control this behavior.\n",
      "  _warn_prf(average, modifier, f\"{metric.capitalize()} is\", len(result))\n",
      "C:\\Users\\Hannah Nga\\AppData\\Local\\Temp\\ipykernel_25108\\1732734207.py:4: RuntimeWarning: invalid value encountered in scalar divide\n",
      "  return precision_score(y_true,y_pred) / fp\n",
      "C:\\Users\\Hannah Nga\\AppData\\Local\\Temp\\ipykernel_25108\\1732734207.py:4: RuntimeWarning: invalid value encountered in scalar divide\n",
      "  return precision_score(y_true,y_pred) / fp\n",
      "C:\\Users\\Hannah Nga\\AppData\\Local\\Temp\\ipykernel_25108\\1732734207.py:4: RuntimeWarning: invalid value encountered in scalar divide\n",
      "  return precision_score(y_true,y_pred) / fp\n",
      "C:\\Users\\Hannah Nga\\AppData\\Local\\Temp\\ipykernel_25108\\1732734207.py:4: RuntimeWarning: invalid value encountered in scalar divide\n",
      "  return precision_score(y_true,y_pred) / fp\n",
      "C:\\Users\\Hannah Nga\\AppData\\Local\\Temp\\ipykernel_25108\\1732734207.py:4: RuntimeWarning: invalid value encountered in scalar divide\n",
      "  return precision_score(y_true,y_pred) / fp\n"
     ]
    },
    {
     "name": "stdout",
     "output_type": "stream",
     "text": [
      "[CV 5/5] END .....gamma=10.0, kernel=poly, nu=0.9;, score=nan total time=   0.0s\n",
      "[CV 1/5] END gamma=10.0, kernel=sigmoid, nu=0.001;, score=0.985 total time=   0.0s\n",
      "[CV 2/5] END gamma=10.0, kernel=sigmoid, nu=0.001;, score=0.110 total time=   0.0s\n",
      "[CV 3/5] END gamma=10.0, kernel=sigmoid, nu=0.001;, score=0.493 total time=   0.0s\n",
      "[CV 4/5] END gamma=10.0, kernel=sigmoid, nu=0.001;, score=0.069 total time=   0.0s\n",
      "[CV 5/5] END gamma=10.0, kernel=sigmoid, nu=0.001;, score=nan total time=   0.0s\n",
      "[CV 1/5] END gamma=10.0, kernel=sigmoid, nu=0.005;, score=0.985 total time=   0.0s\n",
      "[CV 2/5] END gamma=10.0, kernel=sigmoid, nu=0.005;, score=0.328 total time=   0.0s\n",
      "[CV 3/5] END gamma=10.0, kernel=sigmoid, nu=0.005;, score=0.197 total time=   0.0s\n",
      "[CV 4/5] END gamma=10.0, kernel=sigmoid, nu=0.005;, score=0.890 total time=   0.0s\n",
      "[CV 5/5] END gamma=10.0, kernel=sigmoid, nu=0.005;, score=nan total time=   0.0s\n",
      "[CV 1/5] END gamma=10.0, kernel=sigmoid, nu=0.01;, score=0.985 total time=   0.0s\n",
      "[CV 2/5] END gamma=10.0, kernel=sigmoid, nu=0.01;, score=0.493 total time=   0.0s\n",
      "[CV 3/5] END gamma=10.0, kernel=sigmoid, nu=0.01;, score=0.985 total time=   0.0s\n",
      "[CV 4/5] END gamma=10.0, kernel=sigmoid, nu=0.01;, score=0.222 total time=   0.0s\n",
      "[CV 5/5] END .gamma=10.0, kernel=sigmoid, nu=0.01;, score=nan total time=   0.0s\n",
      "[CV 1/5] END gamma=10.0, kernel=sigmoid, nu=0.05;, score=0.082 total time=   0.0s\n",
      "[CV 2/5] END gamma=10.0, kernel=sigmoid, nu=0.05;, score=0.039 total time=   0.0s\n",
      "[CV 3/5] END gamma=10.0, kernel=sigmoid, nu=0.05;, score=0.043 total time=   0.0s\n",
      "[CV 4/5] END gamma=10.0, kernel=sigmoid, nu=0.05;, score=0.049 total time=   0.0s\n",
      "[CV 5/5] END .gamma=10.0, kernel=sigmoid, nu=0.05;, score=nan total time=   0.0s\n",
      "[CV 1/5] END gamma=10.0, kernel=sigmoid, nu=0.1;, score=0.029 total time=   0.0s\n",
      "[CV 2/5] END gamma=10.0, kernel=sigmoid, nu=0.1;, score=0.018 total time=   0.0s\n",
      "[CV 3/5] END gamma=10.0, kernel=sigmoid, nu=0.1;, score=0.020 total time=   0.0s\n",
      "[CV 4/5] END gamma=10.0, kernel=sigmoid, nu=0.1;, score=0.019 total time=   0.0s\n",
      "[CV 5/5] END ..gamma=10.0, kernel=sigmoid, nu=0.1;, score=nan total time=   0.0s\n",
      "[CV 1/5] END gamma=10.0, kernel=sigmoid, nu=0.2;, score=0.014 total time=   0.0s\n",
      "[CV 2/5] END gamma=10.0, kernel=sigmoid, nu=0.2;, score=0.011 total time=   0.0s\n",
      "[CV 3/5] END gamma=10.0, kernel=sigmoid, nu=0.2;, score=0.012 total time=   0.0s\n"
     ]
    },
    {
     "name": "stderr",
     "output_type": "stream",
     "text": [
      "C:\\Users\\Hannah Nga\\AppData\\Local\\Temp\\ipykernel_25108\\1732734207.py:4: RuntimeWarning: invalid value encountered in scalar divide\n",
      "  return precision_score(y_true,y_pred) / fp\n"
     ]
    },
    {
     "name": "stdout",
     "output_type": "stream",
     "text": [
      "[CV 4/5] END gamma=10.0, kernel=sigmoid, nu=0.2;, score=0.011 total time=   0.0s\n",
      "[CV 5/5] END ..gamma=10.0, kernel=sigmoid, nu=0.2;, score=nan total time=   0.0s\n",
      "[CV 1/5] END gamma=10.0, kernel=sigmoid, nu=0.3;, score=0.009 total time=   0.0s\n",
      "[CV 2/5] END gamma=10.0, kernel=sigmoid, nu=0.3;, score=0.007 total time=   0.0s\n"
     ]
    },
    {
     "name": "stderr",
     "output_type": "stream",
     "text": [
      "C:\\Users\\Hannah Nga\\AppData\\Local\\Temp\\ipykernel_25108\\1732734207.py:4: RuntimeWarning: invalid value encountered in scalar divide\n",
      "  return precision_score(y_true,y_pred) / fp\n"
     ]
    },
    {
     "name": "stdout",
     "output_type": "stream",
     "text": [
      "[CV 3/5] END gamma=10.0, kernel=sigmoid, nu=0.3;, score=0.008 total time=   0.0s\n",
      "[CV 4/5] END gamma=10.0, kernel=sigmoid, nu=0.3;, score=0.007 total time=   0.0s\n",
      "[CV 5/5] END ..gamma=10.0, kernel=sigmoid, nu=0.3;, score=nan total time=   0.0s\n"
     ]
    },
    {
     "name": "stderr",
     "output_type": "stream",
     "text": [
      "C:\\Users\\Hannah Nga\\AppData\\Local\\Temp\\ipykernel_25108\\1732734207.py:4: RuntimeWarning: invalid value encountered in scalar divide\n",
      "  return precision_score(y_true,y_pred) / fp\n"
     ]
    },
    {
     "name": "stdout",
     "output_type": "stream",
     "text": [
      "[CV 1/5] END gamma=10.0, kernel=sigmoid, nu=0.5;, score=0.006 total time=   0.0s\n",
      "[CV 2/5] END gamma=10.0, kernel=sigmoid, nu=0.5;, score=0.004 total time=   0.0s\n",
      "[CV 3/5] END gamma=10.0, kernel=sigmoid, nu=0.5;, score=0.005 total time=   0.0s\n",
      "[CV 4/5] END gamma=10.0, kernel=sigmoid, nu=0.5;, score=0.005 total time=   0.0s\n",
      "[CV 5/5] END ..gamma=10.0, kernel=sigmoid, nu=0.5;, score=nan total time=   0.0s\n"
     ]
    },
    {
     "name": "stderr",
     "output_type": "stream",
     "text": [
      "C:\\Users\\Hannah Nga\\AppData\\Local\\Temp\\ipykernel_25108\\1732734207.py:4: RuntimeWarning: invalid value encountered in scalar divide\n",
      "  return precision_score(y_true,y_pred) / fp\n"
     ]
    },
    {
     "name": "stdout",
     "output_type": "stream",
     "text": [
      "[CV 1/5] END gamma=10.0, kernel=sigmoid, nu=0.7;, score=0.004 total time=   0.0s\n",
      "[CV 2/5] END gamma=10.0, kernel=sigmoid, nu=0.7;, score=0.003 total time=   0.0s\n",
      "[CV 3/5] END gamma=10.0, kernel=sigmoid, nu=0.7;, score=0.004 total time=   0.0s\n",
      "[CV 4/5] END gamma=10.0, kernel=sigmoid, nu=0.7;, score=0.003 total time=   0.0s\n"
     ]
    },
    {
     "name": "stderr",
     "output_type": "stream",
     "text": [
      "C:\\Users\\Hannah Nga\\AppData\\Local\\Temp\\ipykernel_25108\\1732734207.py:4: RuntimeWarning: invalid value encountered in scalar divide\n",
      "  return precision_score(y_true,y_pred) / fp\n"
     ]
    },
    {
     "name": "stdout",
     "output_type": "stream",
     "text": [
      "[CV 5/5] END ..gamma=10.0, kernel=sigmoid, nu=0.7;, score=nan total time=   0.0s\n",
      "[CV 1/5] END gamma=10.0, kernel=sigmoid, nu=0.9;, score=0.003 total time=   0.0s\n",
      "[CV 2/5] END gamma=10.0, kernel=sigmoid, nu=0.9;, score=0.003 total time=   0.0s\n",
      "[CV 3/5] END gamma=10.0, kernel=sigmoid, nu=0.9;, score=0.003 total time=   0.0s\n",
      "[CV 4/5] END gamma=10.0, kernel=sigmoid, nu=0.9;, score=0.003 total time=   0.0s\n",
      "[CV 5/5] END ..gamma=10.0, kernel=sigmoid, nu=0.9;, score=nan total time=   0.0s\n",
      "{'gamma': 'scale', 'kernel': 'linear', 'nu': 0.001}\n",
      "OneClassSVM(kernel='linear', nu=0.001)\n",
      "              precision    recall  f1-score   support\n",
      "\n",
      "          -1       0.00      0.00      0.00         4\n",
      "           1       0.99      0.68      0.80       396\n",
      "\n",
      "    accuracy                           0.67       400\n",
      "   macro avg       0.49      0.34      0.40       400\n",
      "weighted avg       0.98      0.67      0.79       400\n",
      "\n"
     ]
    },
    {
     "name": "stderr",
     "output_type": "stream",
     "text": [
      "C:\\Users\\Hannah Nga\\AppData\\Local\\Temp\\ipykernel_25108\\1732734207.py:4: RuntimeWarning: invalid value encountered in scalar divide\n",
      "  return precision_score(y_true,y_pred) / fp\n",
      "c:\\Users\\Hannah Nga\\.conda\\envs\\fraudenv\\lib\\site-packages\\sklearn\\model_selection\\_search.py:1051: UserWarning: One or more of the test scores are non-finite: [nan nan nan nan nan nan nan nan nan nan nan nan nan nan nan nan nan nan\n",
      " nan nan nan nan nan nan nan nan nan nan nan nan nan nan nan nan nan nan\n",
      " nan nan nan nan nan nan nan nan nan nan nan nan nan nan nan nan nan nan\n",
      " nan nan nan nan nan nan nan nan nan nan nan nan nan nan nan nan nan nan\n",
      " nan nan nan nan nan nan nan nan nan nan nan nan nan nan nan nan nan nan\n",
      " nan nan nan nan nan nan nan nan nan nan nan nan nan nan nan nan nan nan\n",
      " nan nan nan nan nan nan nan nan nan nan nan nan nan nan nan nan nan nan\n",
      " nan nan nan nan nan nan nan nan nan nan nan nan nan nan nan nan nan nan\n",
      " nan nan nan nan nan nan nan nan nan nan nan nan nan nan nan nan nan nan\n",
      " nan nan nan nan nan nan nan nan nan nan nan nan nan nan nan nan nan nan\n",
      " nan nan nan nan nan nan nan nan nan nan nan nan nan nan nan nan nan nan\n",
      " nan nan nan nan nan nan nan nan nan nan nan nan nan nan nan nan nan nan\n",
      " nan nan nan nan nan nan nan nan nan nan nan nan nan nan nan nan nan nan\n",
      " nan nan nan nan nan nan nan nan nan nan nan nan nan nan nan nan nan nan\n",
      " nan nan nan nan nan nan nan nan nan nan nan nan nan nan nan nan nan nan\n",
      " nan nan nan nan nan nan nan nan nan nan nan nan nan nan nan nan nan nan\n",
      " nan nan nan nan nan nan nan nan nan nan nan nan nan nan nan nan nan nan\n",
      " nan nan nan nan nan nan nan nan nan nan nan nan nan nan]\n",
      "  warnings.warn(\n"
     ]
    }
   ],
   "source": [
    "def custom_scorer(y_true, y_pred):\n",
    "    # Compute confusion matrix\n",
    "    fp = sum((y_true == 1) & (y_pred == -1))  # False Positives\n",
    "    return precision_score(y_true,y_pred) / fp\n",
    "\n",
    "# Create a scorer using make_scorer\n",
    "scorer = make_scorer(custom_scorer, greater_is_better=True)\n",
    "\n",
    "# defining parameter range \n",
    "param_grid = {\n",
    "    'nu': [0.001, 0.005, 0.01, 0.05, 0.1, 0.2, 0.3, 0.5, 0.7, 0.9],  # Regularization parameter\n",
    "    'kernel': ['linear', 'rbf', 'poly', 'sigmoid'],  # Kernel type\n",
    "    'gamma': ['scale', 'auto', 0.1, 0.01, 0.001, 0.0001, 1.0, 10.0]  # Kernel coefficient for 'rbf', 'poly', and 'sigmoid'\n",
    "}\n",
    "# scorer = make_scorer(precision_score, average='weighted')\n",
    "\n",
    "grid = GridSearchCV(OneClassSVM(), param_grid, refit = True, verbose = 3, scoring=scorer) \n",
    "\n",
    "\n",
    "# fitting the model for grid search \n",
    "grid.fit(X_train_scaled_smote, y_train_smote) \n",
    "\n",
    "# print best parameter after tuning \n",
    "print(grid.best_params_) \n",
    "\n",
    "# print how our model looks after hyper-parameter tuning \n",
    "print(grid.best_estimator_) \n",
    "\n",
    "grid_predictions = grid.predict(X_test_scaled) \n",
    "\n",
    "# print classification report \n",
    "print(classification_report(y_test_smote, grid_predictions)) \n"
   ]
  },
  {
   "cell_type": "code",
   "execution_count": 19,
   "metadata": {},
   "outputs": [
    {
     "name": "stdout",
     "output_type": "stream",
     "text": [
      "##############################\n",
      "Train Evaluation\n",
      "##############################\n"
     ]
    },
    {
     "data": {
      "image/png": "[encoded data removed]",
      "text/plain": [
       "<Figure size 640x480 with 2 Axes>"
      ]
     },
     "metadata": {},
     "output_type": "display_data"
    },
    {
     "name": "stdout",
     "output_type": "stream",
     "text": [
      "##############################\n",
      "Test Evaluation\n",
      "##############################\n"
     ]
    },
    {
     "data": {
      "image/png": "[encoded data removed]",
      "text/plain": [
       "<Figure size 640x480 with 2 Axes>"
      ]
     },
     "metadata": {},
     "output_type": "display_data"
    }
   ],
   "source": [
    "# wider param grid, smote\n",
    "\n",
    "print(\"##############################\")\n",
    "print(\"Train Evaluation\")\n",
    "print(\"##############################\")\n",
    "grid_predictions = grid.predict(X_train_scaled_smote) \n",
    "\n",
    "conf_matrix = confusion_matrix(y_train_smote, grid_predictions, labels=[1, -1])\n",
    "\n",
    "disp = ConfusionMatrixDisplay(confusion_matrix=conf_matrix,\n",
    "                                display_labels=[\"Normal\", \"Anomaly\"])\n",
    "disp.plot(cmap=plt.cm.Blues)\n",
    "plt.title('Confusion Matrix')\n",
    "plt.show()\n",
    "\n",
    "print(\"##############################\")\n",
    "print(\"Test Evaluation\")\n",
    "print(\"##############################\")\n",
    "\n",
    "grid_predictions = grid.predict(X_test_scaled) \n",
    "\n",
    "conf_matrix = confusion_matrix(y_test_smote, grid_predictions, labels=[1, -1])\n",
    "\n",
    "disp = ConfusionMatrixDisplay(confusion_matrix=conf_matrix,\n",
    "                                display_labels=[\"Normal\", \"Anomaly\"])\n",
    "disp.plot(cmap=plt.cm.Blues)\n",
    "plt.title('Confusion Matrix')\n",
    "plt.show()"
   ]
  },
  {
   "cell_type": "markdown",
   "metadata": {},
   "source": [
    "## Risk scores"
   ]
  },
  {
   "cell_type": "code",
   "execution_count": 15,
   "metadata": {},
   "outputs": [],
   "source": [
    "def get_risk_score(clf, X):\n",
    "    def min_max_scaling(value, new_min, new_max):\n",
    "        old_min = min(value)\n",
    "        old_max = max(value)\n",
    "        scaled_value = ((value - old_min) / (old_max - old_min)) * (new_max - new_min) + new_min\n",
    "        return scaled_value\n",
    "    \n",
    "    # distance from decision boundary where negative = non anomaly and positive = anomaly\n",
    "    distances = clf.decision_function(X)\n",
    "    risk_scores = min_max_scaling(distances, -1,1)\n",
    "    \n",
    "    return risk_scores\n"
   ]
  },
  {
   "cell_type": "code",
   "execution_count": 16,
   "metadata": {},
   "outputs": [],
   "source": [
    "train_risk = get_risk_score(best_clf, X_train_scaled)\n",
    "test_risk = get_risk_score(best_clf, X_test_scaled)"
   ]
  },
  {
   "cell_type": "markdown",
   "metadata": {},
   "source": [
    "TODO: Rename to confidence score (modulus of risk) because bigger is better  \n",
    "ADD AUC"
   ]
  },
  {
   "cell_type": "code",
   "execution_count": 17,
   "metadata": {},
   "outputs": [
    {
     "data": {
      "image/png": "[encoded data removed]",
      "text/plain": [
       "<Figure size 640x480 with 1 Axes>"
      ]
     },
     "metadata": {},
     "output_type": "display_data"
    }
   ],
   "source": [
    "# Plot histogram\n",
    "plt.hist(train_risk, bins=30, edgecolor='black')  # Adjust bins as needed\n",
    "plt.xlabel('Train Risk Scores')\n",
    "plt.ylabel('Frequency')\n",
    "plt.title('Histogram of Train Data Risk Scores')\n",
    "plt.grid(True)\n",
    "plt.show()"
   ]
  },
  {
   "cell_type": "code",
   "execution_count": 18,
   "metadata": {},
   "outputs": [
    {
     "data": {
      "image/png": "[encoded data removed]",
      "text/plain": [
       "<Figure size 640x480 with 1 Axes>"
      ]
     },
     "metadata": {},
     "output_type": "display_data"
    }
   ],
   "source": [
    "import matplotlib.pyplot as plt\n",
    "# Plot histogram\n",
    "plt.hist(test_risk, bins=30, edgecolor='black')  # Adjust bins as needed\n",
    "plt.xlabel('Test Risk Scores')\n",
    "plt.ylabel('Frequency')\n",
    "plt.title('Histogram of Test Data Risk Scores')\n",
    "plt.grid(True)\n",
    "plt.show()"
   ]
  },
  {
   "cell_type": "code",
   "execution_count": 19,
   "metadata": {},
   "outputs": [
    {
     "name": "stdout",
     "output_type": "stream",
     "text": [
      "Example Train Risk Scores:\n",
      "[-0.65403703 -0.32256257 -0.0517448  -0.02032487  0.35945298 -0.69463912\n",
      "  0.28329003 -0.32144926  0.35415059 -0.01628515]\n",
      "\n",
      "Example Test Risk Scores:\n",
      "[ 0.75738716 -0.67409111 -0.28042474  0.07983322  0.03989024  0.03775803\n",
      "  0.00332596 -0.34844985 -0.31595053  0.04900708]\n"
     ]
    }
   ],
   "source": [
    "print(\"Example Train Risk Scores:\")\n",
    "print(train_risk[:10])  \n",
    "print(\"\\nExample Test Risk Scores:\")\n",
    "print(test_risk[:10])"
   ]
  },
  {
   "cell_type": "markdown",
   "metadata": {},
   "source": [
    "## Export CSV of FP and FN names for entire dataset"
   ]
  },
  {
   "cell_type": "code",
   "execution_count": 20,
   "metadata": {},
   "outputs": [],
   "source": [
    "train_pred = np.where(train_pred == -1, 1, 0)\n",
    "test_pred = np.where(test_pred == -1, 1, 0)"
   ]
  },
  {
   "cell_type": "code",
   "execution_count": 21,
   "metadata": {},
   "outputs": [],
   "source": [
    "# Filter out empty entries before concatenating\n",
    "fp_train_names = X_train_w_name.iloc[np.where((y_train == 0) & (train_pred == 1))[0]][\"user\"]\n",
    "fp_train_names = fp_train_names[fp_train_names.notnull()]  # Filter out NaNs if any\n",
    "fp_test_names = X_test_w_name.iloc[np.where((y_test == 0) & (test_pred == 1))[0]][\"user\"]\n",
    "fp_test_names = fp_test_names[fp_test_names.notnull()]  # Filter out NaNs if any\n",
    "fn_train_names = X_train_w_name.iloc[np.where((y_train == 1) & (train_pred == 0))[0]][\"user\"]\n",
    "fn_train_names = fn_train_names[fn_train_names.notnull()]  # Filter out NaNs if any\n",
    "fn_test_names = X_test_w_name.iloc[np.where((y_test == 1) & (test_pred == 0))[0]][\"user\"]\n",
    "fn_test_names = fn_test_names[fn_test_names.notnull()]  # Filter out NaNs if any\n",
    "\n",
    "# Concatenate false positives and false negatives dataframes\n",
    "fp_names = pd.concat([fp_train_names, fp_test_names], ignore_index=True)\n",
    "fn_names = pd.concat([fn_train_names, fn_test_names], ignore_index=True)\n",
    "# Create a dictionary with fp and fn dataframes\n",
    "data = {'False Positives': fp_names, 'False Negatives': fn_names}\n",
    "\n",
    "# Create a Pandas DataFrame\n",
    "df = pd.DataFrame(data)\n",
    "\n",
    "# Export the DataFrame to a CSV file\n",
    "df.to_csv('fp_fn_names.csv', index=False)"
   ]
  },
  {
   "cell_type": "code",
   "execution_count": 22,
   "metadata": {},
   "outputs": [
    {
     "data": {
      "text/plain": [
       "0     ICB1354\n",
       "1     NAH1366\n",
       "2     HXP0976\n",
       "3     OSS1463\n",
       "4     SNK1280\n",
       "5     CHP1711\n",
       "6     VCF1602\n",
       "7     JAL0811\n",
       "8     CKP0630\n",
       "9     GWG0497\n",
       "10    MDS0680\n",
       "11    DCC1119\n",
       "12    TRC1838\n",
       "13    RRS0056\n",
       "14    BYO1846\n",
       "15    HSN0675\n",
       "16    ITA0159\n",
       "17    ZIE0741\n",
       "18    CIF1430\n",
       "19    KSS1005\n",
       "20    HMS1658\n",
       "21    HIS1394\n",
       "22    LVF1626\n",
       "23    WDT1634\n",
       "24    MGB1235\n",
       "25    SIS0042\n",
       "26    OKM1092\n",
       "27    TNB1616\n",
       "28    MCP0611\n",
       "Name: user, dtype: string"
      ]
     },
     "execution_count": 22,
     "metadata": {},
     "output_type": "execute_result"
    }
   ],
   "source": [
    "fn_names"
   ]
  }
 ],
 "metadata": {
  "kernelspec": {
   "display_name": "fraudenv",
   "language": "python",
   "name": "fraudenv"
  },
  "language_info": {
   "codemirror_mode": {
    "name": "ipython",
    "version": 3
   },
   "file_extension": ".py",
   "mimetype": "text/x-python",
   "name": "python",
   "nbconvert_exporter": "python",
   "pygments_lexer": "ipython3",
   "version": "3.9.19"
  }
 },
 "nbformat": 4,
 "nbformat_minor": 2
}
