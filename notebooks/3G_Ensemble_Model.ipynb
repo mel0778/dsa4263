{
 "cells": [
  {
   "cell_type": "code",
   "execution_count": 13,
   "metadata": {},
   "outputs": [],
   "source": [
    "import dask.dataframe as dd\n",
    "import os\n",
    "import numpy as np\n",
    "from sklearn.metrics import (accuracy_score, precision_score, recall_score, confusion_matrix, precision_recall_curve, ConfusionMatrixDisplay, classification_report, auc, roc_curve, precision_recall_fscore_support, f1_score)\n",
    "import matplotlib.pyplot as plt\n",
    "from sklearn.metrics import roc_auc_score, roc_curve"
   ]
  },
  {
   "cell_type": "markdown",
   "metadata": {},
   "source": [
    "# Paths"
   ]
  },
  {
   "cell_type": "code",
   "execution_count": 2,
   "metadata": {},
   "outputs": [],
   "source": [
    "processed_dir = os.path.join( \"..\", \"data\", \"processed\")\n",
    "\n",
    "final_dataset_path = os.path.join(processed_dir, 'FEData_For_Modelling.parquet')\n",
    "\n",
    "minority_users_dt_pq = os.path.join(processed_dir, 'minority_users_dt.parquet')\n",
    "minority_users_smote_dt_pq = os.path.join(processed_dir, 'minority_users_dt_smote.parquet')\n",
    "\n",
    "minority_users_svm_pq = os.path.join(processed_dir, 'minority_users_svm.parquet')\n",
    "minority_users_smote_svm_pq = os.path.join(processed_dir, 'minority_users_svm_smote.parquet')\n",
    "\n",
    "minority_users_nn_pq = os.path.join(processed_dir, 'minority_users_nn.parquet')\n",
    "minority_users_smote_nn_pq = os.path.join(processed_dir, 'minority_users_nn_smote.parquet')\n",
    "\n",
    "\n",
    "# Figures\n",
    "figures_dir = os.path.join( \"..\", \"materials\", \"reports\", \"figures\")\n",
    "\n",
    "bar_graph_minority_path = os.path.join(figures_dir, 'bar_graph_minority.png')\n",
    "bar_graph_minority_smote_path = os.path.join(figures_dir, 'bar_graph_minority_smote.png')\n",
    "\n",
    "combined_metrics_path = os.path.join(figures_dir, 'combined_metrics.png')\n",
    "\n",
    "roc_curves_smote_path = os.path.join(figures_dir, 'roc_curves_smote.png')\n",
    "roc_curves_path = os.path.join(figures_dir, 'roc_curves.png')"
   ]
  },
  {
   "cell_type": "markdown",
   "metadata": {},
   "source": [
    "Import Dataset"
   ]
  },
  {
   "cell_type": "code",
   "execution_count": 3,
   "metadata": {},
   "outputs": [
    {
     "data": {
      "text/html": [
       "<div>\n",
       "<style scoped>\n",
       "    .dataframe tbody tr th:only-of-type {\n",
       "        vertical-align: middle;\n",
       "    }\n",
       "\n",
       "    .dataframe tbody tr th {\n",
       "        vertical-align: top;\n",
       "    }\n",
       "\n",
       "    .dataframe thead th {\n",
       "        text-align: right;\n",
       "    }\n",
       "</style>\n",
       "<table border=\"1\" class=\"dataframe\">\n",
       "  <thead>\n",
       "    <tr style=\"text-align: right;\">\n",
       "      <th></th>\n",
       "      <th>User</th>\n",
       "      <th>Actual</th>\n",
       "      <th>Prediction</th>\n",
       "      <th>Confidence of Prediction</th>\n",
       "    </tr>\n",
       "  </thead>\n",
       "  <tbody>\n",
       "    <tr>\n",
       "      <th>23</th>\n",
       "      <td>ACD1174</td>\n",
       "      <td>False</td>\n",
       "      <td>False</td>\n",
       "      <td>0.346870</td>\n",
       "    </tr>\n",
       "    <tr>\n",
       "      <th>29</th>\n",
       "      <td>ACH1840</td>\n",
       "      <td>False</td>\n",
       "      <td>False</td>\n",
       "      <td>0.646525</td>\n",
       "    </tr>\n",
       "    <tr>\n",
       "      <th>30</th>\n",
       "      <td>ACJ1797</td>\n",
       "      <td>False</td>\n",
       "      <td>False</td>\n",
       "      <td>0.509427</td>\n",
       "    </tr>\n",
       "    <tr>\n",
       "      <th>32</th>\n",
       "      <td>ACR1045</td>\n",
       "      <td>False</td>\n",
       "      <td>False</td>\n",
       "      <td>0.319632</td>\n",
       "    </tr>\n",
       "    <tr>\n",
       "      <th>44</th>\n",
       "      <td>AEF1032</td>\n",
       "      <td>False</td>\n",
       "      <td>False</td>\n",
       "      <td>0.474186</td>\n",
       "    </tr>\n",
       "    <tr>\n",
       "      <th>...</th>\n",
       "      <td>...</td>\n",
       "      <td>...</td>\n",
       "      <td>...</td>\n",
       "      <td>...</td>\n",
       "    </tr>\n",
       "    <tr>\n",
       "      <th>1966</th>\n",
       "      <td>YVJ0986</td>\n",
       "      <td>False</td>\n",
       "      <td>False</td>\n",
       "      <td>0.319705</td>\n",
       "    </tr>\n",
       "    <tr>\n",
       "      <th>1978</th>\n",
       "      <td>ZDH1266</td>\n",
       "      <td>False</td>\n",
       "      <td>False</td>\n",
       "      <td>0.537505</td>\n",
       "    </tr>\n",
       "    <tr>\n",
       "      <th>1981</th>\n",
       "      <td>ZHB1104</td>\n",
       "      <td>False</td>\n",
       "      <td>False</td>\n",
       "      <td>0.509979</td>\n",
       "    </tr>\n",
       "    <tr>\n",
       "      <th>1987</th>\n",
       "      <td>ZJT1601</td>\n",
       "      <td>False</td>\n",
       "      <td>False</td>\n",
       "      <td>0.645781</td>\n",
       "    </tr>\n",
       "    <tr>\n",
       "      <th>1990</th>\n",
       "      <td>ZLM1418</td>\n",
       "      <td>False</td>\n",
       "      <td>False</td>\n",
       "      <td>0.506230</td>\n",
       "    </tr>\n",
       "  </tbody>\n",
       "</table>\n",
       "<p>400 rows × 4 columns</p>\n",
       "</div>"
      ],
      "text/plain": [
       "         User  Actual  Prediction  Confidence of Prediction\n",
       "23    ACD1174   False       False                  0.346870\n",
       "29    ACH1840   False       False                  0.646525\n",
       "30    ACJ1797   False       False                  0.509427\n",
       "32    ACR1045   False       False                  0.319632\n",
       "44    AEF1032   False       False                  0.474186\n",
       "...       ...     ...         ...                       ...\n",
       "1966  YVJ0986   False       False                  0.319705\n",
       "1978  ZDH1266   False       False                  0.537505\n",
       "1981  ZHB1104   False       False                  0.509979\n",
       "1987  ZJT1601   False       False                  0.645781\n",
       "1990  ZLM1418   False       False                  0.506230\n",
       "\n",
       "[400 rows x 4 columns]"
      ]
     },
     "execution_count": 3,
     "metadata": {},
     "output_type": "execute_result"
    }
   ],
   "source": [
    "# Read the multi-part Parquet dataset\n",
    "dt_data = dd.read_parquet(minority_users_dt_pq)\n",
    "smote_dt_data = dd.read_parquet(minority_users_smote_dt_pq)\n",
    "\n",
    "svm_data = dd.read_parquet(minority_users_svm_pq)\n",
    "smote_svm_data = dd.read_parquet(minority_users_smote_svm_pq)\n",
    "\n",
    "nn_data = dd.read_parquet(minority_users_nn_pq)\n",
    "smote_nn_data = dd.read_parquet(minority_users_smote_nn_pq)\n",
    "\n",
    "svm_data.head(4000)"
   ]
  },
  {
   "cell_type": "markdown",
   "metadata": {},
   "source": [
    "Checking if all Test users are there and are the same"
   ]
  },
  {
   "cell_type": "code",
   "execution_count": 4,
   "metadata": {},
   "outputs": [
    {
     "name": "stdout",
     "output_type": "stream",
     "text": [
      "All variables are equal.\n"
     ]
    },
    {
     "name": "stderr",
     "output_type": "stream",
     "text": [
      "c:\\Users\\hydro\\AppData\\Local\\Programs\\Python\\Python312\\Lib\\site-packages\\dask\\dataframe\\core.py:3930: UserWarning: Dask currently has limited support for converting pandas extension dtypes to arrays. Converting string to object dtype.\n",
      "  warnings.warn(\n",
      "c:\\Users\\hydro\\AppData\\Local\\Programs\\Python\\Python312\\Lib\\site-packages\\dask\\dataframe\\core.py:3930: UserWarning: Dask currently has limited support for converting pandas extension dtypes to arrays. Converting string to object dtype.\n",
      "  warnings.warn(\n",
      "c:\\Users\\hydro\\AppData\\Local\\Programs\\Python\\Python312\\Lib\\site-packages\\dask\\dataframe\\core.py:3930: UserWarning: Dask currently has limited support for converting pandas extension dtypes to arrays. Converting string to object dtype.\n",
      "  warnings.warn(\n",
      "c:\\Users\\hydro\\AppData\\Local\\Programs\\Python\\Python312\\Lib\\site-packages\\dask\\dataframe\\core.py:3930: UserWarning: Dask currently has limited support for converting pandas extension dtypes to arrays. Converting string to object dtype.\n",
      "  warnings.warn(\n",
      "c:\\Users\\hydro\\AppData\\Local\\Programs\\Python\\Python312\\Lib\\site-packages\\dask\\dataframe\\core.py:3930: UserWarning: Dask currently has limited support for converting pandas extension dtypes to arrays. Converting string to object dtype.\n",
      "  warnings.warn(\n",
      "c:\\Users\\hydro\\AppData\\Local\\Programs\\Python\\Python312\\Lib\\site-packages\\dask\\dataframe\\core.py:3930: UserWarning: Dask currently has limited support for converting pandas extension dtypes to arrays. Converting string to object dtype.\n",
      "  warnings.warn(\n"
     ]
    }
   ],
   "source": [
    "a = set(svm_data['User'].values.compute())\n",
    "b = set(nn_data['User'].values.compute())\n",
    "c = set(dt_data['user'].values.compute())\n",
    "d = set(smote_svm_data['User'].values.compute())\n",
    "e = set(smote_nn_data['User'].values.compute())\n",
    "f = set(smote_dt_data['user'].values.compute())\n",
    "if a == b == c == d == e == f:\n",
    "    print(\"All variables are equal.\")"
   ]
  },
  {
   "cell_type": "markdown",
   "metadata": {},
   "source": [
    "Sorting Alphabetically"
   ]
  },
  {
   "cell_type": "code",
   "execution_count": 5,
   "metadata": {},
   "outputs": [
    {
     "data": {
      "text/html": [
       "<div>\n",
       "<style scoped>\n",
       "    .dataframe tbody tr th:only-of-type {\n",
       "        vertical-align: middle;\n",
       "    }\n",
       "\n",
       "    .dataframe tbody tr th {\n",
       "        vertical-align: top;\n",
       "    }\n",
       "\n",
       "    .dataframe thead th {\n",
       "        text-align: right;\n",
       "    }\n",
       "</style>\n",
       "<table border=\"1\" class=\"dataframe\">\n",
       "  <thead>\n",
       "    <tr style=\"text-align: right;\">\n",
       "      <th></th>\n",
       "      <th>user</th>\n",
       "      <th>Actual</th>\n",
       "      <th>Prediction</th>\n",
       "      <th>Decision Path</th>\n",
       "      <th>GINI Confidence of Prediction</th>\n",
       "      <th>normal_prob</th>\n",
       "      <th>malicious_prob</th>\n",
       "    </tr>\n",
       "  </thead>\n",
       "  <tbody>\n",
       "    <tr>\n",
       "      <th>209</th>\n",
       "      <td>ACD1174</td>\n",
       "      <td>False</td>\n",
       "      <td>False</td>\n",
       "      <td>[0, 1, 2, 3]</td>\n",
       "      <td>0.171213</td>\n",
       "      <td>0.99616</td>\n",
       "      <td>0.00384</td>\n",
       "    </tr>\n",
       "    <tr>\n",
       "      <th>29</th>\n",
       "      <td>ACH1840</td>\n",
       "      <td>False</td>\n",
       "      <td>False</td>\n",
       "      <td>[0, 1, 2, 3]</td>\n",
       "      <td>0.171213</td>\n",
       "      <td>0.99616</td>\n",
       "      <td>0.00384</td>\n",
       "    </tr>\n",
       "    <tr>\n",
       "      <th>309</th>\n",
       "      <td>ACJ1797</td>\n",
       "      <td>False</td>\n",
       "      <td>False</td>\n",
       "      <td>[0, 1, 2, 3]</td>\n",
       "      <td>0.171213</td>\n",
       "      <td>0.99616</td>\n",
       "      <td>0.00384</td>\n",
       "    </tr>\n",
       "    <tr>\n",
       "      <th>262</th>\n",
       "      <td>ACR1045</td>\n",
       "      <td>False</td>\n",
       "      <td>False</td>\n",
       "      <td>[0, 1, 2, 3]</td>\n",
       "      <td>0.171213</td>\n",
       "      <td>0.99616</td>\n",
       "      <td>0.00384</td>\n",
       "    </tr>\n",
       "    <tr>\n",
       "      <th>320</th>\n",
       "      <td>AEF1032</td>\n",
       "      <td>False</td>\n",
       "      <td>False</td>\n",
       "      <td>[0, 1, 2, 3]</td>\n",
       "      <td>0.171213</td>\n",
       "      <td>0.99616</td>\n",
       "      <td>0.00384</td>\n",
       "    </tr>\n",
       "  </tbody>\n",
       "</table>\n",
       "</div>"
      ],
      "text/plain": [
       "        user  Actual  Prediction Decision Path  GINI Confidence of Prediction  \\\n",
       "209  ACD1174   False       False  [0, 1, 2, 3]                       0.171213   \n",
       "29   ACH1840   False       False  [0, 1, 2, 3]                       0.171213   \n",
       "309  ACJ1797   False       False  [0, 1, 2, 3]                       0.171213   \n",
       "262  ACR1045   False       False  [0, 1, 2, 3]                       0.171213   \n",
       "320  AEF1032   False       False  [0, 1, 2, 3]                       0.171213   \n",
       "\n",
       "     normal_prob  malicious_prob  \n",
       "209      0.99616         0.00384  \n",
       "29       0.99616         0.00384  \n",
       "309      0.99616         0.00384  \n",
       "262      0.99616         0.00384  \n",
       "320      0.99616         0.00384  "
      ]
     },
     "execution_count": 5,
     "metadata": {},
     "output_type": "execute_result"
    }
   ],
   "source": [
    "# Sort dt_data by 'User' column\n",
    "sorted_dt_data = dt_data.sort_values(by='user')\n",
    "\n",
    "# Sort smote_dt_data by 'User' column\n",
    "sorted_smote_dt_data = smote_dt_data.sort_values(by='user')\n",
    "\n",
    "# Sort svm_data by 'User' column\n",
    "sorted_svm_data = svm_data.sort_values(by='User')\n",
    "\n",
    "# Sort smote_svm_data by 'User' column\n",
    "sorted_smote_svm_data = smote_svm_data.sort_values(by='User')\n",
    "\n",
    "# Sort nn_data by 'User' column\n",
    "sorted_nn_data = nn_data.sort_values(by='User')\n",
    "\n",
    "# Sort smote_nn_data by 'User' column\n",
    "sorted_smote_nn_data = smote_nn_data.sort_values(by='User')\n",
    "\n",
    "sorted_dt_data.head()"
   ]
  },
  {
   "cell_type": "code",
   "execution_count": 6,
   "metadata": {},
   "outputs": [],
   "source": [
    "def ensemble_predictions(dt,svm,nn):\n",
    "    conf_dt = np.maximum(dt['malicious_prob'].values.compute(),dt['normal_prob'].values.compute()) \n",
    "    conf_svm = svm['Confidence of Prediction'].values.compute()\n",
    "    conf_nn = nn['Confidence of Prediction'].values.compute()\n",
    "    total_conf = conf_dt + conf_svm + conf_nn\n",
    "    weight_dt = conf_dt/total_conf\n",
    "    weight_svm = conf_svm/total_conf\n",
    "    weight_nn = conf_nn/total_conf\n",
    "    y_pred = weight_dt*dt['Prediction'].values.compute() + weight_svm*svm['Prediction'].values.compute() + weight_nn*nn['Prediction'].values.compute()\n",
    "    return  y_pred\n",
    "    #dt[malicious_prob]*"
   ]
  },
  {
   "cell_type": "code",
   "execution_count": 9,
   "metadata": {},
   "outputs": [],
   "source": [
    "y_pred_prob = ensemble_predictions(dt_data,svm_data,nn_data)\n",
    "#All the y test are the same so just taking from the first dataset\n",
    "y_test = smote_dt_data['Actual'].values.compute()"
   ]
  },
  {
   "cell_type": "markdown",
   "metadata": {},
   "source": [
    "Threshold tuning"
   ]
  },
  {
   "cell_type": "code",
   "execution_count": 10,
   "metadata": {},
   "outputs": [],
   "source": [
    "def calculate_tp_fp_fn(y_true, y_pred_prob, threshold):\n",
    "    \"\"\"\n",
    "    Calculate True Positives (TP), False Positives (FP), and False Negatives (FN) \n",
    "    based on the given true labels (y_true) and predicted labels (y_pred) with a given threshold.\n",
    "    \n",
    "    Args:\n",
    "    - y_true: True labels\n",
    "    - y_pred: Predicted labels (probabilities or scores)\n",
    "    - threshold: Threshold for classification\n",
    "    \n",
    "    Returns:\n",
    "    - TP: Number of True Positives\n",
    "    - FP: Number of False Positives\n",
    "    - FN: Number of False Negatives\n",
    "    \"\"\"\n",
    "    y_pred_binary = (y_pred_prob > threshold).astype(int)\n",
    "    cm = confusion_matrix(y_true, y_pred_binary)\n",
    "    TN, FP, FN, TP = cm.ravel()\n",
    "    \n",
    "    return TP, FP, FN"
   ]
  },
  {
   "cell_type": "code",
   "execution_count": 11,
   "metadata": {},
   "outputs": [],
   "source": [
    "def threshold_tuning(y_test,y_pred_prob,tp_weight,fp_weight,fn_weight, threshold = 0.5):\n",
    "    best_t_score = float('-inf')\n",
    "    best_threshold = threshold\n",
    "    while threshold >= 0: \n",
    "        Tp, Fp , Fn = calculate_tp_fp_fn(y_test, y_pred_prob, threshold)\n",
    "        t_score = Tp*tp_weight - Fp*fp_weight - Fn*fn_weight\n",
    "        threshold -= 0.01\n",
    "        if t_score > best_t_score:\n",
    "            best_t_score = t_score\n",
    "            best_threshold = threshold\n",
    "    return best_threshold"
   ]
  },
  {
   "cell_type": "code",
   "execution_count": 16,
   "metadata": {},
   "outputs": [
    {
     "name": "stdout",
     "output_type": "stream",
     "text": [
      "0.4299999999999995\n",
      "Accuracy = 99.25%\n",
      "Precision = 1.0\n",
      "Recall = 0.25\n",
      "f-1 score = 0.4\n",
      "\n",
      "Classification Report:\n",
      "               precision    recall  f1-score   support\n",
      "\n",
      "       False       0.99      1.00      1.00       396\n",
      "        True       1.00      0.25      0.40         4\n",
      "\n",
      "    accuracy                           0.99       400\n",
      "   macro avg       1.00      0.62      0.70       400\n",
      "weighted avg       0.99      0.99      0.99       400\n",
      "\n"
     ]
    },
    {
     "data": {
      "image/png": "[encoded data removed]",
      "text/plain": [
       "<Figure size 640x480 with 2 Axes>"
      ]
     },
     "metadata": {},
     "output_type": "display_data"
    }
   ],
   "source": [
    "threshold = threshold_tuning(y_test,y_pred_prob,tp_weight= 2, fp_weight= 1,fn_weight=0.5,threshold = 1)\n",
    "print(threshold)\n",
    "y_pred = (y_pred_prob > threshold).astype(int)\n",
    "set(list(y_pred.flatten()))\n",
    "\n",
    "\n",
    "accuracy = accuracy_score(y_test, y_pred)\n",
    "cm = confusion_matrix(y_test, y_pred)\n",
    "disp = ConfusionMatrixDisplay(confusion_matrix=cm, display_labels = ['normal', 'malicious'])\n",
    "\n",
    "print(\"Accuracy = {:.2f}%\".format(accuracy_score(y_test, y_pred)*100))\n",
    "print(\"Precision = {}\".format(precision_score(y_test, y_pred)))\n",
    "print(\"Recall = {}\".format(recall_score(y_test, y_pred)))\n",
    "print(\"f-1 score = {}\".format(f1_score(y_test, y_pred)))\n",
    "print(\"\\nClassification Report:\\n\", classification_report(y_test, y_pred))\n",
    "disp.plot(cmap=plt.cm.Greens)\n",
    "plt.show()"
   ]
  },
  {
   "cell_type": "code",
   "execution_count": 17,
   "metadata": {},
   "outputs": [
    {
     "ename": "NameError",
     "evalue": "name 'roc_auc_score' is not defined",
     "output_type": "error",
     "traceback": [
      "\u001b[1;31m---------------------------------------------------------------------------\u001b[0m",
      "\u001b[1;31mNameError\u001b[0m                                 Traceback (most recent call last)",
      "Cell \u001b[1;32mIn[17], line 21\u001b[0m\n\u001b[0;32m     18\u001b[0m     \u001b[38;5;66;03m# plt.legend()\u001b[39;00m\n\u001b[0;32m     20\u001b[0m plot_roc_curve(y_test, y_pred)\n\u001b[1;32m---> 21\u001b[0m \u001b[38;5;28mprint\u001b[39m(\u001b[38;5;124mf\u001b[39m\u001b[38;5;124m'\u001b[39m\u001b[38;5;124mAUC score: \u001b[39m\u001b[38;5;132;01m{\u001b[39;00m\u001b[43mroc_auc_score\u001b[49m(y_test,\u001b[38;5;250m \u001b[39my_pred)\u001b[38;5;132;01m}\u001b[39;00m\u001b[38;5;124m'\u001b[39m)\n",
      "\u001b[1;31mNameError\u001b[0m: name 'roc_auc_score' is not defined"
     ]
    },
    {
     "data": {
      "image/png": "[encoded data removed]",
      "text/plain": [
       "<Figure size 800x600 with 1 Axes>"
      ]
     },
     "metadata": {},
     "output_type": "display_data"
    }
   ],
   "source": [
    "# ROC - AUC\n",
    "def plot_roc_curve(true_y, y_prob):\n",
    "    \"\"\"\n",
    "    plots the roc curve based of the probabilities\n",
    "    \"\"\"\n",
    "    plt.figure(figsize=(8, 6))\n",
    "    #y_prob = best_dt.predict_proba(X_test_scaled)[::,1]\n",
    "    dt_fpr, dt_tpr, thresholds = roc_curve(true_y, y_prob)\n",
    "    plt.xlim([0.0, 1.0])\n",
    "    plt.ylim([0.0, 1.05])\n",
    "    plt.plot([0, 1], [0, 1], color='grey', lw=2, linestyle='--')\n",
    "    plt.xlabel('False Positive Rate')\n",
    "    plt.ylabel('True Positive Rate')\n",
    "    roc_auc = auc(dt_fpr, dt_tpr)\n",
    "    plt.plot(dt_fpr, dt_tpr, color='purple', lw=2, label='ROC curve (area = %0.4f)' % roc_auc)\n",
    "    plt.legend(loc=\"lower right\")\n",
    "\n",
    "    # plt.legend()\n",
    "\n",
    "plot_roc_curve(y_test, y_pred)\n",
    "print(f'AUC score: {roc_auc_score(y_test, y_pred)}')"
   ]
  }
 ],
 "metadata": {
  "kernelspec": {
   "display_name": "Python 3",
   "language": "python",
   "name": "python3"
  },
  "language_info": {
   "codemirror_mode": {
    "name": "ipython",
    "version": 3
   },
   "file_extension": ".py",
   "mimetype": "text/x-python",
   "name": "python",
   "nbconvert_exporter": "python",
   "pygments_lexer": "ipython3",
   "version": "3.12.0"
  }
 },
 "nbformat": 4,
 "nbformat_minor": 2
}
