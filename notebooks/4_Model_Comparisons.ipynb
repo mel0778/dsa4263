{
 "cells": [
  {
   "cell_type": "code",
   "execution_count": null,
   "metadata": {},
   "outputs": [],
   "source": [
    "fig = plt.figure(figsize=(25,20))\n",
    "_ = tree.plot_tree(best_dt, \n",
    "                   feature_names=X_train.columns.tolist(),  \n",
    "                   class_names=[\"normal\",\"malicious\"],\n",
    "                   node_ids = True)"
   ]
  }
 ],
 "metadata": {
  "language_info": {
   "name": "python"
  }
 },
 "nbformat": 4,
 "nbformat_minor": 2
}
