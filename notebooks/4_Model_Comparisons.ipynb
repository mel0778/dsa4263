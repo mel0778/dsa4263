{
 "cells": [
  {
   "cell_type": "code",
   "execution_count": 5,
   "metadata": {},
   "outputs": [],
   "source": [
    "import pandas as pd\n",
    "import dask.dataframe as dd\n",
    "import os"
   ]
  },
  {
   "cell_type": "markdown",
   "metadata": {},
   "source": [
    "# Paths"
   ]
  },
  {
   "cell_type": "code",
   "execution_count": 9,
   "metadata": {},
   "outputs": [],
   "source": [
    "processed_dir = os.path.join( \"..\", \"data\", \"processed\")\n",
    "final_dataset_path = os.path.join(processed_dir, 'FEData_For_Modelling.parquet')\n",
    "\n",
    "minority_users_dt_pq = os.path.join(processed_dir, 'minority_users_dt.parquet')\n",
    "minority_users_smote_dt_pq = os.path.join(processed_dir, 'minority_users_dt_smote.parquet')\n",
    "\n",
    "minority_users_svm_pq = os.path.join(processed_dir, 'minority_users_svm.parquet')\n",
    "minority_users_smote_svm_pq = os.path.join(processed_dir, 'minority_users_svm_smote.parquet')\n",
    "\n",
    "minority_users_nn_pq = os.path.join(processed_dir, 'minority_users_nn.parquet')\n",
    "minority_users_smote_nn_pq = os.path.join(processed_dir, 'minority_users_nn_smote.parquet')"
   ]
  },
  {
   "cell_type": "markdown",
   "metadata": {},
   "source": [
    "Import Dataset"
   ]
  },
  {
   "cell_type": "code",
   "execution_count": 10,
   "metadata": {},
   "outputs": [
    {
     "data": {
      "text/html": [
       "<div>\n",
       "<style scoped>\n",
       "    .dataframe tbody tr th:only-of-type {\n",
       "        vertical-align: middle;\n",
       "    }\n",
       "\n",
       "    .dataframe tbody tr th {\n",
       "        vertical-align: top;\n",
       "    }\n",
       "\n",
       "    .dataframe thead th {\n",
       "        text-align: right;\n",
       "    }\n",
       "</style>\n",
       "<table border=\"1\" class=\"dataframe\">\n",
       "  <thead>\n",
       "    <tr style=\"text-align: right;\">\n",
       "      <th></th>\n",
       "      <th>user</th>\n",
       "      <th>Actual</th>\n",
       "      <th>Prediction</th>\n",
       "      <th>Decision Path</th>\n",
       "      <th>GINI Confidence of Prediction</th>\n",
       "      <th>normal_prob</th>\n",
       "      <th>malicious_prob</th>\n",
       "    </tr>\n",
       "  </thead>\n",
       "  <tbody>\n",
       "    <tr>\n",
       "      <th>0</th>\n",
       "      <td>VAH1292</td>\n",
       "      <td>False</td>\n",
       "      <td>False</td>\n",
       "      <td>[0, 1, 2, 4]</td>\n",
       "      <td>1.110223e-16</td>\n",
       "      <td>0.925581</td>\n",
       "      <td>0.074419</td>\n",
       "    </tr>\n",
       "    <tr>\n",
       "      <th>1</th>\n",
       "      <td>CJL0143</td>\n",
       "      <td>False</td>\n",
       "      <td>False</td>\n",
       "      <td>[0, 1, 2, 3]</td>\n",
       "      <td>1.712135e-01</td>\n",
       "      <td>0.996160</td>\n",
       "      <td>0.003840</td>\n",
       "    </tr>\n",
       "    <tr>\n",
       "      <th>2</th>\n",
       "      <td>MMB1967</td>\n",
       "      <td>False</td>\n",
       "      <td>False</td>\n",
       "      <td>[0, 1, 2, 3]</td>\n",
       "      <td>1.712135e-01</td>\n",
       "      <td>0.996160</td>\n",
       "      <td>0.003840</td>\n",
       "    </tr>\n",
       "    <tr>\n",
       "      <th>3</th>\n",
       "      <td>IVS1411</td>\n",
       "      <td>False</td>\n",
       "      <td>False</td>\n",
       "      <td>[0, 1, 2, 3]</td>\n",
       "      <td>1.712135e-01</td>\n",
       "      <td>0.996160</td>\n",
       "      <td>0.003840</td>\n",
       "    </tr>\n",
       "    <tr>\n",
       "      <th>4</th>\n",
       "      <td>MEB1743</td>\n",
       "      <td>False</td>\n",
       "      <td>False</td>\n",
       "      <td>[0, 1, 2, 4]</td>\n",
       "      <td>1.110223e-16</td>\n",
       "      <td>0.925581</td>\n",
       "      <td>0.074419</td>\n",
       "    </tr>\n",
       "    <tr>\n",
       "      <th>...</th>\n",
       "      <td>...</td>\n",
       "      <td>...</td>\n",
       "      <td>...</td>\n",
       "      <td>...</td>\n",
       "      <td>...</td>\n",
       "      <td>...</td>\n",
       "      <td>...</td>\n",
       "    </tr>\n",
       "    <tr>\n",
       "      <th>395</th>\n",
       "      <td>JIG1593</td>\n",
       "      <td>False</td>\n",
       "      <td>False</td>\n",
       "      <td>[0, 1, 2, 3]</td>\n",
       "      <td>1.712135e-01</td>\n",
       "      <td>0.996160</td>\n",
       "      <td>0.003840</td>\n",
       "    </tr>\n",
       "    <tr>\n",
       "      <th>396</th>\n",
       "      <td>MDL0294</td>\n",
       "      <td>False</td>\n",
       "      <td>False</td>\n",
       "      <td>[0, 1, 2, 3]</td>\n",
       "      <td>1.712135e-01</td>\n",
       "      <td>0.996160</td>\n",
       "      <td>0.003840</td>\n",
       "    </tr>\n",
       "    <tr>\n",
       "      <th>397</th>\n",
       "      <td>SSG0726</td>\n",
       "      <td>False</td>\n",
       "      <td>False</td>\n",
       "      <td>[0, 1, 2, 3]</td>\n",
       "      <td>1.712135e-01</td>\n",
       "      <td>0.996160</td>\n",
       "      <td>0.003840</td>\n",
       "    </tr>\n",
       "    <tr>\n",
       "      <th>398</th>\n",
       "      <td>BWJ1539</td>\n",
       "      <td>False</td>\n",
       "      <td>False</td>\n",
       "      <td>[0, 1, 5, 6]</td>\n",
       "      <td>5.350830e-01</td>\n",
       "      <td>0.968254</td>\n",
       "      <td>0.031746</td>\n",
       "    </tr>\n",
       "    <tr>\n",
       "      <th>399</th>\n",
       "      <td>DTB0964</td>\n",
       "      <td>False</td>\n",
       "      <td>False</td>\n",
       "      <td>[0, 1, 2, 3]</td>\n",
       "      <td>1.712135e-01</td>\n",
       "      <td>0.996160</td>\n",
       "      <td>0.003840</td>\n",
       "    </tr>\n",
       "  </tbody>\n",
       "</table>\n",
       "<p>400 rows × 7 columns</p>\n",
       "</div>"
      ],
      "text/plain": [
       "        user  Actual  Prediction Decision Path  GINI Confidence of Prediction  \\\n",
       "0    VAH1292   False       False  [0, 1, 2, 4]                   1.110223e-16   \n",
       "1    CJL0143   False       False  [0, 1, 2, 3]                   1.712135e-01   \n",
       "2    MMB1967   False       False  [0, 1, 2, 3]                   1.712135e-01   \n",
       "3    IVS1411   False       False  [0, 1, 2, 3]                   1.712135e-01   \n",
       "4    MEB1743   False       False  [0, 1, 2, 4]                   1.110223e-16   \n",
       "..       ...     ...         ...           ...                            ...   \n",
       "395  JIG1593   False       False  [0, 1, 2, 3]                   1.712135e-01   \n",
       "396  MDL0294   False       False  [0, 1, 2, 3]                   1.712135e-01   \n",
       "397  SSG0726   False       False  [0, 1, 2, 3]                   1.712135e-01   \n",
       "398  BWJ1539   False       False  [0, 1, 5, 6]                   5.350830e-01   \n",
       "399  DTB0964   False       False  [0, 1, 2, 3]                   1.712135e-01   \n",
       "\n",
       "     normal_prob  malicious_prob  \n",
       "0       0.925581        0.074419  \n",
       "1       0.996160        0.003840  \n",
       "2       0.996160        0.003840  \n",
       "3       0.996160        0.003840  \n",
       "4       0.925581        0.074419  \n",
       "..           ...             ...  \n",
       "395     0.996160        0.003840  \n",
       "396     0.996160        0.003840  \n",
       "397     0.996160        0.003840  \n",
       "398     0.968254        0.031746  \n",
       "399     0.996160        0.003840  \n",
       "\n",
       "[400 rows x 7 columns]"
      ]
     },
     "execution_count": 10,
     "metadata": {},
     "output_type": "execute_result"
    }
   ],
   "source": [
    "# Read the multi-part Parquet dataset\n",
    "dt_data = dd.read_parquet(minority_users_dt_pq)\n",
    "smote_dt_data = dd.read_parquet(minority_users_smote_dt_pq)\n",
    "\n",
    "svm_data = dd.read_parquet(minority_users_svm_pq)\n",
    "smote_svm_data = dd.read_parquet(minority_users_smote_svm_pq)\n",
    "\n",
    "nn_data = dd.read_parquet(minority_users_nn_pq)\n",
    "smote_nn_data = dd.read_parquet(minority_users_smote_nn_pq)\n",
    "\n",
    "dt_data.head(4000)"
   ]
  },
  {
   "cell_type": "markdown",
   "metadata": {},
   "source": [
    "# Calculations"
   ]
  },
  {
   "cell_type": "code",
   "execution_count": 15,
   "metadata": {},
   "outputs": [
    {
     "data": {
      "text/plain": [
       "(396, 0, 4, 0)"
      ]
     },
     "execution_count": 15,
     "metadata": {},
     "output_type": "execute_result"
    }
   ],
   "source": [
    "def get_confusion_matrix_score(data):\n",
    "    TN = len(data[(data['Actual'] == False) & (data['Prediction'] == False)])\n",
    "    FP = len(data[(data['Actual'] == False) & (data['Prediction'] == True)])\n",
    "    FN = len(data[(data['Actual'] == True) & (data['Prediction'] == False)])\n",
    "    TP = len(data[(data['Actual'] == True) & (data['Prediction'] == True)])\n",
    "    return TN, FP, FN, TP\n",
    "\n",
    "get_confusion_matrix_score(dt_data)"
   ]
  },
  {
   "cell_type": "code",
   "execution_count": 16,
   "metadata": {},
   "outputs": [
    {
     "data": {
      "text/html": [
       "<div>\n",
       "<style scoped>\n",
       "    .dataframe tbody tr th:only-of-type {\n",
       "        vertical-align: middle;\n",
       "    }\n",
       "\n",
       "    .dataframe tbody tr th {\n",
       "        vertical-align: top;\n",
       "    }\n",
       "\n",
       "    .dataframe thead th {\n",
       "        text-align: right;\n",
       "    }\n",
       "</style>\n",
       "<table border=\"1\" class=\"dataframe\">\n",
       "  <thead>\n",
       "    <tr style=\"text-align: right;\">\n",
       "      <th></th>\n",
       "      <th>TN</th>\n",
       "      <th>FP</th>\n",
       "      <th>FN</th>\n",
       "      <th>TP</th>\n",
       "    </tr>\n",
       "  </thead>\n",
       "  <tbody>\n",
       "    <tr>\n",
       "      <th>Decision Tree</th>\n",
       "      <td>387</td>\n",
       "      <td>9</td>\n",
       "      <td>2</td>\n",
       "      <td>2</td>\n",
       "    </tr>\n",
       "    <tr>\n",
       "      <th>SVM</th>\n",
       "      <td>395</td>\n",
       "      <td>1</td>\n",
       "      <td>4</td>\n",
       "      <td>0</td>\n",
       "    </tr>\n",
       "    <tr>\n",
       "      <th>Autoencoder</th>\n",
       "      <td>395</td>\n",
       "      <td>1</td>\n",
       "      <td>4</td>\n",
       "      <td>0</td>\n",
       "    </tr>\n",
       "  </tbody>\n",
       "</table>\n",
       "</div>"
      ],
      "text/plain": [
       "                TN  FP  FN  TP\n",
       "Decision Tree  387   9   2   2\n",
       "SVM            395   1   4   0\n",
       "Autoencoder    395   1   4   0"
      ]
     },
     "execution_count": 16,
     "metadata": {},
     "output_type": "execute_result"
    }
   ],
   "source": [
    "def get_model_scores_df(dt_data, svm_data, ae_data):\n",
    "    model_scores = pd.DataFrame(columns = ['TN', 'FP', 'FN', 'TP'])\n",
    "    model_data = [dt_data, svm_data, nn_data]\n",
    "\n",
    "    for data in model_data:\n",
    "        TN, FP, FN, TP = get_confusion_matrix_score(data)\n",
    "        model_scores.loc[len(model_scores.index)] = [TN, FP, FN, TP]\n",
    "\n",
    "    model_scores.index = ['Decision Tree', 'SVM', 'Autoencoder']\n",
    "    return model_scores\n",
    "\n",
    "model_scores_df = get_model_scores_df(dt_data, svm_data, nn_data)\n",
    "smote_model_scores_df = get_model_scores_df(smote_dt_data, smote_svm_data, smote_nn_data)\n",
    "smote_model_scores_df"
   ]
  },
  {
   "cell_type": "markdown",
   "metadata": {},
   "source": [
    "build graph of minority cases (FP/FN/TP) of models (smote and unsmote)"
   ]
  },
  {
   "cell_type": "markdown",
   "metadata": {},
   "source": [
    "Build table of auccuracy, precision, recall, f1 scores (columns smote and no smote combined) for all models - ALL COMINED in one table"
   ]
  },
  {
   "cell_type": "markdown",
   "metadata": {},
   "source": [
    "Build ROC Curve (of all models, 3 legends) - no smote"
   ]
  },
  {
   "cell_type": "code",
   "execution_count": null,
   "metadata": {},
   "outputs": [],
   "source": [
    "def plot_roc_curve(true_y, y_prob):\n",
    "    \"\"\"\n",
    "    plots the roc curve based of the probabilities\n",
    "    \"\"\"\n",
    "    plt.figure(figsize=(8, 6))\n",
    "    #y_prob = best_dt.predict_proba(X_test_scaled)[::,1]\n",
    "    dt_fpr, dt_tpr, thresholds = roc_curve(true_y, y_prob)\n",
    "    plt.xlim([0.0, 1.0])\n",
    "    plt.ylim([0.0, 1.05])\n",
    "    plt.plot([0, 1], [0, 1], color='grey', lw=2, linestyle='--')\n",
    "    plt.xlabel('False Positive Rate')\n",
    "    plt.ylabel('True Positive Rate')\n",
    "    roc_auc = auc(dt_fpr, dt_tpr)\n",
    "    plt.plot(dt_fpr, dt_tpr, color='purple', lw=2, label='ROC curve (area = %0.4f)' % roc_auc)\n",
    "    plt.legend(loc=\"lower right\")\n",
    "\n",
    "    # plt.legend()\n",
    "\n",
    "plot_roc_curve(y_test, y_pred)"
   ]
  },
  {
   "cell_type": "markdown",
   "metadata": {},
   "source": [
    "roc curve - smote"
   ]
  }
 ],
 "metadata": {
  "kernelspec": {
   "display_name": "Python 3",
   "language": "python",
   "name": "python3"
  },
  "language_info": {
   "codemirror_mode": {
    "name": "ipython",
    "version": 3
   },
   "file_extension": ".py",
   "mimetype": "text/x-python",
   "name": "python",
   "nbconvert_exporter": "python",
   "pygments_lexer": "ipython3",
   "version": "3.10.3"
  }
 },
 "nbformat": 4,
 "nbformat_minor": 2
}
